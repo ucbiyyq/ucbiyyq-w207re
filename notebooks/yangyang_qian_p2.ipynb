{
 "cells": [
  {
   "cell_type": "markdown",
   "metadata": {},
   "source": [
    "# Project 2: Topic Classification"
   ]
  },
  {
   "cell_type": "markdown",
   "metadata": {},
   "source": [
    "In this project, you'll work with text data from newsgroup postings on a variety of topics. You'll train classifiers to distinguish between the topics based on the text of the posts. Whereas with digit classification, the input is relatively dense: a 28x28 matrix of pixels, many of which are non-zero, here we'll represent each document with a \"bag-of-words\" model. As you'll see, this makes the feature representation quite sparse -- only a few words of the total vocabulary are active in any given document. The bag-of-words assumption here is that the label depends only on the words; their order is not important.\n",
    "\n",
    "The SK-learn documentation on feature extraction will prove useful:\n",
    "http://scikit-learn.org/stable/modules/feature_extraction.html\n",
    "\n",
    "Each problem can be addressed succinctly with the included packages -- please don't add any more. Grading will be based on writing clean, commented code, along with a few short answers.\n",
    "\n",
    "As always, you're welcome to work on the project in groups and discuss ideas on the course wall, but please prepare your own write-up and write your own code."
   ]
  },
  {
   "cell_type": "code",
   "execution_count": 1,
   "metadata": {},
   "outputs": [],
   "source": [
    "# This tells matplotlib not to try opening a new window for each plot.\n",
    "%matplotlib inline\n",
    "\n",
    "# General libraries.\n",
    "import re\n",
    "import numpy as np\n",
    "import matplotlib.pyplot as plt\n",
    "\n",
    "# SK-learn libraries for learning.\n",
    "from sklearn.pipeline import Pipeline\n",
    "from sklearn.neighbors import KNeighborsClassifier\n",
    "from sklearn.linear_model import LogisticRegression\n",
    "from sklearn.naive_bayes import BernoulliNB\n",
    "from sklearn.naive_bayes import MultinomialNB\n",
    "from sklearn.model_selection import GridSearchCV\n",
    "\n",
    "# SK-learn libraries for evaluation.\n",
    "from sklearn.metrics import confusion_matrix\n",
    "from sklearn import metrics\n",
    "from sklearn.metrics import classification_report\n",
    "\n",
    "# SK-learn library for importing the newsgroup data.\n",
    "from sklearn.datasets import fetch_20newsgroups\n",
    "\n",
    "# SK-learn libraries for feature extraction from text.\n",
    "from sklearn.feature_extraction.text import *"
   ]
  },
  {
   "cell_type": "markdown",
   "metadata": {},
   "source": [
    "Load the data, stripping out metadata so that we learn classifiers that only use textual features. By default, newsgroups data is split into train and test sets. We further split the test so we have a dev set. Note that we specify 4 categories to use for this project. If you remove the categories argument from the fetch function, you'll get all 20 categories."
   ]
  },
  {
   "cell_type": "markdown",
   "metadata": {},
   "source": [
    "# Scratch\n",
    "\n",
    "Please ignore this section"
   ]
  },
  {
   "cell_type": "code",
   "execution_count": 33,
   "metadata": {},
   "outputs": [
    {
     "data": {
      "text/plain": [
       "['alt.atheism', 'talk.religion.misc', 'comp.graphics', 'sci.space']"
      ]
     },
     "execution_count": 33,
     "metadata": {},
     "output_type": "execute_result"
    }
   ],
   "source": [
    "categories = ['alt.atheism', 'talk.religion.misc', 'comp.graphics', 'sci.space']\n",
    "categories"
   ]
  },
  {
   "cell_type": "code",
   "execution_count": 5,
   "metadata": {},
   "outputs": [
    {
     "name": "stderr",
     "output_type": "stream",
     "text": [
      "Downloading 20news dataset. This may take a few minutes.\n",
      "Downloading dataset from https://ndownloader.figshare.com/files/5975967 (14 MB)\n"
     ]
    }
   ],
   "source": [
    "newsgroups_train = fetch_20newsgroups(subset='train',\n",
    "                                      remove=('headers', 'footers', 'quotes'),\n",
    "                                      categories=categories)"
   ]
  },
  {
   "cell_type": "code",
   "execution_count": 34,
   "metadata": {},
   "outputs": [],
   "source": [
    "newsgroups_test = fetch_20newsgroups(subset='test',\n",
    "                                     remove=('headers', 'footers', 'quotes'),\n",
    "                                     categories=categories)"
   ]
  },
  {
   "cell_type": "markdown",
   "metadata": {},
   "source": [
    "## whats in train?"
   ]
  },
  {
   "cell_type": "code",
   "execution_count": 48,
   "metadata": {},
   "outputs": [
    {
     "name": "stdout",
     "output_type": "stream",
     "text": [
      "<class 'sklearn.utils.Bunch'>\n"
     ]
    }
   ],
   "source": [
    "print(type(newsgroups_train))"
   ]
  },
  {
   "cell_type": "code",
   "execution_count": 22,
   "metadata": {},
   "outputs": [
    {
     "data": {
      "text/plain": [
       "dict_keys(['data', 'filenames', 'target_names', 'target', 'DESCR'])"
      ]
     },
     "execution_count": 22,
     "metadata": {},
     "output_type": "execute_result"
    }
   ],
   "source": [
    "newsgroups_train.keys()"
   ]
  },
  {
   "cell_type": "code",
   "execution_count": 24,
   "metadata": {},
   "outputs": [
    {
     "data": {
      "text/plain": [
       "list"
      ]
     },
     "execution_count": 24,
     "metadata": {},
     "output_type": "execute_result"
    }
   ],
   "source": [
    "type(newsgroups_train.data)"
   ]
  },
  {
   "cell_type": "code",
   "execution_count": 25,
   "metadata": {},
   "outputs": [
    {
     "data": {
      "text/plain": [
       "numpy.ndarray"
      ]
     },
     "execution_count": 25,
     "metadata": {},
     "output_type": "execute_result"
    }
   ],
   "source": [
    "type(newsgroups_train.filenames)"
   ]
  },
  {
   "cell_type": "code",
   "execution_count": 26,
   "metadata": {},
   "outputs": [
    {
     "data": {
      "text/plain": [
       "list"
      ]
     },
     "execution_count": 26,
     "metadata": {},
     "output_type": "execute_result"
    }
   ],
   "source": [
    "type(newsgroups_train.target_names)"
   ]
  },
  {
   "cell_type": "code",
   "execution_count": 27,
   "metadata": {},
   "outputs": [
    {
     "data": {
      "text/plain": [
       "numpy.ndarray"
      ]
     },
     "execution_count": 27,
     "metadata": {},
     "output_type": "execute_result"
    }
   ],
   "source": [
    "type(newsgroups_train.target)"
   ]
  },
  {
   "cell_type": "code",
   "execution_count": 28,
   "metadata": {},
   "outputs": [
    {
     "data": {
      "text/plain": [
       "str"
      ]
     },
     "execution_count": 28,
     "metadata": {},
     "output_type": "execute_result"
    }
   ],
   "source": [
    "type(newsgroups_train.DESCR)"
   ]
  },
  {
   "cell_type": "code",
   "execution_count": 35,
   "metadata": {},
   "outputs": [
    {
     "data": {
      "text/plain": [
       "2034"
      ]
     },
     "execution_count": 35,
     "metadata": {},
     "output_type": "execute_result"
    }
   ],
   "source": [
    "len(newsgroups_train.data)"
   ]
  },
  {
   "cell_type": "code",
   "execution_count": 38,
   "metadata": {},
   "outputs": [
    {
     "data": {
      "text/plain": [
       "2034"
      ]
     },
     "execution_count": 38,
     "metadata": {},
     "output_type": "execute_result"
    }
   ],
   "source": [
    "len(newsgroups_train.filenames)"
   ]
  },
  {
   "cell_type": "code",
   "execution_count": 39,
   "metadata": {},
   "outputs": [
    {
     "data": {
      "text/plain": [
       "4"
      ]
     },
     "execution_count": 39,
     "metadata": {},
     "output_type": "execute_result"
    }
   ],
   "source": [
    "len(newsgroups_train.target_names)"
   ]
  },
  {
   "cell_type": "code",
   "execution_count": 40,
   "metadata": {},
   "outputs": [
    {
     "data": {
      "text/plain": [
       "2034"
      ]
     },
     "execution_count": 40,
     "metadata": {},
     "output_type": "execute_result"
    }
   ],
   "source": [
    "len(newsgroups_train.target)"
   ]
  },
  {
   "cell_type": "code",
   "execution_count": 30,
   "metadata": {},
   "outputs": [
    {
     "data": {
      "text/plain": [
       "\"Hi,\\n\\nI've noticed that if you only save a model (with all your mapping planes\\npositioned carefully) to a .3DS file that when you reload it after restarting\\n3DS, they are given a default position and orientation.  But if you save\\nto a .PRJ file their positions/orientation are preserved.  Does anyone\\nknow why this information is not stored in the .3DS file?  Nothing is\\nexplicitly said in the manual about saving texture rules in the .PRJ file. \\nI'd like to be able to read the texture rule information, does anyone have \\nthe format for the .PRJ file?\\n\\nIs the .CEL file format available from somewhere?\\n\\nRych\""
      ]
     },
     "execution_count": 30,
     "metadata": {},
     "output_type": "execute_result"
    }
   ],
   "source": [
    "newsgroups_train.data[0]"
   ]
  },
  {
   "cell_type": "code",
   "execution_count": 43,
   "metadata": {},
   "outputs": [
    {
     "data": {
      "text/plain": [
       "'C:\\\\Users\\\\yangyq\\\\scikit_learn_data\\\\20news_home\\\\20news-bydate-train\\\\comp.graphics\\\\38816'"
      ]
     },
     "execution_count": 43,
     "metadata": {},
     "output_type": "execute_result"
    }
   ],
   "source": [
    "newsgroups_train.filenames[0]"
   ]
  },
  {
   "cell_type": "code",
   "execution_count": 44,
   "metadata": {},
   "outputs": [
    {
     "data": {
      "text/plain": [
       "['alt.atheism', 'comp.graphics', 'sci.space', 'talk.religion.misc']"
      ]
     },
     "execution_count": 44,
     "metadata": {},
     "output_type": "execute_result"
    }
   ],
   "source": [
    "newsgroups_train.target_names"
   ]
  },
  {
   "cell_type": "code",
   "execution_count": 46,
   "metadata": {},
   "outputs": [
    {
     "data": {
      "text/plain": [
       "array([1, 3, 2, 0, 2, 0, 2, 1, 2, 1], dtype=int64)"
      ]
     },
     "execution_count": 46,
     "metadata": {},
     "output_type": "execute_result"
    }
   ],
   "source": [
    "newsgroups_train.target[0:10]"
   ]
  },
  {
   "cell_type": "markdown",
   "metadata": {},
   "source": [
    "## whats in test?"
   ]
  },
  {
   "cell_type": "code",
   "execution_count": 47,
   "metadata": {},
   "outputs": [
    {
     "name": "stdout",
     "output_type": "stream",
     "text": [
      "<class 'sklearn.utils.Bunch'>\n"
     ]
    }
   ],
   "source": [
    "print(type(newsgroups_test))"
   ]
  },
  {
   "cell_type": "code",
   "execution_count": 49,
   "metadata": {},
   "outputs": [
    {
     "data": {
      "text/plain": [
       "dict_keys(['data', 'filenames', 'target_names', 'target', 'DESCR'])"
      ]
     },
     "execution_count": 49,
     "metadata": {},
     "output_type": "execute_result"
    }
   ],
   "source": [
    "newsgroups_test.keys()"
   ]
  },
  {
   "cell_type": "code",
   "execution_count": 55,
   "metadata": {},
   "outputs": [
    {
     "data": {
      "text/plain": [
       "1353"
      ]
     },
     "execution_count": 55,
     "metadata": {},
     "output_type": "execute_result"
    }
   ],
   "source": [
    "len(newsgroups_test.data)"
   ]
  },
  {
   "cell_type": "code",
   "execution_count": 52,
   "metadata": {},
   "outputs": [
    {
     "data": {
      "text/plain": [
       "1353"
      ]
     },
     "execution_count": 52,
     "metadata": {},
     "output_type": "execute_result"
    }
   ],
   "source": [
    "len(newsgroups_test.filenames)"
   ]
  },
  {
   "cell_type": "code",
   "execution_count": 53,
   "metadata": {},
   "outputs": [
    {
     "data": {
      "text/plain": [
       "4"
      ]
     },
     "execution_count": 53,
     "metadata": {},
     "output_type": "execute_result"
    }
   ],
   "source": [
    "len(newsgroups_test.target_names)"
   ]
  },
  {
   "cell_type": "code",
   "execution_count": 54,
   "metadata": {},
   "outputs": [
    {
     "data": {
      "text/plain": [
       "1353"
      ]
     },
     "execution_count": 54,
     "metadata": {},
     "output_type": "execute_result"
    }
   ],
   "source": [
    "len(newsgroups_test.target)"
   ]
  },
  {
   "cell_type": "code",
   "execution_count": 58,
   "metadata": {},
   "outputs": [
    {
     "data": {
      "text/plain": [
       "'TRry the SKywatch project in  Arizona.'"
      ]
     },
     "execution_count": 58,
     "metadata": {},
     "output_type": "execute_result"
    }
   ],
   "source": [
    "newsgroups_test.data[0]"
   ]
  },
  {
   "cell_type": "code",
   "execution_count": 59,
   "metadata": {},
   "outputs": [
    {
     "data": {
      "text/plain": [
       "['alt.atheism', 'comp.graphics', 'sci.space', 'talk.religion.misc']"
      ]
     },
     "execution_count": 59,
     "metadata": {},
     "output_type": "execute_result"
    }
   ],
   "source": [
    "newsgroups_test.target_names"
   ]
  },
  {
   "cell_type": "code",
   "execution_count": 61,
   "metadata": {},
   "outputs": [
    {
     "data": {
      "text/plain": [
       "array([2, 1, 1, 1, 1, 1, 2, 2, 0, 2], dtype=int64)"
      ]
     },
     "execution_count": 61,
     "metadata": {},
     "output_type": "execute_result"
    }
   ],
   "source": [
    "newsgroups_test.target[0:10]"
   ]
  },
  {
   "cell_type": "markdown",
   "metadata": {},
   "source": [
    "## count vectorizer tutorial\n",
    "\n",
    "https://scikit-learn.org/stable/modules/generated/sklearn.feature_extraction.text.CountVectorizer.html"
   ]
  },
  {
   "cell_type": "code",
   "execution_count": 453,
   "metadata": {},
   "outputs": [
    {
     "name": "stdout",
     "output_type": "stream",
     "text": [
      "============================\n",
      "features\n",
      "<class 'list'>\n",
      "['and', 'document', 'first', 'is', 'one', 'second', 'the', 'third', 'this']\n",
      "============================\n",
      "shape of feature vector\n",
      "... 4 documents and 9 features\n",
      "(4, 9)\n",
      "============================\n",
      "number of non-zero document-feature pairs\n",
      "21\n",
      "============================\n",
      "feature vector as a sparse matrix\n",
      "<class 'scipy.sparse.csr.csr_matrix'>\n",
      "  (0, 1)\t1\n",
      "  (0, 2)\t1\n",
      "  (0, 6)\t1\n",
      "  (0, 3)\t1\n",
      "  (0, 8)\t1\n",
      "  (1, 5)\t1\n",
      "  (1, 1)\t2\n",
      "  (1, 6)\t1\n",
      "  (1, 3)\t1\n",
      "  (1, 8)\t1\n",
      "  (2, 4)\t1\n",
      "  (2, 7)\t1\n",
      "  (2, 0)\t1\n",
      "  (2, 6)\t1\n",
      "  (2, 3)\t1\n",
      "  (2, 8)\t1\n",
      "  (3, 1)\t1\n",
      "  (3, 2)\t1\n",
      "  (3, 6)\t1\n",
      "  (3, 3)\t1\n",
      "  (3, 8)\t1\n",
      "============================\n",
      "feature vector as a matrix\n",
      "<class 'numpy.ndarray'>\n",
      "[[0 1 1 1 0 0 1 0 1]\n",
      " [0 2 0 1 0 1 1 0 1]\n",
      " [1 0 0 1 1 0 1 1 1]\n",
      " [0 1 1 1 0 0 1 0 1]]\n",
      "============================\n",
      "----------------\n",
      "This is the first document.\n",
      "this\n",
      "8\n",
      "is\n",
      "3\n",
      "the\n",
      "6\n",
      "first\n",
      "2\n",
      "document\n",
      "1\n",
      "----------------\n",
      "This document is the second document.\n",
      "this\n",
      "8\n",
      "document\n",
      "1\n",
      "is\n",
      "3\n",
      "the\n",
      "6\n",
      "second\n",
      "5\n",
      "document\n",
      "1\n",
      "----------------\n",
      "And this is the third one.\n",
      "and\n",
      "0\n",
      "this\n",
      "8\n",
      "is\n",
      "3\n",
      "the\n",
      "6\n",
      "third\n",
      "7\n",
      "one\n",
      "4\n",
      "----------------\n",
      "Is this the first document?\n",
      "is\n",
      "3\n",
      "this\n",
      "8\n",
      "the\n",
      "6\n",
      "first\n",
      "2\n",
      "document\n",
      "1\n",
      "============================\n",
      "{'this': 8, 'is': 3, 'the': 6, 'first': 2, 'document': 1, 'second': 5, 'and': 0, 'third': 7, 'one': 4}\n"
     ]
    }
   ],
   "source": [
    "def cv_tut():\n",
    "    corpus = [\n",
    "     'This is the first document.',\n",
    "     'This document is the second document.',\n",
    "     'And this is the third one.',\n",
    "     'Is this the first document?',\n",
    "    ]\n",
    "    \n",
    "    cv = CountVectorizer()\n",
    "    fv = cv.fit_transform(corpus)\n",
    "    fv_arr = fv.toarray()\n",
    "    fts = cv.get_feature_names()\n",
    "    print(\"============================\")\n",
    "    print(\"features\")\n",
    "    print(type(fts))\n",
    "    print(fts)\n",
    "    print(\"============================\")\n",
    "    print(\"shape of feature vector\")\n",
    "    print(\"... 4 documents and 9 features\")\n",
    "    print(fv.shape)\n",
    "    print(\"============================\")\n",
    "    print(\"number of non-zero document-feature pairs\")\n",
    "    print(fv.nnz)\n",
    "    print(\"============================\")\n",
    "    print(\"feature vector as a sparse matrix\")\n",
    "    print(type(fv))\n",
    "    print(fv)\n",
    "    print(\"============================\")\n",
    "    print(\"feature vector as a matrix\")\n",
    "    print(type(fv_arr))\n",
    "    print(fv_arr)\n",
    "    \n",
    "    \n",
    "    def prnt_d(d):\n",
    "        print(\"----------------\")\n",
    "        print(d)\n",
    "        for w in d.strip(\".\").strip(\"?\").split():\n",
    "            print(w.lower())\n",
    "            print(cv.vocabulary_.get(w.lower()))\n",
    "        \n",
    "    print(\"============================\")\n",
    "    for d in corpus:\n",
    "        prnt_d(d)\n",
    "        \n",
    "    print(\"============================\")\n",
    "    print(cv.vocabulary_)\n",
    "\n",
    "cv_tut()"
   ]
  },
  {
   "cell_type": "markdown",
   "metadata": {},
   "source": [
    "# Load Data"
   ]
  },
  {
   "cell_type": "code",
   "execution_count": 62,
   "metadata": {},
   "outputs": [
    {
     "name": "stdout",
     "output_type": "stream",
     "text": [
      "training label shape: (2034,)\n",
      "test label shape: (677,)\n",
      "dev label shape: (676,)\n",
      "labels names: ['alt.atheism', 'comp.graphics', 'sci.space', 'talk.religion.misc']\n"
     ]
    }
   ],
   "source": [
    "categories = ['alt.atheism', 'talk.religion.misc', 'comp.graphics', 'sci.space']\n",
    "newsgroups_train = fetch_20newsgroups(subset='train',\n",
    "                                      remove=('headers', 'footers', 'quotes'),\n",
    "                                      categories=categories)\n",
    "newsgroups_test = fetch_20newsgroups(subset='test',\n",
    "                                     remove=('headers', 'footers', 'quotes'),\n",
    "                                     categories=categories)\n",
    "\n",
    "num_test = len(newsgroups_test.target)\n",
    "test_data, test_labels = newsgroups_test.data[int(num_test/2):], newsgroups_test.target[int(num_test/2):]\n",
    "dev_data, dev_labels = newsgroups_test.data[:int(num_test/2)], newsgroups_test.target[:int(num_test/2)]\n",
    "train_data, train_labels = newsgroups_train.data, newsgroups_train.target\n",
    "\n",
    "print('training label shape:', train_labels.shape)\n",
    "print('test label shape:', test_labels.shape)\n",
    "print('dev label shape:', dev_labels.shape)\n",
    "print('labels names:', newsgroups_train.target_names)"
   ]
  },
  {
   "cell_type": "markdown",
   "metadata": {},
   "source": [
    "# 1\n",
    "\n",
    "For each of the first 5 training examples, print the text of the message along with the label."
   ]
  },
  {
   "cell_type": "code",
   "execution_count": 147,
   "metadata": {},
   "outputs": [
    {
     "name": "stdout",
     "output_type": "stream",
     "text": [
      "============================\n",
      "alt.atheism\n",
      "------------------\n",
      "I have a request for those who would like to see Charley Win\n",
      "------------------\n",
      "\n",
      "There are definitely quite a few horrible deaths as the res\n",
      "------------------\n",
      "\n",
      "Size of armies, duration, numbers of casualties both absolu\n",
      "------------------\n",
      "\n",
      "  Actually, my atheism is based on ignorance.  Ignorance of\n",
      "------------------\n",
      "\n",
      "If you force me to do something, am I morally responsible f\n",
      "============================\n",
      "comp.graphics\n",
      "------------------\n",
      "Hi,\n",
      "\n",
      "I've noticed that if you only save a model (with all yo\n",
      "------------------\n",
      "\n",
      "Acorn Replay running on a 25MHz ARM 3 processor (the ARM 3 \n",
      "------------------\n",
      "I'm interested in find out what is involved in processing pa\n",
      "------------------\n",
      "I would like to program Tseng ET4000 to nonstandard 1024x768\n",
      "------------------\n",
      "In-Reply-To: <20APR199312262902@rigel.tamu.edu> lmp8913@rige\n",
      "============================\n",
      "sci.space\n",
      "------------------\n",
      "\n",
      " >In article <1993Apr19.020359.26996@sq.sq.com>, msb@sq.sq.\n",
      "------------------\n",
      "AW&ST  had a brief blurb on a Manned Lunar Exploration confe\n",
      "------------------\n",
      "Mark Prado\n",
      "  \n",
      "  \n",
      "Old pioneer song from the 1850's or so goes\n",
      "------------------\n",
      "\n",
      "Their Hiten engineering-test mission spent a while in a hig\n",
      "------------------\n",
      "a\n",
      "\n",
      "What about positional uncertainties in S-L 1993e?   I ass\n",
      "============================\n",
      "talk.religion.misc\n",
      "------------------\n",
      "\n",
      "\n",
      "Seems to be, barring evidence to the contrary, that Koresh\n",
      "------------------\n",
      "DM> Fact or rumor....?  Madalyn Murray O'Hare an atheist who\n",
      "------------------\n",
      "PSA 145:9  The LORD is good to all: and his  tender  mercies\n",
      "------------------\n",
      "There has been a lot of discussion about Tyre.  In sum, Ezek\n",
      "------------------\n",
      "\n",
      "\tPlease do! And if you don't want to post it here, email to\n"
     ]
    }
   ],
   "source": [
    "def P1(num_examples=5):\n",
    "    labels = np.unique(newsgroups_train.target)\n",
    "    \n",
    "    for lb in labels:\n",
    "        print(\"============================\")\n",
    "        idx = np.where(newsgroups_train.target == lb)[0]\n",
    "        idx = idx[0:num_examples]\n",
    "        print(newsgroups_train.target_names[lb])\n",
    "        for i in idx:\n",
    "            print(\"------------------\")\n",
    "#             print(newsgroups_train.filenames[i])\n",
    "            print(newsgroups_train.data[i][0:60])\n",
    "        \n",
    "\n",
    "P1()"
   ]
  },
  {
   "cell_type": "markdown",
   "metadata": {},
   "source": [
    "# 2 \n",
    "\n",
    "Use CountVectorizer to turn the raw training text into feature vectors. You should use the fit_transform function, which makes 2 passes through the data: first it computes the vocabulary (\"fit\"), second it converts the raw text into feature vectors using the vocabulary (\"transform\").\n",
    "\n",
    "The vectorizer has a lot of options. To get familiar with some of them, write code to answer these questions:\n",
    "\n",
    "a. The output of the transform (also of fit_transform) is a sparse matrix: http://docs.scipy.org/doc/scipy-0.14.0/reference/generated/scipy.sparse.csr_matrix.html. What is the size of the vocabulary? What is the average number of non-zero features per example? What fraction of the entries in the matrix are non-zero? Hint: use \"nnz\" and \"shape\" attributes.\n",
    "\n",
    "b. What are the 0th and last feature strings (in alphabetical order)? Hint: use the vectorizer's get_feature_names function.\n",
    "\n",
    "c. Specify your own vocabulary with 4 words: [\"atheism\", \"graphics\", \"space\", \"religion\"]. Confirm the training vectors are appropriately shaped. Now what's the average number of non-zero features per example?\n",
    "\n",
    "d. Instead of extracting unigram word features, use \"analyzer\" and \"ngram_range\" to extract bigram and trigram character features. What size vocabulary does this yield?\n",
    "\n",
    "e. Use the \"min_df\" argument to prune words that appear in fewer than 10 documents. What size vocabulary does this yield?\n",
    "\n",
    "f. Using the standard CountVectorizer, what fraction of the words in the dev data are missing from the vocabulary? Hint: build a vocabulary for both train and dev and look at the size of the difference."
   ]
  },
  {
   "cell_type": "code",
   "execution_count": 186,
   "metadata": {},
   "outputs": [
    {
     "name": "stdout",
     "output_type": "stream",
     "text": [
      "============================\n",
      "2.a.\n",
      "Confirm the training vectors are appropriately shaped\n",
      "(2034, 26879)\n",
      "What is the size of the vocabulary?\n",
      "26879\n",
      "What is the average number of non-zero features per example?\n",
      "13.214847590953786\n",
      "What fraction of the entries in the matrix are non-zero?\n",
      "0.0004916420845624386\n",
      "============================\n",
      "2.b.\n",
      "What are the 0th and last feature strings (in alphabetical order)?\n",
      "('00', 'zyxel')\n",
      "============================\n",
      "2.c.\n",
      "Confirm the training vectors are appropriately shaped\n",
      "(2034, 4)\n",
      "What's the average number of non-zero features per example?\n",
      "0.0019665683382497543\n",
      "============================\n",
      "2.d.\n",
      "What size vocabulary does this yield?\n",
      "510583\n",
      "============================\n",
      "2.e.\n",
      "What size vocabulary does this yield?\n",
      "3064\n",
      "============================\n",
      "2.f.\n",
      "what fraction of the words in the dev data are missing from the vocabulary?\n",
      "0.604412366531493\n"
     ]
    }
   ],
   "source": [
    "def P2():\n",
    "    \n",
    "    def calc_size_vocab(cv):\n",
    "        fts = cv.get_feature_names()\n",
    "        num_fts = len(fts)\n",
    "        return(num_fts)\n",
    "    \n",
    "    def calc_avg_non_zero_features_per_example(cv, train_data):\n",
    "        fts = cv.get_feature_names()\n",
    "        num_fts = len(fts)\n",
    "        num_examples = len(train_data)\n",
    "        avg_non_zero_features_per_example = num_fts / num_examples\n",
    "        return(avg_non_zero_features_per_example)\n",
    "    \n",
    "    def calc_fraction_matrix_non_zero(cv, fv):\n",
    "        fts = cv.get_feature_names()\n",
    "        num_fts = len(fts)\n",
    "        fv_arr = fv.toarray()\n",
    "        num_entries_in_matrix = fv_arr.shape[0] * fv_arr.shape[1]\n",
    "        fraction_of_entries_non_zero = num_fts / num_entries_in_matrix\n",
    "        return(fraction_of_entries_non_zero)\n",
    "    \n",
    "    def find_features_0_last(cv):\n",
    "        fts = cv.get_feature_names()\n",
    "        feature_0 = fts[0]\n",
    "        feature_last = fts[-1]\n",
    "        return(feature_0, feature_last)\n",
    "    \n",
    "    def calc_fraction_vocab(cv1, cv2):\n",
    "        fts1 = cv1.get_feature_names()\n",
    "        num_fts1 = len(fts1)\n",
    "        fts2 = cv2.get_feature_names()\n",
    "        num_fts2 = len(fts2)\n",
    "        frac = num_fts1 / num_fts2\n",
    "        return(frac)\n",
    "    \n",
    "    \n",
    "    # first vectorizer\n",
    "    cv = CountVectorizer()\n",
    "    fv = cv.fit_transform(train_data)\n",
    "    \n",
    "    print(\"============================\")\n",
    "    print(\"2.a.\")\n",
    "    # Confirm the training vectors are appropriately shaped\n",
    "    print(\"Confirm the training vectors are appropriately shaped\")\n",
    "    print(fv.shape)\n",
    "    \n",
    "    # What is the size of the vocabulary? i.e. non-zero features\n",
    "    print(\"What is the size of the vocabulary?\")\n",
    "    print(calc_size_vocab(cv))\n",
    "    \n",
    "    # What is the average number of non-zero features per example?\n",
    "    print(\"What is the average number of non-zero features per example?\")\n",
    "    print(calc_avg_non_zero_features_per_example(cv, train_data))\n",
    "    \n",
    "    # What fraction of the entries in the matrix are non-zero?\n",
    "    print(\"What fraction of the entries in the matrix are non-zero?\")\n",
    "    print(calc_fraction_matrix_non_zero(cv, fv))\n",
    "    \n",
    "    print(\"============================\")\n",
    "    print(\"2.b.\")\n",
    "    # What are the 0th and last feature strings (in alphabetical order)?\n",
    "    print(\"What are the 0th and last feature strings (in alphabetical order)?\")\n",
    "    print(find_features_0_last(cv))\n",
    "    \n",
    "    \n",
    "    \n",
    "    \n",
    "    print(\"============================\")\n",
    "    print(\"2.c.\")\n",
    "    # Specify your own vocabulary with 4 words: [\"atheism\", \"graphics\", \"space\", \"religion\"].\n",
    "    cv2 = CountVectorizer(vocabulary = [\"atheism\", \"graphics\", \"space\", \"religion\"])\n",
    "    fv2 = cv2.fit_transform(train_data)\n",
    "    \n",
    "    # Confirm the training vectors are appropriately shaped\n",
    "    print(\"Confirm the training vectors are appropriately shaped\")\n",
    "    print(fv2.shape)\n",
    "    \n",
    "#     print(\"What is the size of the vocabulary?\")\n",
    "#     print(calc_size_vocab(cv2))\n",
    "        \n",
    "#     print(\"What fraction of the entries in the matrix are non-zero?\")\n",
    "#     print(calc_fraction_matrix_non_zero(cv2, fv2))\n",
    "    \n",
    "#     print(\"What are the 0th and last feature strings (in alphabetical order)?\")\n",
    "#     print(find_features_0_last(cv2))\n",
    "    \n",
    "    # Now what's the average number of non-zero features per example?\n",
    "    print(\"What's the average number of non-zero features per example?\")\n",
    "    print(calc_avg_non_zero_features_per_example(cv2, train_data))\n",
    "    \n",
    "    \n",
    "    \n",
    "    \n",
    "    print(\"============================\")\n",
    "    print(\"2.d.\")\n",
    "    \n",
    "    # Instead of extracting unigram word features, use \"analyzer\" and \"ngram_range\" to extract bigram and trigram character features.\n",
    "    cv3 = CountVectorizer(analyzer = \"word\", ngram_range = (2,3))\n",
    "    fv3 = cv3.fit_transform(train_data)\n",
    "    \n",
    "    # What size vocabulary does this yield?\n",
    "    print(\"What size vocabulary does this yield?\")\n",
    "    print(calc_size_vocab(cv3))\n",
    "    \n",
    "    \n",
    "    \n",
    "    \n",
    "    print(\"============================\")\n",
    "    print(\"2.e.\")\n",
    "    # Use the \"min_df\" argument to prune words that appear in fewer than 10 documents\n",
    "    cv4 = CountVectorizer(min_df=10)\n",
    "    fv4 = cv4.fit_transform(train_data)\n",
    "    \n",
    "    # What size vocabulary does this yield?\n",
    "    print(\"What size vocabulary does this yield?\")\n",
    "    print(calc_size_vocab(cv4))\n",
    "    \n",
    "    \n",
    "    \n",
    "    \n",
    "    print(\"============================\")\n",
    "    print(\"2.f.\")\n",
    "    # Using the standard CountVectorizer, what fraction of the words in the dev data are missing from the vocabulary?\n",
    "    cv5 = CountVectorizer()\n",
    "    fv5 = cv5.fit_transform(train_data)\n",
    "    \n",
    "    cv6 = CountVectorizer()\n",
    "    fv6 = cv6.fit_transform(dev_data)\n",
    "    \n",
    "    print(\"what fraction of the words in the dev data are missing from the vocabulary?\")\n",
    "    print(calc_fraction_vocab(cv6, cv5))\n",
    "    \n",
    "    \n",
    "P2()"
   ]
  },
  {
   "cell_type": "markdown",
   "metadata": {},
   "source": [
    "# 3\n",
    "\n",
    "Use the default CountVectorizer options and report the f1 score (use metrics.f1_score) for a k nearest neighbors classifier; find the optimal value for k. Also fit a Multinomial Naive Bayes model and find the optimal value for alpha. Finally, fit a logistic regression model and find the optimal value for the regularization strength C using l2 regularization. A few questions:\n",
    "\n",
    "a. Why doesn't nearest neighbors work well for this problem?\n",
    "\n",
    "b. Any ideas why logistic regression doesn't work as well as Naive Bayes?\n",
    "\n",
    "c. Logistic regression estimates a weight vector for each class, which you can access with the coef\\_ attribute. Output the sum of the squared weight values for each class for each setting of the C parameter. Briefly explain the relationship between the sum and the value of C."
   ]
  },
  {
   "cell_type": "code",
   "execution_count": 414,
   "metadata": {},
   "outputs": [
    {
     "name": "stdout",
     "output_type": "stream",
     "text": [
      "============================\n",
      "------------------\n",
      "GridSearchCV best param and score is:\n",
      "{'n_neighbors': 19}\n",
      "0.41789577187807275\n",
      "------------------\n",
      "KNeighborsClassifier(algorithm='auto', leaf_size=30, metric='minkowski',\n",
      "           metric_params=None, n_jobs=None, n_neighbors=19, p=2,\n",
      "           weights='uniform')\n",
      "f1 scores for best k-NN classifier are:\n",
      "{'dev_f1': 0.4393491124260356, 'test_f1': 0.41949778434268836}\n",
      "------------------\n"
     ]
    },
    {
     "data": {
      "image/png": "[encoded data removed]",
      "text/plain": [
       "<Figure size 432x288 with 1 Axes>"
      ]
     },
     "metadata": {
      "needs_background": "light"
     },
     "output_type": "display_data"
    },
    {
     "name": "stdout",
     "output_type": "stream",
     "text": [
      "============================\n",
      "------------------\n",
      "GridSearchCV best param and score is:\n",
      "{'alpha': 0.020000000100000002}\n",
      "0.8289085545722714\n",
      "------------------\n",
      "MultinomialNB(alpha=0.020000000100000002, class_prior=None, fit_prior=True)\n",
      "f1 scores for best MNB classifier are:\n",
      "{'dev_f1': 0.7869822485207101, 'test_f1': 0.7799113737075333}\n",
      "------------------\n"
     ]
    },
    {
     "data": {
      "image/png": "[encoded data removed]",
      "text/plain": [
       "<Figure size 432x288 with 1 Axes>"
      ]
     },
     "metadata": {
      "needs_background": "light"
     },
     "output_type": "display_data"
    },
    {
     "name": "stdout",
     "output_type": "stream",
     "text": [
      "============================\n",
      "------------------\n",
      "GridSearchCV best param and score is:\n",
      "{'C': 0.20000000010000002}\n",
      "0.7763028515240905\n",
      "------------------\n",
      "LogisticRegression(C=0.20000000010000002, class_weight=None, dual=False,\n",
      "          fit_intercept=True, intercept_scaling=1, max_iter=1000,\n",
      "          multi_class='ovr', n_jobs=None, penalty='l2', random_state=None,\n",
      "          solver='liblinear', tol=0.0001, verbose=0, warm_start=False)\n",
      "f1 scores for best Logistic Regression with L2 regulariztion are:\n",
      "{'dev_f1': 0.7130177514792899, 'test_f1': 0.7488921713441654}\n",
      "------------------\n"
     ]
    },
    {
     "data": {
      "image/png": "[encoded data removed]",
      "text/plain": [
       "<Figure size 432x288 with 1 Axes>"
      ]
     },
     "metadata": {
      "needs_background": "light"
     },
     "output_type": "display_data"
    },
    {
     "name": "stdout",
     "output_type": "stream",
     "text": [
      "============================\n",
      "------------------\n",
      "1e-10\n",
      "[5.70674183e-13 8.45299474e-13 4.04006981e-13 6.35819484e-13]\n",
      "0.1000000001\n",
      "[27.1250283  24.66057313 27.45792701 23.02487585]\n",
      "0.20000000010000002\n",
      "[49.74057332 42.74270923 49.32777858 42.6648792 ]\n",
      "0.30000000010000005\n",
      "[69.28094753 57.87853223 67.9003255  59.75814281]\n",
      "0.40000000010000003\n",
      "[86.74157078 71.15353022 84.29247462 75.05818525]\n",
      "------------------\n"
     ]
    },
    {
     "data": {
      "image/png": "[encoded data removed]",
      "text/plain": [
       "<Figure size 432x288 with 1 Axes>"
      ]
     },
     "metadata": {
      "needs_background": "light"
     },
     "output_type": "display_data"
    }
   ],
   "source": [
    "def P3():\n",
    "    \n",
    "    def do_knn(cv, ks):\n",
    "        # only fits-and-transforms the train data\n",
    "        # dev and test data is just transformed\n",
    "        train_fv = cv.fit_transform(train_data)\n",
    "        dev_fv = cv.transform(dev_data)\n",
    "        test_fv = cv.transform(test_data)\n",
    "    \n",
    "        print(\"------------------\")\n",
    "        # uses grid search and cross validation to find best k\n",
    "        gscv = GridSearchCV(estimator = KNeighborsClassifier()\n",
    "                            ,param_grid = {\"n_neighbors\" : ks}\n",
    "                            ,cv = 3\n",
    "                            ,scoring = \"f1_micro\"\n",
    "                            ,iid = True\n",
    "                            ,return_train_score = True\n",
    "                           )\n",
    "        gscv.fit(train_fv, train_labels)\n",
    "\n",
    "        # prints best f1 score and k\n",
    "        print(\"GridSearchCV best param and score is:\")\n",
    "        print(gscv.best_params_)\n",
    "        print(gscv.best_score_)\n",
    "        \n",
    "        print(\"------------------\")\n",
    "        # best k-NN classifier\n",
    "        clsfr = gscv.best_estimator_\n",
    "        print(clsfr)\n",
    "        preds = clsfr.predict(dev_fv)\n",
    "        dev_f1 = metrics.f1_score(preds, dev_labels, average = \"micro\")\n",
    "        preds = clsfr.predict(test_fv)\n",
    "        test_f1 = metrics.f1_score(preds, test_labels, average = \"micro\")\n",
    "        print(\"f1 scores for best k-NN classifier are:\")\n",
    "        print({\"dev_f1\" : dev_f1, \"test_f1\" : test_f1})\n",
    "\n",
    "        print(\"------------------\")\n",
    "        # plots all the f1 scores and ks\n",
    "        scores = gscv.cv_results_[\"mean_test_score\"]\n",
    "        plt.plot(ks, scores, marker = \"o\")\n",
    "        plt.title(\"k-NN, train f1 scores vs number of neighbors\")\n",
    "        plt.xlabel(\"number of neighbors\")\n",
    "        plt.ylabel(\"f1 scores\")\n",
    "        plt.show()\n",
    "    \n",
    "    \n",
    "    def do_mnb(cv, alphas):\n",
    "        # only fits-and-transforms the train data\n",
    "        # dev and test data is just transformed\n",
    "        train_fv = cv.fit_transform(train_data)\n",
    "        dev_fv = cv.transform(dev_data)\n",
    "        test_fv = cv.transform(test_data)\n",
    "        \n",
    "        print(\"------------------\")\n",
    "        # uses grid search and cross validation to find best alpha\n",
    "        gscv = GridSearchCV(estimator = MultinomialNB()\n",
    "                            ,param_grid = {\"alpha\" : alphas}\n",
    "                            ,cv = 3\n",
    "                            ,scoring = \"f1_micro\"\n",
    "                            ,iid = True\n",
    "                            ,return_train_score = True\n",
    "                           )\n",
    "        gscv.fit(train_fv, train_labels)\n",
    "        \n",
    "        # prints best f1 score and alpha\n",
    "        print(\"GridSearchCV best param and score is:\")\n",
    "        print(gscv.best_params_)\n",
    "        print(gscv.best_score_)\n",
    "        \n",
    "        print(\"------------------\")\n",
    "        # best Multinomial Naive Bayes classifier\n",
    "        clsfr = gscv.best_estimator_\n",
    "        print(clsfr)\n",
    "        preds = clsfr.predict(dev_fv)\n",
    "        dev_f1 = metrics.f1_score(preds, dev_labels, average = \"micro\")\n",
    "        preds = clsfr.predict(test_fv)\n",
    "        test_f1 = metrics.f1_score(preds, test_labels, average = \"micro\")\n",
    "        print(\"f1 scores for best MNB classifier are:\")\n",
    "        print({\"dev_f1\" : dev_f1, \"test_f1\" : test_f1})\n",
    "\n",
    "        print(\"------------------\")\n",
    "        # plots all the f1 scores and alphas\n",
    "        scores = gscv.cv_results_[\"mean_test_score\"]\n",
    "        plt.plot(alphas, scores, marker = \"o\")\n",
    "        plt.title(\"Multinomial Naive Bayes, train f1 scores vs smoothing\")\n",
    "        plt.xlabel(\"alpha\")\n",
    "        plt.ylabel(\"f1 scores\")\n",
    "        plt.show()\n",
    "    \n",
    "    \n",
    "    def do_lr(cv, cs):\n",
    "        # only fits-and-transforms the train data\n",
    "        # dev and test data is just transformed\n",
    "        train_fv = cv.fit_transform(train_data)\n",
    "        dev_fv = cv.transform(dev_data)\n",
    "        test_fv = cv.transform(test_data)\n",
    "        \n",
    "        print(\"------------------\")\n",
    "        # uses grid search and cross validation to find best C\n",
    "        gscv = GridSearchCV(estimator = LogisticRegression(penalty=\"l2\"\n",
    "                                                           ,multi_class = \"ovr\"\n",
    "                                                           ,solver = \"liblinear\"\n",
    "                                                           ,max_iter = 1000)\n",
    "                            ,param_grid = {\"C\" : cs}\n",
    "                            ,cv = 3\n",
    "                            ,scoring = \"f1_micro\"\n",
    "                            ,iid = True\n",
    "                            ,return_train_score = True\n",
    "                           )\n",
    "        gscv.fit(train_fv, train_labels)\n",
    "        \n",
    "        # prints best f1 score and C\n",
    "        print(\"GridSearchCV best param and score is:\")\n",
    "        print(gscv.best_params_)\n",
    "        print(gscv.best_score_)\n",
    "        \n",
    "        print(\"------------------\")\n",
    "        # best Logistic Regression classifier\n",
    "        clsfr = gscv.best_estimator_\n",
    "        print(clsfr)\n",
    "        preds = clsfr.predict(dev_fv)\n",
    "        dev_f1 = metrics.f1_score(preds, dev_labels, average = \"micro\")\n",
    "        preds = clsfr.predict(test_fv)\n",
    "        test_f1 = metrics.f1_score(preds, test_labels, average = \"micro\")\n",
    "        print(\"f1 scores for best Logistic Regression with L2 regulariztion are:\")\n",
    "        print({\"dev_f1\" : dev_f1, \"test_f1\" : test_f1})\n",
    "        \n",
    "        print(\"------------------\")\n",
    "        # plots all the f1 scores and C\n",
    "        scores = gscv.cv_results_[\"mean_test_score\"]\n",
    "        plt.plot(cs, scores, marker = \"o\")\n",
    "        plt.title(\"Logistic Regression with L2 regularization, train f1 scores vs inverse regularization strength\")\n",
    "        plt.xlabel(\"C\")\n",
    "        plt.ylabel(\"f1 scores\")\n",
    "        plt.show()\n",
    "        \n",
    "        \n",
    "        \n",
    "    def do_lr_ec(cv, cs):\n",
    "        # only fits-and-transforms the train data\n",
    "        # dev and test data is just transformed\n",
    "        train_fv = cv.fit_transform(train_data)\n",
    "        dev_fv = cv.transform(dev_data)\n",
    "        test_fv = cv.transform(test_data)\n",
    "        \n",
    "        # Outputs sum of the squared weight values for each class for each setting of the C parameter\n",
    "        # we can't use grid search cv because it only allows us access to the best estimator, and not each estimator\n",
    "        classifiers = map(lambda c: LogisticRegression(penalty=\"l2\"\n",
    "                                                      ,multi_class = \"ovr\"\n",
    "                                                      ,solver = \"liblinear\"\n",
    "                                                      ,max_iter = 1000\n",
    "                                                      ,C = c)\n",
    "                          , cs)\n",
    "        fits = map(lambda clsfr: clsfr.fit(train_fv, train_labels), classifiers)\n",
    "        fits =  list(fits)\n",
    "        coefs = map(lambda clsfr: clsfr.coef_, fits)\n",
    "        coefs = list(coefs)\n",
    "        sqwgts = map(lambda w: np.sum(np.square(w), axis = 1), coefs)\n",
    "        sqwgts = list(sqwgts)\n",
    "        \n",
    "        print(\"------------------\")\n",
    "        for idx, c in enumerate(cs):\n",
    "            print(c)\n",
    "            print(sqwgts[idx])\n",
    "        \n",
    "#         print(\"------------------\")\n",
    "#         for idx, c in enumerate(cs):\n",
    "#             x = np.arange(len(newsgroups_train.target_names))\n",
    "#             plt.bar(x, sqwgts[idx], tick_label = newsgroups_train.target_names)\n",
    "#             plt.title(\"C = \" + str(c))\n",
    "#             plt.xlabel(\"class\")\n",
    "#             plt.ylabel(\"square weights\")\n",
    "#             plt.show()\n",
    "            \n",
    "        print(\"------------------\")\n",
    "        # rearrange data for multi-line plot\n",
    "        # would be so much easier with pandas ...\n",
    "        by_c = []\n",
    "        for idx, _ in enumerate(sqwgts[0]):\n",
    "            res = []\n",
    "            for j, w in enumerate(sqwgts):\n",
    "                res.append(w[idx])\n",
    "            by_c.append(res)\n",
    "        \n",
    "        for idx, y in enumerate(by_c):\n",
    "            plt.plot(cs, y, marker = \"o\")\n",
    "        plt.title(\"Sum of Square Weights vs Inverse Regularization Strength, per class\")\n",
    "        plt.xlabel(\"C\")\n",
    "        plt.ylabel(\"sum of square weights\")\n",
    "        plt.legend(newsgroups_train.target_names)\n",
    "        plt.show()\n",
    "    \n",
    "    \n",
    "    \n",
    "    \n",
    "    # using defautl count vectorizer\n",
    "    # only fits-and-transforms the train data\n",
    "    # dev and test data is just transformed\n",
    "    cv = CountVectorizer()\n",
    "    \n",
    "    print(\"============================\")\n",
    "    do_knn(cv, ks = list(range(1,31,2)))\n",
    "    \n",
    "    print(\"============================\")\n",
    "    do_mnb(cv, alphas = np.arange(1.0e-10, 0.1, 0.01))\n",
    "    \n",
    "    print(\"============================\")\n",
    "    do_lr(cv, cs = np.arange(1.0e-10, 0.5, 0.1))\n",
    "    \n",
    "    print(\"============================\")\n",
    "    do_lr_ec(cv, cs = np.arange(1.0e-10, 0.5, 0.1))\n",
    "    \n",
    "P3()"
   ]
  },
  {
   "cell_type": "markdown",
   "metadata": {},
   "source": [
    "Answers:\n",
    "\n",
    "a. Why doesn't nearest neighbors work well for this problem?\n",
    "\n",
    "**Because each word is a feature, many of our records have lots of features, which makes every vector very far away from each other. Also, the features are 0 or 1, and is not modelled well by spherical distance. The high number of neighbors, 19-NN, and relatively low f1 score, suggests the k-nn classifier is overfitting, rather than capturing actual patterns.** \n",
    "\n",
    "b. Any ideas why logistic regression doesn't work as well as Naive Bayes?\n",
    "\n",
    "**Logistic regression is trying to calculate the weights for every feature in the vocabulary, for each class, when for the vast majority of documents, relatively few features (words) appear in the document. Multinomial Naive Bayes works better in this case because it does not assume that every word will matter for each class.**\n",
    "\n",
    "c. Output the sum of the squared weight values for each class for each setting of the C parameter. Briefly explain the relationship between the sum and the value of C.\n",
    "\n",
    "**C is the inverse of regularization strength. So as C increases, regularization gets weaker. Which means that as C increases, the sum of squared weights values for each class tend to increase, because we are penalizing larger weight coefficients less and less.**\n"
   ]
  },
  {
   "cell_type": "markdown",
   "metadata": {},
   "source": [
    "# 4\n",
    "\n",
    "Train a logistic regression model. Find the 5 features with the largest weights for each label -- 20 features in total. Create a table with 20 rows and 4 columns that shows the weight for each of these features for each of the labels. Create the table again with bigram features. Any surprising features in this table?"
   ]
  },
  {
   "cell_type": "code",
   "execution_count": 385,
   "metadata": {},
   "outputs": [
    {
     "name": "stdout",
     "output_type": "stream",
     "text": [
      "============================\n",
      "------------------\n",
      "alt.atheism\n",
      "top features by weight coefficients\n",
      "[ 4784  3866 20430  3870 13668]\n",
      "['bobby', 'atheism', 'religion', 'atheists', 'islam']\n",
      "top weight coefficients\n",
      "[0.6193409499731486, 0.6157699036617253, 0.6153596961024825, 0.6063107559389059, 0.5281650098184903]\n",
      "------------------\n",
      "comp.graphics\n",
      "top features by weight coefficients\n",
      "[11552 12769 10376  1145  6555]\n",
      "['graphics', 'image', 'file', '3d', 'computer']\n",
      "top weight coefficients\n",
      "[1.2555635214760446, 0.8336573564139619, 0.8089116965019939, 0.7103358141516686, 0.6794821245068315]\n",
      "------------------\n",
      "sci.space\n",
      "top features by weight coefficients\n",
      "[22567 17597 16697 14540 22570]\n",
      "['space', 'orbit', 'nasa', 'launch', 'spacecraft']\n",
      "top weight coefficients\n",
      "[1.5059004208846163, 0.7622789284638474, 0.6641854859764202, 0.6010921443713219, 0.5243712411600706]\n",
      "------------------\n",
      "talk.religion.misc\n",
      "top features by weight coefficients\n",
      "[ 5901  5904  4743 10234 17609]\n",
      "['christian', 'christians', 'blood', 'fbi', 'order']\n",
      "top weight coefficients\n",
      "[0.6963172059681438, 0.668052725852434, 0.597025841488948, 0.5580172163054408, 0.5540598223315434]\n",
      "============================\n",
      "------------------\n",
      "alt.atheism\n",
      "top features by weight coefficients\n",
      "[37174 38326 83190 88101 20596]\n",
      "['cheers kent', 'claim that', 'in this', 'is not', 'are you']\n",
      "top weight coefficients\n",
      "[0.4187047901364798, 0.40468949786773656, 0.36224250762411725, 0.35383852749024675, 0.349968616544057]\n",
      "------------------\n",
      "comp.graphics\n",
      "top features by weight coefficients\n",
      "[ 98723  81950 123709  88596  40451]\n",
      "['looking for', 'in advance', 'out there', 'is there', 'comp graphics']\n",
      "top weight coefficients\n",
      "[0.8482068749637817, 0.6533520918000226, 0.5850909934923931, 0.5533715404746264, 0.5367427553028596]\n",
      "------------------\n",
      "sci.space\n",
      "top features by weight coefficients\n",
      "[165984 167336 145068  16732  90070]\n",
      "['the moon', 'the space', 'sci space', 'and such', 'it was']\n",
      "top weight coefficients\n",
      "[0.6768260493080543, 0.6682581798090486, 0.4713299110026591, 0.4633742381641756, 0.4118684571544716]\n",
      "------------------\n",
      "talk.religion.misc\n",
      "top features by weight coefficients\n",
      "[ 37174 164806 190525  32640 168057]\n",
      "['cheers kent', 'the fbi', 'with you', 'but he', 'the word']\n",
      "top weight coefficients\n",
      "[0.42447055547921964, 0.41809607014746547, 0.3407468680994178, 0.34043992657255295, 0.32263348031430256]\n"
     ]
    }
   ],
   "source": [
    "def P4():\n",
    "    \n",
    "    def lookup_vocab_word(vocab_dict, fet):\n",
    "        for key, val in vocab_dict.items():\n",
    "            if val == fet:\n",
    "                return key\n",
    "    \n",
    "    def find_top_features_by_weights(cv, num_features):\n",
    "        # fits and transforms train data using the given vectorizer\n",
    "        train_fv = cv.fit_transform(train_data)\n",
    "        \n",
    "        # choosing parameters based on output from P3\n",
    "        clsfr = LogisticRegression(penalty=\"l2\"\n",
    "                                  ,multi_class = \"ovr\"\n",
    "                                  ,solver = \"liblinear\"\n",
    "                                  ,max_iter = 1000\n",
    "                                  ,C = 0.2)\n",
    "        fit = clsfr.fit(train_fv, train_labels)\n",
    "\n",
    "        # for every label, gets top n features by weight\n",
    "        for idx, lbl in enumerate(newsgroups_train.target_names):\n",
    "            print(\"------------------\")\n",
    "            print(lbl)\n",
    "            print(\"top features by weight coefficients\")\n",
    "            top_features_by_weights = np.argsort(-clsfr.coef_[idx])[:num_features]\n",
    "            print(top_features_by_weights)\n",
    "            top_words_by_weights = [lookup_vocab_word(cv.vocabulary_, w) for w in top_features_by_weights]\n",
    "            print(top_words_by_weights)\n",
    "            print(\"top weight coefficients\")\n",
    "            top_weights = sorted(clsfr.coef_[idx], reverse = True)[:num_features]\n",
    "            print(top_weights)\n",
    "        \n",
    "    \n",
    "    # top n features we want to check\n",
    "    num_features = 5\n",
    "    \n",
    "    print(\"============================\")\n",
    "    # uses default count vectorizer\n",
    "    cv = CountVectorizer()\n",
    "    find_top_features_by_weights(cv, num_features)\n",
    "    \n",
    "    \n",
    "    print(\"============================\")\n",
    "    # uses bigram count vectorizer\n",
    "    cv2 = CountVectorizer(ngram_range = (2, 2))\n",
    "    find_top_features_by_weights(cv2, num_features)\n",
    "    \n",
    "P4()"
   ]
  },
  {
   "cell_type": "markdown",
   "metadata": {},
   "source": [
    "Answers:\n",
    "\n",
    "Any surprising features in this table?\n",
    "\n",
    "**Weights are generally lower in each class. And by looking at the meaning of the words, the highest weighted bigrams appear much less relevant than the highest weighted unigrams. Perhaps this reflects certain two-word phrases tend to be used more often in everyday speech.**"
   ]
  },
  {
   "cell_type": "markdown",
   "metadata": {},
   "source": [
    "# 5\n",
    "\n",
    "Try to improve the logistic regression classifier by passing a custom preprocessor to CountVectorizer. The preprocessing function runs on the raw text, before it is split into words by the tokenizer. Your preprocessor should try to normalize the input in various ways to improve generalization. For example, try lowercasing everything, replacing sequences of numbers with a single token, removing various other non-letter characters, and shortening long words. If you're not already familiar with regular expressions for manipulating strings, see https://docs.python.org/2/library/re.html, and re.sub() in particular. With your new preprocessor, how much did you reduce the size of the dictionary?\n",
    "\n",
    "For reference, I was able to improve dev F1 by 2 points."
   ]
  },
  {
   "cell_type": "code",
   "execution_count": 415,
   "metadata": {},
   "outputs": [
    {
     "name": "stdout",
     "output_type": "stream",
     "text": [
      "============================\n",
      "empty preprocessor\n",
      "{'vocab_size': 33291, 'dev_f1': 0.7085798816568046, 'test_f1': 0.7119645494830131}\n",
      "============================\n",
      "better preprocessor\n",
      "{'vocab_size': 10717, 'dev_f1': 0.7085798816568046, 'test_f1': 0.7355982274741507}\n"
     ]
    }
   ],
   "source": [
    "def P5():\n",
    "    \n",
    "    def empty_preprocessor(s):\n",
    "        return s\n",
    "    \n",
    "    def better_preprocessor(s):\n",
    "        s = s.lower()\n",
    "        \n",
    "        # replaces any contiguous digits with the digit \"8\"\n",
    "        s = re.sub(\"[0-9]*\",\"8\",s)\n",
    "\n",
    "        # truncates any words to less than a certain length\n",
    "        s1 = []\n",
    "        for word in s.split():\n",
    "            s1.append(word[:8])\n",
    "        s = \" \".join(s1)\n",
    "        \n",
    "        return s\n",
    "    \n",
    "    def calc_f1(cv):\n",
    "        \n",
    "        # fits and transforms train data using the given vectorizer\n",
    "        # transforms the dev and test data using the given vectorizer\n",
    "        train_fv = cv.fit_transform(train_data)\n",
    "        dev_fv = cv.transform(dev_data)\n",
    "        test_fv = cv.transform(test_data)\n",
    "        \n",
    "        # choosing parameters based on output from P3\n",
    "        clsfr = LogisticRegression(penalty=\"l2\"\n",
    "                                  ,multi_class = \"ovr\"\n",
    "                                  ,solver = \"liblinear\"\n",
    "                                  ,max_iter = 1000\n",
    "                                  ,C = 0.2)\n",
    "        \n",
    "        # fits the classifier to train data\n",
    "        fit = clsfr.fit(train_fv, train_labels)\n",
    "        \n",
    "        # calculates vocab size\n",
    "        fts = cv.get_feature_names()\n",
    "        num_fts = len(fts)\n",
    "        \n",
    "        # predicts and calculates the f1 score against dev data\n",
    "        preds = clsfr.predict(dev_fv)\n",
    "        dev_f1 = metrics.f1_score(preds, dev_labels, average = \"micro\")\n",
    "        \n",
    "        # predicts and calculates the f1 score against test data\n",
    "        preds = clsfr.predict(test_fv)\n",
    "        test_f1 = metrics.f1_score(preds, test_labels, average = \"micro\")\n",
    "        \n",
    "        return({\"vocab_size\" : num_fts, \"dev_f1\" : dev_f1, \"test_f1\" : test_f1})\n",
    "    \n",
    "    \n",
    "    # uses the empty preprocessor\n",
    "    print(\"============================\")\n",
    "    print(\"empty preprocessor\")\n",
    "    cv = CountVectorizer(preprocessor = empty_preprocessor)\n",
    "    f1 = calc_f1(cv)\n",
    "    print(f1)\n",
    "    \n",
    "    # uses the better preprocessor\n",
    "    print(\"============================\")\n",
    "    print(\"better preprocessor\")\n",
    "    cv = CountVectorizer(preprocessor = better_preprocessor)\n",
    "    f1 = calc_f1(cv)\n",
    "    print(f1)\n",
    "    \n",
    "    \n",
    "P5()"
   ]
  },
  {
   "cell_type": "markdown",
   "metadata": {},
   "source": [
    "Answers:\n",
    "\n",
    "With your new preprocessor, how much did you reduce the size of the dictionary?\n",
    "\n",
    "**dictionary size was reduced by about 1/3, and test F1 score improved slightly by about 0.02**"
   ]
  },
  {
   "cell_type": "markdown",
   "metadata": {},
   "source": [
    "# 6\n",
    "\n",
    "The idea of regularization is to avoid learning very large weights (which are likely to fit the training data, but not generalize well) by adding a penalty to the total size of the learned weights. That is, logistic regression seeks the set of weights that minimizes errors in the training data AND has a small size. The default regularization, L2, computes this size as the sum of the squared weights (see P3, above). L1 regularization computes this size as the sum of the absolute values of the weights. The result is that whereas L2 regularization makes all the weights relatively small, L1 regularization drives lots of the weights to 0, effectively removing unimportant features.\n",
    "\n",
    "Train a logistic regression model using a \"l1\" penalty. Output the number of learned weights that are not equal to zero. How does this compare to the number of non-zero weights you get with \"l2\"? Now, reduce the size of the vocabulary by keeping only those features that have at least one non-zero weight and retrain a model using \"l2\".\n",
    "\n",
    "Make a plot showing accuracy of the re-trained model vs. the vocabulary size you get when pruning unused features by adjusting the C parameter.\n",
    "\n",
    "Note: The gradient descent code that trains the logistic regression model sometimes has trouble converging with extreme settings of the C parameter. Relax the convergence criteria by setting tol=.01 (the default is .0001)."
   ]
  },
  {
   "cell_type": "code",
   "execution_count": 457,
   "metadata": {},
   "outputs": [
    {
     "name": "stdout",
     "output_type": "stream",
     "text": [
      "============================\n",
      "L1: number of learned weights that are not equal to zero\n",
      "620\n",
      "============================\n",
      "13164\n",
      "[  761   831  1145  1151  1205  2423  2629  2669  2895  2943  3024  3058\n",
      "  3198  3291  3297  3393  3608  3626  3714  3866  3867  3870  4370  4406\n",
      "  4743  4784  4835  4996  5074  5220  5240  5432  5503  5545  5623  5711\n",
      "  5844  5895  5901  5904  5993  6167  6179  6555  6845  6914  7063  7188\n",
      "  7286  7616  7636  7784  7838  7841  7962  8192  8570  8657  8662  8678\n",
      "  8701  8928  9002  9163  9187  9349  9382  9446  9744  9780  9864 10079\n",
      " 10234 10376 10379 10404 10430 10526 10794 10821 10901 10951 11022 11239\n",
      " 11285 11393 11415 11434 11833 11906 12014 12171 12192 12217 12358 12487\n",
      " 12512 12659 12769 12779 13044 13668 13669 13676 13869 14118 14143 14301\n",
      " 14325 14330 14494 14540 14773 14819 14847 14878 14941 15025 15034 15156\n",
      " 15352 15378 15526 15593 15614 15643 15706 15796 15986 16061 16319 16358\n",
      " 16369 16376 16442 16482 16598 16617 16676 16697 16718 16952 17087 17217\n",
      " 17384 17597 17609 17725 17828 17879 18158 18218 18261 18620 18772 18797\n",
      " 18820 18936 18959 18966 19261 19275 19288 19364 19622 20003 20024 20434\n",
      " 20460 20890 20925 20990 20994 21188 21201 21272 21369 21377 21418 21512\n",
      " 21569 21619 21681 21696 21751 21759 21857 21871 21927 22017 22058 22177\n",
      " 22266 22420 22458 22487 22549 22570 22649 22703 22874 22965 23758 23799\n",
      " 23910 23943 24050 24092 24126 24134 24170 24171 24172 24212 24299 24321\n",
      " 24330 24387 24418 24783 24908 25190 25392 25523 25525 25588 25685 25701\n",
      " 25716 25733 25744 25811 26035 26066 26071 26105 26183 26190 26222 26224\n",
      " 26247 26350 26405 26463 26470 26489 26521 26522 26546 26729 26771]\n",
      "['_the_internet_gopher_', 'absence', 'also', 'altering', 'an', 'century', 'click', 'co', 'conclusion', 'congressional', 'consumption', 'contract', 'counters', 'crooks', 'crosshair', 'd8', 'demon', 'dennis', 'detected', 'discount', 'discounts', 'discovered', 'enemy', 'enrichment', 'fail', 'fanatism', 'federal', 'florida', 'forgivance', 'fundamental', 'fuss', 'golfer', 'gravity', 'grove', 'halls', 'head', 'historians', 'honestly', 'hooked', 'hope', 'hyam', 'implying', 'impress', 'iraf', 'kilroy', 'ksc', 'leon', 'load', 'luke23', 'mentally', 'mesons', 'mit', 'molech', 'molesting', 'multiples', 'noisy', 'overhead', 'parallelogram', 'paranoia', 'partial', 'passing', 'piety', 'pleased', 'practised', 'preceding', 'professional', 'promised', 'protects', 'readouts', 'rebroadcast', 'reflected', 'resource', 'rix', 'salt', 'salyut', 'satan', 'saves', 'se', 'significant', 'simtel20', 'sloppiness', 'societally', 'sourcefile', 'ste', 'stock', 'subatomic', 'subsisted', 'suck', 'thingie', 'tight', 'tow', 'tt', 'turner', 'tyrannosaurus', 'unless', 'uvs', 'valuable', 'virtual', 'waste', 'waters', 'wrong', None, None, None, None, None, None, None, None, None, None, None, None, None, None, None, None, None, None, None, None, None, None, None, None, None, None, None, None, None, None, None, None, None, None, None, None, None, None, None, None, None, None, None, None, None, None, None, None, None, None, None, None, None, None, None, None, None, None, None, None, None, None, None, None, None, None, None, None, None, None, None, None, None, None, None, None, None, None, None, None, None, None, None, None, None, None, None, None, None, None, None, None, None, None, None, None, None, None, None, None, None, None, None, None, None, None, None, None, None, None, None, None, None, None, None, None, None, None, None, None, None, None, None, None, None, None, None, None, None, None, None, None, None, None, None, None, None, None, None, None, None, None, None, None, None, None, None, None, None, None]\n",
      "{'just': 6771, 'taking': 11611, 'guess': 5562, 'perhaps': 8791, 'it': 6603, 'was': 12763, 'that': 11772, 'koresh': 6898, 'had': 5606, 'peaceably': 8752, 'been': 1814, 'served': 10646, 'with': 12945, 'warrants': 12755, 'before': 1816, 'and': 1221, 'he': 5710, 'did': 3772, 'not': 8226, 'shoot': 10734, 'anyone': 1300, 'but': 2210, 'instead': 6395, 'went': 12838, 'the': 11774, 'police': 9046, 'without': 12951, 'fighting': 4884, 'on': 8420, 'first': 4931, 'day': 3450, 'after': 1029, 'christmas': 2538, 'my': 7984, 'truelove': 12153, 'to': 11946, 'me': 7549, 'leftover': 7042, 'turkey': 12189, 'second': 10548, 'casserole': 2344, 'she': 10704, 'made': 7331, 'from': 5185, 'days': 3452, 'deleted': 3579, 'flaming': 4957, 'wings': 12923, 'pizza': 8955, 'hut': 5987, 'commercial': 2759, 'tlu': 11941, 'gic': 5359, 'bait': 1720, 'hello': 5763, 'out': 8543, 'there': 11807, 'if': 6056, 'your': 13124, 'familiar': 4776, 'comet': 2740, 'program': 9361, 'then': 11792, 'this': 11843, 'concerns': 2888, 'you': 13121, 'is': 6578, 'scheduled': 10470, 'be': 1789, 'launched': 6992, 'wallops': 12732, 'island': 6585, 'sometime': 10994, 'in': 6196, 'june': 6763, 'does': 3999, 'know': 6882, 'an': 1205, 'official': 8391, 'launch': 6991, 'date': 3435, 'has': 5682, 'set': 10656, 'playmation': 8995, 'available': 1651, 'direct': 3823, 'anjon': 1247, 'associates': 1520, 'for': 5051, '299': 337, 'hard': 5664, 'beat': 1797, 'price': 9269, 'also': 1145, 'better': 1891, 'off': 8377, 'newer': 8134, 'version': 12596, 'than': 11768, 'older': 8406, 'bugs': 2169, 'have': 5697, 'long': 7219, 'since': 10830, 'clobbered': 2641, 'exactly': 4572, 'didn': 3773, 'want': 12739, 'mess': 7637, 'tga': 11765, 'or': 8478, 'rle': 10235, 'so': 10943, 'wrote': 13045, 'following': 5031, 'script': 10511, 'all': 1121, 'need': 8073, 'very': 12604, 'standard': 11192, 'of': 8375, 'pbm': 8738, 'utilities': 12467, 'pov': 9140, 'jpg': 6722, 'converter': 3100, 'run': 10328, 'like': 7123, 'pov2jpg': 9141, '1280': 81, '1024': 44, 'fred': 5152, 'will': 12902, 'modify': 7825, 'path': 8716, 'reflect': 9863, 'where': 12858, 'put': 9546, 'povray': 9142, 'its': 6609, 'include': 6212, 'files': 4893, 'problem': 9314, 'disk': 3896, 'space': 11031, 'can': 2276, 'use': 12442, 'named': 8016, 'pipes': 8945, 'temporary': 11710, 'hope': 5904, 'find': 4908, 'useful': 12444, 'bin': 1928, 'sh': 10682, 'lt': 7273, 'echo': 4178, 'usage': 12439, 'width': 12894, 'height': 5756, 'sourcefile': 11022, 'other_options': 8536, 'exit': 4628, 'fi': 4871, 'datafile': 3434, 'shift': 10718, 'basedatafile': 1761, 'sed': 10562, 'thedatafile': 11777, 'basename': 1764, 'dirdatafile': 3822, 'dirname': 3836, 'cd': 2389, 'afs': 1027, 'rnd': 10239, 'sas': 10402, 'com': 2728, 'sherman': 10714, 'povsrc': 9144, 'build': 2170, 'povscn': 9143, 'tmp': 11944, 'data': 3431, 'fr': 5126, 'rawtopgm': 9711, 'grn': 5535, 'green': 5515, 'red': 9834, 'blu': 1989, 'blue': 1990, 'rgb3toppm': 10181, 'cjpeg': 2591, 'rm': 10237, 'output': 8556, 'why': 12883, 'inflatable': 6308, 'dock': 3981, 're': 9723, 'doing': 4004, 'large': 6964, 'scale': 10444, 'satellite': 10411, 'servicing': 10654, 'being': 1839, 'able': 810, 'do': 3977, 'pressurized': 9247, 'hangar': 5646, 'makes': 7383, 'considerable': 2982, 'sense': 10608, 'question': 9600, 'whether': 12867, 'going': 5426, 'near': 8060, 'future': 5242, 'point': 9033, 'justifying': 6776, 'development': 3739, 'such': 11432, 'thing': 11831, 'mighty': 7690, 'fine': 4912, 'idea': 6029, 'asked': 1482, 'll': 7183, 'respond': 10089, 'putting': 9547, 'aside': 1479, 'application': 1343, 'are': 1401, 'other': 8535, 'factors': 4738, 'consider': 2981, 'volume': 12696, 'temperature': 11706, 'control': 3080, 'difficult': 3794, 'incorporate': 6229, 'thermal': 11815, 'insulation': 6410, 'maybe': 7527, 'double': 4036, 'walled': 12731, 'micrometeoroid': 7672, 'protection': 9444, 'radiation': 9637, 'required': 10043, 'don': 4017, 'think': 11836, 'clear': 2620, 'plastic': 8981, 'bubble': 2151, 'more': 7875, 'likely': 7125, 'look': 7222, 'big': 1913, 'white': 12873, 'ball': 1724, 'same': 10381, 'kind': 6847, 'multi': 7957, 'layer': 7006, 'fabric': 4722, 'soft': 10956, 'torso': 11997, 'suits': 11457, 'today': 11949, 'because': 1805, 'almost': 1137, 'manned': 7420, 'vessels': 12607, 'skylab': 10873, 'mir': 7734, 'salyut': 10379, 'used': 12443, 'their': 11781, 'pressurization': 9245, 'increased': 6235, 'structural': 11362, 'rigidity': 10214, 'even': 4545, 'though': 11851, 'they': 11824, 'metal': 7646, 'skins': 10869, 'still': 11274, 'qualify': 9574, 'as': 1466, 'inflation': 6310, 'process': 9324, 'would': 13017, 'carefully': 2323, 'controlled': 3082, 'environment': 4443, 'reduces': 9846, 'ductility': 4111, 'exposed': 4683, 'materials': 7500, 'due': 4113, 'extremes': 4709, 'monotomic': 7855, 'oxygen': 8591, 'impingement': 6148, 'effects': 4228, 'may': 7525, 'retain': 10124, 'any': 1295, 'flexibility': 4977, 'matter': 7516, 'pressure': 9243, 'changes': 2456, 'cause': 2376, 'flexing': 4979, 'which': 12868, 'could': 3186, 'lead': 7019, 'holes': 5879, 'tears': 11673, 'decreases': 3522, 'these': 11819, 'some': 10987, 'technical': 11676, 'difficulties': 3795, 'llnl': 7184, 'proposal': 9422, 'station': 11225, 'dealt': 3470, 'varying': 12539, 'degrees': 3566, 'success': 11427, 'ken': 6809, 'jenks': 6650, 'nasa': 8027, 'jsc': 6733, 'gm2': 5402, 'shuttle': 10768, 'office': 8388, 'kjenks': 6864, 'gothamcity': 5453, 'gov': 5458, '713': 569, '483': 457, '4368': 437, 'rome': 10266, 'under': 12293, 'attack': 1591, 'by': 2221, 'barbarians': 1750, 'sent': 10615, 'advice': 1001, 'oracle': 8479, 'said': 10363, 'worship': 13006, 'cybele': 3378, 'saved': 10428, 'were': 12840, 'quintessential': 9613, 'wiccan': 12885, 'goddess': 5417, 'her': 5779, 'son': 11000, 'lover': 7257, 'attis': 1603, 'yucky': 13131, 'ask': 1481, 'ok': 8401, 'book': 2026, 'says': 10439, 'phrygian': 8898, 'neolithic': 8097, 'matriarchal': 7511, 'society': 10953, 'catal': 2354, 'huyuk': 5990, 'worshipped': 13009, '1st': 233, 'black': 1956, 'stone': 11291, 'kaaba': 6780, 'mecca': 7570, 'ring': 10217, 'bell': 1853, 'carried': 2331, '205bc': 246, 'save': 10427, 'them': 11788, 'hannibal': 5650, 'gets': 5348, 'interesting': 6456, 'romans': 10265, 'called': 2255, 'great': 5509, 'mother': 7901, 'magna': 7347, 'mater': 7495, 'reason': 9766, 'many': 7436, 'those': 11848, 'mary': 7471, 'statues': 11233, 'europe': 4533, 'prob': 9305, 'connected': 2954, 'ka': 6779, 'aba': 795, 've': 12553, 'got': 5452, '3rd': 410, 'cent': 2409, 'ad': 927, 'supreme': 11518, 'lyons': 7302, 'france': 5140, 'castrated': 2349, 'formed': 5088, 'into': 6501, 'pine': 8939, 'tree': 12109, 'should': 10749, 'worshiped': 13007, '25': 297, 'mar': 7443, 'ecstatic': 4193, 'cult': 3346, 'priests': 9276, 'wore': 12983, 'drag': 4061, 'worked': 12986, 'themselves': 11791, 'up': 12407, 'dance': 3416, 'order': 8490, 'initiate': 6344, 'lived': 7178, 'lives': 7180, 'women': 12968, 'make': 7380, 'jewelry': 6667, 'whole': 12878, 'bit': 1947, 'wow': 13024, 'only': 8426, 'primitive': 9282, 'transsexualism': 12088, 'goes': 5424, 'india': 6250, 'else': 4302, 'castration': 2350, 'meditation': 7584, 'forget': 5073, 'now': 8255, 'course': 3207, 'excepts': 4590, 'weird': 12830, 'russian': 10339, 'romanian': 10264, '18th': 169, 'xian': 13067, 'kinds': 6852, 'self': 10590, 'too': 11978, 'name': 8015, 'actually': 926, 'talk': 11614, 'abortion': 818, 'related': 9919, 'comments': 2758, 'below': 1862, 'believe': 1847, 'well': 12836, 'our': 8540, 'observer': 8335, 'position': 9099, 'agrees': 1055, 'both': 2048, 'making': 7385, 'appropriate': 1361, 'observations': 8330, 'inferences': 6299, 'regarding': 9888, 'situation': 10851, 'expect': 4635, 'him': 5827, 'conclude': 2892, 'no': 8183, 'right': 10208, 'answer': 1272, 'hopefully': 5906, 'factor': 4737, 'allow': 1131, 'judgement': 6745, 'accept': 856, 'hand': 5633, 'disagrees': 3844, 'principles': 9288, 'either': 4253, 'suspect': 11543, 'decision': 3500, 'favour': 4815, 'one': 8422, 'unfortunately': 12322, 'case': 2341, 'moral': 7871, 'arguments': 1415, 'answers': 1276, 'perspectives': 8832, 'instance': 6392, 'am': 1165, 'completely': 2822, 'unable': 12258, 'come': 2736, 'conclusion': 2895, 'allowed': 1132, 'perspective': 8831, 'ideal': 6030, 'world': 12995, 'living': 7182, 'things': 11834, 'life': 7105, 'absolute': 834, 'what': 12849, 'own': 8585, 'bodies': 2010, 'clearly': 2622, 'way': 12797, 'resolve': 10070, 'therefore': 11810, 'agree': 1051, 'compromise': 2851, 'solution': 10981, 'allowing': 1133, 'certain': 2428, 'time': 11912, 'conception': 2879, 'deciding': 3498, 'based': 1760, 'various': 12537, 'sometimes': 10995, 'ill': 6076, 'defined': 3551, 'criteria': 3280, 'sensible': 10611, 'move': 7926, 'lets': 7070, 'people': 8770, 'decisions': 3501, 'within': 12949, 'worth': 13012, 'reasonably': 9768, 'happy': 5662, 'current': 3356, 'uk': 12244, 'law': 6999, 'similarly': 10810, 'left': 7041, 'yugoslavia': 13132, 'horrible': 5914, 'really': 9758, 'see': 10566, 'sort': 11009, 'enough': 4405, 'imagine': 6116, 'might': 7688, 'manage': 7398, 'good': 5436, 'major': 7378, 'blind': 1975, 'spots': 11144, 'understanding': 12304, 'earth': 4162, 'habitable': 5597, 'example': 4583, 'atmosphere': 1579, 'concentration': 2876, 'naive': 8012, 'photosynthesis': 8891, 'incomplete': 6223, 'itself': 6610, 'oxygenated': 8592, 'produced': 9336, 'consumed': 3022, 'when': 12855, 'plants': 8979, 'decay': 3485, 'eaten': 4174, 'needed': 8074, 'plus': 9014, 'mechanism': 7575, 'sequester': 10636, 'fraction': 5129, 'resulting': 10115, 'reduced': 9845, 'material': 7496, 'burial': 2193, 'seafloor': 10529, 'sediments': 10563, 'organic': 8501, 'mostly': 7900, 'oceanic': 8366, 'sources': 11023, 'however': 5937, 'requires': 10046, 'continental': 3045, 'deep': 3533, 'ocean': 8365, 'rate': 9694, 'slow': 10903, 'most': 7899, 'sequestered': 10637, 'suggests': 11451, 'planet': 8967, 'oceans': 8367, 'continents': 3046, 'undergoing': 12295, 'weathering': 12817, 'accumulating': 882, 'particular': 8683, 'supporting': 11507, 'relatively': 9927, 'stable': 11175, 'over': 8565, 'geological': 5336, 'period': 8794, 'at': 1556, 'least': 7032, 'orders': 8493, 'magnitude': 7353, 'longer': 7220, 'atmospheric': 1580, 'o2': 8300, 'absence': 831, 'replenishment': 10009, 'convincing': 3110, 'feedback': 4839, 'identified': 6036, 'weak': 12802, 'anthropic': 1283, 'principle': 9287, 'during': 4126, 'last': 6977, '500': 474, 'myr': 7988, 'level': 7074, 'dropped': 4088, 'low': 7262, 'we': 12801, 'wouldn': 13018, 'here': 5781, 'wondering': 12974, 'about': 820, 'placing': 8960, 'file': 4892, 'ftp': 5195, 'contains': 3030, 'several': 10669, 'polygonal': 9062, 'descriptions': 3675, 'head': 5711, 'face': 4723, 'skull': 10871, 'vase': 12541, 'etc': 4516, 'format': 5084, 'list': 7160, 'vertices': 12602, 'normals': 8218, 'triangles': 12118, 'resolutions': 10069, 'includes': 6214, 'number': 8283, 'polygons': 9063, 'eg': 4235, 'phred': 8897, '3k': 406, 'vbl': 12549, '1300': 89, 'get': 5347, 'via': 12612, 'taurus': 11651, 'cs': 3330, 'nps': 8260, 'navy': 8048, 'mil': 7694, 'login': 7212, 'anonymous': 1268, 'guest': 5565, 'password': 8705, 'pub': 9490, 'dabro': 3395, 'binary': 1930, 'cyber': 3379, 'tar': 11636, 'once': 8421, 'onto': 8430, 'workstation': 12993, 'uncompress': 12281, 'xvof': 13081, 'questions': 9604, 'please': 9001, 'let': 7069, 'george': 5339, 'dabrowski': 3396, 'cyberware': 3382, 'labs': 6930, 'us': 12436, 'hackers': 5604, 'become': 1807, 'ick': 6022, 'professionals': 9350, 'noticed': 8239, 'progression': 9370, 'computer': 2859, 'rather': 9696, 'distasteful': 3937, 'occurs': 8364, 'series': 10639, 'happen': 5655, 'ego': 4237, 'outgrows': 8551, 'talent': 11613, 'knowledge': 6886, 'financial': 4907, 'takes': 11609, 'precedence': 9186, 'change': 2453, 'priorities': 9296, 'esp': 4497, 'family': 4778, 'possibly': 9112, 'leading': 7023, 'hacker': 5601, 'attitude': 1604, 'fun': 5213, 'work': 12985, 'vocation': 12688, 'burns': 2198, 'away': 1673, 'creativity': 3261, 'hobby': 5868, 'biggest': 1916, 'killer': 6839, 'imo': 6135, 'dreams': 4074, 'sadly': 10357, 'shattered': 10703, 'rocks': 10252, 'reality': 9754, 'dream': 4072, 'motivation': 7908, 'dies': 3780, 'effort': 4233, 'seems': 10575, 'useless': 12446, 'another': 1269, 'problems': 9315, 'stems': 11259, 'children': 2512, 'while': 12870, 'remember': 9969, 'different': 3787, 'systems': 11589, 'growing': 5548, 'few': 4867, 'choices': 2521, 'msdos': 7944, 'mac': 7311, 'amiga': 1182, 'enjoy': 4392, 'diversity': 3958, 'fallout': 4770, 'early': 4158, 'eighties': 4248, 'vividly': 12678, 'forced': 5056, 'stop': 11296, 'using': 12451, 'skills': 10868, 'developed': 3734, 'dead': 3463, 'widely': 12889, 'divergent': 3955, 'paradigms': 8651, 'continually': 3050, 'learn': 7027, 'new': 8128, 'attempt': 1595, 'keep': 6802, 'mention': 7617, 'situations': 10853, 'write': 13035, 'ourselves': 8542, 'offering': 8384, 'taught': 11648, 'user': 12448, 'mentality': 7615, 'old': 8405, 'timers': 11916, 'dwindle': 4138, 'replaced': 10006, 'next': 8152, 'generation': 5315, 'kendall': 6810, 'sears': 10538, 'krsear02': 6907, 'ulkyvx': 12247, 'louisville': 7254, 'edu': 4213, 'programmer': 9364, 'child': 2509, 'unit': 12341, 'department': 3641, 'pediatrics': 8757, 'currently': 3357, 'running': 10329, 'amigaos': 1185, 'university': 12351, 'xx': 13084, 'unix': 12352, 'sys': 11584, 'rev': 10145, 'try': 12164, 'ing': 6333, 'publications': 9495, 'may_93_online': 7526, 'siggraph': 10784, 'org': 8500, 'never': 8126, 'humans': 5969, 'beings': 1840, 'sufficiently': 11444, 'sentient': 10618, 'intentions': 6440, 'fact': 4733, 'explicitly': 4666, 'perfectly': 8785, 'animals': 1240, 'capable': 2296, 'forming': 5091, 'objecting': 8313, 'considering': 2987, 'programmed': 9363, 'instinctive': 6396, 'behaviour': 1831, 'significance': 10793, 'involve': 6539, 'intention': 6438, 'implementor': 6156, 'thinks': 11839, 'issue': 6597, 'thinking': 11838, 'produces': 9339, 'opinion': 8451, 'place': 8957, 'part': 8676, 'nature': 8043, 'human': 5964, 'actions': 916, 'natural': 8038, 'throw': 11871, 'definition': 3556, 'describe': 3670, 'sure': 11521, 'multiple': 7961, 'posters': 9118, 'show': 10757, 'sharks': 10701, 'eat': 4173, 'wounded': 13021, 'personally': 8829, 'seen': 10576, 'cats': 2372, 'newborn': 8131, 'denial': 3623, 'give': 5372, 'go': 5408, 'air': 1072, 'week': 12823, 'pop': 9082, 'claiming': 2595, 'happened': 5657, 'strange': 11320, 'mean': 7553, 'again': 1034, 'tailor': 11604, 'faq': 4790, 'mr': 7940, 'schneider': 10477, 'apologies': 1317, 'mail': 7360, 'probably': 9311, 'pile': 8931, 'arrived': 1442, 'sick': 10773, 'month': 7860, 'ago': 1050, 'reply': 10012, 'appear': 1333, 'eventually': 4549, 'far': 4792, 'none': 8201, 'unless': 12358, 'count': 3191, 'interview': 6497, 'amateur': 1167, 'computerist': 2860, 'history': 5849, 'netnews': 8109, 'disqualified': 3925, 'tac': 11593, 'budget': 2160, 'doesn': 4000, 'reproducing': 10031, 'photos': 8888, 'hi': 5803, 'everyone': 4555, 'understand': 12302, 'occlusion': 8355, 'graphics': 5489, 'explanation': 4663, 'btw': 2149, 'difference': 3784, 'between': 1892, 'occluded': 8354, 'surface': 11523, 'opaque': 8438, 'thanks': 11770, 'advance': 985, 'repair': 9993, 'satellites': 10412, 'warning': 12751, 'getting': 5349, 'creative': 3259, 'basically': 1766, 'deploy': 3649, 'side': 10775, 'scissor': 10494, 'shaped': 10695, 'structure': 11364, 'saw': 10434, 'beyond': 1897, '2000': 238, 'maneuer': 7408, 'rest': 10097, 'around': 1432, 'seal': 10530, 'inflate': 6309, 'gas': 5280, 'neeeds': 8079, 'non': 8196, 'flameble': 4954, 'damaging': 3407, 'abel': 800, 'maintain': 7370, 'heat': 5734, 'thenheat': 11794, 'astronaut': 1542, 'who': 12876, 'working': 12988, 'onthe': 8429, 'wear': 12813, 'normal': 8216, 'bulky': 2180, 'suit': 11454, 'much': 7951, 'striped': 11353, 'down': 4046, 'take': 11606, 'slot': 10902, 'plain': 8961, 'wierd': 12897, 'ideas': 6034, 'thought': 11852, 'tomorrow': 11969, 'imagination': 6113, 'present': 9231, 'months': 7862, 'looking': 7224, 'job': 6678, 'software': 10959, 'info': 6316, 'companies': 2791, 'checked': 2492, 'resource': 10079, 'haven': 5698, 'found': 5114, 'anything': 1301, 'career': 2320, 'handbook': 5634, 'aware': 1671, 'published': 9500, '1991': 215, '40': 413, 'tremendously': 12114, 'specific': 11072, 'information': 6321, 'steer': 11251, 'towards': 12016, 'depth': 3657, 'informational': 6322, 'resources': 10080, 'post': 9113, 'summary': 11463, 'interest': 6454, 'brandon': 2085, 'obviously': 8348, 'bill': 1920, 'moyers': 7935, 'happens': 5659, 'theist': 11785, 'tie': 11900, 'alt': 1146, 'atheism': 1562, 'his': 5840, 'pbs': 8740, 'documentary': 3990, 'war': 12743, 'main': 7364, 'source': 11021, 'videotape': 12626, 'others': 8537, 'nation': 8031, 'progressive': 9371, 'article': 1453, 'mere': 7628, 'rationalisation': 9702, 'claim': 2593, 'sanitation': 10390, 'strategic': 11325, 'legitimate': 7051, 'targets': 11641, 'civilians': 2586, 'city': 2583, 'sewer': 10673, 'system': 11587, 'destroy': 3702, 'water': 12777, 'purification': 9530, 'hospitals': 5921, 'handle': 5639, 'resultant': 10113, 'epidemics': 4453, 'electricity': 4268, 'postol': 9124, 'interviews': 6498, 'media': 7580, 'demostrates': 3618, 'how': 5934, 'pentagon': 8769, 'lied': 7101, 'patriot': 8721, 'effectiveness': 4227, '70': 561, 'relevant': 9944, 'somewhere': 10997, 'worse': 13005, 'total': 12004, 'mass': 7480, 'pluto': 9015, 'fast': 4799, 'flyby': 5012, 'spacecraft': 11033, '250ish': 300, 'pounds': 9137, 'support': 11504, 'equipment': 4468, 'power': 9145, 'communications': 2781, 'instruments': 6409, '10': 36, 'batse': 1772, 'fit': 4938, 'shielding': 10717, 'detectors': 3718, 'directionality': 3827, 'burst': 2200, 'flown': 5001, 'missions': 7776, 'weighed': 12826, 'mind': 7710, 'heavy': 5746, 'pff': 8848, 'spare': 11056, 'greetings': 5519, 'general': 5306, 'call': 2254, 'image': 6101, 'processing': 9327, 'field': 4877, 'trying': 12165, 'hands': 5643, 'easy': 4172, 'packages': 8603, 'code': 2679, 'already': 1143, 'texts': 11761, 'subject': 11397, 'appreciate': 1350, 'input': 6356, 'knowledgable': 6885, 'myself': 7991, 'mathematically': 7504, 'literate': 7172, 'ie': 6052, 'degree': 3565, 'mathematics': 7505, 'suggested': 11447, 'prefer': 9204, 'intensive': 6434, 'best': 1884, 'moment': 7843, 'practical': 9157, 'digital': 3803, 'rhys': 10185, 'lewis': 7079, 'isbn': 6582, '13': 87, '683525': 554, 'ellis': 4298, 'horwood': 5920, '1990': 214, 'likewise': 7129, 'fair': 4751, 'sample': 10383, 'programs': 9368, 'demonstrate': 3612, 'techniques': 11679, 'xv': 13077, 'khoros': 6827, 'dcview': 3457, 'ibm': 6018, 'pc': 8741, 'smatterings': 10917, 'help': 5765, 'topics': 11988, 'contrasting': 3071, 'dithering': 3952, 'enhancement': 4390, 'convolution': 3111, 'kindly': 6850, 'supply': 11503, 'public': 9492, 'domain': 4009, 'pertinent': 8839, 'area': 1402, 'tell': 11698, 'aarnet': 790, 'internet': 6476, 'turbo': 12184, 'pascal': 8693, 'algorithms': 1113, 'readily': 9737, 'alter': 1149, 'manipulate': 7414, 'purposes': 9536, 'demonstration': 3616, 'helpful': 5768, 'above': 822, 'contribute': 3073, 'graduate': 5474, 'studies': 11376, 'liberally': 7086, 'paper': 8641, 'seminar': 10598, 'vance': 12518, 'ashlin': 1474, 'diploma': 3818, 'advanced': 986, 'computing': 2865, 'dangerous': 3419, 'subversive': 11424, 'mindnumbing': 7714, 'leads': 7024, 'astray': 1536, 'ironbark': 6564, 'ucnv': 12230, 'au': 1616, 'i880429': 6010, 'redgum': 9840, 'wasn': 12766, 'jesus': 6662, 'changed': 2454, 'rules': 10324, 'game': 5261, 'quote': 9620, 'paul': 8726, 'cheers': 2497, 'kent': 6812, 'howdy': 5936, 'hmm': 5863, '48': 455, 'aye': 1686, 'beats': 1799, '32': 357, 'design': 3683, 'thee': 11778, 'sake': 10369, 'ellegance': 4294, 'means': 7558, '16': 131, 'bits': 1950, 'per': 8774, 'primary': 9278, 'colour': 2725, 'nr': 8261, 'colours': 2726, 'misleading': 7760, '65536': 541, 'possible': 9110, 'shades': 10683, 'pure': 9528, '256': 306, '24': 284, 'produce': 9335, 'visible': 12664, 'jumps': 6761, 'intensity': 6433, 'byte': 2226, 'each': 4152, 'pixel': 8953, 'elegant': 4280, 'leaves': 7035, 'ya': 13086, 'tidy': 11899, 'care': 2318, 'bram': 2081, 'apologize': 1318, 'astro': 1537, 'march': 7444, 'tested': 11744, 'sites': 10847, 'included': 6213, 'notified': 8241, 'stored': 11302, 'issues': 6598, 'lots': 7249, 'gone': 5433, 'exist': 4620, 'stuff': 11380, 'removed': 9980, 'notes': 8233, 'informat': 6317, 'ion': 6547, 'contents': 3041, 'welcome': 12834, 'thank': 11769, 'net': 8105, 'newest': 8135, 'regards': 9890, 'veikko': 12561, 'makela': 7381, 'peaceful': 8753, 'serve': 10645, 'warrant': 12754, 'met': 7643, 'gunfire': 5582, 'branch': 2082, 'davidians': 3445, 'wanted': 12740, 'milk': 7699, 'babies': 1694, 'man': 7396, 'drink': 4076, 'beer': 1815, 'arnold': 1429, 'discussion': 3882, 'pros': 9432, 'cons': 2966, 'someone': 10991, 'references': 9857, 'meaning': 7554, 'track': 12026, 'conjuntion': 2951, 'something': 10993, 'directly': 3829, 'stations': 11227, 'carry': 2334, 'inside': 6372, 'huge': 5960, 'wall': 12729, 'imagines': 6118, 'relativity': 9933, 'plays': 8996, 'role': 10257, 'concerning': 2887, 'opposite': 8461, 'frames': 5137, 'okay': 8402, 'smilies': 10920, 'isn': 6587, 'supposed': 11510, 'serious': 10640, 'suppose': 11509, 'behind': 1836, 'apparently': 1330, 'poke': 9041, 'religion': 9948, 'presumably': 9248, 'reasoning': 9771, 'argument': 1414, 'statement': 11221, 'worthless': 13014, 'presuming': 9251, 'qur': 9624, 'perfect': 8784, 'religious': 9950, 'text': 11759, 'whatever': 12850, 'plenty': 9005, 'room': 10271, 'disagreement': 3842, 'implications': 6159, 'essentials': 4502, 'responded': 10090, 'judgment': 6749, 'two': 12206, '_do_': 704, 'disagree': 3841, 'islam': 6583, 'presume': 9249, 'having': 5701, 'sufficient': 11443, 'clarity': 2603, 'important': 6170, 'disputes': 3924, 'basic': 1765, 'hardly': 5668, 'constitutes': 3009, 'disagreements': 3843, '_all_': 691, 'young': 13122, 'er': 4473, 'gates': 5283, 'jobs': 6679, 'widespread': 12892, 'phenomenom': 8858, 'popularity': 9086, 'plethora': 9006, 'mundane': 7967, 'business': 2207, 'uses': 12450, 'minded': 7711, 'narrower': 8026, 'focused': 5019, 'programmers': 9365, 'programming': 9367, 'databases': 3433, 'accountants': 878, 'yuppies': 13135, 'caught': 2373, 'disciplined': 3857, 'molded': 7837, 'saying': 10438, 'improved': 6187, 'significant': 10794, 'carrying': 2335, 'mission': 7774, 'implied': 6162, 'boost': 2033, 'orbit': 8483, 'anyway': 1302, 'clarify': 2602, 'heard': 5728, 'motors': 7915, 'sets': 10658, 'electronics': 4276, 'needs': 8078, 'fix': 4942, 'separate': 10621, 'pieces': 8925, 'hardware': 5669, 'corrected': 3155, 'wrong': 13044, 'bullshit': 2183, 'given': 5373, 'delusions': 3597, 'wishful': 12941, 'option': 8474, 'loving': 7260, 'obeying': 8307, 'assure': 1529, 'misguided': 7753, 'youth': 13129, 'sincere': 10831, 'painful': 8617, 'rational': 9701, 'person': 8825, 'raised': 9655, 'christian': 2535, 'home': 5887, 'story': 11307, 'choose': 2523, 'experience': 4642, 'contradicts': 3068, 'smug': 10930, 'theories': 11801, 'wonder': 12970, 'detail': 3710, 'answered': 1274, 'correspondent': 3165, 'member': 7602, 'denomination': 3627, 'stupidity': 11387, 'trick': 12125, 'unlike': 12359, 'extremely': 4708, 'wary': 12762, 'words': 12982, 'broader': 2128, 'definitions': 3557, 'gods': 5423, 'persons': 8830, 'considered': 2986, 'theists': 11787, 'pointed': 9034, 'assumption': 1527, 'objective': 8316, 'buzz': 2220, 'fond': 5036, 'everybody': 4553, 'define': 3550, 'shown': 10761, 'recently': 9792, 'easiest': 4169, 'dispell': 3907, 'experienced': 4643, 'replace': 10005, 'screen': 10507, 'death': 3474, 'lcd': 7014, 'little': 7176, 'less': 7065, 'dramatic': 4064, 'repaired': 9994, 'say': 10435, 'yep': 13108, 'gotta': 5454, 'gonna': 5434, 'cost': 3181, '21': 252, 'echoing': 4180, 'posting': 9121, 'market': 7457, 'nowadays': 8256, 'machine': 7319, 'obsolete': 8341, 'weeks': 12825, 'buy': 2217, 'sounds': 11019, 'sink': 10838, 'money': 7848, 'necessary': 8069, 'reasonable': 9767, 'cycle': 3384, 'display': 3913, 'nothing': 8235, 'until': 12396, 'quite': 9615, 'bought': 2055, 'compaq': 2794, 'toshiba': 12002, 'expected': 4636, 'moot': 7868, 'sandy': 10389, 'santra': 10396, 'trevor': 12115, 'netcom': 8106, 'berkeley': 1875, 'california': 2252, 'sf': 10677, 'ca': 2236, 'similiar': 10811, 'relating': 9921, 'anti': 1284, 'alaising': 1091, 'friend': 5173, 'posted': 9116, 'group': 5543, 'sorry': 11008, 'methods': 7657, 'persistance': 8822, 'vision': 12665, 'polyray': 9068, 'email': 4309, 'flame': 4953, 'guns': 5583, 'illegal': 6077, 'bd': 1786, 'valid': 12507, 'class': 2608, 'iii': 6069, 'federal': 4835, 'firearms': 4922, 'permit': 8809, 'pretty': 9255, 'short': 10738, 'howitzer': 5938, 'legally': 7045, 'san': 10385, 'francisco': 5142, 'earthquake': 4165, 'couple': 3205, 'years': 13104, 'flurry': 5008, 'traffic': 12038, 'misc': 7745, 'result': 10112, 'notorious': 8246, 'homo': 5891, 'road': 10241, 'santa': 10395, 'cruz': 3321, 'watsonville': 12782, 'seem': 10572, 'phase': 8856, 'create': 3249, 'fli': 4980, 'flc': 4968, 'animations': 1244, 'ideally': 6032, 'dll': 3973, 'windows': 12915, 'settle': 10661, 'forums': 5107, 'libraries': 7090, 'distributed': 3947, 'autodesk': 1642, 'aawin': 793, 'aaplay': 789, 'creation': 3255, 'capability': 2295, 'playback': 8989, 'pointers': 9036, 'appreciated': 1351, 'knows': 6889, 'package': 8602, 'compositing': 2836, 'pictures': 8923, 'live': 7177, 'video': 12625, 'clip': 2635, 'digitized': 3804, 'panning': 8639, 'generated': 5312, 'bird': 1944, 'flying': 5014, 'combine': 2732, 'everywhere': 4558, 'picture': 8922, 'through': 11868, 'yes': 13109, 'realize': 9756, 'genlock': 5325, 'manual': 7429, 'composite': 2835, 'frame': 5135, 'assumed': 1524, 'looked': 7223, 'perform': 8786, 'animation': 1243, 'animator': 1245, 'color': 2720, 'overlay': 8573, 'convert': 3098, 'avi': 1659, 'mpg': 7939, 'import': 6168, 'gif': 5360, 'capture': 2307, 'discussed': 3879, 'established': 4505, 'disproven': 3922, 'experiment': 4646, 'observation': 8328, 'chris': 2529, 'burden': 2191, 'proof': 9400, 'belong': 1858, 'document': 3989, 'christianity': 2536, 'bible': 1907, 'simply': 10819, 'assumes': 1525, 'god': 5414, 'exists': 4627, 'calvinists': 2260, 'fellowship': 4849, 'taken': 11607, 'initiative': 6346, 'revealing': 10149, 'himself': 5829, 'view': 12630, 'belongs': 1861, 'consistent': 2994, 'teaches': 11668, 'error': 4486, 'assume': 1523, 'causal': 2374, 'relationship': 9924, 'testimony': 11750, 'becoming': 1809, 'convinced': 3109, 'reconciled': 9815, 'excuse': 4603, 'missed': 7770, 'earlier': 4156, 'thread': 11857, 'came': 2265, 'across': 910, 'egotist': 4239, 'obedience': 8306, 'scriptural': 10513, 'command': 2749, 'always': 1164, 'ready': 9746, 'joy': 6708, 'response': 10093, 'originally': 8516, 'fell': 4847, 'bucket': 2154, 'reposting': 10021, 'ignoring': 6065, 'busy': 2209, 'lately': 6982, 'fundamental': 5220, 'confusions': 2937, 'addressed': 945, 'famous': 4779, 'generalisms': 5307, 'misplaced': 7762, 'needn': 8077, 'imply': 6166, 'materialism': 7498, 'lack': 6931, 'tend': 11714, 'morality': 7872, 'atheist': 1563, 'judges': 6747, 'value': 12513, 'according': 875, 'personal': 8826, 'explicit': 4665, 'line': 7141, 'postings': 9122, 'followed': 5029, 'express': 4688, 'basing': 1767, 'bad': 1709, 'christians': 2537, 'muslims': 7977, 'atheists': 1566, 'object': 8312, 'genocide': 5326, 'expressing': 4691, 'particularly': 8685, 'holds': 5877, 'form': 5080, 'mechanistic': 7576, 'taste': 11646, 'prerequisite': 9225, 'functioning': 5217, 'humanity': 5968, 'evolved': 4566, 'evolution': 4562, 'ability': 806, 'societies': 10952, 'thereby': 11809, 'achieving': 899, 'survival': 11535, 'advantages': 991, 'neither': 8093, 'convince': 3108, 'share': 10697, 'common': 2774, 'childhood': 2511, 'teaching': 11669, 'reading': 9739, 'comic': 2747, 'books': 2027, 'prying': 9476, 'gobbledygook': 5413, 'mental': 7614, 'reactions': 9731, 'stimuli': 11279, 'commanded': 2750, 'canaanites': 2277, 'true': 12151, 'reaction': 9730, 'existed': 4623, 'supposedly': 11511, 'attribute': 1611, 'discussing': 3881, 'values': 12515, 'accomplish': 870, 'framing': 5138, 'terms': 11726, 'neighboring': 8090, 'tribes': 12123, 'periodically': 8796, 'wipe': 12931, 'imagined': 6117, 'divine': 3963, 'commands': 2753, 'quality': 9575, 'generally': 5310, 'poor': 9079, 'fosters': 5112, 'coexistence': 2686, 'superior': 11489, 'agreed': 1052, 'goal': 5410, 'absolutist': 837, 'thump': 11883, 'portions': 9095, 'act': 912, 'unequivocally': 12316, 'standards': 11194, 'excluded': 4599, 'cannot': 2288, 'participate': 8680, 'opinions': 8452, 'weight': 12828, 'whatsoever': 12852, 'lowest': 7265, 'hominem': 5889, 'poisoning': 9040, 'resort': 10076, 'rationally': 9706, 'defend': 3541, 'jim': 6673, 'perry': 8818, 'dsinc': 4099, 'inc': 6203, 'matthews': 7519, 'nc': 8054, 'nominal': 8194, 'fee': 4837, 'yours': 13126, '286': 327, 'ray': 9713, 'greatly': 5512, 'won': 12969, 'byron': 2224, 'bkidd': 1955, 'esk': 4494, 'compserv': 2852, 'utas': 12461, 'kidd': 6834, 'cam': 2261, 'harmonic': 5675, 'gravitational': 5501, '14': 100, 'resonance': 10073, 'wavelength': 12791, 'frequency': 5167, 'interactions': 6446, 'moon': 7865, 'tidal': 11897, 'effect': 4224, 'talking': 11616, 'physics': 8905, 'adding': 939, 'energy': 4374, 'orbiting': 8486, 'interaction': 6445, 'pmoloney': 9021, 'maths': 7509, 'tcd': 11658, 'moloney': 7842, 'writes': 13038, 'country': 3202, 'propane': 9405, 'every': 4552, 'hook': 5900, 'bottle': 2051, 'copper': 3130, 'stove': 11312, 'type': 12211, 'heater': 5736, 'flash': 4959, 'pilot': 8936, 'lamp': 6948, 'tanks': 11629, 'hooked': 5901, 'lines': 7144, 'ceiling': 2398, 'spaces': 11045, 'fbi': 4818, 'started': 11211, 'wrecking': 13031, 'easily': 4170, 'ruptured': 10331, 'start': 11210, 'spreading': 11150, 'overhead': 8570, 'necessarily': 8068, 'built': 2175, 'flamable': 4952, 'plausible': 8987, 'fire': 4921, 'mainly': 7368, 'accident': 866, 'willful': 12903, 'negligence': 8085, 'known': 6888, 'manslaughter': 7426, 'hadn': 5610, 'gnu': 5407, 'handing': 5638, 'free': 5153, 'decent': 3494, 'sized': 10859, 'player': 8991, 'fumiko': 5212, 'washington': 12765, 'genetic': 5320, 'neural': 8118, 'network': 8114, 'cerebrum': 2424, 'scholarships': 10482, 'grants': 5485, 'intended': 6431, 'benefit': 1868, 'loophole': 7231, 'ah': 1060, 'admit': 968, 'newborns': 8132, 'innocent': 6351, '_everyone_': 708, 'sinner': 10840, 'top': 11984, 'despite': 3698, 'committed': 2769, 'sins': 10843, 'odd': 8371, 'rescued': 10052, 'furor': 5235, 'elsewhere': 4304, 'comes': 2739, 'contention': 3039, 'tsv': 12170, 'blood': 1986, 'libel': 7084, 'against': 1035, 'merit': 7631, 'banning': 1745, 'punishment': 9520, 'rushdie': 10335, 'muslim': 7976, 'western': 12844, 'publish': 9499, 'chose': 2527, 'regardless': 9889, 'offensive': 8381, 'fear': 4821, 'persecution': 8819, 'naturally': 8042, 'inclined': 6211, 'latter': 6988, 'incidentally': 6210, 'concerned': 2886, 'moreover': 7876, 'damned': 3412, 'malevolently': 7392, 'primarily': 9277, 'indeed': 6241, 'read': 9733, 'filth': 4904, 'lies': 7104, 'rank': 9675, 'hitler': 5855, 'mein': 7594, 'kempf': 6808, 'usually': 12457, 'generalities': 5308, 'attempts': 1598, 'follow': 5028, 'requesting': 10040, 'explanations': 4664, 'specifically': 11073, 'stony': 11293, 'silence': 10798, 'generalizations': 5309, 'inaccurate': 6198, 'context': 3043, 'corrections': 3158, 'discuss': 3878, 'ignored': 6063, 'readership': 9736, 'thoughts': 11853, 'relative': 9926, 'connotations': 2962, 'government': 5461, 'terrorist': 11736, 'swf': 11560, 'indirect': 6268, 'dan': 3414, 'predicitions': 9195, 'types': 12213, 'predict': 9196, 'experimental': 4647, 'procedures': 9319, 'observational': 8329, 'criterion': 3281, 'attempting': 1597, 'verify': 12585, 'prediction': 9199, 'yet': 13113, 'unmade': 12363, 'obsevations': 8339, 'activity': 922, 'occuring': 8362, 'spontaneossly': 11141, 'lasting': 6978, 'results': 10116, 'events': 4548, 'past': 8706, 'matters': 7517, 'science': 10487, 'predicting': 9198, 'except': 4587, 'restricted': 10107, 'secondly': 10550, 'repeatability': 9996, 'forms': 5092, 'requirement': 10044, 'independent': 6245, 'observers': 8336, 'fossil': 5110, 'repeatable': 9997, 'qualified': 9572, 'specimens': 11079, 'reqtined': 10038, 'museum': 7974, 'implicit': 6160, 'finds': 4911, 'correspond': 3163, 'fossils': 5111, 'often': 8397, 'regularly': 9903, 'times': 11917, 'falsifies': 4775, 'basis': 1768, 'previous': 9265, 'models': 7811, 'falsified': 4774, 'alway': 1163, 'peripheral': 8798, 'model': 7804, 'front': 5188, 'legs': 7053, 'tyrannosaurus': 12217, 'rex': 10177, 'turned': 12191, 'tremendous': 12113, 'muscles': 7973, 'weakly': 12805, 'endowed': 4365, 'previously': 9266, 'believed': 1848, 'histoircal': 5842, 'findings': 4910, 'becuase': 1810, 'repeat': 9995, 'original': 8514, 'event': 4547, 'impossible': 6176, 'biologists': 1939, 'coo': 3114, 'extra': 4702, 'terrestrial': 11728, 'discovered': 3870, 'determination': 3721, 'abiogenesis': 808, 'sarima': 10401, 'teradata': 11719, 'formerly': 5090, 'tdatirv': 11662, 'stanley': 11199, 'friesen': 5178, 'elsegundoca': 4303, 'ncr': 8057, 'ansi': 1271, 'ascii': 1470, 'pics': 8918, 'gopher': 5442, 'richard': 10190, 'mancsuo': 7405, 'figure': 4888, 'expensive': 4641, 'launching': 6996, 'probe': 9312, 'parts': 8690, 'liek': 7103, 'mirv': 7742, 'cold': 2699, 'ship': 10723, 'piggy': 8929, 'backed': 1702, 'probes': 9313, 'namely': 8017, 'planets': 8971, 'tied': 11901, 'mars': 7463, 'relay': 9937, 'powered': 9146, 'propulsion': 9431, 'solar': 10962, 'sail': 10364, 'race': 9628, 'done': 4021, 'autmoated': 1637, 'asteroid': 1532, 'meteor': 7650, 'clouds': 2656, 'reasonf': 9770, 'ro': 10240, 'economoical': 4190, 'send': 10601, 'exploreres': 4675, 'places': 8959, 'cut': 3369, 'costs': 3183, 'fly': 5010, 'bys': 2225, 'shall': 10690, 'sky': 10872, 'ownership': 8588, 'authority': 1635, 'decide': 3496, 'action': 915, 'brick': 2106, 'unilaterally': 12333, 'declare': 3505, 'spraypainting': 11147, 'owner': 8587, 'artistic': 1461, 'applies': 1346, 'bright': 2111, 'street': 11335, 'lights': 7121, 'vandalism': 12519, 'maliciously': 7394, 'waste': 12769, 'light': 7116, 'implies': 6163, 'evil': 4561, 'intent': 6435, 'lighting': 7119, 'aren': 1404, 'spoil': 11132, 'responsibility': 10095, 'customer': 3367, 'efficient': 4231, 'company': 2793, 'sell': 10593, 'letter': 7071, 'hall': 5620, 'note': 8229, 'defending': 3543, 'pollution': 9059, 'orignial': 8521, 'focus': 5018, 'archive': 1394, 'jpeg': 6711, 'modified': 7824, '1993': 217, 'discusses': 3880, 'compression': 2847, 'suggestions': 11450, 'additions': 943, 'clarifications': 2601, 'added': 936, 'imageviewer': 6111, 'sections': 10558, 'stick': 11270, 'compress': 2843, 'images': 6109, 'settings': 10660, '6a': 557, 'canned': 2286, 'viewers': 12634, '6b': 558, 'hoopla': 5902, 'quantization': 9581, 'lossless': 7245, 'formats': 5086, '11': 57, 'recognize': 9804, '12': 69, 'arithmetic': 1421, 'coding': 2682, 'loss': 7243, 'accumulate': 881, 'repeated': 9998, 'decompression': 3518, 'thumb': 11880, 'converting': 3102, 'curious': 3355, 'latest': 6984, 'news': 8140, 'rtfm': 10311, 'mit': 7784, '18': 155, '226': 273, 'fetch': 4863, 'usenet': 12447, 'server': 10647, 'body': 2011, 'articles': 1454, 'instructions': 6405, 'address': 944, 'index': 6247, 'quotes': 9622, 'misreading': 7763, 'return': 10138, 'add': 935, 'myname': 7987, 'mysite': 7992, 'specify': 11077, 'correct': 3153, 'pronounced': 9395, 'jay': 6638, 'peg': 8760, 'standardized': 11193, 'stands': 11197, 'joint': 6693, 'photographic': 8882, 'experts': 4655, 'committee': 2770, 'designed': 3686, 'compressing': 2846, 'full': 5209, 'gray': 5504, 'real': 9748, 'scenes': 10463, 'realistic': 9752, 'cartoons': 2339, 'drawings': 4068, 'nor': 8213, 'motion': 7903, 'committees': 2771, 'jbig': 6640, 'mpeg': 7938, 'respectively': 10086, 'lossy': 7246, 'identical': 6035, 'algorithm': 1111, 'achieves': 898, 'exploiting': 4671, 'limitations': 7136, 'eye': 4713, 'notably': 8227, 'small': 10912, 'details': 3712, 'perceived': 8775, 'dark': 3423, 'thus': 11887, 'plan': 8963, 'analyze': 1215, 'errors': 4487, 'introduced': 6507, 'invisible': 6534, 'property': 9412, 'lossiness': 7244, 'varied': 12534, 'adjusting': 959, 'parameters': 8660, 'maker': 7382, 'trade': 12029, 'size': 10858, 'indexing': 6249, 'archives': 1397, 'thumbnail': 11881, 'views': 12639, 'icons': 6024, 'conversely': 3094, 'default': 3535, 'setting': 10659, 'jack': 6618, 'satisfied': 10418, 'lesser': 7066, 'reasons': 9772, 'smaller': 10913, 'store': 11301, 'win': 12911, 'transmitting': 12079, 'networks': 8116, 'archiving': 1398, 'mbyte': 7530, '100': 37, 'kbytes': 6800, 'transmission': 12075, 'comparing': 2799, 'ratio': 9700, 'four': 5122, 'viewing': 12635, 'manipulating': 7415, 'viewer': 12633, 'decode': 3510, 'simpler': 10816, 'essentially': 4501, 'tradeoff': 12031, 'transmit': 12076, 'cheaply': 2488, 'noting': 8243, 'phone': 8874, 'involved': 6540, 'savings': 10432, 'transferring': 12058, 'shorter': 10740, 'greater': 5510, 'decompress': 3515, 'yourself': 13127, 'gradually': 5473, 'million': 7706, 'colors': 2723, 'fewer': 4868, 'advantage': 989, 'macpaint': 7325, 'furthermore': 5237, 'detailed': 3711, 'section': 10557, 'exchanging': 4596, 'among': 1193, 'hence': 5776, 'considerably': 2983, 'displace': 3911, 'entirely': 4430, 'apply': 1347, 'rule': 10321, 'storing': 11305, 'scanned': 10451, 'photographs': 8883, 'similar': 10807, 'lot': 7248, 'significantly': 10795, 'distinct': 3938, 'areas': 1403, 'pixels': 8954, 'compressed': 2844, 'efficiently': 4232, 'squeeze': 11160, 'introducing': 6509, 'defects': 3538, 'kept': 6814, 'single': 10836, 'borders': 2038, 'cheap': 2486, 'avoided': 1664, 'sharp': 10702, 'edges': 4203, 'row': 10302, 'adjacent': 954, 'blurred': 1996, 'high': 5815, 'shows': 10762, 'fairly': 4752, 'overlaid': 8571, 'blurriness': 1997, 'objectionable': 8314, 'drawn': 4069, 'traced': 12023, 'fall': 4762, 'complexity': 2826, 'complex': 2825, 'subtly': 11423, 'rendered': 9986, 'semi': 10597, 'artwork': 1464, 'fantasy': 4789, 'converted': 3099, 'levels': 7076, 'noted': 8231, 'existing': 4626, 'library': 7091, 'lose': 7239, 'argues': 1412, 'irretrievably': 6576, 'lost': 7247, 'deal': 3467, 'justify': 6775, 'hints': 5839, 'prepared': 9220, 'leave': 7034, 'gifs': 5364, 'darn': 3427, 'sizes': 10860, 'handy': 5645, '727x525': 577, 'harbor': 5663, 'three': 11861, 'comparison': 2800, 'created': 3250, 'described': 3671, 'bytes': 2227, 'ppm': 9150, '1145040': 64, '963829': 660, 'passed': 8697, 'oriented': 8510, 'compressors': 2849, '240438': 286, 'ppmquant': 9151, 'fs': 5193, 'ppmtogif': 9152, 'losing': 7242, 'saves': 10430, 'sec': 10546, 'jpg95': 6728, '155622': 126, '95': 648, 'highest': 5817, 'indistinguishable': 6271, 'nonprofessional': 8205, 'eyeballs': 4714, 'jpg75': 6727, '58009': 513, '75': 581, 'close': 2645, 'distinguish': 3940, 'jpg50': 6725, '38406': 395, '50': 473, 'slight': 10894, 'jpeged': 6715, 'seeing': 10569, 'recent': 9791, 'groups': 5544, 'jpg25': 6723, '25192': 301, 'characteristic': 2469, 'blockiness': 1983, 'becomes': 1808, 'apparent': 1329, 'djpeg': 3969, 'blocksmooth': 1984, 'helps': 5771, 'poorer': 9080, 'jpg5o': 6726, '6587': 542, 'optimize': 8473, 'cuts': 3370, 'table': 11591, 'blocky': 1985, 'satisfactory': 10417, 'preview': 9263, 'tiny': 11925, '173': 148, 'five': 4941, 'comparable': 2795, 'typical': 12214, 'pick': 8912, 'vs': 12711, 'selecting': 10586, 'confusion': 2936, 'claimed': 2594, 'purely': 9529, 'arbitrary': 1382, 'percentage': 8778, 'smallest': 10914, 'decompresses': 3517, 'vary': 12538, 'choice': 2520, 'expecting': 4637, 'begin': 1821, 'degradation': 3562, 'higher': 5816, 'avoid': 1663, 'further': 5236, '85': 613, 'tolerate': 11958, 'range': 9672, 'amusing': 1203, 'op': 8436, 'art': 1449, 'implementations': 6153, 'alchemy': 1099, 'provide': 9462, 'numeric': 8285, 'medium': 7585, 'style': 11389, 'access': 861, 'ftpmail': 5197, 'servers': 10648, 'appears': 1338, 'sending': 10603, 'finding': 4909, 'constantly': 3004, 'copy': 3132, 'check': 2490, 'portable': 9092, 'end': 4359, 'concentrates': 2874, 'shareware': 10699, 'obtain': 8343, 'listed': 7161, 'excellent': 4586, 'conversion': 3095, 'simple': 10814, 'manipulations': 7417, 'export': 4680, 'lcs': 7015, 'contrib': 3072, '00': 0, 'upgrade': 12412, 'displays': 3917, 'improvements': 6189, 'brand': 2083, 'lurking': 7292, 'bleeding': 1970, 'edge': 4201, 'works': 12991, 'caution': 2381, 'glitch': 5391, 'checkbox': 2491, 'saving': 10431, 'blurry': 1998, 'john': 6684, 'cristy': 3279, 'imagemagick': 6106, 'handles': 5640, 'tasks': 11645, 'correctly': 3159, 'colormapped': 2722, 'slower': 10904, 'xloadimage': 13071, 'xli': 13070, 'supports': 11508, 'release': 9939, '03': 15, 'variant': 12531, 'fans': 4787, 'somewhat': 10996, 'faster': 4800, 'robust': 10248, 'respect': 10081, 'ijg': 6073, 'v4': 12502, 'decoder': 3511, 'hacked': 5600, 'v1': 12495, 'ms': 7943, 'dos': 4031, 'covers': 3218, 'os': 8527, 'headings': 5716, 'eric': 4480, 'praetzel': 9164, 'dvpeg': 4132, 'sunee': 11472, 'uwaterloo': 12491, '129': 84, '97': 663, 'dvpeg25': 4133, 'zip': 13154, '386': 396, '486': 458, 'machines': 7321, 'interface': 6459, 'flashy': 4962, 'functional': 5215, 'freeware': 5163, 'mohammad': 7832, 'rezaei': 10178, 'hiview': 5858, 'simtel20': 10821, 'mirror': 7739, 'hv12': 5991, 'cpu': 3229, 'vcpi': 12550, 'compatible': 2804, 'memory': 7609, 'manager': 7401, 'qemm386': 9563, '386max': 397, 'fastest': 4801, 'bigger': 1915, 'larger': 6966, 'scales': 10447, 'scrolling': 10517, 'approach': 1356, 'denying': 3637, 'slows': 10907, 'loading': 7190, 'installation': 6389, 'tricky': 12129, 'directions': 3828, 'alternative': 1154, 'colorview': 2724, '30': 342, 'easier': 4168, 'install': 6388, 'alternatives': 1156, 'spiffier': 11111, 'although': 1157, 'harder': 5667, 'keystrokes': 6820, 'inconsistent': 6227, 'behavior': 1829, 'speed': 11095, 'dcview21': 3458, 'vesa': 12605, 'driver': 4081, 'vesadrv2': 12606, 'tsr': 12168, 'directory': 3833, 'pcs': 8743, 'load': 7188, 'complains': 2818, 'missing': 7773, 'fullview': 5210, 'kicking': 6832, 'location': 7201, 'inferior': 6300, 'author': 1632, 'tells': 11702, 'shortly': 10742, 'submitted': 11405, 'compushow': 2857, 'cshow': 3336, 'revision': 10167, '60a': 526, 'implementation': 6152, 'half': 5619, 'nice': 8160, 'cshw860a': 3337, 'remarkable': 9964, 'variety': 12536, 'favorite': 4813, 'intermediate': 6470, 'targa': 11637, 'vpic5': 12707, 'reputed': 10037, 'converters': 3101, 'ftpable': 5196, 'jpeg4': 6712, 'jpeg4386': 6713, 'extended': 4694, 'compilations': 2812, 'handmade': 5641, 'offers': 8386, 'tools': 11983, 'gif2jpg': 5361, 'jpg2gif': 6724, 'limited': 7137, 'hsi': 5949, 'proprietary': 9430, 'jfif': 6670, 'bbses': 1782, 'prior': 9295, 'versions': 12598, 'gif2jpg2': 5362, 'readable': 9734, 'platforms': 8984, 'manipulation': 7416, 'translate': 12069, 'demo': 3605, 'alch162': 1097, 'key': 6817, 'site': 10846, 'wsmr': 13048, 'army': 1428, '192': 175, '88': 623, '110': 58, '20': 236, 'runs': 10330, 'names': 8018, 'refers': 9862, 'pd1': 8747, 'physically': 8902, 'milnet': 7708, 'transfer': 12056, 'rates': 9695, 'copies': 3129, 'mirrors': 7741, 'users': 12449, 'popular': 9085, 'usa': 12437, 'oak': 8302, 'oakland': 8304, '141': 105, '210': 253, '117': 68, 'keeps': 6805, 'retrieve': 10133, 'comp': 2788, 'announce': 1254, 'outside': 8559, 'consult': 3019, 'newsgroup': 8143, 'nearest': 8062, 'microsoft': 7679, 'displaying': 3916, 'window': 12914, 'entry': 4439, 'winecj': 12919, 'rahul': 9649, 'bryanw': 2147, 'wecj': 12821, 'mode': 7803, 'frills': 5180, 'habit': 5595, 'hogging': 5872, 'decodes': 3513, 'noticeably': 8238, 'previewing': 9264, 'jview': 6777, 'decompressed': 3516, 'bmp': 2000, 'lacks': 6934, 'features': 4830, 'brightness': 2115, 'adjustment': 960, 'cica': 2553, 'indiana': 6252, '79': 592, '84': 610, 'win3': 12912, 'desktop': 3696, 'jview090': 6778, 'including': 6215, 'wuarchive': 13049, 'wustl': 13051, 'winjpeg': 12925, 'tiff': 11904, 'nifty': 8166, 'balance': 1723, 'slideshow': 10893, 'windows3': 12916, 'winjp210': 12924, 'register': 9895, 'roughly': 10293, 'promising': 9384, 'contender': 3036, 'updated': 12410, 'cview097': 3375, 'appearing': 1337, 'authors': 1636, 'finished': 4915, 'heading': 5715, 'hobbes': 5867, 'nmsu': 8182, '128': 80, '123': 73, '35': 373, '151': 121, 'uploads': 12419, 'moderator': 7818, 'moving': 7934, 'permanent': 8803, 'directories': 3831, 'os2': 8528, 'jpegv4': 6720, 'imgarc12': 6125, 'archiver': 1396, '02': 10, 'pm': 9016, 'graphical': 5488, 'strong': 11359, 'functions': 5218, 'weaker': 12804, '15': 116, 'pmjpeg11': 9020, 'pmjpeg': 9019, 'port': 9091, 'description': 3674, 'pmview85': 9024, 'pmview': 9023, 'pcx': 8745, 'macintosh': 7322, 'rely': 9956, 'apple': 1342, 'quicktime': 9611, 'extension': 4696, 'installed': 6390, '68020': 551, 'later': 6983, 'must': 7978, 'quickdraw': 9609, 'dts': 4105, 'hqx': 5944, '92': 643, 'qt': 9569, 'ways': 12798, 'marginally': 7448, 'prone': 9392, 'crash': 3242, 'fed': 4834, 'corrupt': 3168, 'applications': 1344, 'compatibility': 2803, 'pict': 8919, 'mentioned': 7618, 'generate': 5311, 'jpegview': 6721, 'improvement': 6188, 'sumex': 11460, 'aim': 1069, 'stanford': 11198, '36': 382, '44': 439, 'app': 1326, '640x480': 538, '4mb': 467, 'automatically': 1645, 'presenting': 9234, 'scroll': 10516, 'bars': 1756, 'zoom': 13160, 'desired': 3694, 'portion': 9094, 'overall': 8566, 'gifconverter': 5363, '232': 279, 'extensive': 4697, 'capabilities': 2294, 'playing': 8994, 'bet': 1886, 'conjunction': 2950, 'recommended': 9810, 'imagery': 6108, 'v0': 12494, 'definitely': 3555, 'pictpixie': 8921, 'developer': 3736, 'tool': 11980, 'fool': 5041, 'drawbacks': 4066, 'unfriendly': 12324, 'unsupported': 12391, 'minor': 7727, 'intend': 6430, 'pictcompressor': 8920, 'floating': 4992, 'trash': 12094, 'buggier': 2168, 'starter': 11212, 'kit': 6861, 'cleaned': 2617, 'descendant': 3666, 'compressor': 2848, 'storm': 11306, 'technology': 11683, '201': 242, 'downloaded': 4049, 'open': 8439, 'pay': 8733, 'adobe': 972, 'photoshop': 8889, 'plug': 9011, 'acquire': 908, 'menu': 7621, 'aminet': 1187, 'physik': 8907, 'unizh': 12354, 'ch': 2440, '130': 88, '60': 518, '80': 596, 'closest': 2649, 'hamlab': 5628, 'besides': 1883, 'gfx': 5352, 'edit': 4204, 'hamlab208d': 5629, 'lha': 7082, 'crop': 3292, '512x512': 481, 'otherwise': 8538, 'fully': 5211, 'rend24': 9984, 'renderer': 9987, 'ilbm': 6075, 'capturing': 2309, 'rendering': 9988, 'lightwave': 7122, '05': 20, 'os30': 8529, 'rend105': 9983, 'amigados': 1183, '04': 18, 'viewtek': 12640, 'anim': 1238, 'viewtek104': 12641, 'willing': 12905, 'spend': 11102, 'written': 13042, 'thomas': 11844, 'krehbiel': 6901, 'cinemorph': 2559, 'standalone': 11191, 'morphing': 7888, 'imagefx': 6105, 'impressive': 6183, 'editing': 4206, 'painting': 8622, 'prepress': 9223, 'valley': 12510, 'products': 9346, 'professional': 9349, 'adpro': 978, 'asdg': 1471, 'amigas': 1186, 'imagemaster': 6107, 'belt': 1863, 'regarded': 9887, 'compiled': 2814, 'conv': 3087, 'amigajpegv4': 1184, 'heavily': 5745, 'infested': 6302, 'quick': 9608, 'dirty': 3837, 'ancient': 1220, 'beta': 1887, 'test': 11741, 'magazine': 7339, 'notifying': 8242, 'augjpeg': 1621, 'newamyjpeg': 8129, 'vjpeg': 12679, '1992': 216, 'atari': 1558, 'st': 11170, 'tt': 12171, 'umich': 12255, 'jpeg4bin': 6714, 'zoo': 13159, 'monochrome': 7852, 'monitors': 7850, 'mgif': 7661, 'manages': 7402, 'achieve': 894, 'grayscale': 5506, 'flickering': 4982, 'reads': 9745, 'mgif41b': 7662, 'ataris': 1559, 'surely': 11522, 'acorn': 907, 'archimedes': 1391, 'changefsi': 2455, 'supplied': 11501, 'risc': 10221, 'provision': 9468, 'cli': 2628, 'clicking': 2630, 'translator': 12073, 'along': 1140, 'bboards': 1780, 'registering': 9897, 'kortink': 6900, 'nutterbrink': 8294, '31': 354, '7544': 584, 'wj': 12959, 'enschede': 4408, 'netherlands': 8107, 'dutch': 4128, 'guilders': 5572, '22': 266, 'product': 9341, 'provides': 9464, 'functionality': 5216, 'host': 5922, 'options': 8476, 'contact': 3025, 'dt': 4103, 'freepost': 5160, 'cambridge': 2264, 'tel': 11690, '0223': 11, '841099': 612, 'pd': 8746, 'utility': 12468, 'conversions': 3096, 'sonata': 11001, 'cc': 2385, 'purdue': 9527, 'orst': 8524, 'organized': 8505, 'sub': 11392, 'fits': 4939, 'compile': 2813, 'numerous': 8287, 'offerings': 8385, 'popping': 9084, 'recommend': 9808, 'vastly': 12544, 'purchase': 9524, 'assisted': 1516, 'complies': 2828, 'final': 4905, 'earliest': 4157, 'releases': 9941, 'containing': 3029, 'documentation': 3991, 'uu': 12478, '137': 96, '39': 399, '96': 656, 'jpegsrc': 6718, 'uucp': 12480, 'cope': 3127, 'jpegsrc4': 6719, 'compuserve': 2856, 'graphsupport': 5491, 'forum': 5106, 'jpsrc4': 6731, 'appeared': 1336, '55': 498, '72': 572, '34': 370, 'referred': 9860, 'pbmplus': 8739, 'pgm': 8851, 'utah': 12459, 'truevision': 12156, 'core': 3137, 'modules': 7830, 'reused': 10144, 'highly': 5819, 'ranging': 9674, 'crays': 3247, 'released': 9940, 'noncommercial': 8199, 'royalty': 10304, 'acknowledgement': 905, 'literature': 7173, 'readme': 9741, 'distribution': 3948, 'industrial': 6281, 'offer': 8382, 'warranty': 12756, 'liability': 7083, 'volunteer': 12699, 'organization': 8503, 'improving': 6190, 'join': 6689, 'stores': 11303, 'map': 7437, 'representative': 10024, 'misnomer': 7761, 'selection': 10587, 'term': 11720, 'stuck': 11372, 'turns': 12193, 'impact': 6136, 'jpegs': 6717, 'feed': 4838, 'decompressor': 3519, 'thousands': 11855, 'affects': 1017, 'differently': 3792, 'slightly': 10895, 'smeared': 10918, 'nearby': 8061, 'nearly': 8063, 'meaningless': 7556, 'attempted': 1596, 'decoders': 3512, 'roundoff': 10295, 'differences': 3786, 'occasionally': 8351, 'poster': 9117, 'hasn': 5684, 'classified': 2611, 'concept': 2878, 'quantized': 9584, 'definite': 3554, 'palette': 8626, 'entries': 4437, 'sender': 10602, 'precomputes': 9193, 'recipients': 9796, 'disadvantage': 3839, 'quantize': 9583, 'luck': 7278, 'promise': 9381, 'whose': 12881, 'match': 7492, 'precisely': 9190, 'active': 918, 'research': 10054, 'forevermore': 5070, 'mentioning': 7619, 'shoddy': 10733, 'routines': 10300, 'ega': 4236, 'partly': 8687, 'inevitable': 6286, 'consequence': 2976, 'quantizations': 9582, 'sloppiness': 10901, 'quantizers': 9585, 'acceptable': 857, 'displayed': 3915, 'average': 1656, 'resolution': 10068, 'ones': 8423, 'finally': 4906, 'ever': 4550, 'workstations': 12994, 'macintoshes': 7323, 'represent': 10022, 'drive': 4078, 'effectively': 4226, 'representing': 10027, 'fashion': 4798, 'chrominance': 2543, 'subsampling': 11407, 'discrete': 3875, 'cosine': 3174, 'transforms': 12063, 'coefficient': 2683, 'huffman': 5959, 'entropy': 4438, 'truly': 12157, 'guarantees': 5559, 'regular': 9902, 'rid': 10197, 'deliberate': 3583, 'step': 11261, '1x1': 235, 'turn': 12190, 'calculations': 2247, 'maximum': 7524, 'counts': 3203, 'unlikely': 12360, 'concern': 2885, 'minimum': 7721, 'uncompressed': 12282, 'amount': 1198, 'accuracy': 884, 'requiring': 10047, 'storage': 11300, 'component': 2831, 'bilevel': 1919, 'performs': 8790, 'back': 1701, 'covered': 3215, 'patents': 8715, 'strictly': 11348, 'speaking': 11063, 'refer': 9852, 'prevented': 9260, 'defining': 3553, 'turf': 12187, 'wars': 12760, 'international': 6474, 'organizations': 8504, 'exchange': 4594, 'writers': 13037, 'anybody': 1296, 'de': 3462, 'facto': 4736, 'coordinated': 3123, 'cube': 3343, 'microsystems': 7680, 'interchange': 6451, 'transports': 12087, 'aka': 1085, 'aldus': 1101, 'record': 9820, 'everything': 4556, 'prove': 9457, 'transportable': 12083, 'vendors': 12569, 'historically': 5846, 'implemented': 6154, 'incompatible': 6221, 'subsets': 11412, 'mix': 7786, 'improve': 6186, 'adhere': 952, 'adopt': 975, 'replacement': 10007, 'spec': 11066, 'officially': 8392, 'adopted': 976, 'unusably': 12400, 'vague': 12506, 'crucial': 3310, 'supported': 11505, 'denominator': 3629, 'interested': 6455, 'wrapped': 13029, 'straightforward': 11318, 'editor': 4208, 'strip': 11352, 'writing': 13040, 'switch': 11566, 'emit': 4324, 'careful': 2321, 'flamed': 4955, 'alleged': 1127, 'inspecting': 6382, 'characters': 2472, 'hex': 5797, 'ff': 4869, 'd8': 3393, 'e0': 4149, 'variable': 12528, 'raw': 9708, 'decodable': 3509, 'hsi1': 5950, 'properly': 9410, 'hundred': 5976, 'header': 5713, 'scan': 10449, 'lucky': 7280, 'consist': 2990, 'stream': 11332, 'identify': 6037, 'stripping': 11355, 'uuencoded': 12481, 'pattern': 8724, 'm_': 7307, 'c_x': 2235, 'whereas': 12859, 'former': 5089, 'trouble': 12147, 'downloading': 4050, 'defines': 3552, 'percent': 8777, 'numbers': 8284, 'cited': 2580, 'specified': 11076, 'owned': 8586, 'mitsubishi': 7785, 'licenses': 7093, 'doctrine': 3987, 'allows': 1134, 'implement': 6151, 'dubious': 4109, 'worry': 13004, 'potential': 9133, 'legal': 7043, 'hassles': 5685, 'exchanged': 4595, 'chance': 2451, 'stay': 11235, 'tuned': 12181, 'border': 2037, 'recompress': 9812, 'initially': 6343, 'recompressing': 9813, 'altered': 1150, 'loses': 7241, 'changing': 2457, 'accumulation': 883, 'repeatedly': 9999, 'degrade': 3563, 'cycles': 3385, 'optimistic': 8471, 'guaranteed': 5558, 'unmodified': 12365, 'introduce': 6506, 'cropping': 3294, 'block': 1981, 'boundaries': 2060, 'cropped': 3293, 'multiples': 7962, 'safe': 10358, 'bottom': 2054, 'archival': 1393, 'sequences': 10635, 'steps': 11264, 'avoiding': 1665, 'stated': 11220, 'throwing': 11872, 'corresponding': 3166, 'explained': 4660, 'cartoon': 2338, 'sixteen': 10855, 'visual': 12670, 'candidates': 2283, 'chew': 2505, 'originals': 8517, 'twice': 12200, 'straight': 11315, '4th': 470, 'comparisons': 2801, 'constant': 3003, 'boundary': 2061, 'artifacts': 1456, 'ghost': 5354, 'favor': 4811, 'jpeging': 6716, 'automatic': 1644, 'painless': 8618, 'inputs': 6357, 'smoothing': 10928, 'dithered': 3951, 'enlarge': 4398, 'averages': 1657, 'together': 11952, 'illusion': 6090, 'looks': 7226, 'spatial': 11060, 'noise': 8191, 'lower': 7263, 'gotten': 5455, 'smooth': 10926, 'approximating': 1366, 'rapid': 9681, 'reducing': 9847, 'obtaining': 8345, 'handed': 5635, 'require': 10042, 'patterns': 8725, 'enlargement': 4400, 'blur': 1995, 'wizard': 12958, 'filtering': 4902, 'pnmconvol': 9025, 'smoother': 10927, 'upshot': 12426, 'starting': 11214, 'uunet': 12483, 'modelers': 7806, 'sparc': 11055, 'preferably': 9205, 'folks': 5027, 'year': 13102, 'america': 1176, 'generators': 5318, 'thrusters': 11877, 'vehicles': 12560, 'ussr': 12455, 'recall': 9784, 'devices': 3744, 'jpl': 6729, 'pasadena': 8692, 'testing': 11751, 'evaluation': 4541, 'became': 1804, 'controversy': 3085, 'cheated': 2489, 'sold': 10964, 'tamoor': 11622, 'zaidi': 13136, 'lockheed': 7204, 'aircraft': 1075, 'center': 2410, 'norton': 8223, 'afb': 1012, 'bernardino': 1878, 'hallusions': 5624, 'dot': 4033, '3d': 403, 'generates': 5313, 'texas': 11758, 'doubt': 4039, 'giving': 5377, 'virtual': 12659, 'playhouse': 8993, 'powerful': 9147, 'experimentation': 4650, 'davis': 3447, 'nicoll': 8164, 'sez': 10676, 'tubes': 12174, 'tv': 12196, 'radios': 9644, '3x': 411, 'transistors': 12066, 'electric': 4266, 'guitar': 5575, 'enthusiast': 4427, 'amp': 1200, 'tube': 12173, 'distortion': 3943, 'sound': 11017, 'dude': 4112, 'heaters': 5737, 'cathodes': 2368, 'tommy': 11968, 'tom': 11964, 'mcwilliams': 7546, '517': 486, '355': 376, '2178': 263, 'wk': 12960, 'radius': 9646, 'increases': 6236, '18084tm': 156, 'cl': 2592, 'msu': 7947, '336': 367, '9591': 654, 'hm': 5861, 'circumference': 2571, 'mystery': 7996, 'grows': 5550, 'ehum': 4246, 'rosicrucians': 10282, 'sunday': 11470, 'advertised': 995, 'holding': 5876, 'lecture': 7038, 'titled': 11937, 'graal': 5466, 'king': 6854, 'heart': 5730, 'rhymes': 10184, 'swedish': 11556, 'curiosity': 3354, 'apart': 1308, 'woman': 12965, 'men': 7610, 'male': 7390, 'told': 11955, 'lectorium': 7037, 'rosicrucianum': 10283, 'founded': 5117, 'harlem': 5670, 'nl': 8180, '1925': 177, 'piece': 8924, 'lacked': 6932, 'guy': 5587, 'speeches': 11094, 'mystical': 7997, 'base': 1759, 'teachings': 11670, 'kathars': 6796, 'english': 4388, 'thirteenth': 11841, 'century': 2423, 'took': 11979, 'fairy': 4754, 'tale': 11612, 'teller': 11699, 'voice': 12690, 'sounded': 11018, 'crap': 3241, 'unenlightened': 12315, 'suspicious': 11547, 'contained': 3028, 'divinity': 3966, 'couldn': 3187, 'reach': 9724, 'eternal': 4517, 'bliss': 1978, 'talks': 11617, 'chapter': 2465, '_how': 721, 'robotize': 10247, 'brainwash': 2079, 'friends_': 5176, '_prometheus': 744, 'rising_': 10225, 'watch': 12773, 'actual': 925, 'dog': 4001, 'seemed': 10573, 'believer': 1849, 'impression': 6182, 'distance': 3934, 'faith': 4755, 'gain': 5251, 'admiration': 964, 'spoke': 11134, 'whenever': 12857, 'remembered': 9970, 'brochure': 2129, 'ceci': 2397, 'replying': 10013, 'camp': 2270, 'schedules': 10472, 'age': 1036, 'schedule': 10469, 'huntsville': 5982, 'alabama': 1089, 'exhibit': 4617, 'commission': 2766, 'rocket': 10250, 'tranquility': 12052, 'al': 1087, '35807': 378, 'jennifer': 6651, 'honest': 5894, 'velcro': 12564, 'tm': 11942, 'dates': 3437, 'doubts': 4042, 'spin': 11114, 'conner': 2958, 'questioning': 9603, 'blissful': 1979, 'afterlife': 1030, 'joined': 6690, 'church': 2549, 'hyam': 5993, 'maccoby': 7312, '_the': 759, 'mythmaker_': 8001, 'belief': 1844, 'memetic': 7605, 'virus': 12661, 'loudly': 7252, 'proclaiming': 9332, 'beliefs': 1845, 'crossing': 3299, 'firmly': 4929, 'entrenched': 4436, 'memoids': 7606, 'practicing': 9161, 'shut': 10767, 'fuck': 5198, 'politely': 9050, 'motive': 7911, 'conversation': 3092, 'gratifying': 5496, 'wish': 12940, 'spread': 11148, 'word': 12980, 'ultimately': 12249, 'reflects': 9869, 'judgements': 6746, 'contracted': 3059, 'brainwashed': 2080, 'drug': 4093, 'intented': 6436, 'proclamation': 9333, 'someones': 10992, 'parodies': 8672, 'atheistic': 1565, 'paradies': 8649, 'substantiate': 11419, 'outrageous': 8558, 'iup': 6613, 'religions': 9949, 'private': 9300, 'fakult': 4761, 'contain': 3027, 'sarcasm': 10398, 'cycnicism': 3386, 'irony': 6567, 'humor': 5973, 'possibility': 9109, 'confused': 2934, 'thrown': 11873, 'loop': 7230, 'radio': 9641, 'frequencies': 5166, 'morgan': 7878, 'gordon': 5447, 'fat': 4802, 'graph': 5486, 'content': 3038, 'rf': 10179, 'negligible': 8086, 'distances': 3935, 'sun': 11468, '5k': 515, 'allen': 1129, 'astrophysical': 1551, 'quantities': 9579, 'tends': 11718, 'ignore': 6062, '4k': 466, 'brief': 2107, 'dominates': 4016, 'strategy': 11326, 'bursting': 2201, 'weapons': 12812, 'marked': 7455, 'officers': 8390, 'yelling': 13106, 'bust': 2208, 'houses': 5932, 'awe': 1674, 'suspects': 11544, 'submission': 11402, 'surprise': 11527, 'firepowere': 4925, 'gun': 5581, 'fight': 4883, 'knocking': 6881, 'sad': 10354, 'necessity': 8070, 'cases': 2342, 'escape': 4491, 'commonly': 2775, 'merely': 7629, 'substitute': 11420, 'apprehending': 1354, 'potentially': 9134, 'armed': 1426, 'suggest': 11446, 'knock': 6879, 'holstered': 5885, 'arrest': 1440, 'inspect': 6381, 'badges': 1710, 'identiy': 6040, 'faked': 4758, 'competition': 2811, 'deadly': 3465, 'enemies': 4369, 'pretend': 9253, 'cops': 3131, 'murder': 7969, 'paranoid': 8663, 'delusion': 3596, 'enimies': 4391, 'referring': 9861, 'upper': 12421, 'spokesman': 11137, 'sermon': 10642, 'burning': 2197, 'special': 11067, 'master': 7486, 'eloquent': 4300, 'preaching': 9180, 'died': 3777, 'compound': 2837, 'unto': 12397, 'lightened': 7117, 'faces': 4725, 'ashamed': 1472, 'afraid': 1024, 'weekly': 12824, 'delving': 3599, 'language': 6960, 'morals': 7874, 'eating': 4175, 'meat': 7569, 'immoral': 6131, 'differentiate': 3790, 'preference': 9207, 'consensus': 2974, 'positions': 9102, 'brought': 2137, 'societally': 10951, 'mandated': 7406, 'whoever': 12877, 'mc': 7531, 'michael': 7665, 'cobb': 2675, 'raise': 9654, 'taxes': 11653, 'middle': 7683, 'illinois': 6080, 'champaign': 2450, 'urbana': 12430, 'clinton': 2634, 'debate': 3478, 'alexia': 1107, 'lis': 7157, 'uiuc': 12243, 'aesthetics': 1010, 'arrays': 1439, 'contingencies': 3047, 'cells': 2404, 'compared': 2797, 'toa': 11947, 'bother': 2049, 'vandalize': 12520, 'proper': 9409, 'dictionary': 3771, 'malicious': 7393, 'destructuion': 3707, 'especially': 4498, 'beautiful': 1801, 'artisitc': 1459, 'skies': 10866, 'sans': 10393, 'kick': 6831, 'horrors': 5916, 'crusades': 3317, 'inquisition': 6360, 'deny': 3636, 'awesome': 1675, 'twisting': 12203, 'solitary': 10977, 'unreasonable': 12377, 'impacts': 6137, 'absurd': 843, 'scott': 10504, 'paragraph': 8654, 'willingly': 12906, 'amend': 1175, 'statements': 11222, 'accurate': 885, 'slips': 10900, 'hyperbole': 5998, 'objections': 8315, 'feel': 4841, 'posts': 9126, 'maddi': 7330, 'origins': 8520, 'crossposting': 3301, 'argue': 1409, 'stating': 11224, 'listen': 7162, 'task': 11644, 'disprove': 3920, 'mats': 7514, 'apatheist': 1309, 'andtbacka': 1227, 'mercury': 7626, '23': 277, 'km': 6872, 'delta': 3593, 'adiscovery': 953, 'bus': 2203, 'drop': 4087, 'rockets': 10251, 'polar': 9043, 'april': 1371, 'addresses': 946, 'freedom': 5155, 'foundation': 5115, 'darwin': 3428, 'fish': 4935, 'bumper': 2184, 'stickers': 11271, 'assorted': 1522, 'paraphernalia': 8664, 'ffrf': 4870, 'box': 2066, '750': 582, 'madison': 7335, 'wi': 12884, '53701': 494, 'telephone': 11693, '608': 524, '8900': 629, 'designs': 3689, 'symbol': 11571, 'cars': 2336, 'feet': 4846, 'deluxe': 3598, 'moulded': 7916, 'postpaid': 9125, '7119': 568, 'laurel': 6997, 'canyon': 2293, 'north': 8220, 'hollywood': 5882, '91605': 642, 'bay': 1778, 'lynn': 7301, 'gold': 5427, 'mailing': 7363, 'figmo': 4887, 'shirts': 10728, '3065': 352, 'garden': 5275, 'grove': 5545, '92642': 644, 'american': 1177, 'press': 9242, 'aap': 788, 'critiques': 3288, 'lists': 7167, 'biblical': 1909, 'contradictions': 3065, 'foote': 5047, '372': 391, 'pp': 9149, '910309': 640, '26': 310, '2nd': 341, 'edition': 4207, '1986': 210, 'absurdities': 844, 'atrocities': 1588, 'immoralities': 6132, 'james': 6629, '140195': 104, 'austin': 1628, 'tx': 12208, '78714': 590, '0195': 9, '7215': 573, 'cameron': 2268, '78752': 591, '2973': 334, '512': 480, '458': 444, '1244': 75, 'fax': 4817, '467': 448, '9525': 651, 'prometheus': 9380, 'haught': 5693, 'holy': 5886, '700': 562, 'east': 4171, 'amherst': 1180, 'buffalo': 2162, 'york': 13120, '14215': 108, '716': 570, '837': 609, '2475': 289, 'alternate': 1152, '59': 514, 'glenn': 5389, 'ny': 8297, '14228': 110, '2197': 264, 'african': 1026, 'americans': 1178, 'humanism': 5966, 'promoting': 9388, 'secular': 10560, 'uncovering': 12287, 'freethought': 5162, 'quarterly': 9589, 'newsletter': 8145, 'aah': 786, 'examiner': 4580, 'norm': 8215, 'jr': 6732, '664': 544, '14226': 109, 'united': 12343, 'kingdom': 6855, 'rationalist': 9704, 'association': 1521, 'national': 8033, 'islington': 6586, '702': 564, 'holloway': 5881, 'london': 7216, 'n1': 8005, '8ew': 632, 'n19': 8006, '3nl': 408, '071': 27, '7251': 574, '272': 321, '1266': 78, 'british': 2124, 'humanist': 5967, 'south': 11024, 'ethical': 4522, 'lamb': 6944, 'conduit': 2910, 'passage': 8695, 'conway': 3113, 'wc1r': 12799, '4rh': 468, 'lion': 7151, 'square': 11158, '430': 432, '0908': 32, '4rl': 469, '1271': 79, '831': 608, '7723': 587, 'freethinker': 5161, 'monthly': 7861, '1881': 167, 'germany': 5343, 'ibka': 6017, 'internationaler': 6475, 'bund': 2186, 'der': 3658, 'konfessionslosen': 6894, 'und': 12289, 'atheisten': 1564, 'postfach': 9119, '880': 624, '1000': 38, 'berlin': 1876, '41': 422, 'journal': 6705, 'miz': 7791, 'materialien': 7497, 'informationen': 6324, 'zur': 13161, 'zeit': 13145, 'politisches': 9056, 'konfessionslosesn': 6895, 'hrsg': 5945, 'vertrieb': 12603, 'ibdk': 6016, 'ucherdienst': 12228, '3005': 345, '3000': 344, 'hannover': 5651, '0511': 21, '211216': 255, 'fiction': 4873, 'disch': 3855, 'claus': 2615, 'ultimate': 12248, 'fictitious': 4875, 'similarity': 10809, 'uh': 12239, 'walter': 12735, 'miller': 7703, 'canticle': 2291, 'leibowitz': 7055, 'gem': 5298, 'atomic': 1582, 'doomsday': 4024, 'novel': 8250, 'monks': 7851, 'spent': 11104, 'copying': 3133, 'blueprints': 1992, 'saint': 10366, 'filling': 4897, 'sheets': 10708, 'ink': 6347, 'leaving': 7036, 'letters': 7072, 'edgar': 4200, 'pangborn': 8637, 'davy': 3448, 'clerical': 2624, 'states': 11223, 'forbids': 5053, 'substance': 11416, 'atoms': 1583, 'philip': 8862, 'dick': 3768, 'philosophical': 8870, 'provoking': 9471, 'stories': 11304, 'novels': 8252, 'bizarre': 1954, 'approachable': 1357, 'truth': 12162, 'remained': 9960, 'sceptical': 10464, 'amongst': 1194, 'relevance': 9943, 'galactic': 5253, 'pot': 9131, 'healer': 5722, 'fallible': 4768, 'alien': 1117, 'deity': 3569, 'summons': 11466, 'craftsmen': 3238, 'remote': 9976, 'giant': 5357, 'cathedral': 2367, 'beneath': 1865, 'begins': 1825, 'demand': 3601, 'earthers': 4163, 'joe': 6680, 'fernwright': 4858, 'comply': 2830, 'polished': 9048, 'ironic': 6566, 'maze': 7529, 'noteworthy': 8234, 'valis': 12509, 'schizophrenic': 10476, 'hero': 5790, 'searches': 10536, 'hidden': 5807, 'mysteries': 7993, 'gnostic': 5406, 'fired': 4924, 'brain': 2077, 'pink': 8941, 'laser': 6974, 'beam': 1790, 'unknown': 12356, 'origin': 8513, 'accompanied': 869, 'dogmatic': 4003, 'dismissively': 3903, 'invasion': 6516, 'invades': 6512, 'pregnant': 9212, 'returns': 10141, 'star': 11200, 'terminally': 11722, 'wired': 12932, 'hour': 5928, 'listening': 7164, 'music': 7975, 'margaret': 7446, 'atwood': 1615, 'handmaid': 5642, 'premise': 9216, 'congress': 2942, 'mysteriously': 7995, 'assassinated': 1495, 'fundamentalists': 5222, 'quickly': 9610, 'charge': 2473, 'diary': 3764, 'tries': 12131, 'theocracy': 11795, 'revoked': 10171, 'bank': 1742, 'accounts': 879, 'closed': 2646, 'sinful': 10833, 'luxuries': 7297, 'outlawed': 8552, 'readings': 9740, 'crimes': 3275, 'punished': 9518, 'retroactively': 10135, 'doctors': 3985, 'performed': 8788, 'abortions': 819, 'hunted': 5980, 'hanged': 5647, 'chilling': 2513, 'dull': 4116, 'rambling': 9661, 'criticized': 3285, 'fuss': 5240, 'peter': 8844, 'rosa': 10275, 'vicars': 12618, 'christ': 2530, 'bantam': 1746, '1988': 212, 'catholic': 2369, 'enlighting': 4401, 'papal': 8640, 'adulteries': 981, 'fallacies': 4763, 'german': 5342, 'translation': 12071, 'gottes': 5456, 'erste': 4489, 'diener': 3779, 'die': 3776, 'dunkle': 4122, 'seite': 10581, 'des': 3663, 'papsttums': 8645, 'droemer': 4085, 'knaur': 6874, '1989': 213, 'martin': 7466, 'justification': 6774, 'temple': 11708, 'philadelphia': 8861, 'scholarly': 10479, 'outstanding': 8561, 'appendix': 1340, 'terminology': 11724, 'tendentious': 11716, 'negative': 8080, 'existence': 4624, 'positive': 9103, 'refutations': 9882, 'challenging': 2448, 'attention': 1599, 'paid': 8613, 'refuting': 9885, 'contempory': 3034, 'platinga': 8985, 'swinburne': 11563, '541': 496, 'pages': 8611, '87722': 621, '642': 539, 'hardcover': 5665, 'paperback': 8642, 'comprehensive': 2842, 'critique': 3286, 'considers': 2988, 'contemporary': 3033, 'defences': 3540, 'demonstrates': 3614, 'unsupportable': 12390, 'incoherent': 6219, '273': 322, '767': 585, 'turner': 12192, 'creed': 3269, 'johns': 6687, 'hopkins': 5909, 'baltimore': 1731, 'md': 7547, 'subtitled': 11422, 'unbelief': 12267, 'examines': 4581, 'agnostic': 1047, 'mainstream': 7369, 'focusses': 5021, '1770': 152, '1900': 172, 'britain': 2123, 'emphasis': 4332, 'england': 4387, 'developments': 3740, 'secularization': 10561, 'intellectual': 6425, 'fate': 4803, '316': 356, '8018': 599, '2494': 292, '3407': 371, 'seldes': 10582, 'ballantine': 1725, 'quotations': 9619, 'concentrating': 2875, 'writings': 13041, 'implicitly': 6161, 'philosophy': 8873, 'obscure': 8325, 'suppressed': 11514, 'traces': 12024, 'expressed': 4689, 'twisted': 12202, 'centuries': 2422, 'derived': 3661, 'cardiff': 2316, 'noyes': 8258, '490': 461, '345': 372, '29887': 336, 'revised': 10166, 'clarendon': 2599, 'paperbacks': 8643, 'oxford': 8590, 'trilogy': 12134, 'began': 1819, 'coherence': 2691, 'theism': 11784, '1977': 201, 'concluded': 2893, '1981': 205, 'construct': 3013, 'inductive': 6280, 'upon': 12420, 'imputation': 6194, 'late': 6981, '20th': 251, 'conceived': 2872, 'decisively': 3503, 'rejected': 9913, 'mackie': 7324, 'miracle': 7735, 'rebut': 9782, 'posthumous': 9120, 'review': 10161, 'principal': 9286, 'ranges': 9673, 'classical': 2610, 'descartes': 3664, 'anselm': 1270, 'hume': 5971, 'et': 4514, 'newman': 8139, 'kant': 6788, 'sidgwick': 10780, 'restatements': 10100, 'theses': 11820, 'plantinga': 8978, 'push': 9541, 'realm': 9759, 'kierkegaard': 6836, 'kung': 6916, 'philips': 8864, 'replacements': 10008, 'lelie': 7056, 'axiarchism': 1681, 'delight': 3587, 'formalistic': 5083, 'refreshingly': 9875, 'waving': 12795, 'illustrated': 6095, 'madness': 7336, 'catalog': 2355, 'card': 2315, '89': 627, '64079': 537, 'anthology': 1281, 'listing': 7165, 'stein': 11253, 'rationalism': 9703, 'covering': 3217, 'wide': 12888, 'subjects': 11401, 'devil': 3745, 'bibliography': 1911, 'edmund': 4211, 'cohen': 2690, 'study': 11378, 'smith': 10922, 'describes': 3672, 'agnosticism': 1048, 'reviews': 10164, 'concludes': 2894, 'assessment': 1508, 'mantis': 7428, 'co': 2669, 'carries': 2333, 'moderated': 7814, 'posses': 9105, 'goods': 5438, 'lance': 6952, 'feasability': 4826, 'retrieving': 10134, 'hst': 5951, 'relaunching': 9935, 'speculation': 11090, 'engaged': 4380, 'consideration': 2984, 'cradle': 3235, 'cargo': 2325, 'deployed': 3650, 'items': 6607, 'antennas': 1280, 'arays': 1381, 'retractable': 10129, 'stowed': 11314, 'astronauts': 1545, 'yield': 13116, 'panels': 8636, 'stresses': 11341, 'landing': 6955, 'loads': 7191, 'optics': 8469, 'reentry': 9851, 'moveable': 7927, 'optical': 8468, 'components': 2832, 'caged': 2244, 'corvin': 3172, 'zwork': 13163, 'starfighter': 11204, 'den': 3620, 'mmc': 7794, 'gn': 5405, 'marietta': 7450, 'astronautics': 1544, 'malcolm': 7389, 'employing': 4341, 'force': 5055, 'obliged': 8324, 'preservation': 9237, 'bear': 1792, 'consequences': 2977, 'intents': 6441, 'tag': 11601, 'delete': 3578, 'trips': 12137, 'round': 10294, 'notice': 8236, 'preserve': 9238, 'pacifism': 8598, 'concede': 2869, 'strongly': 11361, 'rephrasing': 10004, 'distinction': 3939, 'pacifist': 8599, 'decided': 3497, 'conflict': 2930, 'prescribe': 9228, 'indicator': 6262, 'confuse': 2933, 'somtimes': 10998, 'doublespeak': 4038, 'motivates': 7907, 'pacifists': 8600, 'formulate': 5096, 'pragmatic': 9165, 'tending': 11717, 'minimise': 7719, 'neat': 8064, 'explain': 4657, 'collecting': 2708, 'coins': 2696, 'stamps': 11189, 'campaign': 2271, 'buttons': 2216, 'coke': 2697, 'bottles': 2053, 'juke': 6753, 'boxes': 2067, 'trains': 12047, 'collected': 2707, 'aberration': 801, 'purpose': 9535, 'collector': 2712, 'yearns': 13103, 'trading': 12032, 'selling': 10594, 'historical': 5845, 'thingy': 11835, 'rarity': 9687, 'collections': 2710, 'state': 11219, 'collection': 2709, 'diminishes': 3814, 'suffer': 11440, 'exposure': 4687, 'enhance': 4389, 'enjoyment': 4394, 'collect': 2706, 'oops': 8434, 'message': 7638, 'granted': 5484, 'gift': 5365, 'killed': 6838, 'alone': 1139, 'worthy': 13016, 'judge': 6743, 'jury': 6769, 'executioner': 4611, 'duties': 4129, 'wants': 12742, 'impose': 6173, 'creator': 3262, 'whats': 12851, 'play': 8988, 'spoiled': 11133, 'naw': 8049, 'misunderstanding': 7782, 'transcendental': 12054, 'buddhists': 2159, 'empirical': 4337, 'buddhism': 2157, 'revise': 10165, 'tune': 12180, 'notebook': 8230, 'vga': 12609, 'morning': 7884, 'flicker': 4981, 'surge': 11525, 'protector': 9445, 'peripherals': 8799, 'stopped': 11297, 'minutes': 7733, 'returned': 10139, 'dim': 3808, 'blank': 1965, 'contrast': 3070, 'slider': 10890, 'adjust': 956, 'faintly': 4750, 'absolutely': 835, 'plugged': 9012, 'battery': 1774, 'tried': 12130, 'switching': 11567, 'saver': 10429, 'avail': 1650, 'oh': 8398, 'ought': 8539, 'specifics': 11075, 'compudyne': 2853, 'reputable': 10035, '386sx': 398, 'mhz': 7663, 'ticked': 11895, 'coming': 2748, 'opposed': 8459, 'mike': 7693, 'mik': 7692, 'uky': 12245, 'checking': 2493, '1993apr21': 218, '231552': 278, '24869': 290, 'organpipe': 8506, 'uug': 12482, 'arizona': 1422, 'guilty': 5574, 'personality': 8828, 'universal': 12346, 'guilt': 5573, 'feeling': 4842, 'brian': 2105, 'secret': 10552, 'mistakes': 7781, 'regret': 9900, 'hanging': 5648, 'shoulder': 10750, 'sensation': 10606, 'hold': 5874, 'candle': 2284, 'pain': 8614, 'fill': 4895, 'entire': 4429, 'hurt': 5986, 'burn': 2195, 'nerves': 8103, 'feels': 4844, 'alarm': 1092, 'informing': 6327, 'fever': 4866, 'emotional': 4329, 'spiritual': 11123, 'soul': 11014, 'frankly': 5146, 'hinder': 5831, 'healthy': 5724, 'inspiring': 6386, 'knew': 6877, 'liked': 7124, 'dropping': 4089, 'cid': 2555, 'lsd': 7272, 'wife': 12898, 'risk': 10226, 'birth': 1945, 'sex': 10674, 'convice': 3106, 'partners': 8689, 'decade': 3484, 'marriage': 7460, 'sneeze': 10936, 'meant': 7559, 'subscribe': 11408, 'notion': 8244, 'shake': 10688, 'shoulders': 10751, 'relaxed': 9936, 'killers': 6840, 'shortness': 10743, 'breath': 2097, 'wonderful': 12972, 'applied': 1345, 'independently': 6246, 'outer': 8550, 'scattered': 10458, 'dimensional': 3811, 'seldom': 10583, 'uranus': 12429, 'neptune': 8098, 'interplanetary': 6478, 'trajectories': 12049, 'voyagers': 12705, 'exploited': 4670, 'lineup': 7145, 'voyager': 12704, 'route': 10297, 'sails': 10365, 'request': 10039, 'neo': 8096, 'asteroids': 1533, 'mistake': 7778, 'messages': 7639, 'harry': 5680, 'osoff': 8531, 'shouldn': 10752, 'proceeding': 9322, 'obfuscation': 8309, 'accused': 890, 'preceeded': 9188, 'regard': 9886, 'twelve': 12198, 'imams': 6122, 'khomeini': 6826, 'infalibility': 6290, 'hearing': 5729, 'seemingly': 10574, 'withdrawn': 12947, 'received': 9788, '_no_': 738, 'infallibility': 6291, 'obfuscationist': 8310, 'claims': 2597, 'abstruse': 842, 'unusual': 12401, 'metaphysical': 7649, 'natures': 8044, 'concepts': 2881, 'camoflage': 2269, 'baselessness': 1762, 'theology': 11797, 'sorts': 11012, 'churches': 2550, 'perverting': 8841, 'alaikum': 1090, 'wassalam': 12767, 'fascinating': 4797, 'skepticism': 10865, 'ignorant': 6061, 'savages': 10426, 'influenced': 6312, 'constitution': 3010, 'stole': 11288, 'continent': 3044, 'dismiss': 3899, 'scholarship': 10481, 'mid': 7682, '1700s': 146, 'indians': 6253, 'invited': 6536, 'deliberations': 3586, 'founding': 5119, 'fathers': 4807, 'binding': 1932, 'iroquois': 6568, 'confederacy': 2914, 'arguably': 1408, '1754': 151, 'albany': 1095, 'union': 12338, 'confederation': 2916, 'absent': 833, 'school': 10483, 'surprising': 11529, 'devotion': 3752, 'myth': 7999, 'gathered': 5285, 'withstood': 12953, 'revealed': 10148, 'blow': 1987, 'psyche': 9484, 'creat': 3248, 'forty': 5105, 'members': 7603, 'grand': 5482, 'council': 3188, 'advisors': 1004, 'confederate': 2915, 'structures': 11366, 'benjamin': 1872, 'franklin': 5144, 'freely': 5158, 'acknowledged': 904, 'achievement': 896, 'speech': 11093, 'six': 10854, 'nations': 8034, 'sic': 10771, 'execute': 4608, 'manner': 7421, 'subsisted': 11415, 'ages': 1040, 'indissoluble': 6270, 'impractical': 6178, 'ten': 11713, 'dozen': 4053, 'colonies': 2718, 'grinde': 5532, 'convened': 3088, 'meetings': 7589, 'chiefs': 2508, 'congressional': 2943, 'delegates': 3576, 'hammer': 5630, 'acknowedged': 902, 'professor': 9351, 'donald': 4018, 'riverside': 10233, 'nation_': 8032, 'um': 12253, 'detachable': 3708, 'retunr': 10137, 'walk': 12726, 'canadarm': 2278, 'remove': 9979, 'bobbe': 2005, 'vice': 12619, 'robert': 10245, 'beauchaine': 1800, '6086': 525, '323': 359, 'lp': 7269, 'yayg': 13098, 'pontificated': 9075, 'swearing': 11554, 'aligance': 1119, 'existant': 4622, 'deliberatily': 3585, 'dense': 3632, 'nonbelievers': 8197, 'followers': 5030, 'swear': 11553, 'allah': 1122, 'budda': 2156, 'assert': 1501, 'nonexistence': 8202, 'outcome': 8546, 'adam': 928, 'nickname': 8163, 'cooper': 3119, 'steve': 11268, 'refreshing': 9874, 'accuse': 889, 'evidence': 4559, 'garnered': 5278, 'conviction': 3107, 'fundy': 5227, 'fundamentalist': 5221, 'messiah': 7641, 'plead': 8998, 'roman': 10263, 'circus': 2577, 'lions': 7153, 'emperor': 4331, 'gruelling': 5552, 'struggle': 11368, 'sensed': 10609, 'crowd': 3304, 'tiring': 11929, 'gave': 5289, 'thumbs': 11882, 'david': 3443, 'urge': 12431, 'examine': 4578, 'mistakenly': 7780, 'defense': 3544, 'agreement': 1054, 'davidian': 3444, 'hung': 5978, 'aspect': 1489, 'tragic': 12041, 'hillary': 5824, 'molesting': 7841, 'infants': 6296, 'allegations': 1126, 'jurisdiction': 6766, 'local': 7198, 'thoroughly': 11847, 'reviewed': 10162, 'authorities': 1634, 'successful': 11428, 'levied': 7077, 'presumed': 9250, 'proven': 9459, 'suppposed': 11513, 'demonized': 3610, 'propa': 9402, 'gandized': 5267, 'lustful': 7293, 'beast': 1795, 'deserving': 3681, 'fates': 4804, 'bring': 2118, 'trickles': 12127, 'twenty': 12199, 'building': 2172, 'siege': 10782, 'examined': 4579, 'physical': 8901, 'sexual': 10675, 'abuse': 846, 'deguerin': 3567, 'attorneys': 1606, 'conflagration': 2929, 'reported': 10015, 'adjusted': 958, 'showed': 10758, 'sign': 10788, 'unimportant': 12336, 'benevolent': 1870, 'wise': 12938, 'merciful': 7625, 'withhold': 12948, 'defer': 3545, 'meanwhile': 7561, 'clean': 2616, 'happening': 5658, 'inalienable': 6199, 'rights': 10213, 'serves': 10649, 'gaut': 5288, 'psycho': 9487, 'analyst': 1214, 'drivers': 4082, 'provided': 9463, 'mine': 7716, 'connection': 2956, 'online': 8425, 'vatican': 12545, 'newgroup': 8136, 'cant': 2290, 'rtrace': 10312, 'inaccessible': 6197, 'upload': 12417, 'animated': 1241, 'film': 4899, 'methodes': 7655, 'loom': 7228, 'cloth': 2651, 'faceted': 4727, 'geometry': 5338, 'forward': 5108, 'rick': 10193, 'boykin': 2070, 'rboykin': 9719, 'cscsparc': 3333, 'larc': 6963, 'sciences': 10489, 'corporation': 3150, 'hampton': 5631, 'va': 12503, 'arachnid': 1379, 'marshall': 7464, 'frank': 5143, 'd012s658': 3392, 'dwyer': 4139, 'undefined': 12291, 'undefinable': 12290, 'innately': 6349, 'subjectivism': 11399, 'ditto': 3954, 'evaluative': 4542, 'perceptive': 8782, 'prof': 9347, 'flew': 4976, 'arguing': 1413, 'objectivist': 8318, 'winds': 12917, 'subjectivist': 11400, 'nihilists': 8171, 'revolution': 10172, 'ditch': 3949, 'strawman': 11329, 'root': 10273, 'societal': 10950, 'deceleration': 3492, 'chemical': 2498, 'chemically': 2499, 'headache': 5712, 'seriously': 10641, 'cruising': 3316, 'velocities': 12565, 'velocity': 12566, 'zero': 13148, 'fuels': 5204, 'suitable': 11455, 'acceleration': 853, 'anywhere': 1303, 'speak': 11061, 'planning': 8974, 'canadian': 2279, 'project': 9374, 'honorary': 5897, 'title': 11936, 'cssp': 3341, 'dormant': 4029, 'apr': 1370, '93': 645, 'student': 11373, 'tragically': 12042, 'taxpayers': 11656, 'desirable': 3691, 'altitude': 1158, 'occasional': 8350, 'reboosting': 9777, 'reenter': 9850, 'opportunity': 8457, 'visit': 12666, 'pushing': 9544, 'gay': 5290, 'agenda': 1038, 'phrasing': 8896, 'extreme': 4707, 'minority': 7729, 'ugly': 12238, 'complain': 2816, 'insist': 6377, 'selfish': 10591, '_without_': 772, 'legislation': 7050, 'somehow': 10990, 'shoving': 10756, 'contest': 3042, 'infini': 6304, 'amazing': 1170, 'bevel': 1894, 'timeline': 11913, 'sequencer': 10634, 'realtime': 9762, 'bounding': 2062, 'linking': 7148, 'phong': 8876, 'shading': 10684, 'tracing': 12025, 'wireframe': 12933, 'ghourad': 5356, 'flat': 4963, 'aliasing': 1116, 'maps': 7442, 'wrap': 13028, 'movie': 7932, 'procedural': 9317, 'surfaces': 11524, 'composed': 2834, 'layering': 7007, 'alpha': 1142, 'channel': 2458, 'eps': 4458, 'dxf': 4142, 'swivel': 11568, 'spline': 11128, 'assistant': 1513, 'creating': 3254, 'movements': 7930, 'bevels': 1895, 'morph': 7887, '699': 556, 'macwarehouse': 7328, 'educational': 4218, 'discounts': 3867, 'vrrend386': 12710, 'raoul': 9679, 'false': 4772, 'shot': 10745, 'flames': 4956, 'matthew': 7518, 'deceives': 3491, 'deceive': 3489, 'christs': 2539, 'prophets': 9418, 'signs': 10797, 'miracles': 7736, 'elect': 4262, 'ahead': 1063, 'peace': 8751, 'condolences': 2907, 'families': 4777, 'waco': 12716, 'lee': 7040, 'correction': 3156, 'kaliningrad': 6786, 'larrison': 6968, 'moscow': 7892, 'podlipk': 9030, 'zvezdny': 13162, 'gorodok': 5449, 'cosmonaut': 3178, 'training': 12046, 'tsniimach': 12167, 'central': 2418, 'scientific': 10490, 'institute': 6399, 'est': 4503, '1961': 190, 'enterprise': 4421, 'responsible': 10096, 'nkik': 8179, 'ground': 5541, 'measurement': 7565, 'flight': 4985, 'soviet': 11028, 'spaceflights': 11036, 'completion': 2823, '1973': 198, 'ministry': 7724, 'military': 7698, 'mcelwaine': 7538, 'physicist': 8903, 'ninety': 8173, 'heavier': 5744, 'violate': 12651, 'laws': 7001, 'simon': 10813, 'newcomb': 8133, 'declared': 3506, '1901': 173, 'combination': 2730, 'substances': 11417, 'machinery': 7320, 'writer': 13036, 'complete': 2820, 'fortunately': 5104, 'smart': 10915, 'wright': 13033, 'brothers': 2136, 'pronouncements': 9396, 'airplanes': 1082, 'orthodox': 8525, 'physicists': 8904, 'scientists': 10492, 'technologies': 11682, 'pseudo': 9480, 'perpetual': 8813, 'citing': 2581, 'destroyed': 3703, 'thermodynamics': 11817, 'decrease': 3521, 'arrogantly': 1446, 'impotence': 6177, 'modern': 7819, 'cover': 3213, 'inconsistencies': 6225, 'inventions': 6520, 'tap': 11631, 'unlimited': 12361, 'universe': 12348, 'fuel': 5201, 'crisis': 3278, 'associated': 1519, 'depletion': 3648, 'induction': 6279, 'wind': 12913, 'capacity': 2299, 'dis': 3838, 'blocked': 1982, 'trees': 12110, 'buildings': 2173, 'haze': 5708, 'smog': 10924, 'thick': 11826, 'altitudes': 1159, 'latitudes': 6987, 'existent': 4625, '811': 604, '058': 22, '879': 622, '622': 532, '431': 435, 'awarded': 1669, 'exclusively': 4601, 'magnets': 7352, 'tapping': 11634, 'circulating': 2569, 'magnetic': 7349, 'third': 11840, 'mechanics': 7574, 'spring': 11153, '1980': 204, 'magnet': 7348, 'motor': 7913, 'jorma': 6699, 'hyypia': 6007, '45': 441, '114': 63, 'critical': 3282, 'shapes': 10696, 'orientations': 8509, 'spacings': 11051, 'generator': 5317, 'reversible': 10159, 'heatpump': 5740, 'descriptive': 3676, 'patent': 8711, '2021': 244, 'jefferson': 6646, 'hwy': 5992, 'arlington': 1425, '22202': 268, 'digit': 3802, 'inter': 6443, 'loan': 7192, 'dept': 3656, 'device': 3743, '890': 628, '548': 497, 'tesla': 11740, 'coil': 2693, 'inventor': 6521, 'joseph': 6701, '571': 506, 'taps': 11635, 'electro': 4270, 'harmonics': 5676, 'typically': 12215, 'spark': 11059, 'gap': 5271, 'circuit': 2564, 'synchronize': 11578, 'coils': 2694, 'tapped': 11633, 'inductance': 6278, 'capacitance': 2297, 'resonate': 10075, 'maximize': 7521, 'centering': 2413, 'neutral': 8123, 'slipping': 10899, 'toroid': 11994, 'choke': 2522, 'secondary': 10549, 'fuelless': 5203, 'bigelow': 1914, '1976': 200, 'health': 5723, 'mokelumne': 7835, 'hill': 5823, '95245': 650, '1930': 179, 'austrian': 1631, 'civil': 2584, 'engineer': 4383, 'viktor': 12646, 'schauberger': 10468, 'invented': 6518, 'partially': 8679, 'implosion': 6165, 'turbine': 12182, 'zokwendle': 13157, 'analyzing': 1217, 'erosion': 4482, 'waterways': 12780, 'developing': 3738, 'sophisticated': 11005, 'mathematical': 7503, 'equations': 4465, 'breakthrough': 2095, 'davidson': 3446, 'pumped': 9512, 'impeller': 6140, 'pump': 9511, 'logarithmic': 7207, 'spiral': 11119, 'tubing': 12175, 'reaches': 9727, 'implodes': 6164, 'touching': 12009, 'walls': 12733, 'drives': 4083, 'converts': 3103, 'rotation': 10288, 'coriolis': 3141, 'tornado': 11993, 'neutralize': 8124, 'gravity': 5503, 'fourth': 5123, 'mcclintock': 7534, '982': 668, '261': 312, 'cross': 3295, 'diesel': 3781, 'engine': 4382, 'cylinders': 3389, '27': 318, 'rotary': 10285, 'planetary': 8969, 'gears': 5294, 'driving': 4084, 'torque': 11996, 'trucks': 12150, 'preventing': 9261, 'slowing': 10905, 'climbing': 2633, 'hills': 5825, 'differential': 3788, 'wheel': 12853, 'crystals': 3329, 'someday': 10989, 'trek': 12112, 'inserting': 6370, 'capacitor': 2298, 'plates': 8982, 'bombarding': 2018, 'particles': 8682, 'radioactive': 9642, 'household': 5931, 'smoke': 10925, 'detector': 3717, 'bulgarian': 2177, 'born': 2041, 'maglich': 7346, 'fusion': 5239, 'reactor': 9732, 'calls': 2257, 'migma': 7691, 'deuterium': 3730, 'sea': 10527, 'wasting': 12772, 'steam': 11247, 'turbines': 12183, 'constructed': 3014, 'house': 5930, 'tokamaks': 11953, 'monstrosities': 7857, 'producing': 9340, 'watts': 12784, 'watt': 12783, '78': 589, 'experiments': 4652, 'conducted': 2908, 'researchers': 10057, 'pons': 9074, 'fleischmann': 4972, 'china': 2514, 'lake': 6941, 'naval': 8046, 'direction': 3825, 'chemist': 2501, 'melvin': 7601, 'miles': 7697, 'bubbles': 2152, 'apparatus': 1327, 'analyzed': 1216, 'spectrometry': 11085, 'helium': 5760, 'proves': 9461, 'excess': 4592, 'indications': 6260, 'dewey': 3756, 'larson': 6970, 'unified': 12328, 'theory': 11803, 'reciprocal': 9797, '1979': 203, '1984': 208, 'halves': 5626, 'continuous': 3054, 'passing': 8701, 'predicted': 9197, 'thermodynamic': 11816, 'explains': 4662, 'phenomena': 8857, 'astronomers': 1547, 'scratching': 10506, 'heads': 5719, 'flow': 4998, 'sant': 10394, 'mat': 7491, 'eckankar': 4181, 'teach': 11666, 'parallel': 8656, 'universes': 12349, 'analogous': 1209, 'channels': 2459, 'masters': 7488, 'dr': 4057, 'julian': 6756, 'johnson': 6688, '1939': 182, 'worlds': 12997, 'sri': 11162, 'twitchell': 12204, '1969': 195, 'astral': 1535, 'plane': 8965, 'learned': 7028, 'travel': 12095, 'report': 10014, 'conditions': 2906, 'configuration': 2924, 'laboratory': 6926, 'kinesis': 6853, 'throughout': 11870, 'psychic': 9486, 'discoveries': 3872, 'iron': 6563, 'curtain': 3363, 'economics': 4189, 'failed': 4744, 'inventors': 6522, 'develop': 3733, 'conventional': 3091, 'producer': 9337, 'desire': 3692, 'ted': 11685, 'intere': 6453, 'intervene': 6494, 'continue': 3051, 'decline': 3508, 'soon': 11003, 'prices': 9271, 'increase': 6234, 'harmful': 5673, 'greenhouse': 5518, 'acid': 901, 'rain': 9653, 'contamination': 3031, 'oil': 8400, 'spills': 11113, 'rape': 9680, 'land': 6953, 'mining': 7722, 'subsidize': 11414, 'universities': 12350, 'production': 9342, 'producers': 9338, 'consumption': 3024, 'income': 6220, 'consumers': 3023, 'intervention': 6496, 'profound': 9358, 'quantity': 9580, 'demanded': 3602, 'coal': 2670, 'companie': 2790, 'countries': 3201, 'utilitie': 12466, 'forcing': 5059, 'employees': 4339, 'seek': 10570, 'uranium': 12428, 'supplies': 11502, 'vcr': 12551, 'computers': 2862, 'paying': 8734, 'bills': 1926, 'buying': 2219, 'heating': 5739, 'tourism': 12012, 'travelers': 12096, 'gasoline': 5281, 'tax': 11652, 'revenue': 10154, 'obtained': 8344, 'ecosystems': 4191, 'un': 12257, 'reproduction': 10032, 'dissemination': 3930, 'encouraged': 4356, 'length': 7059, 'instructive': 6406, 'signature': 10791, 'factual': 4740, 'hitching': 5852, 'quotation': 9618, 'attributed': 1612, 'glimpse': 5390, 'briefly': 2108, 'magic': 7344, 'comment': 2756, 'solely': 10968, 'inquiry': 6358, 'warren': 12757, 'assertion': 1503, 'paleontologist': 8624, 'mistaken': 7779, 'certainly': 2429, 'clarification': 2600, 'married': 7461, 'devout': 3754, 'wisconsin': 12936, 'synod': 11579, 'lutheran': 7295, 'classify': 2612, 'athiest': 1568, 'discussions': 3883, 'obstacle': 8342, 'nominally': 8195, 'traditions': 12035, 'worst': 13011, 'devoutly': 3755, 'religous': 9953, 'letting': 7073, 'bottled': 2052, 'responses': 10094, 'macelwaine': 7315, 'coded': 2680, 'caps': 2304, 'telling': 11701, 'legendary': 7047, 'expend': 4639, 'counter': 3194, 'communicated': 2779, 'communists': 2784, 'pacified': 8597, 'timbuk3': 11911, 'extent': 4698, 'stooping': 11295, 'fluff': 5004, 'asks': 1486, 'spinoffs': 11118, 'relying': 9957, 'deserves': 3680, 'credit': 3268, 'teflon': 11688, 'conceptualized': 2883, 'french': 5164, 'doctor': 3983, 'walking': 12728, 'woods': 12979, 'burrs': 2199, 'clothes': 2653, 'hiking': 5822, 'sixties': 10857, 'masoretic': 7478, 'mt': 7948, 'ot': 8533, 'corrupted': 3169, 'reproduced': 10030, 'dss': 4102, 'exactingly': 4571, 'mechanically': 7573, 'mark': 7454, 'substantial': 11418, 'mountain': 7918, 'molehill': 7840, 'metaphor': 7648, 'transmitted': 12077, 'accurately': 886, 'interstellar': 6492, 'measured': 7564, 'modeled': 7805, 'contributions': 3077, 'bb': 1779, 'obvious': 8346, 'background': 1704, 'density': 3635, 'function': 5214, 'integrate': 6419, 'effective': 4225, 'witt': 12956, 'astrophys': 1550, '181': 158, '363': 384, '368': 387, 'henry': 5777, '239': 283, '859': 615, '866': 618, 'mathis': 7508, '1983': 207, 'astron': 1541, '212': 257, '229': 276, 'dole': 4006, 'blaisdell': 1962, 'publishing': 9503, '1964': 192, 'fogg': 5024, 'microcomputer': 7668, 'simulation': 10824, 'brit': 2122, 'soc': 10945, '_38_': 677, '501': 477, '514': 483, '1985': 209, 'estimate': 4509, 'prevalence': 9257, 'biocompatible': 1935, '_45_': 678, 'habitability': 5596, '1600': 133, 'screens': 10508, 'dodgy': 3996, 'reliable': 9947, 'tosh': 12001, 'link': 7147, 'unlucky': 12362, 'kate': 6795, 'weather': 12816, 'sat': 10403, 'imaging': 6119, 'lunar': 7290, 'eclipse': 4182, 'uploaded': 12418, 'dig': 3798, 'reference': 9855, 'shag': 10687, 'bi': 1901, 'stem': 11258, 'retrieval': 10132, 'tight': 11906, 'sts': 11369, 'envelope': 4441, 'gro': 5536, 'uars': 12223, '_might_': 735, 'requirements': 10045, 'detached': 3709, 'acs': 911, 'management': 7400, 'pull': 9505, 'collective': 2711, 'hair': 5615, 'hearty': 5733, 'yea': 13100, 'hertz': 5795, 'flexible': 4978, 'modes': 7821, 'snap': 10933, 'rapture': 9683, 'october': 8370, '28': 325, 'miss': 7769, 'calm': 2258, 'panic': 8638, 'occurred': 8363, 'wait': 12723, 'endure': 4368, 'tribulation': 12124, 'ii': 6067, 'seven': 10665, 'jacob': 6622, 'israel': 6594, 'jere': 6654, 'daniel': 3421, 'seventieth': 10667, 'unparalleled': 12369, 'horror': 5915, 'gather': 5284, 'bibles': 1908, 'hide': 5808, 'antichrist': 1285, 'leader': 7020, 'european': 4534, 'community': 2786, 'revived': 10169, 'empire': 4335, 'confiscated': 2928, 'owning': 8589, 'tantamount': 11630, 'treason': 12103, 'valuable': 12512, 'possession': 9107, 'iv': 6614, 'imperative': 6141, 'memorize': 7608, 'passages': 8696, 'luke': 7285, 'revelation': 10151, 'amos': 1197, 'unfold': 12320, 'pray': 9169, 'prayed': 9170, 'praying': 9174, 'strength': 11338, 'withstand': 12952, 'torture': 11998, 'vi': 12611, 'loved': 7256, 'martyrs': 7469, 'economic': 4187, 'causes': 2378, 'rich': 10189, 'slave': 10881, 'receive': 9787, 'foreheads': 5065, 'wisdom': 12937, 'calculate': 2245, '666': 545, 'greatest': 5511, 'slaughter': 10879, 'tortured': 11999, 'holocaust': 5883, 'matt': 7515, 'altar': 1147, 'souls': 11016, 'slain': 10875, 'held': 5758, 'robe': 10244, 'fellow': 4848, 'servants': 10644, 'brethren': 2103, 'completed': 2821, 'jews': 6669, 'forehead': 5064, 'beheaded': 1834, 'witness': 12954, 'humiliation': 5972, 'renounce': 9991, 'hesitate': 5796, 'torturing': 12000, 'killing': 6841, 'tempted': 11712, 'consigned': 2989, 'sung': 11474, 'eloquently': 4301, 'johnny': 6686, 'cash': 2343, 'redeemed': 9836, 'torment': 11991, 'worships': 13010, 'receives': 9790, 'wine': 12918, 'wrath': 13030, 'poured': 9139, 'cup': 3352, 'indignation': 6266, 'tormented': 11992, 'brimstone': 2117, 'presence': 9230, 'angels': 1230, 'season': 10539, 'ticket': 11896, 'holders': 5875, 'hats': 5692, '000': 1, 'stadium': 11180, 'vii': 12642, 'hiding': 5810, 'growth': 5551, 'strengthening': 11339, 'rural': 10332, 'mountainous': 7919, 'populated': 9087, 'attuned': 1613, 'discern': 3854, 'currents': 3358, 'sweep': 11557, 'daybreak': 3451, 'delays': 3573, 'outbound': 8544, 'closings': 2650, 'food': 5040, 'lakes': 6942, 'streams': 11334, 'polluted': 9058, 'nuclear': 8277, 'warfare': 12746, 'filter': 4901, 'clothing': 2654, 'seasons': 10540, 'flashlights': 4961, 'batteries': 1773, 'aid': 1066, 'survive': 11536, 'pioneers': 8943, 'viii': 12643, 'trust': 12158, 'agents': 1039, 'spying': 11156, 'lookout': 7225, 'perot': 8811, 'supporters': 11506, 'ix': 6616, 'prosperity': 9435, 'hungry': 5979, 'infer': 6298, 'characteristics': 2470, 'dominate': 4015, 'airwaves': 1084, 'appealing': 1332, 'intelligent': 6428, 'charisma': 2479, 'politician': 9053, 'tactician': 11596, 'expert': 4653, 'treaty': 12108, 'break': 2092, 'supernatural': 11490, 'mortal': 7889, 'wound': 13020, 'healed': 5721, 'deceived': 3490, 'howard': 5935, 'stern': 11267, 'rush': 10334, 'limbaugh': 7132, 'companion': 2792, 'prohphet': 9373, 'likeness': 7127, 'refuse': 9878, 'worhsip': 12984, 'insane': 6363, 'spirits': 11122, 'triumphant': 12139, 'defeated': 3536, 'steadfast': 11240, 'rewarded': 10176, 'heaven': 5741, 'fervently': 4860, 'salvation': 10378, 'sould': 11015, 'depends': 3647, 'determine': 3722, 'remain': 9958, 'faithful': 4756, 'glorious': 5397, 'cluff': 2660, 'stupid': 11386, 'v22964qs': 12500, 'ubvms': 12225, 'luick': 7283, 'negativland': 8082, 'ub': 12224, 'perception': 8781, 'bob': 2004, 'ico': 6023, 'tek': 11689, 'queens': 9595, 'blew': 1973, 'bronx': 2134, 'sank': 10391, 'manhattan': 7410, 'kevin': 6816, 'achieved': 895, 'dualism': 4108, 'dennett': 3625, 'horse': 5917, 'petri': 8847, 'constructive': 3017, 'criticism': 3284, 'love': 7255, '86': 616, 'assured': 1530, 'combat': 2729, 'dc': 3453, 'tollerent': 11962, 'failure': 4748, 'reliability': 9946, 'reusable': 10143, 'salvagable': 10377, 'flip': 4989, 'supersonic': 11496, 'intact': 6415, 'abort': 817, 'envelop': 4440, 'loose': 7232, 'thrust': 11875, 'safely': 10359, 'catastrophic': 2360, 'fault': 4809, 'tolerent': 11961, 'ssto': 11168, 'patients': 8720, 'patient': 8718, 'monitor': 7849, 'fails': 4746, 'worthwhile': 13015, 'refering': 9859, 'theroughout': 11818, 'passenger': 8698, 'pallet': 8627, 'passengers': 8699, 'crew': 3272, 'operational': 8447, 'dammage': 3409, 'mannes': 7423, 'reputation': 10036, 'unreliable': 12380, 'hugely': 5961, 'opponents': 8455, 'kill': 6837, 'somebody': 10988, 'humph': 5975, 'classmate': 2613, 'silent': 10799, 'teachers': 11667, 'pompous': 9072, 'assembly': 1499, 'opposing': 8460, 'actively': 919, 'prayer': 9171, 'amen': 1174, 'mandatory': 7407, 'classes': 2609, 'uncertain': 12274, 'moments': 7845, 'shelves': 10710, 'prevent': 9259, 'fancy': 4786, 'hoping': 5908, 'rests': 10111, 'contradicting': 3063, 'refered': 9854, 'method': 7654, 'sentences': 10617, 'decsribe': 3525, 'specially': 11069, 'undertand': 12308, 'blame': 1963, 'gives': 5374, 'allready': 1136, 'mailed': 7362, 'bradley': 2075, 'nelson_p': 8095, 'apollo': 1315, 'hp': 5939, 'nelson': 8094, 'broadcast': 2126, 'prime': 9280, 'played': 8990, 'aired': 1076, 'grossly': 5539, 'newswire': 8149, 'transcript': 12055, 'mercy': 7627, 'passover': 8703, 'lawyer': 7003, 'speculations': 11091, 'heck': 5750, 'luther': 7294, 'deer': 3534, 'semitic': 10599, 'dobb': 3979, 'pained': 8616, 'industry': 6283, '90': 634, 'ethic': 4521, 'cracker': 3230, 'corporations': 3151, 'intel': 6423, 'lock': 7203, 'nooks': 8208, 'crannies': 3240, 'idiosyncrasies': 6043, 'badmouthing': 1712, 'abandon': 796, 'efforts': 4234, 'innovative': 6352, 'yourselves': 13128, 'propagation': 9404, 'unheard': 12325, 'shudder': 10765, 'perpetuating': 8816, 'drivel': 4079, 'se': 10526, 'profit': 9355, 'applaud': 1341, 'kludgy': 6871, 'uncreative': 12288, 'blunt': 1993, 'perpetuate': 8815, 'sos': 11013, 'maintaining': 7373, 'await': 1667, 'resounding': 10078, 'bothers': 2050, 'fixtures': 4946, 'virginia': 12657, 'permission': 8807, 'fixture': 4945, 'wasted': 12770, 'starts': 11215, 'pass': 8694, 'safety': 10360, 'tests': 11752, 'meet': 7587, 'educate': 4215, 'backs': 1706, 'spacers': 11044, 'wild': 12900, 'presented': 9233, 'lovers': 7258, 'night': 8167, 'pr': 9156, 'stunt': 11384, 'mol': 7836, 'ended': 4362, 'tower': 12017, 'ceccarelli': 2396, 'presents': 9236, 'fallacy': 4766, 'dichotomy': 3767, 'discount': 3866, 'antiquity': 1288, 'objectively': 8317, 'reject': 9912, 'ramses': 9665, 'wiener': 12895, 'inscriptions': 6366, 'carved': 2340, 'battle': 1775, 'pharoah': 8855, 'approval': 1363, 'account': 877, 'records': 9824, 'kadesh': 6782, 'circa': 2561, '1285': 83, 'bc': 1783, 'river': 10232, 'orontes': 8523, 'aleppo': 1103, 'egyptians': 4243, 'hittites': 5857, 'victory': 12624, 'inscribed': 6365, 'survived': 11537, 'handedly': 5636, 'separated': 10622, 'troops': 12145, 'egyptian': 4242, 'wavers': 12793, 'forth': 5101, 'miriam': 7738, 'lichtheim': 7096, '_ancient': 693, 'literature_': 7174, 'majesty': 7377, 'caused': 2377, 'forces': 5058, 'foes': 5023, 'hitti': 5856, 'crocodiles': 3290, 'griffin': 5530, 'attacked': 1592, 'infantry': 6295, 'chariotry': 2477, 'deserted': 3679, 'stood': 11294, 'ra': 9627, 'loves': 7259, 'father': 4805, 'atum': 1614, 'favors': 4814, 'witnesses': 12955, 'drove': 4092, 'gallop': 5260, 'charged': 2474, 'foe': 5022, 'proceeded': 9321, '2500': 299, 'chariots': 2478, 'ringing': 10218, 'officer': 8389, 'charioteer': 2476, 'soldier': 10965, 'shield': 10716, 'bearer': 1793, 'yielded': 13117, 'firm': 4928, 'amun': 1202, 'deeds': 3531, 'stand': 11190, 'neglected': 8084, 'lord': 7235, 'egypt': 4241, 'aliens': 1118, 'asiatics': 1478, 'wretches': 13032, 'monuments': 7863, 'strangers': 11322, 'arrayed': 1438, 'labors': 6928, 'mouth': 7925, 'transgressed': 12064, 'distant': 3936, 'resounded': 10077, 'southern': 11026, 'thebes': 11776, 'rejoiced': 9916, 'prevail': 9256, 'thousand': 11854, 'valor': 12511, 'stout': 11311, 'breast': 2096, 'succeeded': 11425, 'mont': 7858, 'slaughtered': 10880, 'rise': 10222, 'seth': 10657, 'baal': 1689, 'doings': 4005, 'unique': 12340, 'fights': 4885, 'soldiers': 10966, 'flee': 4971, 'breathe': 2099, 'limbs': 7133, 'grow': 5547, 'limp': 7138, 'bow': 2063, 'spears': 11065, 'sees': 10577, 'racing': 9630, 'unceasingly': 12273, 'manuscripts': 7434, 'recording': 9823, 'miraculous': 7737, 'alexander': 1106, 'tilgrath': 11907, 'pilisar': 8933, 'nero': 8099, 'caligula': 2253, 'josephus': 6702, 'cyrus': 3391, 'artexerxes': 1450, 'documents': 3993, 'facts': 4739, 'testament': 11743, 'verity': 12588, 'credible': 3267, 'testified': 11746, 'points': 9039, 'argumentum': 1417, 'populum': 9089, 'appeal': 1331, 'vote': 12701, 'millions': 7707, 'hindu': 5834, 'testify': 11747, 'brahma': 2076, 'constitute': 3008, 'hindus': 5835, 'scoff': 10496, 'keyboard': 6818, 'ignorance': 6060, 'testimonies': 11749, 'hooey': 5899, 'pleading': 8999, 'solomon': 10980, 'arguable': 1407, 'abraham': 824, 'lincoln': 7140, 'publically': 9493, 'deist': 3568, 'presently': 9235, 'tyre': 12220, 'dave': 3441, 'butler': 2214, 'involvement': 6541, 'funds': 5226, 'wwii': 13052, 'steadily': 11242, 'funding': 5225, 'laboratories': 6925, 'assistants': 1514, 'wishing': 12942, 'scholar': 10478, 'salary': 10371, 'departments': 3642, 'expertise': 4654, 'emerges': 4320, 'stages': 11184, 'realized': 9757, 'importance': 6169, 'unwilling': 12403, 'diverted': 3960, 'investment': 6530, 'nsf': 8269, 'elaborate': 4259, 'procedure': 9318, 'politics': 9055, 'foundations': 5116, 'expects': 4638, 'scholars': 10480, 'assistance': 1512, 'faculty': 4741, 'projects': 9378, 'wealth': 12808, 'moderate': 7813, 'institutions': 6403, 'schools': 10484, 'evaluating': 4540, 'reseach': 10053, 'proposals': 9423, 'researcher': 10056, 'investigator': 6528, 'conceals': 2868, 'proposing': 9427, 'solve': 10983, 'addition': 941, 'unexpected': 12318, 'solves': 10985, 'yesterday': 13111, 'routine': 10298, 'minimal': 7718, 'divert': 3959, 'thinkers': 11837, 'plodders': 9007, '_five': 711, 'balloon_': 1727, 'verne': 12589, 'protagonists': 9438, 'increadibly': 6233, 'team': 11671, 'bushmen': 2206, 'showing': 10760, 'flint': 4988, 'knives': 6878, 'sneezing': 10937, 'hansk': 5654, 'portraits': 9097, 'xfaces': 13062, 'spencer': 11101, 'haired': 5616, 'nut': 8292, 'hangups': 5649, 'surrounded': 11531, 'gulible': 5577, 'losers': 7240, 'miserable': 7751, 'boot': 2036, 'fried': 5172, 'askew': 1483, 'sgi': 10680, 'indigo': 6267, 'rumor': 10327, 'illustrator': 6098, 'maintained': 7371, 'upright': 12422, 'perpendicular': 8812, 'helmets': 5764, 'manuvering': 7435, 'accelerations': 854, '12g': 85, 'pursuing': 9540, 'spokepeople': 11136, 'survivor': 11540, 'contradictory': 3067, 'lawyers': 7004, 'survivors': 11541, 'individually': 6274, 'suicide': 11452, 'pact': 8606, 'intentionally': 6439, 'absense': 832, 'inner': 6350, 'circle': 2562, 'talked': 11615, 'survors': 11542, 'probabilities': 9306, 'accidentally': 867, 'bds': 1787, 'truely': 12154, 'amazed': 1168, 'suggesting': 11448, 'tear': 11672, 'electical': 4264, 'adults': 983, 'wearing': 12814, 'masks': 7475, 'chaotic': 2461, 'asses': 1506, 'probablities': 9309, 'intential': 6437, 'reports': 10017, 'recovered': 9825, 'gunshot': 5584, 'wounds': 13022, 'coroner': 3148, 'categorically': 2362, 'denied': 3624, 'conclusions': 2896, 'intense': 6432, 'builds': 2174, 'explode': 4667, 'massive': 7484, 'consisted': 2991, 'te': 11664, 'corroborating': 3167, 'scenarios': 10461, 'monday': 7847, 'skeptical': 10863, 'manpower': 7424, 'sitting': 10849, 'publicity': 9496, 'bursts': 2202, 'species': 11071, 'cambrian': 2263, 'ordovician': 8496, 'explosions': 4679, 'resulted': 10114, 'vast': 12543, 'animal': 1239, 'punch': 9514, 'permian': 8806, 'triassic': 12121, 'extinctions': 4701, 'marine': 7451, 'rose': 10278, 'exception': 4588, 'bye': 2222, 'dinos': 3817, 'extinction': 4700, '800': 597, 'arose': 1430, 'algae': 1108, 'colonized': 2719, 'succesive': 11426, 'sweeps': 11558, 'mosses': 7898, 'wet': 12847, 'environments': 4445, 'ferns': 4857, 'vascular': 12540, 'tissues': 11931, 'territory': 11732, 'gymnosperms': 5590, 'pines': 8940, 'displaced': 3912, 'angiosperms': 1232, 'flowering': 5000, 'dominant': 4012, 'plant': 8976, 'fungi': 5229, 'radiated': 9635, 'carboniferous': 2312, '200': 237, '250': 298, 'cretaceous': 3270, 'rising': 10224, '600': 519, 'unclear': 12279, 'max': 7520, 'equilibrium': 4466, 'hit': 5850, 'alert': 1104, 'reached': 9726, 'peak': 8754, 'depend': 3643, 'fragmented': 5132, 'cowen': 3221, 'wilson': 12909, 'centered': 2411, 'ecology': 4186, 'imho': 6126, 'biology': 1940, 'hell': 5762, 'ups': 12424, 'helpfully': 5769, 'wording': 12981, 'understood': 12306, 'bound': 2059, 'keith': 6806, 'allan': 1123, 'cruel': 3314, 'prevarications': 9258, 'increasingly': 6238, 'unconvincing': 12285, 'ron': 10268, 'artist': 1460, 'distinguished': 3941, 'admired': 966, 'paintings': 8623, 'usps': 12454, 'exploration': 4673, 'spaceflight': 11035, 'streets': 11337, 'publisher': 9501, 'landed': 6954, 'mailbox': 7361, 'cool': 3118, 'vaporware': 12527, 'spaceship': 11046, 'foreword': 5071, 'arthur': 1451, 'clarke': 2605, 'krieger': 6902, 'melbourne': 7595, 'florida': 4996, 'orig': 8511, 'ed': 4196, 'pre': 9176, 'publication': 9494, '89464': 630, '039': 17, 'cultural': 3348, 'technological': 11681, 'phenomenon': 8859, 'vehicle': 12559, 'traversing': 12100, 'betwen': 1893, 'blown': 1988, 'tlatter': 11940, 'theis': 11783, 'preceded': 9185, 'imaginative': 6115, 'prescient': 9227, 'astronomy': 1549, 'engineering': 4384, 'feasible': 4828, 'drawing': 4067, 'board': 2001, 'reflections': 9866, 'era': 4474, 'abilities': 805, 'virtually': 12660, '1500': 118, 'selected': 10585, 'extraterrestrial': 4704, 'chronologically': 2546, 'chronological': 2545, 'astronautical': 1543, 'speculative': 11092, 'ventures': 12572, 'simultaneous': 10827, 'reveal': 10147, 'connections': 2957, 'influences': 6313, 'evolutions': 4564, 'hitherto': 5854, 'unsuspected': 12393, 'illustration': 6096, 'schematic': 10474, 'designss': 3690, 'visualize': 12673, 'similarities': 10808, 'students': 11374, 'builders': 2171, 'diagrams': 3761, 'aviation': 1660, 'buffs': 2166, 'historians': 5844, 'illustrations': 6097, 'visually': 12674, 'attractive': 1610, 'fictional': 4874, 'scores': 10501, 'rare': 9684, 'scarce': 10456, 'exclusive': 4600, 'fromsoviet': 5187, 'stills': 11275, 'films': 4900, 'unpublished': 12372, 'appendices': 1339, 'archaeology': 1385, '360': 383, '1783': 153, 'invention': 6519, '1784': 154, '1899': 168, 'experimenters': 4651, '1938': 181, '1945': 183, 'golden': 5428, '1946': 184, '1960': 189, 'dawn': 3449, 'page': 8610, 'director': 3830, 'albert': 1096, 'einstein': 4250, 'planetarium': 8968, 'smithsonian': 10923, 'astronomical': 1548, 'arts': 1463, 'consulting': 3021, 'sole': 10967, 'tour': 12011, 'papers': 8644, 'jackets': 6621, 'interior': 6467, 'publishers': 9502, 'contributor': 3078, 'traveling': 12097, 'exhibition': 4619, 'blueprint': 1991, 'movies': 7933, 'dune': 4121, 'designer': 3687, 'stamp': 11188, 'commemorative': 2754, 'postage': 9114, 'postal': 9115, 'service': 10652, 'ordering': 8492, 'afterwards': 1033, '112': 61, 'po': 9028, '9542': 652, 'fl': 4947, '32902': 362, '407': 418, '727': 575, '7270': 576, '951': 649, '3671': 386, 'shipping': 10726, 'additional': 942, 'foreign': 5066, 'charges': 2475, 'airmail': 1080, 'shipments': 10724, 'stock': 11285, 'krishna': 6903, 'bg10': 1899, 'abiding': 804, 'creatures': 3265, 'beginning': 1823, 'creations': 3258, 'arjuna': 1423, 'dispute': 3923, 'orators': 8480, 'lucid': 7276, 'splendid': 11126, 'invulnerable': 6544, 'fragment': 5131, 'brilliance': 2116, '42': 424, 'sustaining': 11548, 'bg11': 1900, 'grown': 5549, 'wm': 12962, 'hathaway': 5691, 'beauty': 1803, 'achievment': 900, 'impeded': 6139, 'descendents': 3668, 'heavens': 5743, 'creted': 3271, 'advertising': 1000, 'pristine': 9299, 'yesteryear': 13112, 'yester': 13110, 'totally': 12006, 'unreachable': 12375, 'conceptions': 2880, 'wetsern': 12848, 'sculpture': 10522, 'striving': 11357, 'modernity': 7820, 'strive': 11356, 'fouled': 5113, '3do': 404, 'deletion': 3581, 'ethics': 4524, 'interchangeably': 6452, 'measuers': 7562, 'usefulness': 12445, 'fulfilled': 5206, 'intermission': 6471, 'assuming': 1526, 'disinterested': 3894, 'shortest': 10741, 'contradiction': 3064, 'fulfill': 5205, 'clutching': 2662, 'straw': 11328, 'mappings': 7441, 'loaded': 7189, 'fixpoints': 4944, 'practice': 9158, 'unfree': 12323, 'advisor': 1003, 'reconstructions': 9819, 'slides': 10892, 'biological': 1937, 'trace': 12022, 'outline': 8553, 'objects': 8320, 'outlines': 8554, 'unsure': 12392, 'vector': 12554, 'autocad': 1641, 'billion': 1924, 'sheebang': 10705, '450': 442, 'betcha': 1888, 'contract': 3058, 'committing': 2772, 'nab': 8008, 'las': 6973, 'vegas': 12557, 'confirm': 2926, 'realsoft': 9760, 'releasing': 9942, 'summer': 11465, 'dx50': 4141, 'a4000': 780, 'watcom': 12775, 'sells': 10595, 'deletions': 3582, 'islamic': 6584, 'operates': 8444, 'banks': 1743, 'fixed': 4943, 'interests': 6458, 'deposits': 3652, 'investments': 6531, 'varies': 12535, 'west': 12843, 'stage': 11182, 'bcci': 1784, '_not_': 739, 'irrelevant': 6574, 'andrew': 1226, 'wrt': 13047, 'counterfeit': 3196, 'hmmmm': 5865, 'offs': 8394, 'pill': 8934, 'contentious': 3040, 'hashed': 5683, 'doctrines': 3988, 'debating': 3480, 'oxymoric': 8593, 'tammy': 11621, 'nay': 8051, 'polite': 9049, 'accusations': 888, 'myths': 8004, 'flyin': 5013, 'spewing': 11105, 'dogma': 4002, 'implication': 6158, 'jeez': 6644, 'gems': 5300, 'instances': 6393, 'lame': 6945, 'impressing': 6181, 'pissing': 8947, 'accusation': 887, 'flippantly': 4990, 'antagonistic': 1277, 'spreads': 11151, 'falsehoods': 4773, 'nowhere': 8257, '_least_': 730, 'propaganda': 9403, 'ass': 1493, 'dealing': 3468, 'accusing': 891, 'benedikt': 1866, 'impaired': 6138, 'calendar': 2249, 'ames': 1179, 'arc': 1383, 'updates': 12411, 'baalke': 1692, 'kelvin': 6807, 'dennis': 3626, 'newkirk': 8137, 'soyuz': 11029, 'dec': 3483, 'indicates': 6257, '29': 329, 'astra': 1534, '1c': 228, 'ariane': 1418, 'photovoltaic': 8892, 'apex': 1312, 'pegasus': 8761, 'radcal': 9633, 'scout': 10505, 'gps': 5465, 'pmq': 9022, 'transporter': 12085, 'conestoga': 2913, '01': 7, 'iapetus': 6013, 'saturn': 10423, 'galileo': 5258, 'enters': 4423, 'eta': 4515, 'aquarid': 1374, 'shower': 10759, 'ut': 12458, 'lon': 7215, 'deg': 3559, 'titan': 11933, '57': 504, 'endeavour': 4361, 'retrievable': 10131, 'carrier': 2332, 'eureca': 4532, '1r': 230, '15th': 129, 'anniversary': 1251, 'pioneer': 8942, 'venus': 12573, 'orbiter': 8485, 'partial': 8678, 'northern': 8221, 'magellan': 7343, 'aerobraking': 1007, 'jun': 6762, 'temisat': 11705, 'uhf': 12240, 'atlas': 1576, 'noaa': 8184, 'clipper': 2637, 'unmanned': 12364, 'hispasat': 5841, '1b': 226, 'insat': 6364, '2b': 338, 'sakigake': 10370, 'japan': 6633, 'charon': 2482, 'discovery': 3873, 'christy': 2540, '51': 479, 'july': 6758, 'jul': 6754, 'msti': 7946, 'galaxy': 5256, '08': 28, '17': 144, '19': 170, 'longitude': 7221, '125': 76, '35th': 381, 'birthday': 1946, 'august': 1622, 'aug': 1620, 'ets': 4528, 'h2': 5592, 'geos': 5341, 'landsat': 6958, 'orbcom': 8482, 'fdm': 4820, '09': 31, 'trajectory': 12050, 'maneuver': 7409, 'tcm': 11659, 'aquarids': 1375, '07': 26, '139': 98, 'perseid': 8820, '140': 101, 'insertion': 6371, 'moi': 7834, '58': 512, 'columbia': 2727, 'spacelab': 11039, 'sls': 10908, 'ida': 6027, 'september': 10629, 'sep': 10620, 'spot': 11143, 'tubsat': 12176, 'seastar': 10541, 'oct': 8369, 'intelsat': 6429, 'f1': 4719, 'slv': 10911, 'telstar': 11704, 'seawifs': 10545, 'orionid': 8522, '208': 249, 'november': 8253, 'nov': 8249, 'solidaridad': 10973, 'mop': 7869, 'mariner': 7452, 'taurid': 11650, 'exits': 4629, '06': 23, 'transits': 12068, 'asia': 1476, 'australia': 1629, 'pacific': 8596, 'mapping': 7440, 'spacehab': 11038, 'hemisphere': 5774, 'wilhelm': 12901, 'herschel': 5793, '255th': 305, 'leonids': 7064, '235': 281, 'december': 3493, 'nato': 8037, '4b': 465, 'toms': 11970, 'directtv': 3834, 'thiacom': 11825, 'istp': 6600, '61': 529, 'hubble': 5957, 'telescope': 11695, 'spektr': 11097, 'jupiter': 6764, 'equinox': 4467, 'geminids': 5299, '262': 313, 'ursids': 12433, '271': 320, 'january': 6632, '1994': 224, 'jan': 6630, 'clementine': 2623, 'iig': 6068, 'february': 4833, 'feb': 4832, 'sfu': 10678, 'gms': 5403, '62': 531, 'microgravity': 7671, 'payload': 8735, 'usmp': 12453, '430th': 434, '25th': 309, 'tc': 11657, '2c': 339, '115th': 66, 'foremost': 5067, 'honestly': 5895, 'entity': 4434, 'bearing': 1794, 'believing': 1852, 'meantime': 7560, 'humble': 5970, 'pride': 9273, 'sin': 10829, 'moderation': 7817, 'homosexuality': 5892, 'patronizingly': 8723, 'faults': 4810, 'earned': 4160, 'abused': 847, 'influencing': 6314, '1920': 176, 'travellers': 12099, 'sudan': 11436, 'cigar': 2557, 'native': 8036, 'huts': 5988, 'locals': 7199, 'omen': 8408, 'lz': 7303, '53': 490, 'zepplin': 13147, 'bulgaria': 2176, 'africa': 1025, '1917': 174, 'fooled': 5042, 'pretending': 9254, 'insurance': 6413, 'weapon': 12810, 'tire': 11927, 'acting': 914, 'jokke': 6694, 'fore': 5061, 'believes': 1851, 'stabbing': 11171, 'copyright': 3134, 'status': 11234, 'restrictions': 10109, 'kaveh': 6798, 'biblcal': 1906, 'apocolic': 1314, 'alright': 1144, 'parables': 8646, 'essential': 4500, 'christan': 2533, 'trinity': 12135, 'comfortably': 2746, 'employed': 4338, 'radical': 9639, 'radicalism': 9640, 'imaginary': 6112, 'camera': 2267, 'movement': 7929, 'kochanek': 6891, 'bartels': 1757, 'splines': 11129, 'proceedings': 9323, 'inbetweens': 6202, 'dx': 4140, 'dy': 4143, 'dz': 4148, 'argumentsa': 1416, 'positioned': 9101, 'deals': 3469, 'inbetween': 6201, 'equal': 4461, 'chord': 2526, 'sligt': 10896, 'discontinuity': 3865, 'vectors': 12555, 'replies': 10011, 'emailed': 4310, 'iharkest': 6066, 'lise': 7158, '_________': 684, '__________________': 686, 'sc': 10441, '________': 683, '_______________': 685, 'nth': 8275, 'norwegian': 8224, 'raytraced': 9716, 'raytracing': 9717, 'globe': 5394, 'deviations': 3742, 'evident': 4560, 'micrometer': 7673, 'infact': 6289, 'pear': 8755, '_______________________________________________________________________________': 687, 'fisher': 4936, 'psy': 9483, 'uwa': 12489, 'oz': 8595, 'ph': 8853, 'aus': 1626, 'perth': 8838, '380': 393, '3272': 361, 'psychology': 9489, '32s': 364, '116e': 67, 'nedlands': 8072, '6009': 520, '144': 112, 'reboot': 9778, 'registered': 9896, 'trademark': 12030, 'ensoniq': 4410, 'corp': 3149, 'hohman': 5873, 'ridiculous': 10202, 'amounts': 1199, 'rubber': 10314, 'insisting': 6380, 'balls': 1728, 'shafer': 10686, 'dryden': 4096, 'jimh': 6674, 'carson': 2337, 'hogan': 5871, 'entertainment': 4426, 'entertaining': 4425, 'newbie': 8130, 'lifespan': 7107, 'stretches': 11343, 'anonymity': 1267, 'occassion': 8353, 'caustic': 2380, 'boob': 2025, 'bobby': 2006, 'involves': 6542, 'excretory': 4602, 'recognizing': 9806, 'timmons': 11920, 'character': 2468, 'blatant': 1968, 'disregard': 3926, 'creaters': 3252, 'annoying': 1258, 'disbelief': 3851, 'zeus': 13149, 'philosophies': 8871, 'thunderbolts': 11885, 'theirs': 11782, 'logically': 7211, 'assailable': 1494, 'logical': 7210, 'destroys': 3704, 'barraged': 1754, 'fail': 4743, 'miserably': 7752, 'unsound': 12387, 'argued': 1410, 'philosophers': 8868, 'undemonstrable': 12292, 'questionable': 9601, 'towns': 12019, 'located': 7200, 'enterprises': 4422, 'npo': 8259, 'energia': 4372, 'krunichev': 6909, 'fakel': 4759, 'facility': 4732, 'reachable': 9725, 'auto': 1639, 'tours': 12013, 'arranged': 1436, 'guards': 5561, 'facilities': 4731, 'bored': 2039, 'destination': 3701, 'wales': 12725, 'investor': 6532, 'quantised': 9576, 'mapped': 7439, 'modifications': 7823, 'rgb': 10180, '255': 304, 'discontinuities': 3864, 'gradient': 5472, 'interpolate': 6480, 'modification': 7822, 'depending': 3646, 'tacking': 11595, 'mods': 7827, 'digest': 3799, 'misunderstood': 7783, 'lilley': 7130, 'itti': 6611, 'visualisation': 12671, 'manchester': 7404, 'centre': 2419, 'm13': 7306, '9pl': 673, 'mcc': 7532, 'ac': 849, '275': 323, '6045': 523, '6040': 522, 'janet': 6631, 'xga': 13063, 'beeen': 1813, 'erratic': 4485, 'walsh': 12734, 'stolaf': 11287, 'fractal': 5127, 'terrain': 11727, 'stratavision': 11324, 'fractals': 5128, '91': 639, 'crashed': 3243, 'newsgroups': 8144, 'deb47099': 3476, 'uxa': 12493, 'cso': 3340, 'aperture': 1310, 'door': 4025, 'reboost': 9776, 'pry': 9475, 'jc': 6641, 'carpenter': 2329, 'stairs': 11185, 'abrams': 825, 'skill': 10867, 'plans': 8975, 'kitchen': 6862, 'counters': 3198, 'cabinets': 2238, 'treated': 12104, 'lumber': 7288, 'wood': 12977, 'meets': 7590, 'concrete': 2899, 'mose': 7893, 'outdoor': 8549, 'boss': 2045, 'jewish': 6668, 'ford': 5060, 'escorts': 4493, 'apprentice': 1355, 'pickup': 8915, 'verification': 12583, 'dean': 3471, 'kaflowitz': 6783, 'yup': 13134, 'cards': 2317, 'bios': 1942, '320x200': 358, 'hercules': 5780, 'processor': 9329, 'neglect': 8083, 'processors': 9330, '8086': 601, '8088': 602, 'clone': 2643, 'nec': 8067, 'v20': 12499, 'boards': 2002, 'floyd': 5002, 'steinberg': 11254, 'dithers': 3953, 'normally': 8217, 'viewed': 12632, 'brighter': 2113, 'suggestion': 11449, 'inspired': 6385, 'inclusion': 6216, 'agency': 1037, 'abomination': 815, 'loathing': 7194, 'odious': 8372, 'degrading': 3564, 'disgust': 3888, 'concise': 2891, 'saturated': 10422, 'commercials': 2763, 'loathe': 7193, 'marred': 7459, 'billboard': 1921, 'sacrilegious': 10353, 'astronomer': 1546, 'sagan': 10361, 'clark': 2604, 'administrator': 963, 'shuttles': 10769, 'unrivaled': 12382, 'hermes': 5789, 'boron': 2042, 'cancelled': 2282, 'officials': 8393, 'explaining': 4661, 'asian': 1477, 'paymasters': 8736, 'minds': 7715, 'everytime': 4557, 'administration': 962, 'japanese': 6634, 'stattion': 11232, 'pro': 9304, 'avis': 1662, 'wav': 12785, 'voc': 12686, 'accomplishing': 872, 'dibs': 3766, 'dib': 3765, 'wavedit': 12787, 'seperate': 10625, 'productive': 9344, 'satan': 10404, 'unbelievers': 12268, 'compelling': 2806, 'compel': 2805, 'mainland': 7366, 'religously': 9954, 'motivated': 7906, 'murders': 7971, 'religiously': 9951, 'inherent': 6336, 'catholicism': 2370, 'protestantism': 9451, 'circumstances': 2573, 'instructs': 6407, 'majority': 7379, 'motivate': 7905, 'flavour': 4965, 'atoricities': 1587, 'indictment': 6265, 'falls': 4771, 'utterly': 12476, 'harmless': 5674, 'thy': 11888, 'neighbour': 8091, 'demolishes': 3607, 'labourers': 6929, 'chosen': 2528, 'catholics': 2371, 'ira': 6554, 'protestant': 9450, 'extremists': 4711, 'incarnate': 6205, 'protestants': 9452, 'broad': 2125, 'element': 4281, 'motives': 7912, 'revenge': 10153, 'patriotism': 8722, 'worldwide': 12998, 'ensuing': 4411, 'fatwa': 4808, 'inquisitions': 6361, 'exceptions': 4589, 'grab': 5467, 'bag': 1715, 'hoc': 5869, 'excuses': 4604, 'motivator': 7910, 'enabler': 4347, 'ni': 8157, 'violence': 12652, 'abstract': 841, 'irish': 6562, 'absorbed': 838, 'assures': 1531, 'unionists': 12339, 'terrible': 11729, 'kicks': 6833, 'privilege': 9301, 'speculated': 11088, 'credibility': 3266, 'axe': 1680, 'grind': 5531, 'bigotry': 1917, 'heartless': 5731, 'extremism': 4710, 'synonymous': 11580, 'overlap': 8572, 'gregg': 5520, 'abusing': 848, 'misrepresented': 7767, 'quran': 9625, 'upset': 12425, 'ceased': 2395, 'nmot': 8181, 'respected': 10082, 'resurrection': 10122, 'preachers': 9179, 'mathew': 7506, '38': 392, 'resurrected': 10121, 'saints': 10367, 'walked': 12727, 'jerusalem': 6659, 'speaks': 11064, 'jumped': 6760, 'trillion': 12133, 'planes': 8966, 'plot': 9008, 'coordinate': 3122, 'bang': 1738, 'formation': 5085, '10e11': 56, 'seconds': 10551, 'cosmology': 3177, 'proposes': 9426, 'unquestioningly': 12373, 'accepting': 859, 'creationist': 3256, 'landmines': 6956, 'blindly': 1976, 'doubting': 4041, 'accepted': 858, 'sheer': 10707, 'pragmatics': 9166, 'jail': 6628, 'satisfaction': 10414, 'handicap': 5637, 'iff': 6057, 'specification': 11074, 'tddd': 11663, 'predecessor': 9194, 'silver': 10805, 'cjf': 2590, 'agrino': 1058, 'enkidu': 4397, 'mic': 7664, 'andres': 1225, 'grino': 5533, 'brandt': 2087, 'mormons': 7883, 'sudies': 11439, 'bom': 2016, 'civilization': 2587, 'aroun': 1431, 'steel': 11249, 'metals': 7647, 'swords': 11569, 'archeology': 1388, 'college': 2713, 'topic': 11987, 'mormon': 7880, 'archeologists': 1387, 'tribe': 12122, 'bunk': 2189, 'knowingly': 6884, 'grant': 5483, 'mythology': 8002, 'immediately': 6129, 'babble': 1693, 'healy': 5725, 'reasoned': 9769, 'silly': 10804, 'duh': 4115, 'gee': 5296, 'repetition': 10003, 'boring': 2040, 'deleting': 3580, 'remarks': 9967, 'approaches': 1359, 'uninteresting': 12337, 'congratulate': 2939, 'persistent': 8824, 'assist': 1511, 'learning': 7029, 'meager': 7550, 'characterizing': 2471, 'hominum': 5890, 'attacks': 1594, 'disapproval': 3848, 'contribution': 3076, 'jasen': 6636, 'mabus': 7309, 'rpi': 10306, 'hman': 5862, 'cad': 2241, 'iges': 6058, 'cgm': 2438, 'ras': 9688, 'mabusj': 7310, 'circumstantial': 2574, 'wing': 12921, 'freaks': 5151, 'spouting': 11146, 'nagging': 8009, 'commentary': 2757, 'mount': 7917, 'imitate': 6127, 'hypocrites': 6003, 'prayers': 9173, 'standing': 11196, 'synagogues': 11577, 'corners': 3144, 'solemnly': 10969, 'reward': 10175, 'darwinners': 3430, 'evolving': 4568, 'wherever': 12865, '6671': 546, 'sunset': 11478, 'blvd': 1999, 'ste': 11239, '1525': 123, '90028': 636, 'jenny': 6652, 'ncar': 8055, 'v3': 12501, 'graphs': 5490, 'print': 9289, 'printers': 9292, 'postscript': 9127, '7475a': 580, 'experiences': 4644, 'civilian': 2585, 'collateral': 2703, 'damage': 3405, '_never_': 737, 'judged': 6744, 'deaths': 3475, 'bombing': 2020, 'disease': 3884, 'baghdad': 1717, 'deliberately': 3584, 'targeted': 11640, 'starvation': 11216, 'proposed': 9425, 'census': 2408, 'bureau': 2192, 'cb': 2383, 'sack': 10350, 'technicality': 11677, 'mcnally': 7545, 'undergraduate': 12297, 'denouncing': 3631, 'photon': 8884, 'sodium': 10955, 'lamps': 6949, 'mill': 7701, 'observatory': 8332, 'gauge': 5286, 'shotgun': 10746, 'limit': 7134, 'streetlights': 11336, 'reflector': 9868, 'illuminates': 6086, 'bonus': 2024, 'illumination': 6089, 'strangely': 11321, 'lobby': 7195, 'elected': 4263, 'desert': 3678, 'observatories': 8331, 'thats': 11773, 'aspiration': 1491, 'illuminated': 6085, 'orbital': 8484, 'billboards': 1922, 'yukky': 13133, 'intriguing': 6504, 'sco': 10495, 'researched': 10055, 'foundout': 5120, 'rix': 10234, 'sci': 10486, '1024x768': 45, 'alle': 1124, '800x600': 598, '930425': 646, 'rosicrucian': 10281, 'pagans': 8609, 'social': 10946, 'belonging': 1860, 'interpreted': 6485, 'mysticism': 7998, 'huxley': 5989, 'perennial': 8783, 'trads': 12037, 'tony': 11977, 'readers': 9735, 'amorc': 1195, 'jose': 6700, 'rc': 9720, 'associate': 1518, 'hubbub': 5958, 'rosae': 10276, 'crucis': 3313, 'relation': 9922, 'esoteric': 4496, 'bias': 1902, 'friends': 5175, 'warm': 12747, 'stratified': 11327, 'relationships': 9925, 'monogamy': 7853, 'heal': 5720, 'cast': 2345, 'sectarian': 10555, 'nonsectarian': 8206, 'masons': 7477, 'fundamentally': 5223, 'phrases': 8895, 'intro': 6505, 'lrc': 7270, 'networking': 8115, 'charley': 2481, 'anarchist': 1218, 'spoken': 11135, 'jest': 6661, 'algorythims': 1114, 'correctable': 3154, 'reversable': 10157, 'astromomers': 1540, 'swift': 11561, 'butt': 2215, 'park': 8671, 'astromers': 1539, 'possiblities': 9111, 'receptors': 9793, 'mounted': 7920, 'reverse': 10158, 'sides': 10777, 'array': 1437, 'correspondance': 3164, 'mexico': 7658, 'hosting': 5923, 'spaceport': 11043, 'political': 9051, 'establish': 4504, 'infrastructure': 6331, 'commanding': 2751, 'dual': 4107, 'traditional': 12034, 'aerospace': 1008, 'equivalent': 4471, 'vapor': 12526, 'ware': 12745, 'inviting': 6537, 'tires': 11928, 'prepare': 9219, 'macdac': 7313, 'believable': 1846, 'readiness': 9738, 'occur': 8359, 'stephen': 11262, 'horan': 5910, 'shoran': 10737, 'nudists': 8279, 'upstanding': 12427, 'nudity': 8280, 'atf': 1561, 'enviroment': 4442, 'twilight': 12201, 'zone': 13158, 'amazes': 1169, 'backgrounds': 1705, 'observables': 8327, 'halat': 5618, 'x11': 13056, 'friendly': 5174, 'modeller': 7808, 'modellers': 7809, 'scene': 10462, 'tomek': 11966, 'condemn': 2900, 'examples': 4584, 'unpolluted': 12370, 'manufacturing': 7433, 'nazi': 8053, 'homosexuals': 5893, 'blacks': 1959, 'terrorized': 11738, 'imprisoned': 6185, 'slavery': 10882, 'imposed': 6174, 'morally': 7873, 'spending': 11103, 'destruction': 3705, 'terrorism': 11735, '_persude_': 743, 'logic': 7209, 'pointing': 9037, 'aspects': 1490, 'adequate': 950, 'housing': 5933, 'medical': 7581, 'aesthetic': 1009, 'uncluttered': 12280, 'transparent': 12080, 'milky': 7700, 'ablaze': 809, 'ghetto': 5353, 'squalor': 11157, 'dispair': 3906, 'hopes': 5907, 'misinterpretation': 7757, 'cutting': 3371, 'sentence': 10616, 'extreemist': 4705, 'ideals': 6033, 'challenge': 2446, 'ignores': 6064, 'extreemists': 4706, 'insistent': 6379, 'violent': 12653, 'chicago': 2506, '1968': 194, 'paranoia': 8662, 'viewpoint': 12636, 'masturbate': 7490, 'ammo': 1190, 'oven': 8564, 'hot': 5926, 'interpolation': 6481, 'craig': 3239, 'morioka': 7879, 'ayn': 1687, 'rand': 9668, 'russia': 10338, 'educated': 4216, 'education': 4217, 'certian': 2430, 'division': 3967, 'methodology': 7656, 'trapped': 12092, 'hegel': 5754, '8bit': 631, 'colormap': 2721, 'gamma': 5263, '24bit': 295, 'tricks': 12128, 'individual': 6273, 'withing': 12950, 'rasterized': 9691, 'feature': 4829, 'paint': 8619, 'global': 5392, 'approximations': 1367, 'select': 10584, 'indiavidual': 6254, '7x7': 595, 'cursor': 3362, 'planned': 8972, 'processed': 9325, 'lift': 7111, 'manuals': 7430, 'suggeeded': 11445, 'supernovae': 11493, '54': 495, 'rays': 9714, 'hafta': 5611, 'gammas': 5264, 'mpc': 7937, 'sn': 10932, 'extragalactic': 4703, 'closer': 2648, 'dunno': 4123, 'galaxies': 5255, '46': 445, 'erg': 4477, 'nah': 8010, 'energies': 4373, 'sport': 11142, 'cruise': 3315, 'missile': 7771, 'racks': 9631, 'sidewinder': 10779, 'bomb': 2017, 'ecm': 4183, 'suite': 11456, 'radar': 9632, 'stealth': 11246, 'demonstrator': 3617, '2d': 340, 'render': 9985, 'bezier': 1898, 'curves': 3365, 'circular': 2567, 'segments': 10579, 'polgons': 9045, 'incestuous': 6207, '0430': 19, '1500ut': 119, 'ir': 6553, 'vmd': 12682, 'ci043015': 2552, 'cv043015': 3374, 'viewable': 12631, '1400ut': 103, 'gui': 5566, 'enjoyed': 4393, 'wherin': 12866, 'helped': 5766, 'resuming': 10118, '________________________________________________________________________________': 688, '304a': 349, 'westgate': 12845, 'isu': 6601, 'ia': 6011, '50011': 476, '515': 484, '294': 331, 'dear': 3473, 'prospective': 9434, 'employer': 4340, 'seeking': 10571, 'employment': 4342, 'utilize': 12470, 'operating': 8445, 'bachelors': 1700, 'electrical': 4267, 'iowa': 6549, 'enrolled': 4407, 'ieee': 6053, 'transactions': 12053, 'magnetics': 7350, 'reflection': 9865, 'involving': 6543, 'fortran': 5102, 'ultrix': 12252, 'motif': 7902, 'multiplatform': 7960, 'toolkit': 11981, 'xvt': 13082, 'internals': 6473, 'xinu': 13069, 'tcp': 11661, 'ip': 6550, 'learnt': 7030, 'communication': 2780, 'grade': 5471, 'hours': 5929, 'curricular': 3359, 'activities': 921, 'goals': 5411, 'qualifications': 9571, 'eager': 4153, 'hear': 5727, 'sincerely': 10832, 'rajesh': 9657, 'rajsnr': 9659, 'iastate': 6014, 'resume': 10117, 'residence': 10064, '305': 350, 'coover': 3125, 'gpa': 5463, 'thesis': 11821, 'probability': 9307, 'detection': 3716, 'pod': 9029, 'eddy': 4198, 'nondestructive': 8200, 'nde': 8058, 'funded': 5224, 'faa': 4720, 'bangalore': 1739, 'udpa': 12234, 'numerical': 8286, 'estimating': 4511, 'vol': 12693, 'estimation': 4512, 'finite': 4917, '19th': 225, 'annual': 1259, 'progress': 9369, 'quantitative': 9578, 'conferance': 2917, 'diego': 3778, 'nakagawa': 8013, 'brunswick': 2144, 'implemention': 6155, 'electronic': 4274, 'circuits': 2566, 'architecture': 1392, 'pulse': 9508, 'artificial': 1457, 'introduction': 6510, 'supercomputing': 11484, 'recognition': 9803, 'microprocessors': 7676, 'signal': 10789, 'integrated': 6420, 'fork': 5079, 'scheduling': 10473, 'aging': 1046, 'processes': 9326, 'interrupt': 6488, 'driven': 4080, 'thorough': 11846, 'structured': 11365, 'subdirectories': 11395, 'accordingly': 876, 'mkdir': 7792, 'rmdir': 10238, 'ls': 7271, 'analysis': 1213, 'congestion': 2938, 'bellman': 1855, 'routing': 10301, 'nodes': 8190, 'udp': 12233, 'units': 12344, 'registers': 9898, 'adders': 937, 'multipliers': 7964, 'alu': 1162, 'toolkits': 11982, 'nist': 8176, 'modeling': 7807, 'electromagnetic': 4272, 'optimization': 8472, 'cray': 3246, 'ymp': 13118, 'boeing': 2012, 'trainee': 12044, 'indian': 6251, 'industries': 6282, 'microprocessor': 7675, '8085': 600, 'programmable': 9362, 'dialler': 3762, 'cordless': 3136, 'telephones': 11694, 'pulsing': 9510, 'relays': 9938, 'languages': 6961, 'hoops': 5903, 'sdrc': 10525, 'stellix': 11257, 'stellar': 11256, '3090j': 353, 'maspar': 7479, 'honours': 5898, 'ranked': 9676, 'entrance': 4435, 'examination': 4577, 'ensuring': 4414, 'pursue': 9538, 'matrox': 7513, 'pg': 8849, '1281': 82, 'cv': 3373, 'svga': 11549, 'oemsetup': 8374, 'inf': 6288, 'bockamp': 2008, 'informatik': 6320, 'tu': 12172, 'muenchen': 7953, 'kg': 6823, 'lb': 7012, 'lab': 6921, 'weighs': 12827, 'responding': 10091, 'rob': 10243, 'disclaimer': 3859, 'thingie': 11833, 'guidelines': 5570, 'intellect': 6424, 'chinese': 2515, 'italians': 6605, 'pasta': 8707, 'incredible': 6239, 'ofa123': 8376, 'fidonet': 4876, 'ex': 4569, 'prussian': 9474, 'konigsberg': 6896, 'enclave': 4349, 'baltic': 1730, 'coast': 2671, 'ships': 10727, 'rail': 9651, 'intrepid': 6503, 'traveller': 12098, 'accessible': 863, 'arrange': 1435, 'baube': 1776, 'ferment': 4854, 'optiplan': 8477, 'fermented': 4855, '68': 549, 'paris': 8669, 'retrospective': 10136, 'vandenberg': 12523, 'publicizing': 9497, 'beforehand': 1817, 'gpled': 5464, 'i386': 6008, 'i486': 6009, 'catalyst': 2358, 'netwide': 8113, 'counterparts': 3197, 'linux': 7150, 'legue': 7054, 'restrictive': 10110, 'litigation': 7175, 'patenting': 8713, 'practices': 9160, 'protecting': 9443, 'vital': 12676, 'continuing': 3053, 'compiler': 2815, 'pawning': 8730, 'eradicated': 4475, 'annals': 1248, 'hackery': 5605, 'countless': 3200, 'dime': 3809, 'purchasing': 9526, 'inept': 6284, 'cents': 2421, 'patiently': 8719, 'jean': 6643, 'liddle': 7098, 'jliddle': 6676, 'ilstu': 6099, 'reminds': 9974, 'fuzzy': 5244, 'recalls': 9785, 'reviving': 10170, 'marco': 7445, 'platform': 8983, 'kenya': 6813, 'copernicus': 3128, '1972': 197, 'imagining': 6120, 'italian': 6604, 'revive': 10168, 'rusty': 10340, 'ain': 1070, 'searching': 10537, 'dmorf': 3974, 'insight': 6373, 'dependent': 3645, 'wy': 13055, 'ours': 8541, 'nerver': 8102, 'vietnam': 12629, 'diety': 3783, 'warned': 12750, 'warn': 12749, 'scantily': 10455, 'documented': 3992, 'malarky': 7388, 'disgusting': 3889, 'interpret': 6482, 'filled': 4896, 'autmoatically': 1638, 'miscarriage': 7746, 'philology': 8866, 'hearts': 5732, 'goodness': 5437, 'irreconcilable': 6571, 'glorify': 5396, 'despise': 3697, 'snub': 10942, 'enkephalins': 4396, 'knowing': 6883, 'religosity': 9952, 'conclusively': 2898, 'sudden': 11437, 'affliction': 1019, 'suchg': 11433, 'reflective': 9867, '_correct_': 701, 'fanaticism': 4782, 'expression': 4692, 'selfishness': 10592, 'grains': 5479, 'radiators': 9638, 'remotely': 9977, 'warmer': 12748, 'ambient': 1171, 'dilution': 3807, 'radiant': 9634, 'starlight': 11208, 'implicate': 6157, 'sinning': 10842, 'baby': 1696, 'forgivance': 5074, 'amuzing': 1204, 'medieval': 7582, 'plato': 8986, 'probable': 9308, 'consciousness': 2970, 'brains': 2078, 'voluntarly': 12698, '_read_': 745, 'preach': 9177, 'sacred': 10351, 'cows': 3224, 'devils': 3746, 'immortal': 6133, 'planting': 8977, 'seeds': 10568, 'guiding': 5571, 'wager': 12720, 'hs': 5946, 'spirit': 11121, 'badly': 1711, 'deluded': 3594, 'gifted': 5366, 'democracy': 3606, 'totalitarian': 12005, 'regim': 9891, 'bbs': 1781, 'oak77': 8303, 'backup': 1707, 'existance': 4621, 'guys': 5589, 'didnt': 3774, 'socrates': 10954, 'cuz': 3372, 'babylonian': 1697, 'talmud': 11619, 'electricty': 4269, 'fyou': 5246, 'dragless': 4063, 'suspended': 11545, 'pilons': 8935, 'compensate': 2808, 'interestingly': 6457, 'adams': 930, 'nsmca': 8271, 'acad3': 850, 'alaska': 1094, 'jacked': 6619, 'nope': 8212, 'stacks': 11179, 'corel': 3138, 'draw': 4065, 'cdrom': 2391, 'ton': 11971, 'ammunition': 1192, 'hole': 5878, 'contributed': 3074, 'senile': 10605, 'forgotten': 5078, 'invincible': 6533, 'jog': 6682, 'generating': 5314, 'kinko': 6859, 'c5mw03': 2234, '9qr': 674, 'darkside': 3426, 'osrhe': 8532, 'uoknor': 12405, 'bil': 1918, 'okcforum': 8403, 'chooses': 2524, 'observe': 8333, 'influence': 6311, 'abstacted': 840, 'untainted': 12394, 'biases': 1904, 'scientist': 10491, 'nonsense': 8207, 'wonderfully': 12973, 'phrased': 8894, 'undermining': 12301, 'constructs': 3018, 'compliment': 2829, 'visiting': 12667, 'relevence': 9945, 'undermines': 12300, 'arrogant': 1445, 'examining': 4582, 'infinitely': 6306, 'photopaint': 8887, 'separately': 10623, 'unbiased': 12269, 'opposition': 8462, 'isa': 6579, 'thou': 11850, 'fallen': 4767, 'lucifer': 7277, 'didst': 3775, 'weaken': 12803, 'hast': 5686, 'thine': 11830, 'ascend': 1468, 'exalt': 4574, 'throne': 11866, 'stars': 11209, 'sit': 10845, 'congregation': 2941, 'heights': 5757, 'shalt': 10691, 'pit': 8948, 'sits': 10848, 'exhault': 4616, 'chasten': 2484, 'thyself': 11889, 'prince': 9284, 'persia': 8821, 'lo': 7187, 'chief': 2507, 'princes': 9285, 'kings': 6857, 'eze': 4716, 'lamentation': 6946, 'tyrus': 12221, 'saith': 10368, 'sealest': 10532, 'sum': 11458, 'eden': 4199, 'cious': 2560, 'sardius': 10400, 'topaz': 11985, 'dia': 3759, 'mond': 7846, 'beryl': 1880, 'onyx': 8432, 'jasper': 6637, 'sapphire': 10397, 'em': 4307, 'erald': 4476, 'carbuncle': 2313, 'workmanship': 12989, 'ta': 11590, 'brets': 2104, 'wast': 12768, 'anointed': 1263, 'cherub': 2503, 'covereth': 3216, 'midst': 7685, 'stones': 11292, 'till': 11909, 'iniquity': 6341, 'multitude': 7966, 'merchandise': 7623, 'sinned': 10839, 'profane': 9348, 'lifted': 7112, 'lay': 7005, 'behold': 1837, 'defiled': 3548, 'sanctuaries': 10387, 'iniquities': 6340, 'traffick': 12039, 'devour': 3753, 'ashes': 1473, 'sight': 10786, 'tonished': 11974, 'terror': 11733, 'dps': 4056, 'kodak': 6893, 'cite': 2579, 'netters': 8111, 'concave': 2867, 'polyhadra': 9064, 'solutions': 10982, 'parity': 8670, 'counting': 3199, 'angle': 1233, 'sumation': 11459, 'rough': 10292, 'solition': 10978, 'casting': 2347, 'consisting': 2995, 'polyhedra': 9065, 'tamminen': 11620, 'aided': 1067, '65': 540, 'prerequirement': 9224, 'facets': 4728, 'trangles': 12051, 'ensure': 4412, 'textbook': 11760, 'removal': 9978, 'facet': 4726, 'toward': 12015, 'yaohong': 13094, 'jiang': 6672, 'queen': 9594, 'kingston': 6858, 'ont': 8428, 'untrue': 12398, 'indoctrination': 6276, 'grasp': 5493, 'straws': 11330, 'faced': 4724, 'suffering': 11442, 'physiological': 8908, 'diminished': 3813, 'restarting': 10099, 'remind': 9972, 'obituary': 8311, 'sabin': 10348, 'rebroadcast': 9780, 'stricken': 11346, 'illness': 6082, 'admitted': 969, 'cried': 3274, 'critically': 3283, 'respirator': 10088, 'recovery': 9826, 'admire': 965, 'admitting': 971, 'weakness': 12806, 'asimov': 1480, 'nevertheless': 8127, 'unsubstantiated': 12388, 'frailty': 5134, 'socially': 10949, 'unacceptable': 12259, 'coexisting': 2687, 'punishments': 9521, 'scrictly': 10510, 'controled': 3081, 'censure': 2407, 'socialization': 10947, 'voluntarilly': 12697, 'manifests': 7413, 'weren': 12841, 'policing': 9047, 'dissengage': 3931, 'byproduct': 2223, 'institutionalized': 6402, 'culture': 3350, 'transition': 12067, 'squeamishness': 11159, 'bent': 1874, 'maximizing': 7523, 'freedoms': 5156, 'impinge': 6147, 'persue': 8834, 'mutually': 7981, 'ends': 4367, 'satisfy': 10419, 'territoriality': 11731, 'dominance': 4011, 'instincts': 6398, 'socialized': 10948, 'fears': 4825, 'continued': 3052, 'destabilization': 3700, 'consent': 2975, 'roll': 10259, 'stabilize': 11173, 'darwinian': 3429, 'selects': 10589, 'stability': 11172, 'maximizes': 7522, 'indiv': 6272, 'freed': 5154, 'ps': 9477, 'phil': 8860, 'trodwell': 12143, 'sided': 10776, 'indices': 6264, 'comprise': 2850, 'flag': 4949, 'vertex': 12600, 'transform': 12059, 'backface': 1703, 'elimination': 4290, 'polygon': 9061, 'bacfacing': 1698, 'polys': 9069, 'transformed': 12061, 'hither': 5853, 'projection': 9377, 'jules': 6755, 'tough': 12010, 'eyes': 4715, 'diligence': 3805, 'antiquarian': 1287, 'dust': 4127, 'jacket': 6620, 'condition': 2903, 'bookshop': 2029, 'random': 9669, 'estate': 4507, 'sale': 10372, 'advertisement': 996, 'bookseller': 2028, 'exact': 4570, 'escapes': 4492, 'rarest': 9686, 'ab': 794, 'surprised': 11528, 'hunting': 5981, 'eisa': 4252, 'hitch': 5851, 'anims': 1246, 'flics': 4983, 'ram': 9660, '64': 536, 'megs': 7593, 'meg': 7591, 'simms': 10812, 'studio': 11377, 'impulse': 6192, 'orchid': 8488, 'diamond': 3763, 'viper': 12656, 'ati': 1571, 'circumvent': 2575, 'individuals': 6275, 'peoples': 8772, 'represented': 10026, 'representatives': 10025, 'citizens': 2582, 'behaviours': 1832, 'legislated': 7049, 'verbally': 12576, 'consciously': 2969, 'picking': 8914, 'nose': 8225, 'oprah': 8464, 'winfrey': 12920, 'deduce': 3529, 'mad': 7329, 'trap': 12090, 'exceedingly': 4585, 'infusion': 6332, 'ethnic': 4525, 'cultures': 3351, 'australian': 1630, 'widening': 12890, 'sacrifice': 10352, 'domesticated': 4010, 'abhorrent': 803, 'multicultural': 7958, 'definable': 3549, 'environmental': 4444, 'globally': 5393, 'mores': 7877, 'instantiated': 6394, 'enforcable': 4376, 'sandvik': 10388, 'responds': 10092, 'venacular': 12567, 'feelings': 4843, 'arise': 1419, 'mutally': 7979, 'lie': 7099, 'hated': 5689, 'enter': 4418, 'court': 3209, 'imperfect': 6144, 'sinners': 10841, 'insignficant': 6374, 'pleasant': 9000, 'calling': 2256, 'acknowledge': 903, 'punishing': 9519, 'destructive': 3706, 'slap': 10877, 'forgive': 5075, 'hail': 5614, 'marys': 7472, 'category': 2364, 'immensely': 6130, 'incapable': 6204, 'whosoever': 12882, 'communicate': 2778, 'unifying': 12331, 'benefits': 1869, 'endless': 4364, 'imperfections': 6145, 'overcome': 8567, 'shortcomings': 10739, 'demonic': 3609, 'lastly': 6979, 'utmost': 12472, 'qualifies': 9573, 'heavenly': 5742, 'tail': 11603, 'goats': 5412, 'sheep': 10706, 'prophesy': 9415, 'depart': 3639, 'cornerstone': 3145, 'counted': 3192, 'inheritance': 6338, 'commandment': 2752, 'personalities': 8827, 'centeredness': 2412, 'unconditional': 12283, 'understands': 12305, 'leadership': 7022, 'lds': 7017, 'historicly': 5848, 'interpretations': 6484, 'mormonism': 7882, 'apostle': 1324, 'bruce': 2141, 'mcconkie': 7535, 'thrash': 11856, 'darkness': 3425, 'elohim': 4299, 'jehovah': 6648, 'promised': 9382, 'mortality': 7890, 'begotten': 1826, 'intellectualists': 6426, 'sectarians': 10556, 'misinformation': 7755, 'attested': 1601, 'writ': 13034, 'validity': 12508, 'designation': 3685, 'preserved': 9239, 'exalted': 4576, '367': 385, '_elohim_': 706, 'plural': 9013, 'connotes': 2964, 'supremacy': 11517, 'omnipotence': 8413, '224': 269, 'agreeing': 1053, 'talmage': 11618, 'restored': 10104, 'firstborn': 4932, '_jehovah_': 727, 'flesh': 4973, 'doctrinal': 3986, 'exposition': 4686, 'presidency': 9240, 'apostles': 1325, 'designate': 3684, '466': 447, 'preexistent': 9203, 'antemortal': 1278, 'unembodied': 12313, '471': 451, 'leaders': 7021, 'stressed': 11340, 'titles': 11938, '111': 60, 'kjv': 6865, 'hebrew': 5748, 'goddesses': 5418, 'translated': 12070, 'capital': 2301, 'exod': 4630, 'sam': 10380, 'gen': 5301, 'godly': 5422, 'mal': 7386, 'pronunciation': 9399, 'tetragrammation': 11756, 'yhwh': 13115, 'yhvh': 13114, 'vowel': 12703, 'adonai': 974, 'yahweh': 13090, 'yahveh': 13089, 'triune': 12140, 'rarely': 9685, 'verses': 12595, 'interpretation': 6483, 'verse': 12593, 'whom': 12880, 'spake': 11052, 'tongue': 11972, 'touched': 12008, 'footstool': 5050, 'lords': 7237, 'triumph': 12138, 'glory': 5398, 'messianic': 7642, 'prophecy': 9414, 'ye': 13099, 'detractors': 3726, 'parent': 8666, 'irrefutable': 6572, 'discomfiture': 3861, 'doth': 4034, 'inspiration': 6384, '_who': 770, 'interpreting': 6486, 'psalm': 9478, 'jehovah_': 6649, 'exaltation': 4575, 'forever': 5069, '101': 42, '102': 43, 'remark': 9963, 'pamphlet': 8633, '_what': 768, 'brackets': 2074, 'adon': 973, 'singular': 10837, 'righteousness': 10210, '_isaiah': 726, 'quoted': 9621, 'christ_': 2531, 'covenant': 3211, 'gentiles': 5329, '81': 603, 'lip': 7154, 'trusted': 12159, 'deliver': 3590, 'delighted': 3588, 'fulfillment': 5208, 'cross_': 3296, 'mocking': 7802, 'scribes': 10509, 'elders': 4260, 'thieves': 11829, 'crucified': 3312, 'teeth': 11687, '530': 491, '531': 492, 'follows': 5032, 'laugh': 6990, 'scorn': 10502, 'scorned': 10503, 'conniving': 2960, 'conspiring': 3002, 'plots': 9009, 'incident': 6209, 'judicial': 6751, 'trials': 12117, 'counsel': 3189, 'devised': 3749, 'bread': 2091, 'hath': 5690, 'heel': 5753, '532': 493, 'psalms': 9479, 'slander': 10876, 'reveals': 10150, 'requite': 10049, 'judas': 6740, 'pronouns': 9398, 'pronoun': 9393, 'prophecies': 9413, 'melchizedek': 7596, 'sworn': 11570, 'repent': 10002, 'priest': 9274, 'heb': 5747, 'atoning': 1586, 'isaiah': 6581, '_lord_': 731, 'laid': 6939, 'pleased': 9002, 'bruise': 2142, '234': 280, 'rightly': 10211, 'bruised': 2143, 'misinformed': 7756, 'untruth': 12399, 'scriptures': 10515, 'seed': 10567, 'hebrews': 5749, '143': 111, 'referenced': 9856, 'telleth': 11700, 'sleep': 10883, 'proceed': 9320, 'bowels': 2065, 'stablish': 11176, 'decree': 3524, 'heathen': 5738, 'uttermost': 12477, 'scripture': 10514, '_during': 705, 'written_': 13043, '182': 159, 'signifying': 10796, 'consecrated': 2972, '_jesus': 728, 'himself_': 5830, 'quoting': 9623, 'tidings': 11898, 'meek': 7586, 'ears': 4161, '183': 160, 'rulers': 10323, 'bind': 1931, 'brokenhearted': 2132, 'proclaim': 9331, 'liberty': 7089, 'captives': 2305, 'opening': 8441, 'prison': 9297, 'anointing': 1264, 'expose': 4682, 'redeemer': 9837, 'hosts': 5925, 'beside': 1882, 'liveth': 7181, 'pierced': 8926, 'mourn': 7922, 'mourneth': 7923, 'zech': 13143, 'cometh': 2742, '43': 431, 'acts': 924, 'delivered': 3591, 'joel': 6681, 'nazareth': 8052, 'whereby': 12860, 'thess': 11822, 'shepherd': 10712, 'ezek': 4717, 'saviour': 10433, 'blessed': 1972, 'tit': 11932, 'jer': 6653, 'kin': 6846, 'tim': 11910, '107': 49, 'prov': 9456, 'whereof': 12862, '_holy': 719, 'ghost_': 5355, '_said_': 747, '_is_': 725, '_saith': 748, 'lord_': 7236, 'judah': 6738, 'inward': 6545, '33': 365, 'moved': 7928, 'pet': 8843, 'moses': 7894, 'bush': 2205, '394': 401, 'isaac': 6580, 'memorial': 7607, 'generations': 5316, 'girded': 5369, 'everlasting': 4551, 'captivity': 2306, 'damascus': 3408, 'therein': 11811, 'deut': 3727, 'wherefore': 12861, 'dry': 4095, 'jon': 6695, 'rock': 10249, 'fainteth': 4749, 'weary': 12815, 'thereof': 11812, 'sing': 10834, 'praises': 9168, 'estol': 4513, 'rideth': 10200, 'jah': 6625, 'rejoice': 9915, 'yah': 13088, 'jahveh': 6627, '391': 400, 'baale': 1690, 'thence': 11793, 'ark': 1424, 'dwelleth': 4137, 'cherubims': 2504, 'stubble': 11371, 'shame': 10692, '83': 607, 'kingdoms': 6856, 'dwell': 4136, 'thereon': 11813, 'literal': 7170, 'sons': 11002, 'daughters': 3440, '473': 452, '_but': 700, 'creators_': 3263, 'delegated': 3575, '_in': 723, 'father_': 4806, 'delegation': 3577, 'crowning': 3306, 'creature': 3264, '_spirits': 756, 'flesh_': 4974, 'num': 8282, 'stretcheth': 11344, 'layeth': 7008, '_formeth': 714, 'him_': 5828, 'contend': 3035, 'wroth': 13046, '_souls': 754, 'made_': 7332, '_of': 740, '_formed': 713, 'womb_': 12967, 'maketh': 7384, '_created': 702, 'man_': 7397, 'shewed': 10715, 'mightest': 7689, 'el': 4258, 'giveth': 5375, 'womb': 12966, '_man': 732, 'created_': 3251, 'eth': 4519, 'taketh': 11610, '_i': 722, 'them_': 11789, 'mos': 7891, '_he': 717, 'adam_': 929, 'mor': 7870, '_men': 734, 'helping': 5770, 'noble': 8187, 'whereon': 12863, 'abra': 823, 'enoch': 4403, 'noah': 8185, '74': 578, '169': 142, 'spreadeth': 11149, 'abroad': 826, 'treadeth': 12101, 'waves': 12794, 'helpers': 5767, 'assisting': 1517, '135': 95, 'byu': 2228, 'dev': 3732, '1982': 206, 'peril': 8793, 'friendship': 5177, 'uttered': 12475, '335': 366, '306': 351, 'offered': 8383, 'requests': 10041, 'distress': 3945, 'cry': 3322, 'supplication': 11500, 'hallowed': 5622, 'perpetually': 8814, 'jeremiah': 6655, 'prophet': 9417, 'beseech': 1881, 'remnant': 9975, 'ear': 4155, 'attentive': 1600, 'servant': 10643, 'neh': 8088, 'kneeling': 6875, 'knees': 6876, 'twain': 12197, 'hezekiah': 5801, 'fifteen': 4881, 'hid': 5806, 'confess': 2920, 'transgressions': 12065, 'forgavest': 5072, 'mayest': 7528, 'idols': 6051, 'commit': 2767, 'adultery': 982, 'idolatry': 6050, 'praised': 9167, 'feared': 4822, 'perish': 8800, 'lest': 7068, 'snare': 10934, 'heed': 5752, 'josh': 6703, 'forsook': 5100, 'bowed': 2064, 'provoked': 9470, 'anger': 1231, 'jud': 6737, 'flood': 4994, 'amorites': 1196, 'forbid': 5052, 'forsake': 5098, 'warnings': 12752, 'worshiping': 13008, 'serving': 10655, 'covenants': 3212, 'ju': 6736, 'baalim': 1691, 'ashtaroth': 1475, 'syria': 11583, 'zidon': 13151, 'moab': 7799, 'ammon': 1191, 'philistines': 8865, 'redeem': 9835, 'mankind': 7419, 'wonders': 12975, 'attests': 1602, '109': 52, '47': 450, '56': 501, '77': 586, 'fielding': 4878, '279': 324, 'preached': 9178, 'trusting': 12161, 'bernard': 1877, 'brockbank': 2130, 'quorum': 9616, 'seventy': 10668, 'ensign': 4409, '163': 137, '270': 319, 'richards': 10191, 'godhead': 5420, 'forsaken': 5099, 'fountain': 5121, 'waters': 12779, 'garments': 5277, 'cor': 3135, 'dated': 3436, 'fritz': 5182, 'recommendations': 9809, 'simulataneous': 10822, '3270': 360, 'emulation': 4345, '16mb': 143, 'token': 11954, 'ethernet': 4520, 'mouse': 7924, 'car': 2310, 'labels': 6924, 'solid': 10972, 'measuring': 7568, 'hyper': 5997, 'gut': 5586, 'discriminate': 3876, 'instinctively': 6397, 'vegetarianism': 12558, 'listened': 7163, 'sarcastic': 10399, 'innuendo': 6353, 'tease': 11674, 'taunt': 11649, 'chip': 2517, 'belonged': 1859, 'patience': 8717, 'questioned': 9602, 'shovelling': 10754, 'lamented': 6947, 'initial': 6342, 'satisfactions': 10415, 'heaping': 5726, 'nobody': 8188, 'kibo': 6829, 'rec': 9783, 'illuminati': 6087, 'kitten': 6863, 'staged': 11183, 'spaceplane': 11042, 'ramjets': 9664, 'counselling': 3190, 'biased': 1903, 'providing': 9465, 'comfortable': 2745, 'adoption': 977, 'feasable': 4827, 'reduce': 9844, 'eliminate': 4287, 'afford': 1020, 'pregnancy': 9211, 'unborn': 12271, 'footing': 5049, 'conscience': 2967, 'fund': 5219, 'removing': 9981, 'lowered': 7264, 'debt': 3482, 'refusing': 9881, 'affordable': 1021, 'refused': 9879, 'natal': 8030, 'delivery': 3592, 'finishing': 4916, 'entering': 4420, 'productivity': 9345, 'mentally': 7616, 'incompetant': 6222, 'fetus': 4865, 'biologically': 1938, 'nutrients': 8293, 'digested': 3800, 'breathed': 2100, 'awareness': 1672, 'conceivable': 2870, 'suffereing': 11441, 'asking': 1485, 'threads': 11858, 'verge': 12579, 'diplomacy': 3819, 'roger': 10255, 'penrose': 8768, 'algorithmic': 1112, 'physics_': 8906, '_has_': 716, 'wavefunctions': 12790, 'collapse': 2701, 'illusions': 6092, 'obviouslu': 8347, 'viewpoints': 12637, 'ponder': 9073, 'evolutionary': 4563, 'realising': 9751, 'worms': 13000, 'behave': 1828, 'synthesis': 11582, 'elegans': 4279, 'elements': 4282, 'worm': 12999, 'skarda': 10861, 'freeman': 5159, '1987': 211, 'chaotically': 2462, 'randomness': 9671, 'evolve': 4565, 'nurture': 8290, 'conscious': 2968, 'neurologists': 8119, 'neuropsychologists': 8122, 'repeating': 10000, 'qm': 9565, '_brains': 698, 'computers_': 2863, 'guidance': 5567, 'intelligence': 6427, 'appearances': 1335, 'cortex': 3171, 'v2': 12498, 'firing': 4927, 'idle': 6047, 'subjective': 11398, 'observed': 8334, 'neuronal': 8120, 'kalat': 6784, 'stimulation': 11277, 'led': 7039, 'septal': 10628, 'stimulated': 11276, 'psychiatric': 9485, 'cured': 3353, 'depression': 3654, 'seduce': 10565, 'girlfriend': 5371, 'stimulations': 11278, 'temporal': 11709, 'lobe': 7197, 'embarrassing': 4312, 'flirting': 4991, 'therapist': 11805, 'activated': 917, 'afterthought': 1031, 'delay': 3570, '350': 374, 'fruitful': 5190, 'observing': 8337, 'recognising': 9802, 'handwritten': 5644, 'sorting': 11011, 'identity': 6039, 'swap': 11552, 'roles': 10258, 'unconsciously': 12284, 'newly': 8138, '_homo_': 720, 'altruistic': 1161, 'collapsed': 2702, 'superpositions': 11494, 'aeons': 1006, 'wadsworth': 12718, 'belmont': 1857, 'bringing': 2119, '187': 165, '202': 243, 'chaos': 2460, 'behavioral': 1830, '161': 136, 'mrs': 7942, 'leary': 7031, 'cow': 3220, 'knocked': 6880, 'lantern': 6962, 'unshielded': 12385, 'wastes': 12771, '_money_': 736, 'taxpaper': 11655, 'ruined': 10319, 'bunge': 2188, 'frequently': 5168, 'parameter': 8659, 'quit': 9614, 'silliness': 10803, 'tetrafluoroethylene': 11755, 'tank': 11625, 'valve': 12516, 'gummed': 5580, 'polymerized': 9067, 'seals': 10533, 'linings': 7146, 'frypans': 5192, '60s': 528, 'recruitment': 9828, 'soliciting': 10971, 'membership': 7604, 'kibology': 6830, 'chopped': 2525, 'liver': 7179, 'summed': 11464, 'candy': 2285, 'mint': 7730, 'floor': 4995, 'wax': 12796, 'spam': 11053, 'slack': 10874, 'b0b': 1688, 'funny': 5231, '__': 679, 'capitaland': 2302, '___': 680, 'kasprzak': 6794, 'operator': 8450, 'troy': 12148, '____': 681, 'sympathize': 11573, 'motivations': 7909, 'infatuation': 6297, 'kasprj': 6793, 'mts': 7949, 'xv221exe': 13078, 'exe': 4605, 'go32': 5409, 'halts': 5625, 'wolfram': 12963, 'deans': 3472, 'picnic': 8917, 'norad': 8214, 'celestial': 2402, '513': 482, '427': 428, '0674': 25, 'daily': 3401, 'tracking': 12027, 'accessed': 862, '300': 343, '1200': 70, '2400': 285, '4800': 456, '9600': 657, 'bps': 2072, 'afit': 1023, 'af': 1011, '66': 543, '22640u': 275, '93119': 647, '24999999': 294, '00041555': 3, '00000': 2, '12437': 74, '22640': 274, '4657': 446, '249': 291, '3697': 388, '0008512': 5, '260': 311, '9747': 665, '152': 122, '1416': 106, '90732913': 637, '425': 427, 'piclab': 8916, 'displays20': 3918, 'bounced': 2056, 'hpldsla': 5942, 'ricky': 10196, 'vnet': 12684, 'ran': 9667, 'equating': 4463, 'havn': 5702, 'subscribing': 11409, 'wier': 12896, 'grateful': 5495, 'antone': 1291, 'institution': 6400, 'pbenson': 8737, 'cscihp': 3332, 'ecst': 4192, 'csuchico': 3342, 'glen': 5388, 'moore': 7867, 'wollongong': 12964, '213151': 258, 'gkm': 5378, 'uow': 12406, 'italy': 6606, 'provinces': 9466, 'freehand': 5157, 'yaw': 13096, 'pushy': 9545, 'hed': 5751, 'powerfull': 9148, 'lasergraphics': 6975, 'coca': 2677, 'cola': 2698, 'logo': 7214, 'target': 11639, 'billions': 1925, 'focusing': 5020, 'positional': 9100, 'craft': 3236, 'resolving': 10072, 'altogether': 1160, 'coincidence': 2695, 'corner': 3143, 'triangulated': 12119, 'arrival': 1441, 'predominantly': 9202, 'determined': 3723, 'timing': 11918, 'baste': 1770, 'independant': 6243, 'angular': 1236, 'parallax': 8655, 'demonstrating': 3615, 'puppies': 9522, 'oort': 8435, 'cloud': 2655, 'arcseconds': 1400, 'postulated': 9129, 'extend': 4693, 'parsec': 8674, 'baseline': 1763, 'watches': 12774, 'simultaneously': 10828, 'realy': 9763, 'combo': 2735, 'calculator': 2248, 'simplified': 10818, 'flux': 5009, '43e': 438, 'ergs': 4479, 'cm': 2664, 'duration': 4124, 'frst': 5189, '10e': 55, 'luminosity': 7289, 'spheres': 11107, '25pc': 308, '5pc': 517, 'corona': 3146, '8800mpc': 625, 'fluence': 5003, 'standby': 11195, 'formula': 5093, 'pi': 8910, 'fpeak': 5125, 'energetic': 4371, 'coronal': 3147, 'cosmological': 3176, 'moderately': 7815, 'jeremy': 6656, '1r3tqo': 232, 'ook': 8433, 'horus': 5919, 'ap': 1307, 'mchp': 7540, 'sni': 10938, 'correlated': 3161, 'irrational': 6569, 'absolutes': 836, 'fanatism': 4784, 'fanatic': 4780, 'fanatics': 4783, 'loook': 7229, 'ideology': 6042, 'invalidate': 6514, 'stalin': 11187, 'invalidates': 6515, 'bogus': 2013, 'conspicuous': 2999, 'analogy': 1211, 'correlation': 3162, 'theistic': 11786, 'gullibility': 5578, 'scepticism': 10465, 'indicators': 6263, 'cynical': 3390, 'manipulators': 7418, 'gullible': 5579, 'incredibly': 6240, 'onus': 8431, 'sunshine': 11479, 'closely': 2647, 'epidemic': 4452, 'camel': 2266, 'thru': 11874, 'needle': 8076, 'wealthy': 12809, 'inch': 6208, 'brands': 2086, 'brush': 2145, 'censorship': 2406, 'restriction': 10108, 'farm': 4794, 'innate': 6348, 'sneak': 10935, 'groping': 5537, 'specialty': 11070, 'shit': 10729, 'sherlock': 10713, 'attraction': 1609, 'causing': 2379, 'meaningfully': 7555, 'challenged': 2447, 'tirade': 11926, 'split': 11130, 'excitable': 4597, 'blah': 1960, 'protects': 9446, 'oneself': 8424, 'slur': 10910, 'fanatical': 4781, 'implying': 6167, 'assertions': 1504, 'wingate': 12922, 'lend': 7057, 'glaring': 5384, 'paradox': 8653, 'oval': 8563, 'begging': 1820, 'hey': 5799, '_refutation_': 746, 'unusually': 12402, 'pythagoras': 9552, 'zillions': 13152, 'pitfalls': 8949, 'contrary': 3069, 'proofs': 9401, 'contradict': 3062, 'evaluate': 4539, 'axioms': 1684, 'demon': 3608, 'ala': 1088, 'parse': 8673, 'consistency': 2993, 'ratiional': 9698, 'predictions': 9200, 'rationality': 9705, 'proving': 9467, 'therfore': 11814, 'godel': 5419, 'typing': 12216, 'patently': 8714, 'counterexample': 3195, 'axiomatic': 1683, 'datum': 3438, 'lends': 7058, 'refuted': 9884, 'axiom': 1682, 'dreaming': 4073, 'possibilities': 9108, 'interwoven': 6499, 'assumptions': 1528, 'demands': 3604, 'antirational': 1289, 'traditonal': 12036, 'entities': 4432, 'exercise': 4614, 'treatment': 12107, 'prohibit': 9372, 'formulating': 5097, 'ergo': 4478, 'affinity': 1018, 'hypothesis': 6004, 'formalise': 5082, 'dismissed': 3901, 'amalekites': 1166, 'idolaters': 6049, 'peculiar': 8756, 'entails': 4417, 'neighbours': 8092, 'asserts': 1505, 'dissenters': 3932, 'anymore': 1299, 'err': 4484, 'genocides': 5327, 'ordered': 8491, 'attracting': 1608, 'believers': 1850, '1993may14': 222, '023220': 12, 'vax1': 12548, 'apryan': 1372, 'hmmm': 5864, 'atlantis': 1575, '_wish_': 771, 'misconception': 7749, 'endows': 4366, '_should_': 750, 'clutter': 2663, 'br': 2073, 'wpr': 13025, 'atlanta': 1573, 'dg': 3757, 'rawlins': 9710, 'dgsid': 3758, 'ga': 5247, 'exclude': 4598, 'creationists': 3257, 'distortions': 3944, 'truths': 12163, 'apes': 1311, 'fancifully': 4785, 'reconstructed': 9818, 'fragments': 5133, 'realted': 9761, 'primates': 9279, 'atonement': 1585, 'atone': 1584, 'flower': 4999, 'cowpoop': 3223, 'batf': 1771, 'loosing': 7233, 'grenades': 5522, 'allegedly': 1128, 'stun': 11383, 'promptly': 9391, 'detonated': 3725, 'tapes': 11632, 'shooting': 10735, 'breaking': 2093, 'tossing': 12003, 'notions': 8245, 'worn': 13001, 'arms': 1427, 'assaulting': 1497, 'bittrolff': 1953, 'dta15': 4104, 'krzysztof': 6913, 'filters': 4903, 'roberts': 10246, 'prewitt': 9267, 'sobel': 10944, 'highpass': 5820, 'detecting': 3715, '_digital': 703, 'processing_': 9328, 'rafael': 9647, 'gonzalez': 5435, 'addison': 940, 'wesley': 12842, '50803': 478, 'grad': 5470, 'dificult': 3797, 'ee': 4220, 'sensing': 10612, 'microwave': 7681, 'emmissivity': 4328, 'ice': 6021, 'calibration': 2251, '60k': 527, 'blackbody': 1958, 'pert': 8835, 'gant': 5269, 'gao': 5270, 'budgets': 2161, 'failing': 4745, 'adequately': 951, 'measure': 7563, 'developement': 3735, 'allin': 1130, 'pour': 9138, 'sector': 10559, 'engage': 4379, 'tech': 11675, 'construction': 3015, 'hte': 5954, 'ssc': 11165, 'overweight': 8580, 'solo': 10979, 'investigators': 6529, 'direly': 3835, 'ds': 4097, 'reserach': 10059, 'stale': 11186, 'odl': 8373, 'eve': 4544, 'protanopia': 9440, 'dysfunction': 4146, 'cones': 2912, 'wavelengths': 12792, 'violet': 12655, 'discrimination': 3877, 'reds': 9843, 'dimmer': 3815, 'deuteranopia': 3729, 'dysfunctional': 4147, 'cone': 2911, 'signals': 10790, 'retina': 10126, 'unaffected': 12261, 'uniform': 12329, 'chromaticity': 2542, 'diagram': 3760, 'horseshoe': 5918, 'deficiency': 3546, 'radiating': 9636, 'investigations': 6527, 'precise': 9189, 'setup': 10664, 'solved': 10984, 'affected': 1016, 'axis': 1685, 'disorder': 3905, 'protanopes': 9439, 'joins': 6692, '473nm': 453, '574nm': 510, 'spectral': 11083, 'locus': 7205, 'deuteranopes': 3728, 'joining': 6691, '477nm': 454, '579nm': 511, 'simulated': 10823, 'duuteranopia': 4131, 'intersection': 6491, 'meyer': 7659, 'greenberg': 5517, 'defective': 3537, 'cie': 2556, 'xyz': 13085, 'chromaticities': 2541, 'phosphors': 8877, 'manufacturer': 7432, 'lookup': 7227, 'tables': 11592, 'matrix': 7512, 'multiplication': 7963, 'retaining': 10125, 'coordinates': 3124, '4x': 471, '15y': 130, '3z': 412, '9y': 676, 'equation': 4464, 'grey': 5524, 'displayable': 3914, 'presupposes': 9252, 'ramjet': 9663, 'unproven': 12371, 'infinite': 6305, 'desicion': 3682, 'creates': 3253, 'indirectly': 6269, 'analogue': 1210, 'patented': 8712, 'righteous': 10209, 'likes': 7128, 'flock': 4993, 'hmmmmmmmmmmmm': 5866, 'qrttoppm': 9568, 'ppmtotga': 9154, 'conference': 2918, 'verified': 12584, 'predominant': 9201, 'constraint': 3012, 'pat': 8708, 'eight': 4247, 'retrain': 10130, 'reschedule': 10051, 'eva': 4538, 'execpt': 4607, 'oms': 8418, 'omv': 8419, 'axaf': 1679, 'scaled': 10446, 'relate': 9918, 'gruen': 5553, 'minute': 7732, 'promises': 9383, 'opened': 8440, 'realised': 9750, 'deluding': 3595, 'fearful': 4823, 'sillily': 10802, 'disguise': 3886, 'givin': 5376, 'demanding': 3603, 'suspension': 11546, '_believe_': 696, 'herself': 5794, 'revelations': 10152, 'refuses': 9880, 'folly': 5035, 'fools': 5044, '_am_': 692, 'entertain': 4424, '_accept_': 690, 'unwise': 12404, 'swallow': 11551, 'unicorn': 12327, 'gipu': 5368, 'omnipotent': 8414, 'omnipresent': 8416, 'worried': 13002, 'doomed': 4023, 'grounds': 5542, 'starters': 11213, '_that_': 758, 'proponents': 9421, 'ruining': 10320, 'permanently': 8804, 'levelled': 7075, 'increace': 6232, 'sattelites': 10421, 'math': 7501, 'sps': 11154, 'ending': 4363, 'frenzied': 5165, 'activists': 920, 'cis': 2578, 'worrisome': 13003, 'scattering': 10459, 'outcry': 8547, 'inhabitants': 6335, 'winter': 12930, 'murmansk': 7972, 'stripped': 11354, 'buck': 2153, 'naked': 8014, 'uv': 12485, 'vitamin': 12677, 'crass': 3244, 'polaroid': 9044, 'gadget': 5249, 'transfering': 12057, 'fletch': 4975, 'lbs': 7013, '861': 617, 'contingency': 3048, 'ksc': 6914, 'edwards': 4219, 'garym': 5279, 'demonstrated': 3613, 'devise': 3748, 'irrevelant': 6577, 'remains': 9962, 'brings': 2120, 'investigation': 6526, 'investigate': 6525, 'montage': 7859, '35mm': 380, 'recorder': 9822, 'hpgl': 5941, 'raster': 9690, 'jussi': 6770, 'scanning': 10453, 'altering': 1151, 'negatives': 8081, 'urso': 12434, 'bitter': 1951, 'utter': 12474, 'blahness': 1961, 'cheerful': 2496, 'undertones': 12309, 'photostyler': 8890, 'developers': 3737, 'rectangle': 9829, 'parallelogram': 8657, 'c1': 2230, 'c2': 2233, 'constants': 3005, 'rectangles': 9830, 'parallelograms': 8658, 'seperately': 10626, 'encloses': 4350, 'nettleton': 8112, 'durham': 4125, 'lioness': 7152, 'maple': 7438, 'ufl': 12235, 'pmartz': 9017, 'dsd': 4098, 'es': 4490, 'martz': 7470, 'inclusive': 6217, 'stencil': 11260, 'buffered': 2164, 'stereo': 11265, 'disks': 3897, 'recognized': 9805, 'pusher': 9542, 'nih': 8169, 'pds': 8749, 'delcano': 3574, 'binhex': 1933, 'stuffit': 11381, 'starhawk': 11205, 'image148': 6103, 'image1455': 6102, 'communism': 2783, 'empires': 4336, 'judging': 6748, 'importantly': 6171, 'guidebook': 5569, 'hypothetical': 6005, 'utopia': 12473, 'gains': 5252, 'inconsiderable': 6224, 'kendig': 6811, 'declares': 3507, 'greek': 5513, 'annointed': 1253, 'annoint': 1252, 'rub': 10313, 'anoint': 1262, 'impl': 6149, 'consecrate': 2971, 'arguement': 1411, 'xtian': 13076, 'highlights': 5818, 'xtainity': 13074, 'abundantly': 845, 'xtains': 13075, 'illogical': 6083, 'tactics': 11597, 'rapidly': 9682, 'senses': 10610, 'fruitless': 5191, 'comfort': 2744, 'addict': 938, 'opium': 8453, 'coz': 3225, 'tan': 11623, 'chade': 2441, 'meng': 7612, 'singapore': 10835, 'cmtan': 2667, 'iss': 6596, 'nus': 8291, 'sg': 10679, 'alteer': 1148, 'iraqi': 6558, 'nitpicking': 8177, 'contending': 3037, 'pesticides': 8842, 'iran': 6556, 'conquer': 2965, 'iraq': 6557, 'hypocrisy': 6002, 'angry': 1234, 'interfere': 6462, 'duty': 4130, 'timor': 11921, 'region': 9893, 'destabilised': 3699, 'approaching': 1360, 'reservations': 10060, 'uncessary': 12276, 'civillian': 2589, 'casualites': 2351, 'wholly': 12879, 'affect': 1015, 'indicating': 6258, 'orginally': 8507, 'troop': 12144, 'concentrations': 2877, 'equally': 4462, 'reborn': 9779, 'vq': 12708, 'tiling': 11908, 'spelled': 11099, 'killings': 6842, 'assassination': 1496, 'workers': 12987, 'reaching': 9728, 'bar': 1748, 'markedly': 7456, 'contributing': 3075, 'historian': 5843, 'avowed': 1666, 'ireland': 6560, 'dictated': 3769, 'versa': 12591, 'poetry': 9032, 'fallacious': 4764, 'jeffrey': 6647, 'cook': 3115, 'lazlo': 7011, 'nibble': 8158, 'paving': 8729, 'glass': 5385, 'lichtenstein': 7095, 'capitalism': 2303, 'desires': 3695, 'glassed': 5386, 'billsats': 1927, 'exposing': 4685, 'genitals': 5323, 'parties': 8686, 'chuckle': 2547, 'notices': 8240, 'nic': 8159, 'funet': 5228, 'astroftp': 1538, 'txt': 12209, 'simtel': 10820, 'mirroring': 7740, 'helsinki': 5772, 'univ': 12345, 'ursa': 12432, 'spacecraf': 11032, 'spacelink': 11041, 'vicar': 12617, 'arp': 1433, 'anu': 1293, '211': 254, '164': 138, 'baboon': 1695, 'nrao': 8262, 'aips': 1071, 'patches': 8710, 'radioastronomy': 9643, '115': 65, '103': 46, 'scs': 10519, 'rosat': 10277, 'starchart': 11201, '174': 149, 'ccu1': 2388, 'aukuni': 1623, 'nz': 8299, '216': 262, 'overseas': 8576, 'chara': 2467, 'gsu': 5556, 'electronical': 4275, 'asa': 1467, '131': 90, 'sac': 10349, 'explorer': 4674, 'viking': 12645, 'cdroms': 2392, 'xephem': 13060, 'epona': 4457, 'ucg': 12227, '203': 245, 'miscellaneous': 7747, 'cicb': 2554, 'cco': 2387, 'caltech': 2259, '215': 261, '149': 114, 'cp': 3226, '214': 259, 'hp48': 5940, 'uni': 12326, 'kl': 6866, 'iauc': 6015, 'vista': 12669, 'reduction': 9848, '246': 287, 'garbo': 5274, 'uwasa': 12490, '87': 619, 'gipsy': 5367, 'vmars': 12681, 'tuwien': 12195, 'spacegifs': 11037, 'hanauma': 5632, 'astropix': 1554, 'hysky1': 6006, 'stmarys': 11284, 'ecu': 4194, '184': 162, 'pcstuff': 8744, 'idlastro': 6046, 'gsfc': 5555, 'idl': 6045, '82': 606, 'iraf': 6555, 'noao': 8186, '252': 302, 'julius': 6757, 'qub': 9591, 'spacedigestarchive': 11034, 'rata': 9692, 'vuw': 12712, '195': 185, 'kilroy': 6845, '165': 139, 'ns3': 8268, 'hq': 5943, 'eso': 4495, '134': 94, '171': 147, 'testimages': 11748, 'nssdca': 8273, 'iue': 6612, 'spacewarn': 11049, 'plaza': 8997, 'docs': 3982, 'pomona': 9070, 'claremont': 2598, 'yale': 13091, '160': 132, 'yale_bsc': 13092, 'pubinfo': 9491, 'nrl': 8264, 'macscitech': 7326, 'rascal': 9689, 'ics': 6025, 'utexas': 12462, '138': 97, 'rigel': 10207, 'rusmv1': 10336, 'rus': 10333, 'stuttgart': 11388, '69': 555, 'educ': 4214, 'cpm': 3228, 'sol': 10960, 'deakin': 3466, 'chyde': 2551, 'solbourne': 10963, 'rp': 10305, 'stardent': 11202, 'martian': 7465, 'stsci': 11370, 'hstmap': 5952, '167': 140, 'sun0': 11469, 'urz': 12435, 'heidelberg': 5755, '206': 247, '126': 77, 'techreports': 11684, 'langley': 6959, '155': 124, 'tetra': 11754, 'fitsio': 4940, 'subroutines': 11406, 'unbmvs1': 12270, 'csd': 3334, 'unb': 12266, 'geodesy': 5334, 'canspace': 2289, '98': 666, 'wx': 13054, 'std': 11238, 'codes': 2681, 'xi': 13066, 'uleth': 12246, 'auroral': 1625, 'forecast': 5062, '142': 107, 'emission': 4323, 'abbreviations': 799, 'label': 6922, 'pauline': 8727, 'vax': 12546, 'ibmpc': 6019, 'archetype': 1389, 'finn': 4919, 'paine': 8615, 'staceys': 11177, 'cleanlighted': 2619, 'daltons': 3404, 'placed': 8958, 'thriller': 11863, 'bluntly': 1994, 'bandied': 1735, 'tea': 11665, 'anagram': 1207, 'malek': 7391, 'wit': 12943, 'pencil': 8764, 'scanline': 10450, 'painter': 8621, 'bsp': 2148, 'buffer': 2163, 'radiosity': 9645, 'holographic': 5884, 'cob': 2674, 'tsto': 12169, 'conceptual': 2882, 'eto': 4527, 'iaf': 6012, '0639': 24, 'weldon': 12835, 'fink': 4918, 'fueled': 5202, 'efficiencies': 4229, 'liquid': 7156, 'hydrogen': 5995, 'airplane': 1081, '9995': 672, 'foot': 5045, 'transport': 12082, 'hsct': 5948, 'turbofans': 12185, '108': 50, 'trapeze': 12091, 'belly': 1856, 'accommodate': 868, 'expendable': 4640, 'accelerates': 852, 'mach': 7317, 'catalyzed': 2359, 'jp': 6710, 'elv': 4305, 'swing': 11564, 'ignite': 6059, 'respective': 10085, 'estimated': 4510, 'combined': 2733, 'takeoff': 11608, 'equivalanet': 4470, '225': 271, '400': 414, 'klbs': 6869, 'lox': 7267, 'subcooled': 11394, 'vacuum': 12505, 'engines': 4386, 'propellants': 9407, 'spherical': 11108, 'seat': 10542, 'aft': 1028, 'structurally': 11363, 'airframe': 1078, 'compact': 2789, 'tankage': 11626, 'supercooled': 11487, 'hydrocarbon': 5994, 'compares': 2798, 'recurring': 9831, 'cheaper': 2487, 'risky': 10228, 'versatility': 12592, 'conlcude': 2952, 'ferry': 4859, 'airline': 1079, 'operations': 8449, 'airbreather': 1073, 'operationally': 8448, 'viable': 12613, 'hthl': 5955, 'sdio': 10524, 'bid': 1912, 'spacelifter': 11040, 'threaten': 11860, 'straighten': 11316, 'transportation': 12084, 'mdc': 7548, 'firms': 4930, 'factions': 4735, 'vying': 12713, 'upgrades': 12414, 'ales': 1105, 'nasp': 8028, 'fsts': 5194, 'sstos': 11169, 'dod': 3994, 'coherent': 2692, 'juggle': 6752, 'considerations': 2985, 'leap': 7026, 'frog': 5184, 'dozens': 4054, 'versus': 12599, 'draft': 4058, 'fiscal': 4934, 'akin': 1086, '280': 326, 'photo': 8879, 'gear': 5293, 'oversampling': 8575, 'profressional': 9359, 'photographers': 8881, 'roommate': 10272, 'flagship': 4950, 'iris': 6561, 'crimson': 3277, '5000': 475, 'sigh': 10785, 'vgx': 12610, 'boys': 2071, 'performance': 8787, 'periodic': 8795, 'bitmap': 1948, 'stretching': 11345, 'leatham': 7033, 'redmond': 9842, 'wa': 12714, 'd91tm': 3394, 'efd': 4223, 'lth': 7275, 'boycott': 2069, 'discover': 3869, 'gauged': 5287, 'incensed': 6206, 'carl': 2326, 'starving': 11217, 'richest': 10192, 'noone': 8211, 'mentions': 7620, 'hoffer': 5870, 'legend': 7046, 'neatly': 8065, 'paradigm': 8650, 'conveyed': 3105, 'understandably': 12303, 'underlying': 12299, 'mythical': 8000, 'followups': 5034, 'obligated': 8321, 'surmise': 11526, 'faqs': 4791, 'penn': 8767, 'kampus': 6787, 'krusade': 6910, 'khrist': 6828, 'vocal': 12687, 'krusaders': 6911, 'liberals': 7087, 'bangers': 1741, 'banger': 1740, 'louder': 7251, 'scans': 10454, 'midwest': 7687, 'sanners': 10392, 'softimage': 10957, 'wavefront': 12788, 'accessing': 864, 'adventure': 993, 'hereby': 5783, 'fraternity': 5147, 'homework': 5888, 'descend': 3665, 'rosenkreuz': 10279, 'rosy': 10284, 'alchemical': 1098, 'masonic': 7476, 'tinges': 11924, 'cathars': 2366, 'heretic': 5786, 'sect': 10554, 'flourished': 4997, '12th': 86, 'zeal': 13140, 'disillusion': 3892, 'worldly': 12996, 'clerics': 2625, 'largely': 6965, 'unseemly': 12384, 'pomp': 9071, 'splendor': 11127, 'catharism': 2365, 'ave': 1654, 'avenue': 1655, 'influential': 6315, 'wanna': 12737, 'askin': 1484, 'costigan': 3182, 'commision': 2765, 'corruption': 3170, 'exodus': 4631, 'sabbath': 10347, 'leviticus': 7078, 'steak': 11243, 'friday': 5171, 'deutromony': 3731, 'harm': 5672, '33mhz': 369, 'advantageous': 990, 'coreldraw': 3139, 'imports': 6172, 'alot': 1141, 'clipart': 2636, 'referencing': 9858, 'artistically': 1462, 'deprived': 3655, 'hughes': 5962, 'buffering': 2165, 'animating': 1242, 'refresh': 9872, 'macdraw': 7314, 'update': 12409, 'foreground': 5063, 'thssstb': 11878, 'iitmax': 6071, 'iit': 6070, 'portland': 9096, 'oregon': 8498, '456': 443, 'indexed': 6248, 'enlarged': 4399, '1959': 188, 'properties': 9411, 'astrophysics': 1553, 'bristling': 2121, 'integrals': 6418, 'differentials': 3789, 'formulas': 5095, 'imbedded': 6124, 'emphasizes': 4334, 'guarantee': 5557, 'retired': 10127, 'bachelor': 1699, 'compounds': 2839, 'postulates': 9130, 'dimensions': 3812, 'conforms': 2932, 'relations': 9923, 'ordinary': 8494, 'commutative': 2787, 'magnitudes': 7354, 'euclidean': 4530, 'theoretical': 11798, 'photons': 8886, 'subatomic': 11393, 'elliptical': 4297, 'combining': 2734, 'outward': 8562, 'scalar': 10442, 'motions': 7904, 'translational': 12072, 'vibrational': 12615, 'rotational': 10289, 'exploding': 4669, 'quasars': 9590, 'astrophysicists': 1552, 'neutron': 8125, 'degenerate': 3560, 'quantum': 9587, 'wave': 12786, 'relativistic': 9931, 'doppler': 4027, 'shifts': 10721, 'fantasies': 4788, 'uncertainty': 12275, 'declarations': 3504, 'divided': 3962, 'chapters': 2466, 'globular': 5395, 'clusters': 2661, 'intergalactic': 6465, 'cosmic': 3175, 'supernova': 11492, 'devoted': 3750, 'densely': 3633, 'packed': 8604, 'ejected': 4255, 'bulges': 2179, 'originated': 8519, 'pulsars': 9507, 'bulge': 2178, 'uniformly': 12330, 'directional': 3826, 'originate': 8518, 'dimension': 3810, 'paraphrases': 8665, '351': 375, 'superscripted': 11495, 'identifying': 6038, 'journey': 6707, 'william': 12904, 'hartmann': 5681, 'brighten': 2112, 'fabled': 4721, '10dec91': 54, 'jeff': 6645, 'reminded': 9973, 'hemingway': 5773, 'orff': 8499, 'van': 12517, 'gogh': 5425, '68070': 552, 'motorola': 7914, 'signetics': 10792, '68000': 550, 'micro': 7666, 'toys': 12020, 'serial': 10638, 'ports': 9098, 'interfaces': 6461, 'critter': 3289, 'willingness': 12907, 'jones': 6697, 'martyrdom': 7468, 'con': 2866, 'bail': 1719, 'discomfort': 3862, '1993may7': 223, '211312': 256, '10403': 47, 'bert': 1879, 'eecs': 4222, 'uic': 12241, 'rsc': 10310, 'acm': 906, 'theme': 11790, 'aboutthisissue': 821, 'gloss': 5399, 'accomplished': 871, 'jew': 6666, 'annuls': 1260, 'recorded': 9821, 'gen3': 5302, 'jps': 6730, 'enmity': 4402, 'offspring': 8396, 'hers': 5792, 'strike': 11349, 'nrsv': 8266, 'liberties': 7088, 'disregarding': 3927, 'termperature': 11725, 'molecules': 7839, 'blackbodies': 1957, 'iras': 6559, 'cobe': 2676, 'grain': 5477, 'temperatures': 11707, '40k': 421, '150k': 120, 'hollenbach': 5880, 'thronson': 11867, 'tielens': 11902, 'seab': 10528, 'ob': 8305, 'flak': 4951, 'roof': 10270, 'sticking': 11272, 'masada': 7473, 'preferred': 9209, 'furnace': 5233, 'dying': 4144, 'vein': 12563, 'dump': 4119, 'printer': 9291, 'printscr': 9294, 'pixed': 8952, 'alternately': 1153, 'shell': 10709, 'prefferable': 9210, 'rickey': 10194, 'aruba': 1465, 'rickt': 10195, 'uu2': 12479, 'psi': 9481, 'ze': 13139, 'uupsi2': 12484, 'naturalistic': 8041, 'proved': 9458, 'lying': 7299, 'touch': 12007, 'undeserving': 12310, 'incorrect': 6230, 'beholder': 1838, 'divide': 3961, 'causation': 2375, 'relativist': 9930, 'shoved': 10753, 'entirety': 4431, 'idealist': 6031, 'solipsist': 10976, 'categories': 2363, 'difficulty': 3796, 'nihilism': 8170, 'irrepective': 6575, 'arrives': 1443, 'relativism': 9929, 'preferences': 9208, 'noterrorism': 8232, 'terrorisim': 11734, 'entailed': 4416, 'unreal': 12376, 'relativists': 9932, '4x4': 472, 'transforming': 12062, 'texture': 11762, '678': 548, 'ca2': 2237, 'cos': 3173, 'horizontal': 5912, 'sa2': 10344, 'cb2': 2384, 'vertical': 12601, 'sb2': 10440, 'zf': 13150, 'clipping': 2638, 'zn': 13156, 'networld': 8117, 'parametric': 8661, 'drafting': 4060, 'im': 6100, 'referance': 9853, 'advace': 984, 'lasse': 6976, 'reconcile': 9814, 'punishable': 9517, 'immediate': 6128, 'prescence': 9226, 'israelites': 6595, 'disobey': 3904, 'grace': 5469, 'consolation': 2997, 'ride': 10198, 'parents': 8668, 'administering': 961, 'instruction': 6404, 'trial': 12116, 'stronger': 11360, 'parenting': 8667, 'warns': 12753, 'rejecting': 9914, 'maintence': 7375, 'torqque': 11995, 'wires': 12934, 'cotters': 3185, 'bolt': 2015, 'nicked': 8162, 'shape': 10694, 'adjustable': 957, 'spanners': 11054, 'largest': 6967, 'esteem': 4508, 'liefting': 7102, 'hierarchie': 5811, 'hierarchies': 5812, 'gulf': 5576, 'voting': 12702, 'raytrace': 9715, 'string': 11351, 'shoudl': 10748, 'mofe': 7831, 'ruin': 10318, 'blimps': 1974, 'towers': 12018, 'explaination': 4658, 'deductions': 3530, 'isotropic': 6592, 'edged': 4202, 'whit': 12872, 'centred': 2420, 'gravisphere': 5500, 'xdpyinfo': 13059, 'dislike': 3898, 'rotten': 10291, 'slime': 10897, 'restraining': 10105, 'ha': 5594, 'flies': 4984, 'lands': 6957, 'rebuilt': 9781, 'snowfox': 10941, 'thingey': 11832, 'lifting': 7114, 'mmi': 7795, 'airbreathing': 1074, '_using_': 766, 'baggage': 1716, 'deniability': 3622, 'deceide': 3488, 'specs': 11081, 'eats': 4176, 'hypersonic': 6001, 'interchangable': 6450, 'launchers': 6994, 'riding': 10203, 'hoped': 5905, 'successors': 11430, '_once_': 741, 'dissimilar': 3933, 'operate': 8443, 'launches': 6995, 'shoves': 10755, 'hauling': 5694, 'edo': 4212, 'pallets': 8628, 'launcher': 6993, 'realities': 9753, 'cop': 3126, 'announcements': 1256, 'lady': 6935, 'flashing': 4960, 'lit': 7169, 'occupied': 8357, 'dominantly': 4014, 'supremely': 11519, 'whence': 12856, 'overrides': 8574, 'television': 11697, 'conform': 2931, 'regulating': 9904, 'dress': 4075, 'propose': 9424, 'pepsico': 8773, 'mcdonalds': 7536, 'banners': 1744, 'timely': 11914, 'bosnia': 2044, 'constrained': 3011, 'engaging': 4381, 'usual': 12456, 'wanting': 12741, 'eliminates': 4289, 'grammatical': 5481, 'correctness': 3160, 'meshes': 7635, '_____': 682, 'informations': 6325, 'oliver': 8407, 'athlone': 1570, 'dover': 4045, 'nh': 8156, '268': 316, '269': 317, 'calculated': 2246, 'remarked': 9966, 'eddington': 4197, 'internal': 6472, '1926': 178, 'reprinted': 10029, 'anton': 1290, 'lavey': 6998, 'satanism': 10406, 'puzzled': 9548, 'satanic': 10405, 'pope': 9083, 'instrument': 6408, 'mishmash': 7754, 'ritualism': 10230, 'witchcraft': 12944, 'satanists': 10408, 'nietzsche': 8165, 'crowley': 3305, 'reich': 9906, 'slapped': 10878, 'barnum': 1752, 'christened': 2534, 'attract': 1607, 'heyday': 5800, 'celebrities': 2401, 'sammy': 10382, 'jayne': 6639, 'mansfield': 7425, 'satanist': 10407, 'webster': 12820, 'heritage': 5788, 'dissapointing': 3929, 'interplay': 6479, 'ethos': 4526, 'verbal': 12575, 'impure': 6193, 'racial': 9629, 'gender': 5304, 'infamous': 6293, 'propound': 9429, 'underground': 12298, 'possessing': 9106, 'impress': 6179, 'jsn104': 6734, 'noonan': 8210, 'ufos': 12237, 'disproved': 3921, 'indicate': 6255, 'supernaturalism': 11491, 'naturalism': 8039, 'studied': 11375, 'loud': 7250, 'godlike': 5421, 'vociferously': 12689, 'announced': 1255, 'reversing': 10160, 'naturalist': 8040, 'boy': 2068, 'thunder': 11884, 'glad': 5381, 'voices': 12691, 'encourages': 4357, 'commodore': 2773, 'cdtv': 2394, '_anywhere_': 694, 'doubtfull': 4040, 'opacity': 8437, 'infrared': 6330, 'telescopes': 11696, 'satelliets': 10410, 'forbs': 5054, 'whick': 12869, 'loft': 7206, 'bombs': 2021, 'leo': 7062, 'emp': 4330, 'pulses': 9509, 'interfering': 6464, 'crt': 3308, 'agfa': 1041, 'presentation': 9232, 'services': 10653, 'vendor': 12568, 'res': 10050, 'crts': 3309, 'reiner': 9908, 'periods': 8797, 'replied': 10010, 'roms': 10267, 'node': 8189, 'offhand': 8387, 'rom': 10262, 'browser': 2139, 'dana': 3415, 'nssdc': 8272, 'diligent': 3806, 'pricing': 9272, 'catalogs': 2356, 'cruso': 3319, '633': 535, 'goddard': 5416, 'greenbelt': 5516, '20771': 248, '301': 348, '6695': 547, '4952': 463, 'catch': 2361, 'puppy': 9523, 'annulus': 1261, 'intersect': 6489, 'eq': 4460, 'protect': 9441, 'autotracing': 1648, 'streamline': 11333, 'controlling': 3083, 'excessive': 4593, 'tolerance': 11956, 'behavoral': 1833, 'happily': 5660, 'daisies': 3403, 'dancing': 3417, 'yellow': 13107, 'broken': 2131, 'highway': 5821, 'fulfilling': 5207, 'elvis': 4306, 'bless': 1971, 'blazes': 1969, 'empty': 4343, 'pointless': 9038, 'shun': 10766, 'flatten': 4964, 'steamroller': 11248, 'sputtering': 11155, 'beneficial': 1867, 'alive': 1120, 'elite': 4292, 'priesthood': 9275, 'masses': 7483, 'submissive': 11403, 'unarguably': 12263, 'smt': 10929, 'amrgins': 1201, 'spacewalking': 11047, 'mmu': 7797, 'goldins': 5430, 'philosophjy': 8872, 'tug': 12178, 'cryo': 3324, 'thruster': 11876, 'h2o2': 5593, 'lh': 7081, 'commsat': 2777, 'grapple': 5492, 'comms': 2776, 'band': 1734, 'omni': 8412, 'rawlin': 9709, 'uvesa32': 12486, 'gorilla': 5448, 'qpalo': 9567, 'digi': 3801, 'lonestar': 7218, 'gerry': 5344, 'palo': 8631, 'danger': 3418, 'wacky': 12715, 'oppose': 8458, 'compunctions': 2855, 'printing': 9293, 'innuendos': 6354, 'exposes': 4684, 'cults': 3347, 'picked': 8913, 'mixed': 7787, 'fringe': 5181, 'legality': 7044, 'unavoidable': 12264, 'license': 7092, 'jonestown': 6698, 'tradition': 12033, 'missouri': 7777, 'lutherans': 7296, 'massadas': 7482, 'encroachment': 4358, 'overtly': 8579, 'yoga': 13119, 'selective': 10588, 'inquisitiorial': 6362, '96200': 658, '20077': 240, '7500': 583, 'separation': 10624, '8120': 605, 'fenton': 4853, '20910': 250, '9978': 671, 'x11r4': 13057, 'contour': 3056, 'hint': 5838, 'plotting': 9010, 'retail': 10123, 'styler': 11390, 'finish': 4914, '295': 332, '150': 117, 'pack': 8601, 'prep': 9217, 'paintbrush': 8620, '495': 462, 'enchance': 4348, 'softtype': 10958, 'font': 5037, 'workshop': 12992, 'optibase': 8466, 'gfa': 5351, '99': 669, 'tnt': 11945, 'amish': 1188, 'multimedia': 7959, 'clips': 2639, 'audio': 1618, 'tracks': 12028, 'spinnaker': 11116, 'tempra': 11711, 'storyboard': 11308, '995': 670, 'modula': 7828, 'negotiating': 8087, 'telemagic': 11691, 'database': 3432, 'games': 5262, 'nfl': 8154, 'league': 7025, 'football': 5046, '49': 460, 'eco': 4185, 'saurus': 10425, 'modem': 7812, 'baud': 1777, 'joysticks': 6709, 'willows': 12908, 'trac': 12021, 'wedding': 12822, 'planner': 8973, 'yard': 13095, 'fri': 5170, '436': 436, 'nunneley': 8288, 'rd': 9722, 'paradise': 8652, '95969': 655, '916': 641, '872': 620, '7905': 593, 'preferedly': 9206, 'situated': 10850, 'wuppertal': 13050, 'sichtsysteme': 10772, 'visualisierung': 12672, 'simulationstechnik': 10825, 'dkbtrace': 3972, 'trearn': 12102, 'bitnet': 1949, 'listserv': 7168, 'grepped': 5523, 'ville': 12649, 'saari': 10345, 'andre': 1224, 'beck': 1806, 'dkb': 3971, 'xserver': 13073, 'truecolor': 12152, 'visuals': 12675, 'differentiates': 3791, 'winners': 12926, 'vile': 12647, 'exert': 4615, 'measures': 7567, 'onslaught': 8427, 'convex': 3104, 'doors': 4026, 'intersecting': 6490, 'efficiency': 4230, 'trickier': 12126, 'othe': 8534, 'optimisations': 8470, 'exploits': 4672, 'suprised': 11520, 'asm': 1487, '9th': 675, 'marketing': 7458, 'georgia': 5340, 'mile': 7696, 'satelite': 10409, 'editorial': 4209, 'tuesday': 12177, 'webb': 12819, 'tsavo': 12166, 'hks': 5859, 'stopping': 11298, 'vandals': 12522, 'gmt': 5404, 'congresspeople': 2945, 'attn': 1605, 'lawson': 7002, '1495': 115, 'atmbree': 1578, 'rosewell': 10280, '30076': 346, '404': 417, '442': 440, '9682': 662, 'hibbitt': 5804, 'karlsson': 6792, 'sorensen': 11007, '401': 416, '4200': 425, '1080': 51, 'pawtucket': 8731, 'ri': 10186, '02860': 14, '4208': 426, 'alternatively': 1155, 'clients': 2632, 'klaes': 6867, 'verga': 12578, 'enet': 4375, 'larry': 6969, 'ads': 980, 'keywords': 6822, 'advertisements': 997, 'thu': 11879, 'crawford': 3245, 'executive': 4612, 'karen': 6789, 'brown': 2138, 'commercialism': 2760, '1875': 166, 'connecticut': 2955, '20009': 239, '5728': 507, '797': 594, '7080': 565, '265': 315, '4954': 464, 'csc': 3331, 'decwrl': 3527, 'wells': 12837, 'ejasa': 4254, 'atlantic': 1574, 'vandalizing': 12521, 'newsreader': 8148, 'tin': 11923, 'pl8': 8956, 'algol': 1110, 'anaconda': 1206, 'boldly': 2014, 'profits': 9357, 'ment': 7613, 'technogical': 11680, 'advancement': 987, 'perity': 8801, 'happiness': 5661, 'decays': 3486, 'orbits': 8487, 'advertisers': 999, 'advertise': 994, 'newspapers': 8147, 'bio': 1934, 'degradable': 3561, 'foam': 5016, 'scoops': 10497, 'debris': 3481, 'cleaning': 2618, 'pause': 8728, 'refreshes': 9873, 'embedded': 4315, 'refurbished': 9876, 'advertiser': 998, 'sponsored': 11138, 'fairs': 4753, 'avionics': 1661, 'reconfigure': 9816, 'clever': 2627, 'spell': 11098, 'execellent': 4606, 'rantings': 9678, 'sooooo': 11004, 'sig': 10783, 'billdboard': 1923, 'ryan': 10341, 'followup': 5033, 'redirect': 9841, 'conspiracy': 3000, 'timothy': 11922, 'brent': 2102, 'vasilion': 12542, 'packing': 8605, 'weaponry': 12811, 'recreational': 9827, 'parsed': 8675, 'artificially': 1458, 'illusionary': 6091, 'daughter': 3439, 'threat': 11859, 'photograph': 8880, 'damaged': 3406, 'whites': 12874, 'photgraph': 8878, 'e00': 4150, 'prc': 9175, 'enforce': 4377, 'ratified': 9697, 'situational': 10852, 'insisted': 6378, 'spelling': 11100, 'illegitimate': 6078, 'slugging': 10909, 'feds': 4836, 'frome': 5186, 'dollar': 4007, 'franc': 5139, 'dad': 3398, 'usaf': 12438, 'happend': 5656, 'utilization': 12469, 'ballistic': 1726, 'surveillance': 11533, 'sensitive': 10613, 'av': 1649, 'shareholders': 10698, 'meeting': 7588, '777': 588, 'bare': 1751, 'bones': 2023, 'directors': 3832, 'figured': 4889, 'shrontz': 10764, 'overflow': 8569, 'downstairs': 4052, 'crushed': 3318, 'admittedly': 970, 'compete': 2810, 'mcdonnell': 7537, 'douglass': 4044, 'impressed': 6180, 'treating': 12106, 'recollection': 9807, 'customers': 3368, 'commercialization': 2761, 'arena': 1405, 'mis': 7743, 'nomer': 8193, 'preparation': 9218, 'lifter': 7113, 'contracts': 3061, 'chairman': 2445, 'cyberware_demo': 3383, 'geo': 5332, 'snit': 10939, 'village': 12648, 'irrationality': 6570, 'symptom': 11575, 'agnostics': 1049, 'theoretically': 11799, 'equipped': 4469, 'persistence': 8823, 'ranks': 9677, 'philosopher': 8867, 'practiced': 9159, 'defence': 3539, 'foolproof': 5043, 'deficient': 3547, 'egos': 4238, 'flaws': 4967, 'suicides': 11453, 'guyana': 5588, 'footed': 5048, 'compare': 2796, 'shrink': 10763, 'stacker': 11178, 'thanx': 11771, 'brando': 2084, 'resemblence': 10058, 'bake': 1721, 'performing': 8789, 'modelling': 7810, 'embeded': 4316, 'optional': 8475, 'chinnick': 2516, 'jchinnic': 6642, 'mach1': 7318, 'wlu': 12961, '519': 487, '888': 626, '9666': 661, 'revolves': 10173, 'civilizations': 2588, 'enforces': 4378, 'derive': 3660, 'persuade': 8833, 'justice': 6772, 'hague': 5612, 'timmbake': 11919, 'mcl': 7542, 'ucsb': 12231, 'transparently': 12081, 'crosspost': 3300, '_email_': 707, 'wash': 12764, 'checkout': 2494, 'sceheduling': 10460, 'dempsey': 3619, '410': 423, '338': 368, '1334': 93, 'podps': 9031, 'stomach': 11290, 'passport': 8704, 'crowns': 3307, 'convoy': 3112, 'purse': 9537, 'shakespeare': 10689, 'recursive': 9832, 'backward': 1708, 'strikes': 11350, 'l1': 6919, 'ln': 7185, 'reflected': 9864, 'formulae': 5094, 'recursively': 9833, 'rcol': 9721, 'tcol': 11660, 'ocol': 8368, 'licol': 7097, 'strucures': 11367, 'adrian': 979, 'secchia': 10547, 'confidence': 2921, 'infallible': 6292, 'ironed': 6565, 'vanishingly': 12525, 'gassing': 5282, 'encountered': 4354, 'perceptible': 8780, 'chain': 2442, 'stops': 11299, 'regress': 9899, 'hindsight': 5833, 'arisen': 1420, 'foley': 5025, 'gentlemen': 5330, 'interbusiness': 6448, 'ltd': 7274, 'inexpensive': 6287, 'ore': 8497, 'locations': 7202, 'theese': 11779, 'statis': 11228, 'tical': 11893, 'prognosis': 9360, 'svn': 11550, 'aoibs': 1305, 'msk': 7945, 'su': 11391, 'hausner': 5696, 'qucis': 9592, 'queensu': 9596, 'alejo': 1102, 'cf4': 2436, 'monomer': 7854, 'sayi': 10437, 'omniscience': 8417, 'grammar': 5480, 'contradictorily': 3066, 'falling': 4769, 'tails': 11605, 'unnecessary': 12366, 'rent': 9992, 'andy': 1228, 'upgraded': 12413, 'hayes': 5706, 'ultra': 12250, '32bis': 363, '42bis': 430, '300bps': 347, '400bps': 415, 'featuring': 4831, 'dctv': 3456, 'aliased': 1115, 'netmail': 8108, 'mainframes': 7365, 'kids': 6835, 'links': 7149, 'bulletin': 2182, 'abilty': 807, 'conferences': 2919, 'newsfeeds': 8142, 'erotica': 4483, 'ham': 5627, 'scuba': 10520, 'diving': 3965, 'designers': 3688, 'cyberspace': 3381, 'attach': 1590, 'sendmail': 10604, 'ensures': 4413, 'addressing': 947, 'arpanet': 1434, 'peoplenet': 8771, 'downloads': 4051, 'newscan': 8141, 'search': 10534, 'archived': 1395, 'listings': 7166, 'protocols': 9454, 'doubles': 4037, 'menus': 7622, 'prompting': 9390, 'cancel': 2281, 'terminal': 11721, 'jet': 6663, 'simulator': 10826, '170': 145, 'megabytes': 7592, '8mhz': 633, 'ide': 6028, '908': 638, '469': 449, '0049': 6, '38400': 394, 'everyday': 4554, 'grfwk61t': 5525, 'graphic': 5487, 'matching': 7493, 'subsequent': 11410, 'misalignment': 7744, 'deployment': 3651, 'stupendous': 11385, 'fraering': 5130, 'pgf': 8850, 'srl03': 11163, 'cacs': 2240, 'usl': 12452, 'bronze': 2135, 'warrior': 12759, 'caste': 2346, 'farming': 4795, 'profiting': 9356, 'blare': 1966, 'evening': 4546, 'steinn': 11255, 'forgiven': 5076, 'merchants': 7624, 'belessed': 1842, 'ness': 8104, 'preistly': 9214, 'horizon': 5911, 'newusers': 8151, 'recommends': 9811, 'players': 8992, 'printed': 9290, 'appropriately': 1362, 'controversial': 3084, 'uscg': 12440, 'nautical': 8045, 'chart': 2483, 'disappointed': 3847, 'poorly': 9081, 'coastline': 2673, 'irregular': 6573, 'gridlines': 5528, 'lattitude': 6989, 'loran': 7234, 'grids': 5529, 'tangent': 11624, 'grid': 5526, 'gridline': 5527, 'interactive': 6447, 'dummy': 4118, 'reisberg': 9910, 'doctoral': 3984, 'analysing': 1212, 'electron': 4273, 'micrographs': 7670, 'filimentous': 4894, 'phage': 8854, 'virii': 12658, 'chunk': 2548, 'micrograph': 7669, 'centerline': 2414, 'respects': 10087, 'depended': 3644, 'imaged': 6104, 'disappeared': 3845, 'vacation': 12504, 'hawaii': 5703, 'graduated': 5475, 'wooded': 12978, 'victim': 12622, 'engineers': 4385, '_same_': 749, 'deconvolution': 3520, '_exceed_': 709, 'margin': 7447, 'adaptive': 934, 'ao': 1304, '52': 488, '290': 330, 'brightest': 2114, 'millimeter': 7705, 'focal': 5017, 'infant': 6294, 'dedicated': 3528, 'hundreds': 5977, 'dollars': 4008, 'invested': 6524, 'krumins': 6908, 'hls': 5860, 'hexcone': 5798, 'hsv': 5953, 'cylinder': 3388, 'wil': 12899, 'gert': 5345, 'barnyard': 1753, 'fresh': 5169, 'cowpie': 3222, 'earthward': 4166, 'splatters': 11125, 'shorts': 10744, 'tice': 11894, 'cotera': 3184, 'mislabelled': 7759, 'disaster': 3849, 'habits': 5598, 'iyo': 6617, 'torched': 11990, 'debacle': 3477, 'botched': 2047, 'raid': 9650, 'misjudgement': 7758, 'reckless': 9799, 'endangerment': 4360, 'skeptic': 10862, 'skeptically': 10864, 'ufo': 12236, 'ovni': 8583, 'excerpt': 4591, 'galley': 5259, 'minister': 7723, '1974': 199, 'answering': 1275, 'belgian': 1843, 'conceive': 2871, 'crafts': 3237, 'hierarchy': 5813, 'pierrelatte': 8927, 'ramstein': 9666, 'airport': 1083, 'colonel': 2717, 'shots': 10747, 'informed': 6326, 'enrichment': 4406, 'drome': 4086, 'sr': 11161, '71': 567, 'clerk': 2626, 'bookstore': 2030, 'peers': 8758, 'autobiography': 1640, 'franklin_': 5145, 'intervened': 6495, 'judeo': 6742, 'kindness': 6851, 'admission': 967, 'damns': 3413, 'damnation': 3411, 'mindedness': 7712, 'respectful': 10083, 'tolerant': 11957, 'respecting': 10084, 'thot': 11849, 'faiths': 4757, 'roadblock': 10242, 'marrying': 7462, 'lukewarm': 7287, 'probly': 9316, 'spl': 11124, 'polyhedron': 9066, 'rotated': 10286, 'representation': 10023, 'supersymmetric': 11498, 'pundurs': 9515, 'dorsai': 4030, 'fees': 4845, 'accepts': 860, 'donations': 4020, 'thrives': 11864, 'donates': 4019, 'charles': 2480, 'skip': 10870, 'cara': 2311, 'sleepless': 10884, 'nights': 8168, 'assembled': 1498, 'embassy': 4313, 'modifying': 7826, 'slip': 10898, 'heres': 5784, 'bud': 2155, 'damn': 3410, 'occured': 8361, 'interact': 6444, 'fledgling': 4970, 'glance': 5383, 'bandwidth': 1737, 'nipples': 8175, 'utidjian': 12464, 'remarque': 9968, 'measurements': 7566, 'real3d': 9749, 'version2': 12597, 'pipeline': 8944, 'dont': 4022, 'havent': 5700, 'attacking': 1593, 'tragedy': 12040, 'blamed': 1964, 'firebomb': 4923, 'pgm3toppm': 8852, 'circuitous': 2565, 'pooh': 9077, 'poohed': 9078, 'airforce': 1077, 'captured': 2308, 'kuwait': 6918, 'missiles': 7772, 'arsenal': 1448, 'm113s': 7305, 'conclusive': 2897, 'generic': 5319, 'widget': 12893, 'shitload': 10730, 'viewports': 12638, 'slices': 10889, 'stashed': 11218, 'inconsistency': 6226, 'party': 8691, 'variations': 12533, 'fallaciously': 4765, 'refute': 9883, 'allegation': 1125, '_only_': 742, 'koran': 6897, 'diplomatic': 3820, 'occam': 8349, 'razor': 9718, 'firstly': 4933, 'solving': 10986, 'crosswords': 3302, 'sums': 11467, 'insert': 6368, 'puzzles': 9549, '_yourself_': 774, 'obfuscate': 8308, 'uncovered': 12286, 'encoded': 4351, 'chromosomes': 2544, 'anticipate': 1286, 'instability': 6387, 'strokes': 11358, 'haywire': 5707, 'remarkably': 9965, 'neurons': 8121, 'alarming': 1093, 'randomly': 9670, 'sticky': 11273, 'materialist': 7499, 'chemicals': 2500, 'mixture': 7789, 'chemistry': 2502, 'outputs': 8557, 'consists': 2996, 'wavefunction': 12789, 'unitary': 12342, 'governed': 5460, 'schroedinger': 10485, 'mysterious': 7994, 'abruptly': 830, 'envisage': 4446, 'imaginitively': 6121, '_something_': 752, 'speculating': 11089, 'linear': 7143, 'explainations': 4659, 'padded': 8607, 'cell': 2403, 'anthoney': 1282, 'kax': 6799, 'nott': 8247, 'opted': 8465, 'compartmentalizing': 2802, 'tif': 11903, 'l10mp': 6920, 'lafollette': 6936, 'dahlgren': 3400, '22448': 270, 'reverb': 10155, 'analog': 1208, 'fuzz': 5243, 'forgot': 5077, 'shifters': 10719, 'mechanical': 7572, 'represents': 10028, 'layman': 7009, 'hen': 5775, 'toes': 11950, '253': 303, 'gould': 5457, 'recieved': 9795, 'ther': 11804, 'relativly': 9934, 'novice': 8254, 'somwhere': 10999, 'aresome': 1406, 'dothis': 4035, '1meg': 229, '256k': 307, 'vidoe': 12627, 'paging': 8612, 'apps': 1368, 'hat': 5687, '13h': 99, 'cryptic': 3325, 'gripe': 5534, 'professors': 9352, 'archie': 1390, 'ahave': 1061, 'programmiing': 9366, 'doall': 3978, 'tis': 11930, 'ions': 6548, 'propolsion': 9419, '1billion': 227, 'particle': 8681, 'asshole': 1510, 'devious': 3747, 'misrepresenting': 7768, 'plainly': 8962, 'invent': 6517, 'propositions': 9428, 'offends': 8379, 'misrepresentations': 7766, 'contrive': 3079, 'dodge': 3995, 'insignificant': 6375, 'garbled': 5273, 'nerva': 8100, 'fission': 4937, 'awfully': 1677, 'complaints': 2819, 'sliders': 10891, 'click': 2629, 'bug': 2167, 'pallette': 8629, 'quantises': 9577, 'complicated': 2827, 'commercially': 2762, 'justifiably': 6773, 'genius': 5324, 'ahh': 1064, 'meter': 7652, 'scopes': 10499, 'studying': 11379, 'scope': 10498, 'narrowed': 8025, 'continuously': 3055, 'limitation': 7135, 'moonlit': 7866, 'palomar': 8632, 'survey': 11534, 'deparment': 3638, 'headlines': 5717, 'buddhist': 2158, 'tibetans': 11892, 'occupiers': 8358, 'occupation': 8356, 'independence': 6244, 'terrorists': 11737, 'regime': 9892, 'resistance': 10066, 'autonomy': 1647, 'practised': 9163, 'minorities': 7728, 'resisted': 10067, 'violently': 12654, 'oppressive': 8463, 'legitimized': 7052, 'newsline': 8146, 'clock': 2642, 'midnight': 7684, 'cosmonuats': 3179, '0891': 30, '48p': 459, 'min': 7709, '36p': 389, 'pence': 8763, 'sightings': 10787, 'lat': 6980, 'passes': 8700, 'mag': 7338, 'clubs': 2658, 'stir': 11280, '2888': 328, 'dublin': 4110, 'visa': 12662, 'mastercard': 7487, 'expiration': 4656, 'capita': 2300, '033': 16, '1950': 186, '1550': 125, 'eire': 4251, 'u920496': 12222, 'daimi': 3402, 'aau': 792, 'dk': 3970, 'hans': 5652, 'erik': 4481, 'martino': 7467, 'hansen': 5653, '1950s': 187, 'describing': 3673, '1993apr24': 219, '214843': 260, '10940': 53, 'midway': 7686, 'uchicago': 12229, 'eeb1': 4221, 'quads': 9570, 'afterthoughts': 1032, 'muhammad': 7954, 'christain': 2532, 'incognito': 6218, 'undertaken': 12307, 'silently': 10800, 'rugs': 10317, 'phylacteries': 8899, 'innumerable': 6355, 'claimng': 2596, 'daven': 3442, 'ablutions': 811, 'qiblah': 9564, 'prescribed': 9229, 'disguised': 3887, 'encourage': 4355, 'luckily': 7279, 'revere': 10156, 'consequent': 2978, 'imposition': 6175, 'protest': 9449, 'coercion': 2685, 'prayerful': 9172, 'managed': 7399, 'embarrass': 4311, 'physic': 8900, 'scaling': 10448, 'cue': 3344, 'terry': 11739, 'figurelle': 4890, 'tff': 11764, '3999': 402, '6j': 559, 'ea': 4151, '3115': 355, '4300': 433, 'seattle': 10544, '98124': 667, '2499': 293, 'saudi': 10424, 'arabia': 1376, 'grave': 5497, 'sales': 10373, 'contractor': 3060, 'exports': 4681, 'oxymoronic': 8594, 'redefine': 9838, 'dragging': 4062, 'objectivity': 8319, 'remainder': 9959, 'cared': 2319, 'lyndon': 7300, 'awhile': 1678, 'petitioned': 8846, 'insulted': 6411, 'disgraceful': 3885, 'pledge': 9004, 'noisy': 8192, 'iq': 6552, 'porting': 9093, 'gl': 5380, 'apx': 1373, 'kubota': 6915, 'denali': 3621, 'r4000': 9626, 'xs24z': 13072, 'edited': 4205, 'client': 2631, 'jump': 6759, 'merlot': 7633, 'welch': 12831, 'jhu': 6671, 'jacobson': 6623, 'danj': 3422, 'welchgate': 12832, 'protocol': 9453, 'infosystems': 6329, 'q0': 9553, 'q1': 9554, 'q2': 9555, 'q3': 9556, 'publicly': 9498, 'logins': 7213, 'q4': 9557, 'develops': 3741, 'q5': 9558, 'wais': 12722, 'www': 13053, 'q6': 9559, 'q7': 9560, 'veronica': 12590, 'q8': 9561, 'a0': 775, 'campus': 2275, 'cwis': 3376, 'facilitates': 4729, 'a1': 776, 'boombox': 2031, 'umn': 12256, 'a2': 777, '132': 91, 'curses': 3361, 'emacs': 4308, 'gopher1': 5443, 'xwindows': 13083, 'athena': 1567, 'xgopher1': 13064, 'moog': 7864, 'xview': 13080, 'xvgopher': 13079, 'hypercard': 5999, 'turbogopher': 12186, 'clarkson': 2606, 'pc_client': 8742, 'nextstep': 8153, 'vm': 12680, 'cms': 2666, 'rice_cms': 10188, 'viegopher': 12628, 'vms': 12683, 'mvs': 7982, 'xa': 13058, 'winsock': 12929, 'sunsite': 11480, 'unc': 12272, 'goph_tbk': 5441, 'macgopher': 7316, 'gopherapp': 5444, 'util': 12465, 'oac': 8301, 'hsc': 5947, 'uth': 12463, 'tmc': 11943, 'dosgopher': 4032, 'nfs': 8155, 'bcm': 1785, 'novell': 8251, 'lan': 6950, 'workplace': 12990, 'lennon': 7061, 'itn': 6608, 'med': 7577, 'decwindows': 3526, 'ucx': 12232, 'ohio': 8399, 'xgopher_client': 13065, 'mactcp': 7327, 'fetched': 4864, 'telnet': 11703, 'minnesota': 7726, 'consultant': 3020, 'logging': 7208, 'custom': 3366, 'a3': 778, 'minimize': 7720, 'lag': 6937, 'hostname': 5924, 'panda': 8634, 'uiowa': 12242, 'sunet': 11473, 'chalmers': 2449, '221': 267, 'sweden': 11555, 'tolten': 11963, 'puc': 9504, '146': 113, 'ecnet': 4184, 'ec': 4177, '157': 127, 'ecuador': 4195, 'gan': 5266, 'ncc': 8056, '190': 171, 'a4': 779, 'fledged': 4969, 'minneapolis': 7725, 'mn': 7798, '55455': 499, '612': 530, '625': 533, '6817': 553, 'a5': 781, 'intimately': 6500, 'intertwined': 6493, 'shipped': 10725, 'query': 9598, 'funnel': 5230, 'queried': 9597, 'web': 12818, 'querying': 9599, 'http': 5956, 'a6': 782, '_the_whole_internet_': 764, 'kroll': 6906, 'reilly': 9907, 'editors': 4210, 'bunch': 2185, '_the_internet_passport': 763, 'northwestnet': 8222, 'guide': 5568, 'jonathan': 6696, 'kochmer': 6892, 'bellevue': 1854, '516': 485, '9635281': 659, 'nwnet': 8296, '562': 502, '_a_students_guide_to_unix': 689, 'harley': 5671, 'hahn': 5613, 'mcgraw': 7539, '025511': 13, '_the_internet_gopher_': 761, 'connexions': 2959, 'interop': 6477, '_exploring_internet_gopherspace_': 710, 'v1n2': 12497, 'isoc': 6588, 'nri': 8263, 'reston': 10101, '_the_internet_gopher_protocol_': 762, 'ietf': 6055, 'cnri': 2668, '_internet_gopher_': 724, '_tools_help_internet_users_discover_on': 765, 'line_treasures': 7142, 'computerworld': 2864, '_tcp': 757, 'ip_network_administration_': 6551, 'balakrishan': 1722, 'spigopher': 11112, 'spires': 11120, 'chapel': 2464, 'carolina': 2328, 'tomer': 11967, '_journal': 729, 'science_': 10488, '566': 503, '570': 505, 'sept': 10627, 'a7': 783, 'rodent': 10254, 'computerized': 2861, 'keyword': 6821, 'gopherspace': 5446, 'pointer': 9035, 'gophers': 5445, 'futique': 5241, 'unr': 12374, 'a8': 784, 'availble': 1652, 'bdt': 1788, 'tropical': 12146, 'biotechnet': 1943, 'buyers': 2218, 'catalogues': 2357, 'protein': 9447, 'headers': 5714, 'chlamydomonas': 2518, 'genetics': 5321, 'crystallization': 3327, 'hgmp': 5802, 'primers': 9281, 'paleontology': 8625, 'specimen': 11078, 'mycdb': 7985, 'mycobacterium': 7986, 'drosophila': 4091, 'flybase': 5011, 'genbank': 5303, 'swiss': 11565, 'prot': 9437, 'pir': 8946, 'pdb': 8748, 'aatdb': 791, 'arabidopsis': 1378, 'thaliana': 11767, 'acedb': 892, 'caenorhabditis': 2243, 'compoundkb': 2838, 'metabolic': 7645, 'welchlab': 12833, 'promoters': 9387, 'omi': 8409, 'embl': 4317, 'limb': 7131, 'prosite': 9433, 'rebase': 9773, 'enzyme': 4448, 'tfd': 11763, 'strain': 11319, 'dna': 3976, 'graingenes': 5478, 'maize': 7376, 'cloning': 2644, 'plasmids': 8980, 'epd': 4449, 'eukaryotic': 4531, 'promoter': 9386, 'sequence': 10633, 'kabat': 6781, 'proteins': 9448, 'immunological': 6134, '37': 390, 'nrl_3d': 8265, 'omim': 8410, 'mendelian': 7611, 'seqanalref': 10631, 'bibliographic': 1910, 'ban': 1732, 'taxonomy': 11654, 'accession': 865, 'genome': 5328, 'doe': 3997, 'usda': 12441, 'crystallographers': 3328, 'yeast': 13105, 'reasearchers': 9765, 'phonebooks': 8875, 'agricultural': 1056, 'perl': 8802, 'scripts': 10512, 'illuminating': 6088, 'arabic': 1377, 'terribly': 11730, 'withdraw': 12946, 'conditionally': 2905, 'advocacy': 1005, 'theological': 11796, 'statment': 11230, 'verges': 12580, 'massacre': 7481, 'ordnance': 8495, 'dumb': 4117, 'ol': 8404, 'cleared': 2621, 'interception': 6449, 'scud': 10521, 'spectrum': 11086, 'xerox': 13061, 'dem': 3600, 'hype': 5996, 'sponsors': 11139, 'fields': 4879, 'medallists': 7578, 'knwo': 6890, 'klaus': 6868, 'peters': 8845, 'boston': 2046, 'epstein': 4459, 'warwick': 12761, 'moro': 7885, 'castle': 2348, 'titanic': 11934, 'disasters': 3850, 'blithe': 1980, 'lng': 7186, 'tanker': 11627, 'breaks': 2094, 'kiss': 6860, 'population': 9088, 'tankers': 11628, 'guard': 5560, 'checks': 2495, 'watercraft': 12778, 'narcotics': 8021, 'certificate': 2431, 'worthiness': 13013, 'knowledgeable': 6887, 'idol': 6048, 'graven': 5498, 'deceptive': 3495, 'sanctions': 10386, 'surviving': 11539, 'figures': 4891, 'quibble': 9606, 'carpet': 2330, 'regions': 9894, 'enemy': 4370, 'drops': 4090, 'sortie': 11010, 'munitions': 7968, 'proximity': 9472, 'fuse': 5238, 'kills': 6843, 'ss': 11164, 'derivitives': 3662, 'fluke': 5007, 'precision': 9191, 'tonnage': 11975, 'discrepancy': 3874, 'statistics': 11229, 'getx11': 5350, 'targatorle': 11638, '0x0': 34, 'dither': 3950, 'ximage': 13068, 'badvalue': 1713, 'integer': 6417, 'operation': 8446, 'badwindow': 1714, 'invalid': 6513, '0xb00003': 35, 'ppmtorle': 9153, 'tgatoppm': 11766, 'cat': 2353, 'rawtorle': 9712, 'rleflip': 10236, 'guessed': 5563, 'inhibits': 6339, 'thickness': 11827, 'satire': 10413, 'grays': 5505, 'introduces': 6508, 'bands': 1736, 'nicely': 8161, 'eliminated': 4288, 'automate': 1643, 'pnmplus': 9027, 'pnmdither': 9026, 'beautifully': 1802, 'kinda': 6848, 'reno': 9990, 'delayed': 3571, 'cracks': 3234, 'apologetic': 1316, 'purporting': 9534, 'historicity': 5847, 'episode': 4454, 'zakaria': 13137, 'affairs': 1014, 'dug': 4114, 'umar': 12254, 'khan': 6824, 'girl': 5370, 'gibreel': 5358, 'farishta': 4793, 'actor': 923, 'angel': 1229, 'woven': 13023, 'reformed': 9871, 'prostitute': 9436, 'magdalene': 7340, 'arthurian': 1452, 'mythos': 8003, 'grail': 5476, 'wandering': 12736, 'blasphemer': 1967, 'salman': 10374, 'haroun': 5678, 'storyteller': 11310, 'mahound': 7359, 'integrity': 6422, 'impugned': 6191, 'archangel': 1386, 'provenance': 9460, 'classy': 2614, 'speaker': 11062, 'staring': 11206, 'remembers': 9971, 'lips': 7155, 'throat': 11865, 'postman': 9123, 'yaar': 13087, 'butbutbut': 2211, 'ambiguous': 1172, 'explores': 4676, 'raises': 9656, 'forcefully': 5057, 'mild': 7695, 'rhetorical': 10183, 'forwarded': 5109, 'pdt': 8750, 'madrid': 7337, 'antenna': 1279, 'approximately': 1365, 'entered': 4419, 'receipt': 9786, 'telemetry': 11692, 'goldstone': 5431, 'reacquired': 9729, 'indicated': 6256, 'coning': 2948, 'subsystem': 11421, 'reconfigured': 9817, 'readouts': 9744, 'audit': 1619, 'queue': 9605, 'aacs': 785, 'articulation': 1455, 'starex': 11203, 'preliminary': 9215, 'ephemeris': 4450, 'triggered': 12132, 'determining': 3724, 'inertial': 6285, 'triangulized': 12120, 'avaliable': 1653, 'noticeable': 8237, 'felt': 4850, 'framed': 5136, 'lifestyle': 7108, 'impersonal': 6146, 'comprehending': 2841, 'nonexistent': 8203, 'steal': 11244, 'repudiation': 10033, 'keeping': 6804, 'murdering': 7970, 'spree': 11152, 'stealing': 11245, 'insulting': 6412, 'answerable': 1273, 'earn': 4159, 'teddy': 11686, 'tyke': 12210, 'monsters': 7856, 'bed': 1811, 'crutch': 3320, 'dangers': 3420, 'abandoned': 797, 'darkened': 3424, 'abandoning': 798, 'unknowable': 12355, 'supersphere': 11497, 'sphere': 11106, '_sphereland_': 755, 'sequel': 10632, '_flatland_': 712, 'speck': 11080, 'variables': 12529, 'speculate': 11087, 'insinuations': 6376, 'preys': 9268, 'pity': 8951, 'starkly': 11207, 'intolerant': 6502, 'lifestyles': 7109, 'weaknesses': 12807, 'moslem': 7895, 'moslems': 7896, 'shocked': 10732, 'offset': 8395, 'fills': 4898, 'dynamic': 4145, 'planar': 8964, 'ruffles': 10316, 'potato': 9132, 'ridges': 10201, 'stitch': 11281, '175': 150, 'primitives': 9283, 'nurbs': 8289, 'isoparametric': 6590, 'stitched': 11282, 'draws': 4070, 'smarts': 10916, 'shifting': 10720, 'bravo': 2088, 'ers': 4488, 'disclosed': 3860, 'lightning': 7120, 'rod': 10253, '24th': 296, 'scharle': 10467, 'athiests': 1569, 'zealots': 13141, '_so_': 751, 'infiltrated': 6303, 'smugly': 10931, 'confident': 2922, 'certitude': 2433, 'inflamed': 6307, 'passions': 8702, 'eldridge': 4261, 'butchered': 2212, 'hallmark': 5621, 'severely': 10671, 'illustrate': 6094, 'prl': 9303, 'warring': 12758, 'camps': 2274, 'uproar': 12423, 'variants': 12532, 'misrepresent': 7764, 'exuberant': 4712, 'permeating': 8805, 'illiteracy': 6081, 'butchery': 2213, 'pulled': 9506, 'owe': 8584, 'apology': 1319, 'misrepresentation': 7765, 'preisthood': 9213, 'transubstantiation': 12089, 'scheme': 10475, 'lzw': 7304, 'interleaved': 6468, 'zamenhof': 13138, 'rice': 10187, 'baloney': 1729, 'maintenance': 7374, 'steering': 11252, '_are_': 695, 'sidewalk': 10778, 'subsequently': 11411, 'judgments': 6750, 'eh': 4244, 'goofed': 5439, 'philippian': 8863, 'niv': 8178, 'chains': 2443, 'courageously': 3206, 'fearlessly': 4824, 'envy': 4447, 'rivalry': 10231, 'gospel': 5450, 'ambition': 1173, 'supposing': 11512, 'realization': 9755, 'amidst': 1181, 'lesson': 7067, 'stumblingblock': 11382, 'tether': 11753, 'suck': 11434, 'trivially': 12142, 'propelled': 9408, 'anderton': 1222, 'lancaster': 6951, 'rating': 9699, 'glow': 5401, 'fiber': 4872, 'optic': 8467, 'emitter': 4325, 'receiver': 9789, 'att': 1589, 'brazil': 2089, '21st': 265, 'wranglings': 13027, 'compensated': 2809, 'variance': 12530, 'sphericity': 11109, 'imperceptible': 6143, 'dpi': 4055, 'fladbed': 4948, 'scanner': 10452, 'imagesyz': 6110, 'aol': 1306, '_the_': 760, 'pinching': 8938, 'comets': 2743, 'grb': 5507, 'grbs': 5508, 'ruled': 10322, 'merging': 7630, 'anyhow': 1298, 'implausible': 6150, 'superbowl': 11482, 'ns': 8267, 'isotropically': 6593, 'cometary': 2741, 'nuclei': 8278, '_mechanism_': 733, 'annihilation': 1250, 'spectra': 11082, 'aphelia': 1313, 'unthinking': 12395, 'communion': 2782, 'culminating': 3345, 'iivx': 6072, 'canvas': 2292, 'unimplemented': 12335, 'restart': 10098, 'unexpectedly': 12319, 'planetoid': 8970, 'smiley': 10919, 'ben': 1864, 'schedulers': 10471, 'pmdb': 9018, '573': 508, 'kilometers': 6844, '603': 521, 'booster': 2034, 'utilizing': 12471, 'desireable': 3693, 'reclaim': 9800, 'redundancy': 9849, 'yawn': 13097, 'cen': 2405, 'crooks': 3291, 'phrase': 8893, 'unanswerable': 12262, 'epistemological': 4455, 'psychological': 9488, 'derivatives': 3659, 'epistemology': 4456, 'percept': 8779, 'veridical': 12581, 'illusory': 6093, 'barrelled': 1755, 'rightness': 10212, 'asserting': 1502, 'lengthy': 7060, 'dismissal': 3900, 'grotesquely': 5540, 'maharishi': 7356, 'titular': 11939, 'rajneesh': 9658, 'mahesh': 7358, 'maharishis': 7357, 'bzzt': 2229, 'confusing': 2935, 'puritans': 9532, 'pilgrims': 8932, 'convenient': 3090, 'favorable': 4812, 'centigrade': 2415, 'fahrenheit': 4742, 'laboring': 6927, 'misconceptions': 7750, 'melts': 7600, 'melting': 7599, 'alloys': 1135, 'steels': 11250, 'neighborhood': 8089, '1400': 102, 'deformed': 3558, 'trivial': 12141, 'isothermal': 6591, 'melted': 7598, 'manuevering': 7431, 'soup': 11020, 'clasified': 2607, 'hurl': 5984, 'intrument': 6511, 'fritzy': 5183, 'shitter': 10731, 'spacewalks': 11048, 'enormous': 4404, 'margins': 7449, 'reserve': 10061, 'emergency': 4319, 'goldin': 5429, 'whiz': 12875, 'bus1': 2204, 'tow': 12014, 'truck': 12149, 'testable': 11742, 'detect': 3713, 'curvature': 3364, 'spacing': 11050, 'jettison': 6664, 'ssmes': 11167, 'spares': 11058, 'nyx': 8298, 'du': 4106, 'completly': 2824, 'verifiable': 12582, 'id': 6026, 'notarized': 8228, 'stk1203': 11283, 'vax003': 12547, 'stockton': 11286, 'sore': 11006, 'fox': 5124, 'inserted': 6369, 'origen': 8512, 'precede': 9184, 'spouted': 11145, 'debated': 3479, 'sucked': 11435, 'renaming': 9982, 'organism': 8502, 'evolves': 4567, 'cooperative': 3121, 'bee': 1812, 'chances': 2452, 'winning': 12927, 'ekr': 4257, '1993apr29': 220, '121501': 71, 'jlieb': 6677, 'jerry': 6657, 'liebelson': 7100, 'weightlessness': 12829, 'kc': 6801, 'spine': 11115, 'straightened': 11317, 'momentary': 7844, 'strap': 11323, 'conciously': 2890, 'ruling': 10325, 'involuntary': 6538, 'fluid': 5005, 'concentrate': 2873, 'physiology': 8909, 'parabolas': 8648, 'sickness': 10774, 'slowly': 10906, 'concious': 2889, 'parabola': 8647, 'queasiness': 9593, 'bags': 1718, 'seats': 10543, 'partner': 8688, 'drafted': 4059, 'vetran': 12608, 'vomit': 12700, 'rider': 10199, 'anomalous': 1265, 'swimming': 11562, 'sensations': 10607, 'fins': 4920, 'induced': 6277, 'roller': 10261, 'coaster': 2672, 'indication': 6259, 'occurances': 8360, 'biomedical': 1941, 'adaptation': 931, 'trainer': 12045, 'chair': 2444, 'geometric': 5337, 'aids': 1068, 'symptoms': 11576, 'mccandless': 7533, 'waiting': 12724, 'anxiously': 1294, 'redesign': 9839, 'commend': 2755, 'readmenew': 9742, 'connect': 2953, 'quota': 9617, 'roland': 10256, 'divers': 3956, 'serveurs': 10651, 'le': 7018, 'serveur': 10650, 'cri': 3273, 'rousself': 10296, 'rennes1': 9989, 'revamping': 10146, 'inspection': 6383, 'ccd': 2386, 'crosshair': 3297, 'embed': 4314, 'enable': 4346, 'crosshairs': 3298, 'ryburn': 10342, 'cim': 2558, 'intergraph': 6466, 'integration': 6421, '35894': 379, 'entitled': 4433, 'exploring': 4677, 'compendium': 2807, 'malinowski': 7395, '2472': 288, 'jersey': 6658, '08240': 29, 'finger': 4913, 'yanoff': 13093, 'csd4': 3335, 'uwm': 12492, 'ata': 1557, 'external': 4699, 'boosters': 2035, 'module': 7829, 'jettisoned': 6665, 'karl': 6790, 'dishaw': 3890, '0004244402': 4, 'mcimail': 7541, 'ssme': 11166, 'circularization': 2568, 'disadvantages': 3840, 'ratable': 9693, 'apostacy': 1320, 'lucy': 7281, 'restoration': 10102, 'campbell': 2273, 'founder': 5118, 'survives': 11538, 'disciples': 3856, 'restore': 10103, 'cambellites': 2262, 'sidney': 10781, 'rigdon': 10206, 'sentiments': 10619, 'reformation': 9870, 'n3jxp': 8007, 'chastity': 2485, 'geb': 5295, 'cadre': 2242, 'dsl': 4100, 'pitt': 8950, 'shameful': 10693, 'surrender': 11530, 'harmony': 5677, 'gospels': 5451, 'assension': 1500, 'purchased': 9525, 'headlong': 5718, 'asunder': 1555, 'gushed': 5585, 'departed': 3640, 'potter': 9135, 'cock': 2678, 'crow': 3303, 'thrice': 11862, 'wept': 12839, 'curse': 3360, 'bitterly': 1952, 'luk': 7284, 'sayest': 10436, 'joh': 6683, 'wilt': 12910, 'verily': 12587, 'thirty': 11842, 'valued': 12514, 'zechariah': 13144, 'scarlet': 10457, 'purple': 9533, 'sixth': 10856, 'noon': 8209, 'vinegar': 12650, 'myrrh': 7990, 'magdaline': 7341, 'zebedee': 13142, 'magdeline': 7342, 'sister': 10844, 'ninth': 8174, 'eli': 4284, 'lama': 6943, 'sabachthani': 10346, 'luke23': 7286, 'john19': 6685, 'veil': 12562, 'graves': 5499, 'jeruselem': 6660, 'beating': 1798, 'resurection': 10120, 'risen': 10223, 'peirced': 8762, 'pilate': 8930, 'stolen': 11289, 'tomb': 11965, 'sealed': 10531, 'precautions': 9183, 'prophesying': 9416, 'meta': 7644, 'treis': 12111, 'emeras': 4318, 'narratives': 8023, 'sepulchre': 10630, 'salome': 10375, 'sweet': 11559, 'spices': 11110, 'seeth': 10578, 'descended': 3667, 'rolled': 10260, 'countenance': 3193, 'raiment': 9652, 'snow': 10940, 'keepers': 6803, 'clothed': 2652, 'garment': 5276, 'affrighted': 1022, 'perplexed': 8817, 'thereabout': 11808, 'shining': 10722, 'lain': 6940, 'galilee': 5257, 'opon': 8454, 'appearance': 1334, 'devotes': 3751, 'mealtime': 7552, 'emmaus': 4327, 'jioned': 6675, 'unrecognised': 12378, 'ate': 1560, 'meal': 7551, 'recognised': 9801, 'whereopon': 12864, 'dissapeared': 3928, 'returning': 10140, 'suddenly': 11438, 'frightening': 5179, 'honey': 5896, 'arrose': 1447, 'tiberias': 11890, 'netson': 8110, 'boat': 2003, 'prepares': 9221, 'converse': 3093, 'adds': 948, 'pertaining': 8837, 'beheld': 1835, 'steadfastly': 11241, 'apparel': 1328, 'gazing': 5291, 'comein': 2737, 'manneras': 7422, 'outdoes': 8548, 'casually': 2352, 'desciples': 3669, 'bethany': 1889, 'parted': 8677, 'thessalonians': 11823, 'corinthians': 3140, 'minus': 7731, 'mathias': 7507, 'eleven': 4283, 'appointed': 1349, 'elijah': 4286, 'whirlwind': 12871, 'ascended': 1469, 'crucifiction': 3311, 'commericial': 2764, 'baranovs': 1749, 'doen': 3998, 'royal': 10303, 'governmental': 5462, 'yeah': 13101, 'condenstion': 2902, 'dripping': 4077, 'keyboards': 6819, 'protected': 9442, 'annoy': 1257, 'train': 12043, 'dismissing': 3902, 'uneasy': 12312, 'obseve': 8340, 'bounces': 2057, 'routinely': 10299, 'atom': 1581, 'trapping': 12093, 'zeno': 13146, 'satisfying': 10420, 'carefull': 2322, 'herring': 5791, 'audience': 1617, 'cares': 2324, 'resolved': 10071, 'decreasing': 3523, 'emitting': 4326, 'increasing': 6237, 'detected': 3714, 'vanish': 12524, 'exp': 4632, 'trip': 12136, 'behalf': 1827, 'southeren': 11025, 'emulate': 4344, 'blindness': 1977, 'summarise': 11461, 'repost': 10020, 'productions': 9343, 'geoffw': 5335, 'ucc': 12226, '959': 653, '5550': 500, 'legislate': 7048, 'conductor': 2909, 'voltage': 12694, 'repel': 10001, 'unimaginably': 12334, 'repulsion': 10034, 'superconductor': 11486, 'nonmagnetic': 8204, 'hardenned': 5666, 'propel': 9406, 'lunch': 7291, 'pumping': 9513, 'electrodynamic': 4271, 'magsails': 7355, 'magically': 7345, 'procreation': 9334, 'defended': 3542, 'electrons': 4277, 'indicative': 6261, 'omnipresence': 8415, 'humane': 5965, 'contraception': 3057, 'literally': 7171, 'paxton': 8732, 'inconvience': 6228, 'gang': 5268, 'comercial': 2738, 'fc': 4819, 'visable': 12663, 'amlost': 1189, 'yrs': 13130, '70s': 566, 'ultraviolet': 12251, 'angstroms': 1235, 'euve': 4537, 'microns': 7674, 'ntt': 8276, 'arcsecond': 1399, 'aurora': 1624, 'larsonian': 6971, 'systematically': 11588, 'suppressing': 11515, 'combinations': 2731, 'ward': 12744, 'speeds': 11096, 'dwarf': 4134, 'applying': 1348, 'compressibility': 2845, 'expansion': 4634, 'solids': 10975, '1963': 191, 'newton': 8150, '1965': 193, '1971': 196, 'super': 11481, 'collider': 2714, 'bonding': 2022, '13255': 92, '97213': 664, 'isus': 6602, '1680': 141, 'atkin': 1572, 'salt': 10376, '84106': 611, 'promote': 9385, 'reciprocity': 9798, 'compute': 2858, 'outsider': 8560, 'forest': 5068, 'consistencies': 2992, 'experimentally': 4649, 'epicycles': 4451, 'crystal': 3326, 'geocentricity': 5333, 'conceptually': 2884, 'emeritus': 4321, 'uw': 12488, 'proponent': 9420, 'president': 9241, 'retiring': 10128, 'boondoggle': 2032, 'contruction': 3086, 'superconducting': 11485, 'gross': 5538, 'goofy': 5440, 'mesons': 7636, 'hyperons': 6000, 'quarks': 9588, 'colliders': 2715, 'fermi': 4856, 'cern': 2427, 'colliding': 2716, 'beams': 1791, 'disintegrate': 3893, 'ants': 1292, 'cables': 2239, 'insecticides': 6367, 'supercollider': 11483, 'naming': 8019, 'ronald': 10269, 'reagon': 9747, 'vibrations': 12616, 'rotations': 10290, 'equivalents': 4472, 'positron': 9104, 'perihelion': 8792, '574': 509, 'perturbations': 8840, 'remaining': 9961, 'lorentz': 7238, 'transformation': 12060, 'fudge': 5200, 'accelerators': 855, 'stays': 11237, 'unrecognized': 12379, 'dwarfs': 4135, 'disc': 3852, 'vicinity': 12620, 'summarize': 11462, 'larsons': 6972, 'accretion': 880, 'absorption': 839, 'lighter': 7118, 'explosion': 4678, 'explodes': 4668, 'bouncing': 2058, 'pushes': 9543, 'expands': 4633, 'disappears': 3846, 'gravitationally': 5502, 'lone': 7217, 'inverse': 6523, 'densest': 3634, 'dispersed': 3909, 'mini': 7717, 'revolving': 10174, 'bode': 2009, 'hawking': 5705, 'cygnus': 3387, 'severe': 10670, 'wiser': 12939, 'unorthodox': 12367, 'clue': 2659, '113': 62, 'preceding': 9187, 'opportunities': 8456, 'uncharged': 12277, 'inherently': 6337, 'rotating': 10287, 'stationary': 11226, 'aggregates': 1044, 'continual': 3049, 'bombardment': 2019, 'aggregate': 1043, 'stabilizes': 11174, 'massless': 7485, 'spinning': 11117, 'rear': 9764, 'vibration': 12614, 'superimposed': 11488, 'meteorologists': 7651, 'suppression': 11516, 'wheeler': 12854, 'puzzling': 9550, 'openly': 8442, 'journals': 6706, 'courses': 3208, 'cornell': 3142, 'neal': 8059, 'ausman': 1627, 'differenced': 3785, 'dor': 4028, '63': 534, 'canberra': 2280, 'unsuccessful': 12389, 'successfully': 11429, 'readout': 9743, 'mro': 7941, 'magnetometer': 7351, 'contacts': 3026, 'cds': 2393, 'preclude': 9192, 'pps': 9155, 'wiring': 12935, 'electrostatic': 4278, 'iesd': 6054, 'spectrometer': 11084, 'euv': 4536, 'dds': 3461, 'navigation': 8047, 'acquisition': 909, 'consecutive': 2973, 'slew': 10885, 'rra': 10308, 'slewed': 10886, 'stow': 11313, 'verifying': 12586, 'slewing': 10887, 'uplinked': 12416, 'execution': 4610, 'uplink': 12415, 'dac': 3397, 'reposition': 10018, 'stator': 11231, 'noncoherent': 8198, 'twnc': 12205, 'reset': 10063, 'timer': 11915, '264': 314, 'executed': 4609, 'slews': 10888, 'imbalance': 6123, 'exhibited': 4618, 'dn': 3975, 'volts': 12695, 'anomaly': 1266, 'sensor': 10614, '15rpm': 128, 'lagging': 6938, 'downlink': 4047, '40bps': 420, 'lga': 7080, 'rpm': 10307, 'pressures': 9244, 'pws': 9551, 'uvs': 12487, 'hic': 5805, 'rrh': 10309, 'cmd': 2665, 'initiation': 6345, 'gds': 5292, 'mgds': 7660, 'v18': 12496, 'interfaced': 6460, 'dsn': 4101, 'cpa': 3227, 'semr': 10600, 'gsdo': 5554, 'mmr': 7796, 'thursday': 11886, 'institutional': 6401, 'moso': 7897, 'accomplishments': 873, '745': 579, '296': 333, 'heliocentric': 5759, '522': 489, '015': 8, 'humorous': 5974, 'lowly': 7266, 'penetrate': 8766, 'projecting': 9376, 'brutal': 2146, 'sadistic': 10356, 'tolerates': 11960, 'lovingness': 7261, 'victims': 12623, 'mindmush': 7713, 'consoled': 2998, 'correctional': 3157, 'tyrant': 12218, 'vedas': 12556, 'fig': 4882, 'pic': 8911, 'unixplot': 12353, 'gremlin': 5521, 'observable': 8326, 'surroundings': 11532, 'microscopes': 7678, 'figments': 4886, 'imaginations': 6114, 'overwhelming': 8582, 'perceives': 8776, 'actaully': 913, 'microscope': 7677, 'illuminate': 6084, 'probablity': 9310, 'solidity': 10974, 'ramification': 9662, 'philosophic': 8869, 'stray': 11331, 'regretted': 9901, 'aspirin': 1492, 'therapy': 11806, 'hdtv': 5709, '6mb': 560, '1600x1100x16bits': 134, '5mb': 516, 'guessing': 5564, 'wider': 12891, '1100': 59, '180mb': 157, 'vram': 12709, '_very_': 767, 'advise': 1002, 'io': 6546, 'lisp': 7159, 'doug': 4043, 'mohney': 7833, 'arch': 1384, 'resonant': 10074, 'experiencing': 4645, 'elint': 4291, 'cosmos': 3180, '1603': 135, 'c1833': 2232, 'undergone': 12296, 'prolonged': 9379, 'c1603': 2231, '850': 614, 'unacceptably': 12260, 'thomson': 11845, 'saic': 10362, 'mclean': 7543, 'zips': 13155, 'kettle': 6815, 'hurry': 5985, 'jtheinon': 6735, 'kruuna': 6912, 'mozumder': 7936, 'wondered': 12971, 'crackpot': 3233, 'provocateur': 9469, 'nerve': 8101, 'hausmann': 5695, 'madhaus': 7334, 'centigram': 2416, '408': 419, '428': 429, '3553': 377, 'cgro': 2439, 'meters': 7653, 'nanoseconds': 8020, 'silicon': 10801, '9000': 635, '700s': 563, '_free': 715, 'inquiry_': 6359, 'kurtz': 6917, 'converst': 3097, 'aggressive': 1045, 'missionary': 7775, 'puritanical': 9531, 'outlook': 8555, 'evangelical': 4543, 'preachment': 9181, 'strict': 11347, 'authoritarian': 1633, 'orthodoxy': 8526, 'pornography': 9090, 'tobacco': 11948, 'alcohol': 1100, 'coffee': 2688, 'politically': 9052, 'utal': 12460, 'ezra': 4718, 'taft': 11600, 'benson': 1873, 'secretary': 10553, 'agriculture': 1057, 'osmond': 8530, 'mariotts': 7453, 'hotel': 5927, 'score': 10500, '1830': 161, 'hieroglyphics': 5814, 'buried': 2194, 'visits': 12668, 'moroni': 7886, '_book': 697, 'mormon_': 7881, 'settled': 10662, 'ancestors': 1219, 'baptized': 1747, 'reunited': 10142, 'deceased': 3487, 'proxy': 9473, 'relatives': 9928, 'hereafter': 5782, 'outcasts': 8545, 'mainline': 7367, 'denominations': 3628, 'heretics': 5787, 'denounced': 3630, 'fraud': 5148, 'loyal': 7268, 'palmyra': 8630, 'westward': 12846, '1844': 164, 'agry': 1059, 'mob': 7800, 'brigham': 2110, 'reportedly': 10016, 'eighty': 4249, 'wives': 12957, 'zion': 13153, 'polygamy': 9060, 'nineteenth': 8172, 'muhammadanism': 7955, 'judaism': 6739, 'beginnings': 1824, 'roots': 10274, 'bu': 2150, 'scrutiny': 10518, 'lifelong': 7106, 'divinely': 3964, 'sterling': 11266, 'mcmurrin': 7544, 'culturally': 3349, 'sei': 10580, 'carnegie': 2327, 'mellon': 7597, 'yourdon': 13125, 'aboard': 812, 'gene': 5305, 'miya': 7790, 'aloft': 1138, 'chocolate': 2519, 'cookies': 3117, 'covetously': 3219, '71s': 571, '104s': 48, 'cookie': 3116, 'offend': 8378, 'drugs': 4094, 'hindi': 5832, 'glossary': 5400, 'vijay': 12644, 'raghavan': 9648, 'constructions': 3016, 'jahilia': 6626, 'daft': 3399, 'testicle': 11745, 'stepped': 11263, 'offense': 8380, 'goddamned': 5415, 'cannibalistic': 2287, 'necrophiliac': 8071, 'assess': 1507, 'fucking': 5199, 'vpic': 12706, '0e': 33, 'tonight': 11973, 'nuvotel': 8295, 'differents': 3793, 'meanings': 7557, 'hades': 5607, 'tartaros': 11643, 'gehenna': 5297, 'bibical': 1905, 'sheol': 10711, 'likened': 7126, 'translators': 12074, 'unfortunate': 12321, 'impute': 6195, 'connotation': 2961, 'inferno': 6301, 'abode': 813, 'shadowy': 10685, 'spared': 11057, 'reserved': 10062, 'rebellion': 9774, 'unseat': 12383, 'demons': 3611, 'restraint': 10106, 'mutinous': 7980, 'jude': 6741, 'rebellious': 9775, 'greeks': 5514, 'confined': 2925, 'titans': 11935, 'gai': 5250, 'hinnom': 5837, 'hinniom': 5836, 'narrow': 8024, 'ravine': 9707, 'southwest': 11027, 'abominable': 814, 'pagan': 8608, 'rites': 10229, 'apostate': 1322, 'ahaz': 1062, 'manasseh': 7403, 'molech': 7838, 'celebrated': 2400, 'tophet': 11986, 'abhorrence': 802, 'groves': 5546, 'josiah': 6704, 'abominations': 816, 'ceremonially': 2426, 'unclean': 12278, 'cesspool': 2435, 'repository': 10019, 'sewage': 10672, 'carcasses': 2314, 'dispised': 3910, 'criminals': 3276, 'burned': 2196, 'rubbish': 10315, 'fires': 4926, 'feeding': 4840, 'garbage': 5272, 'aceldama': 893, 'betrayal': 1890, 'dictator': 3770, 'resist': 10065, 'establishment': 4506, 'ordained': 8489, 'kindle': 6849, 'rekindled': 9917, 'fiery': 4880, 'wicked': 12886, 'millennia': 7702, 'incorrigibly': 6231, 'writhe': 13039, 'eternity': 4518, 'annihilated': 1249, 'malachi': 7387, 'proud': 9455, 'wickedly': 12887, 'soles': 10970, 'wages': 12721, 'cessation': 2434, 'freak': 5150, 'psuvm': 9482, 'hilt': 5826, 'dining': 3816, 'halls': 5623, 'deemed': 3532, 'liberal': 7085, 'havens': 5699, 'wdb': 12800, 'russell': 10337, 'turpin': 12194, 'wont': 12976, 'simplicity': 10817, 'stew': 11269, 'detects': 3719, 'mixing': 7788, 'deadline': 3464, 'prevents': 9262, 'fray': 5149, 'browsers': 2140, 'pursued': 9539, 'throughly': 11869, 'kaufmann': 6797, 'critique_of_religion_and_philosophy': 3287, 'barth': 1758, 'dd': 3459, 'geneva': 5322, 'distinguishing': 3942, 'glasses': 5387, 'nt': 8274, 'informs': 6328, 'dominanting': 4013, 'ceremonial': 2425, 'dietary': 3782, 'abrogated': 827, 'adequacy': 949, 'moves': 7931, 'mls': 7793, 'inappropriate': 6200, 'govern': 5459, 'conservatives': 2980, 'lacking': 6933, 'merton': 7634, 'conservative': 2979, 'francis': 5141, 'myriads': 7989, 'klingons': 6870, 'simeon': 10806, 'gently': 5331, 'staying': 11236, 'interpretive': 6487, 'fence': 4852, 'hideous': 5809, 'overstatement': 8578, 'female': 4851, 'galatians': 5254, 'ellipsis': 4296, 'ddavis': 3460, 'ma30': 7308, 'bull': 2181, 'qotd': 9566, '1993may12': 221, '193454': 180, '29823': 335, 'hal': 5617, 'bobp': 2007, 'pendleton': 8765, '235404': 282, '22590': 272, 'pony': 9076, 'ingres': 6334, 'mwmeyer': 7983, 'wading': 12717, 'muck': 7952, 'thief': 11828, 'omitted': 8411, 'golfer': 5432, 'dishonest': 3891, 'recesses': 9794, 'jargon': 6635, 'furniture': 5234, 'enjoys': 4395, 'stretch': 11342, 'enthusiastically': 4428, 'obsessively': 8338, 'theorizing': 11802, 'appreciating': 1352, 'hack': 5599, 'congregate': 2940, 'creatively': 3260, 'overcoming': 8568, 'circumventing': 2576, 'deprecated': 3653, 'meddler': 7579, 'poking': 9042, 'connote': 2963, 'ehic': 4245, 'meritocracy': 7632, 'gladly': 5382, 'labeled': 6923, 'wannabee': 12738, 'sharing': 10700, 'facilitating': 4730, 'cracking': 3232, 'ethically': 4523, 'commits': 2768, 'theft': 11780, 'breach': 2090, 'confidentiality': 2923, 'normative': 8219, 'universally': 12347, 'unethical': 12317, 'moderates': 7816, 'benign': 1871, 'crackers': 3231, 'samurai': 10384, 'hackerly': 5603, 'courtesy': 3210, 'sysop': 11586, 'superuser': 11499, 'unpaid': 12368, 'unsolicited': 12386, 'tiger': 11905, 'manifestation': 7412, 'trait': 12048, 'reinforce': 9909, 'hackerdom': 5602, 'intangible': 6416, 'asset': 1509, 'bestowed': 1885, 'befuddled': 1818, 'sysadmins': 11585, 'nahh': 8011, 'exagerate': 4573, 'limself': 7139, 'borrow': 2043, 'dumpty': 4120, 'coverage': 3214, 'oversimplify': 8577, 'pressurize': 9246, 'breathable': 2098, 'breathing': 2101, 'needing': 8075, 'ventilation': 12570, 'pinch': 8937, 'mask': 7474, 'vnetwork': 12685, 'storyboardpictpict8bim': 11309, 'appsoft': 1369, 'rych': 10343, 'festival': 4862, 'hawkes': 5704, 'rh': 10182, '3ds': 405, 'reload': 9955, 'orientation': 8508, 'prj': 9302, 'cel': 2399, 'ell': 4293, 'interference': 6463, 'poll': 9057, 'ivy': 6615, 'indentified': 6242, 'younger': 13123, 'idiotic': 6044, 'gad': 5248, 'buran': 2190, 'gks4': 5379, 'sunos': 11477, '100533': 39, '100755': 41, 'patch': 8709, '10075': 40, '_when': 769, 'fails_': 4747, 'leon': 7063, 'festinger': 4861, 'riecken': 10204, 'schachter': 10466, 'harper': 5679, 'torchbook': 11989, 'disconfirmatory': 3863, 'seventh': 10666, 'adventist': 992, 'sdas': 10523, 'millerite': 7704, '1843': 163, 'centipede': 2417, '1978': 202, 'qb1': 9562, 'fw': 5245, 'karla': 6791, 'discoverers': 3871, 'aversion': 1658, 'versed': 12594, 'aramaic': 1380, 'upbringing': 12408, 'latin': 6986, 'kmr4': 6873, 'cwru': 3377, 'hate': 5688, 'belabor': 1841, 'lifetime': 7110, 'projected': 9375, 'refurbishment': 9877, 'horrendous': 5913, 'transporting': 12086, 'certifying': 2432, 'risks': 10227, 'gyros': 5591, 'essay': 4499, '_hen': 718, 'toes_': 11951, 'clitoral': 2640, 'ripples': 10220, '_bully': 699, 'brontosaurus_': 2133, '1suntv': 234, '3km': 407, 'watson': 12781, 'mtsu': 7950, 'csjohn': 3338, 'wallace': 12730, 'clp': 2657, 'fonts': 5039, 'binaries': 1929, 'distributable': 3946, 'grasprt': 5494, 'cga': 2437, 'adapters': 933, 'encounter': 4353, 'imprison': 6184, 'discect': 3853, 'economicly': 4188, 'deseases': 3677, 'undetectable': 12311, 'ejon': 4256, 'matejevic': 7494, 'bundle': 2187, 'preparing': 9222, 'circles': 2563, 'ellipses': 4295, 'vdu': 12552, 'wouldnt': 13019, 'tex': 11757, 'scaleable': 10445, 'formatting': 5087, 'ease': 4167, 'autonomous': 1646, 'tendency': 11715, 'tyrants': 12219, 'ideologies': 6041, 'earthly': 4164, 'vicious': 12621, 'quiet': 9612, 'dreadful': 4071, '_sometimes_': 753, 'folk': 5026, 'heated': 5735, '_you_': 773, 'brigade': 2109, 'searched': 10535, 'lydick': 7298, 'sol1': 10961, 'nsi': 8270, 'hepnet': 5778, 'hurdle': 5983, 'congresspersons': 2947, 'approached': 1358, 'congressperson': 2946, 'congressman': 2944, 'settlements': 10663, 'election': 4265, 'campaigns': 2272, 'mobilizing': 7801, 'constituents': 3007, 'nationwide': 8035, 'unemployment': 12314, 'priced': 9270, 'lobbyists': 7196, 'constituent': 3006, 'sponsorship': 11140, 'staff': 11181, 'elicit': 4285, 'politicians': 9054, 'verb': 12574, 'complaining': 2817, 'asn': 1488, 'cda': 2390, 'dca': 3454, 'sgml': 10681, 'dct': 3455, 'encoding': 4352, 'decoding': 3514, 'tags': 11602, 'overwhelmed': 8581, 'simpleminded': 10815, 'ludicrous': 7282, 'grabs': 5468, 'ld': 7016, 'anyday': 1297, 'tastes': 11647, 'wrail': 13026, 'flavoured': 4966, 'reiterate': 9911, 'apostasy': 1321, 'compulsion': 2854, 'apostates': 1323, 'messenger': 7640, 'sedition': 10564, 'mounts': 7921, 'broadcasts': 2127, 'aggravated': 1042, 'subsidiary': 11413, 'formal': 5081, 'mischief': 7748, 'practise': 9162, 'wage': 12719, 'treaties': 12105, 'prisoners': 9298, 'isolated': 6589, 'unilateral': 12332, 'fasad': 4796, 'hadith': 5608, 'anic': 1237, 'circumstance': 2572, 'tafsir': 11599, 'regulations': 9905, 'hadiths': 5609, 'arriving': 1444, 'interlock': 6469, 'deciphering': 3499, 'entail': 4415, 'piety': 8928, 'pertain': 8836, 'gestation': 5346, 'rulings': 10326, 'dispensing': 3908, 'jaffar': 6624, 'ibn': 6020, 'sadiq': 10355, 'relates': 9920, 'abrogating': 828, 'decisive': 3502, 'obligation': 8322, 'meccan': 7571, 'medinite': 7583, 'comprehend': 2840, 'advancing': 988, 'delaying': 3572, 'manifest': 7411, 'termination': 11723, 'unaware': 12265, 'disjoining': 3895, 'adjective': 955, 'noun': 8248, 'emphasized': 4333, 'obligatory': 8323, 'permissions': 8808, 'lawful': 7000, 'unlawful': 12357, 'accordance': 874, 'tafaqquh': 11598, 'beware': 1896, '122': 72, 'jurisprudence': 6767, 'mujtahid': 7956, 'pronounce': 9394, 'divisions': 3968, 'subdivisions': 11396, 'syntax': 11581, 'conjugation': 2949, 'semantics': 10596, 'oratory': 8481, 'mantiq': 7427, 'transmitters': 12078, 'rijal': 10216, 'juriprudence': 6765, 'sunnah': 11475, 'imperatives': 6142, 'awamir': 1668, 'nawahi': 8050, 'particularities': 8684, 'aam': 787, 'khas': 6825, 'conditional': 2904, 'tacit': 11594, 'abrogator': 829, 'exemption': 4613, 'precaution': 9182, 'mastery': 7489, 'jurisprudent': 6768, 'rigorous': 10215, 'pronouncing': 9397, 'acceding': 851, 'fuqaha': 5232, 'trustees': 12160, 'illicit': 6079, 'pleasures': 9003, 'sunni': 11476, 'madhabs': 7333, 'fortress': 5103, 'delineated': 3589, 'requisite': 10048, 'cautioned': 2382, 'affair': 1013, 'condemned': 2901, 'quantizing': 9586, 'null': 8281, 'void': 12692, 'quibbling': 9607, 'tons': 11976, 'verbiage': 12577, 'licensing': 7094, 'etymology': 4529, 'intepretation': 6442, 'crying': 3323, 'heresy': 5785, '200mb': 241, 'flilib': 4987, 'deter': 3720, 'koreshies': 6899, 'tarrant': 11642, 'county': 3204, 'peerwani': 8759, 'coerced': 2684, 'faking': 4760, 'contemplate': 3032, 'corpse': 3152, 'krispy': 6904, 'kritter': 6905, 'the_doge': 11775, 'louis': 7253, 'dobbs': 3980, 'approved': 1364, 'conspirator': 3001, 'sundays': 11471, 'fm': 5015, 'awful': 1676, 'wate': 12776, 'convenience': 3089, 'splitting': 11131, 'multiply': 7965, 'mathematica': 7502, 'algebra': 1109, 'symbolic': 11572, 'beasts': 1796, 'dir': 3821, 'scalars': 10443, '1r0sn0': 231, '3r': 409, 'turgut': 12188, 'kalfaoglu': 6785, 'sp': 11030, 'maintainer': 7372, 'lifts': 7115, 'flights': 4986, 'pound': 9136, 'resurected': 10119, 'installing': 6391, 'atm': 1577, 'panel': 8635, 'truetype': 12155, 'venture': 12571, 'undercut': 12294, 'nasty': 8029, 'shop': 10736, 'smirk': 10921, 'ripping': 10219, 'lazer': 7010, 'fontmonger': 5038, 'scifi': 10493, 'fluids': 5006, 'emersing': 4322, 'hugo': 5963, 'nebula': 8066, 'awards': 1670, 'tolerated': 11959, 'theoreticians': 11800, 'postulate': 9128, 'experimentalist': 4648, 'invitation': 6535, 'informatica': 6318, 'echoes': 4179, 'favourable': 4816, 'matjaz': 7510, 'gams': 5265, 'ijs': 6074, 'si': 10770, 'colleague': 2704, 'profiles': 9354, 'biography': 1936, 'winograd': 12928, 'csli': 3339, 'diverse': 3957, 'discourse': 3868, 'expresses': 4690, 'informatics': 6319, 'extending': 4695, 'disciplines': 3858, 'cybernetics': 3380, 'ai': 1065, 'cognitive': 2689, 'informationally': 6323, 'photonics': 8885, 'directed': 3824, 'profile': 9353, 'twofold': 12207, 'achievements': 897, 'narrate': 8022, 'factically': 4734, 'issuing': 6599, 'colleagues': 2705, 'collaborators': 2700, 'originality': 8515, 'circulation': 2570, 'communities': 2785, 'occasions': 8352, 'symposia': 11574, 'reviewing': 10163, 'satisfactorily': 10416, 'submit': 11404, 'latex': 6985, 'compose': 2833, 'typed': 12212, 'disposal': 3919, 'prompt': 9389, 'confirmation': 2927, 'cooperation': 3120, 'unrevealed': 12381, 'apprehend': 1353, 'punish': 9516, 'chap': 2463, 'bastard': 1769, 'eaplain': 4154, 'download': 4048, 'beginner': 1822, 'helke': 5761, 'egret': 4240, 'adapted': 932, 'andes': 1223, 'tibet': 11891, 'europeans': 4535, 'insure': 6414, 'sucessful': 11431, 'childbirth': 2510, 'flares': 4958, 'microbes': 7667, 'permits': 8810, 'caliber': 2250, 'rifles': 10205, 'technion': 11678, 'specialize': 11068, 'tuition': 12179, 'assistantships': 1515, 'banana': 1733}\n"
     ]
    }
   ],
   "source": [
    "def P6b():\n",
    "    \n",
    "    def lookup_vocab_word(vocab_dict, fet):\n",
    "        for key, val in vocab_dict.items():\n",
    "            if val == fet:\n",
    "                return key\n",
    "    \n",
    "    # using basic count vectorizer\n",
    "    cv = CountVectorizer(min_df = 0)\n",
    "    train_fv = cv.fit_transform(train_data)\n",
    "    dev_fv = cv.fit_transform(dev_data)\n",
    "    test_fv = cv.fit_transform(test_data)\n",
    "    \n",
    "    print(\"============================\")\n",
    "    # Train a logistic regression model using a \"l1\" penalty. Output the number of learned weights that are not equal to zero.\n",
    "    clsfr1 = LogisticRegression(penalty=\"l1\"\n",
    "                              ,multi_class = \"ovr\"\n",
    "                              ,solver = \"liblinear\"\n",
    "                              ,max_iter = 1000\n",
    "                              ,C = 0.2)\n",
    "    fit1 = clsfr1.fit(train_fv, train_labels)\n",
    "    print(\"L1: number of learned weights that are not equal to zero\")\n",
    "    print(np.count_nonzero(clsfr1.coef_))\n",
    "    \n",
    "#     print(\"============================\")\n",
    "#     # How does this compare to the number of non-zero weights you get with \"l2\"?\n",
    "#     clsfr2 = LogisticRegression(penalty=\"l2\"\n",
    "#                               ,multi_class = \"ovr\"\n",
    "#                               ,solver = \"liblinear\"\n",
    "#                               ,max_iter = 1000\n",
    "#                               ,C = 0.2)\n",
    "#     fit2 = clsfr2.fit(train_fv, train_labels)\n",
    "#     print(\"L2: number of learned weights that are not equal to zero\")\n",
    "#     print(np.count_nonzero(clsfr2.coef_))\n",
    "    \n",
    "    print(\"============================\")\n",
    "    # Now, reduce the size of the vocabulary by keeping only those features that have at least one non-zero weight and retrain a model using \"l2\".\n",
    "    fts = cv.get_feature_names()\n",
    "    print(len(fts))\n",
    "    all_class_l1_coef = np.sum(clsfr1.coef_, axis = 0)\n",
    "    non_zero_features = np.where(all_class_l1_coef > 0)[0]\n",
    "    print(non_zero_features)\n",
    "    non_zero_vocab = [lookup_vocab_word(cv.vocabulary_, ft) for ft in non_zero_features]\n",
    "    print(non_zero_vocab)\n",
    "    print(cv.vocabulary_)\n",
    "#     non_zero_vocab = [fts[idx] for idx in non_zero_features]\n",
    "#     print(non_zero_vocab)\n",
    "    \n",
    "    \n",
    "    # Make a plot showing accuracy of the re-trained model vs. the vocabulary size you get when pruning unused features by adjusting the C parameter.\n",
    "    \n",
    "P6b()"
   ]
  },
  {
   "cell_type": "code",
   "execution_count": 70,
   "metadata": {},
   "outputs": [
    {
     "name": "stdout",
     "output_type": "stream",
     "text": [
      "+++++++++++++++++++++++\n",
      "training a logistic classifier using L1, and C =  0.0001\n"
     ]
    },
    {
     "name": "stderr",
     "output_type": "stream",
     "text": [
      "C:\\Users\\yangyq\\Anaconda3\\lib\\site-packages\\sklearn\\linear_model\\logistic.py:433: FutureWarning: Default solver will be changed to 'lbfgs' in 0.22. Specify a solver to silence this warning.\n",
      "  FutureWarning)\n",
      "C:\\Users\\yangyq\\Anaconda3\\lib\\site-packages\\sklearn\\linear_model\\logistic.py:460: FutureWarning: Default multi_class will be changed to 'auto' in 0.22. Specify the multi_class option to silence this warning.\n",
      "  \"this warning.\", FutureWarning)\n"
     ]
    },
    {
     "name": "stdout",
     "output_type": "stream",
     "text": [
      "size of L1 non zero vocab:  0\n",
      "training a logistic classifier using L2, with reduced vocabulary, and C =  0.0001\n",
      "size of L2 non zero vocab:  26879\n",
      "accuracy:  0.5562130177514792\n",
      "+++++++++++++++++++++++\n",
      "training a logistic classifier using L1, and C =  0.001\n",
      "size of L1 non zero vocab:  2\n",
      "training a logistic classifier using L2, with reduced vocabulary, and C =  0.001\n",
      "size of L2 non zero vocab:  26879\n",
      "accuracy:  0.6375739644970414\n",
      "+++++++++++++++++++++++\n",
      "training a logistic classifier using L1, and C =  0.01\n",
      "size of L1 non zero vocab:  16\n",
      "training a logistic classifier using L2, with reduced vocabulary, and C =  0.01\n",
      "size of L2 non zero vocab:  26879\n",
      "accuracy:  0.6789940828402367\n",
      "+++++++++++++++++++++++\n",
      "training a logistic classifier using L1, and C =  0.1\n",
      "size of L1 non zero vocab:  206\n",
      "training a logistic classifier using L2, with reduced vocabulary, and C =  0.1\n",
      "size of L2 non zero vocab:  26879\n",
      "accuracy:  0.7041420118343196\n",
      "+++++++++++++++++++++++\n",
      "training a logistic classifier using L1, and C =  0.5\n"
     ]
    },
    {
     "name": "stderr",
     "output_type": "stream",
     "text": [
      "C:\\Users\\yangyq\\Anaconda3\\lib\\site-packages\\sklearn\\svm\\base.py:931: ConvergenceWarning: Liblinear failed to converge, increase the number of iterations.\n",
      "  \"the number of iterations.\", ConvergenceWarning)\n"
     ]
    },
    {
     "name": "stdout",
     "output_type": "stream",
     "text": [
      "size of L1 non zero vocab:  707\n",
      "training a logistic classifier using L2, with reduced vocabulary, and C =  0.5\n",
      "size of L2 non zero vocab:  26879\n",
      "accuracy:  0.7144970414201184\n",
      "+++++++++++++++++++++++\n",
      "training a logistic classifier using L1, and C =  1.0\n",
      "size of L1 non zero vocab:  960\n",
      "training a logistic classifier using L2, with reduced vocabulary, and C =  1.0\n",
      "size of L2 non zero vocab:  26879\n",
      "accuracy:  0.6997041420118343\n",
      "+++++++++++++++++++++++\n",
      "training a logistic classifier using L1, and C =  2.0\n",
      "size of L1 non zero vocab:  1318\n",
      "training a logistic classifier using L2, with reduced vocabulary, and C =  2.0\n",
      "size of L2 non zero vocab:  26879\n",
      "accuracy:  0.6967455621301775\n",
      "+++++++++++++++++++++++\n",
      "training a logistic classifier using L1, and C =  10.0\n",
      "size of L1 non zero vocab:  2289\n",
      "training a logistic classifier using L2, with reduced vocabulary, and C =  10.0\n",
      "size of L2 non zero vocab:  26879\n",
      "accuracy:  0.6893491124260355\n",
      "[0.5562130177514792, 0.6375739644970414, 0.6789940828402367, 0.7041420118343196, 0.7144970414201184, 0.6997041420118343, 0.6967455621301775, 0.6893491124260355]\n",
      "[0, 2, 16, 206, 707, 960, 1318, 2289]\n"
     ]
    },
    {
     "data": {
      "image/png": "[encoded data removed]",
      "text/plain": [
       "<Figure size 432x288 with 1 Axes>"
      ]
     },
     "metadata": {
      "needs_background": "light"
     },
     "output_type": "display_data"
    }
   ],
   "source": [
    "def P6():\n",
    "\n",
    "    # Keep this random seed here to make comparison easier.\n",
    "    np.random.seed(0)\n",
    "\n",
    "    ### STUDENT START ###\n",
    "    def helper_function(c):\n",
    "        '''for a given c, fits a L1 model, and uses that to generate a reduce vocab. Then uses the reduce vocab to fit an L2 model.'''\n",
    "        results = {\"vocab_size\" : 0, \"accuracy\" : 0}\n",
    "        print(\"+++++++++++++++++++++++\")\n",
    "        print(\"training a logistic classifier using L1, and C = \", c)\n",
    "        vec = CountVectorizer()\n",
    "        train_data_features = vec.fit_transform(train_data)\n",
    "        dev_data_features = vec.transform(dev_data)\n",
    "        clf = LogisticRegression(penalty=\"l1\", C=c)\n",
    "        clf.fit(train_data_features, train_labels)\n",
    "\n",
    "        # for each label, prints the number of non-zero weights\n",
    "        vocab = vec.get_feature_names()\n",
    "        non_zero_features = []\n",
    "        for x in range(0, np.unique(train_labels).size):\n",
    "            non_zero_features_per_label = np.where(clf.coef_[x] != 0)[0]\n",
    "            non_zero_features += non_zero_features_per_label.tolist()\n",
    "        non_zero_features = np.unique(non_zero_features)\n",
    "        print(\"size of L1 non zero vocab: \", len(non_zero_features))\n",
    "        results[\"vocab_size\"] = len(non_zero_features)\n",
    "\n",
    "\n",
    "        print(\"training a logistic classifier using L2, with reduced vocabulary, and C = \", c)\n",
    "        # uses the non-zero weights to build a new vocab\n",
    "        non_zero_vocab = []\n",
    "        for x in non_zero_features:\n",
    "            non_zero_vocab.append(vocab[x])\n",
    "\n",
    "        # uses new vocab to create a L2 classifier\n",
    "        vec = CountVectorizer()\n",
    "        train_data_features = vec.fit_transform(train_data)\n",
    "        dev_data_features = vec.transform(dev_data)\n",
    "        clf = LogisticRegression(penalty=\"l2\", C=c)\n",
    "        clf.fit(train_data_features, train_labels)\n",
    "        accuracy = clf.score(dev_data_features, dev_labels)\n",
    "        \n",
    "        # for each label, prints the number of non-zero weights\n",
    "        vocab = vec.get_feature_names()\n",
    "        non_zero_features = []\n",
    "        for x in range(0, np.unique(train_labels).size):\n",
    "            non_zero_features_per_label = np.where(clf.coef_[x] != 0)[0]\n",
    "            non_zero_features += non_zero_features_per_label.tolist()\n",
    "        non_zero_features = np.unique(non_zero_features)\n",
    "        print(\"size of L2 non zero vocab: \", len(non_zero_features))\n",
    "        print(\"accuracy: \", accuracy)\n",
    "        results[\"accuracy\"] = accuracy\n",
    "        \n",
    "        return results\n",
    "\n",
    "    \n",
    "    accuracy = []\n",
    "    vocab_size = []\n",
    "    cs = [0.0001, 0.001, 0.01, 0.1, 0.5, 1.0, 2.0, 10.0]\n",
    "    for c in cs:\n",
    "        results = helper_function(c)\n",
    "        accuracy.append(results[\"accuracy\"])\n",
    "        vocab_size.append(results[\"vocab_size\"])\n",
    "    \n",
    "    # plots the vocab size vs accuracy\n",
    "    print(accuracy)\n",
    "    print(vocab_size)\n",
    "    p = plt.plot(vocab_size, accuracy)\n",
    "    plt.xlabel(\"vocab size\")\n",
    "    plt.ylabel(\"accuracy\")\n",
    "    plt.show()\n",
    "        \n",
    "    ### STUDENT END ###\n",
    "    \n",
    "P6()"
   ]
  },
  {
   "cell_type": "markdown",
   "metadata": {},
   "source": [
    "# 7\n",
    "\n",
    "Use the TfidfVectorizer -- how is this different from the CountVectorizer? Train a logistic regression model with C=100.\n",
    "\n",
    "Make predictions on the dev data and show the top 3 documents where the ratio R is largest, where R is:\n",
    "\n",
    "maximum predicted probability / predicted probability of the correct label\n",
    "\n",
    "What kinds of mistakes is the model making? Suggest a way to address one particular issue that you see."
   ]
  },
  {
   "cell_type": "code",
   "execution_count": 71,
   "metadata": {},
   "outputs": [
    {
     "name": "stdout",
     "output_type": "stream",
     "text": [
      "======================\n",
      "7a trains a logistic classifier using L2, and C 100\n",
      "======================\n"
     ]
    },
    {
     "name": "stderr",
     "output_type": "stream",
     "text": [
      "C:\\Users\\yangyq\\Anaconda3\\lib\\site-packages\\sklearn\\linear_model\\logistic.py:433: FutureWarning: Default solver will be changed to 'lbfgs' in 0.22. Specify a solver to silence this warning.\n",
      "  FutureWarning)\n",
      "C:\\Users\\yangyq\\Anaconda3\\lib\\site-packages\\sklearn\\linear_model\\logistic.py:460: FutureWarning: Default multi_class will be changed to 'auto' in 0.22. Specify the multi_class option to silence this warning.\n",
      "  \"this warning.\", FutureWarning)\n"
     ]
    },
    {
     "name": "stdout",
     "output_type": "stream",
     "text": [
      "              precision    recall  f1-score   support\n",
      "\n",
      "           0       0.62      0.69      0.65       148\n",
      "           1       0.91      0.80      0.85       209\n",
      "           2       0.83      0.83      0.83       199\n",
      "           3       0.64      0.68      0.66       120\n",
      "\n",
      "   micro avg       0.76      0.76      0.76       676\n",
      "   macro avg       0.75      0.75      0.75       676\n",
      "weighted avg       0.77      0.76      0.77       676\n",
      "\n",
      "======================\n",
      "7b shows top 3 documents by ratio of R\n",
      "======================\n",
      "class:  0\n",
      "highest probability for this class:  [0.99624006]\n",
      "class:  1\n",
      "highest probability for this class:  [0.99997872]\n",
      "class:  2\n",
      "highest probability for this class:  [0.99977406]\n",
      "class:  3\n",
      "highest probability for this class:  [0.98799884]\n",
      "----------------------\n",
      "post: \n",
      "\n",
      "\n",
      "ra>   Robert, you keep making references to \"orthodox\" belief, and saying\n",
      "ra> things like \"it is held that...\" (cf. \"K\n",
      "-------------------\n",
      "post: \n",
      "I replied to this query via e-mail, but I think there are some\n",
      "issues that are worth discussing in public.\n",
      "\n",
      "\n",
      "I would rec\n",
      "-------------------\n",
      "post: \n",
      "Archive-name: graphics/faq\n",
      "\n",
      "This message is automatically posted once a week or so in an effort to\n",
      "cut down on the repet\n",
      "-------------------\n"
     ]
    }
   ],
   "source": [
    "def P7():\n",
    "    ### STUDENT START ###\n",
    "    print(\"======================\")\n",
    "    print(\"7a trains a logistic classifier using L2, and C 100\")\n",
    "    print(\"======================\")\n",
    "    vec = TfidfVectorizer()\n",
    "    train_data_features = vec.fit_transform(train_data)\n",
    "    dev_data_features = vec.transform(dev_data)\n",
    "    clf = LogisticRegression(penalty=\"l2\", C=100)\n",
    "    clf.fit(train_data_features, train_labels)\n",
    "    vocab = vec.get_feature_names()\n",
    "    \n",
    "    # prints the F1 scores\n",
    "    my_predictions = clf.predict(dev_data_features)\n",
    "    print(classification_report(my_predictions, dev_labels))\n",
    "    \n",
    "    print(\"======================\")\n",
    "    print(\"7b shows top 3 documents by ratio of R\")\n",
    "    print(\"======================\")\n",
    "    \n",
    "    # note, R = maximum predicted probability / predicted probability of the correct label\n",
    "    # for each class, gets the max predicted probability\n",
    "    my_predictions_proba = clf.predict_proba(dev_data_features)\n",
    "    max_probs = []\n",
    "    for x in clf.classes_:\n",
    "        print(\"class: \", x)\n",
    "        highest_prediction_doc_for_this_class = np.argsort(my_predictions_proba[:,x])[::-1][:1]\n",
    "        print(\"highest probability for this class: \", my_predictions_proba[highest_prediction_doc_for_this_class,x])\n",
    "        max_probs.append(my_predictions_proba[highest_prediction_doc_for_this_class,x][0])\n",
    "        #print(\"document's predictions: \", my_predictions_proba[highest_prediction_doc_for_this_class])\n",
    "\n",
    "    #print(clf.classes_)\n",
    "    #print(max_probs)\n",
    "        \n",
    "    # for each document prediction, calculates the R ratio\n",
    "    print(\"----------------------\")\n",
    "    rs = []\n",
    "    for x in range(0, len(my_predictions_proba)):\n",
    "        #print(x, my_predictions_proba[x], dev_labels[x])\n",
    "        label = dev_labels[x]\n",
    "        prob = my_predictions_proba[x, label]\n",
    "        r = prob / max_probs[label]\n",
    "        rs.append(r)\n",
    "    \n",
    "    #print(rs[:10])\n",
    "\n",
    "    # finds the top 3 documents with the highest Rs\n",
    "    top_3_rs = np.argsort(rs)[::-1][:3]\n",
    "    for x in top_3_rs:\n",
    "        print(\"post: \")\n",
    "        print(dev_data[x][:120])\n",
    "        print(\"-------------------\")\n",
    "    \n",
    "    ## STUDENT END ###\n",
    "\n",
    "P7()"
   ]
  },
  {
   "cell_type": "markdown",
   "metadata": {},
   "source": [
    "ANSWER:\n",
    "\n",
    "Unlike the CountVectorizer, the term-frequency-inverse-document-frequency vectorizer normalizes the results to 1. This accounts for features that are quite common in the corpus, and as a result might throw off any term-fequency analysis that a vanilla classifier might perform. One of the mistakes the TFIDF Logistic classifier might be making is that the model doesn't capture the position of the words, or the context and meaning of the phrases."
   ]
  },
  {
   "cell_type": "markdown",
   "metadata": {},
   "source": [
    "# 8\n",
    "\n",
    "EXTRA CREDIT\n",
    "\n",
    "Try implementing one of your ideas based on your error analysis. Use logistic regression as your underlying model."
   ]
  },
  {
   "cell_type": "code",
   "execution_count": null,
   "metadata": {},
   "outputs": [],
   "source": []
  }
 ],
 "metadata": {
  "kernelspec": {
   "display_name": "Python 3",
   "language": "python",
   "name": "python3"
  },
  "language_info": {
   "codemirror_mode": {
    "name": "ipython",
    "version": 3
   },
   "file_extension": ".py",
   "mimetype": "text/x-python",
   "name": "python",
   "nbconvert_exporter": "python",
   "pygments_lexer": "ipython3",
   "version": "3.7.0"
  }
 },
 "nbformat": 4,
 "nbformat_minor": 1
}
