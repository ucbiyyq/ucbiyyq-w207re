{
 "cells": [
  {
   "cell_type": "markdown",
   "metadata": {},
   "source": [
    "# Project 2: Topic Classification"
   ]
  },
  {
   "cell_type": "markdown",
   "metadata": {},
   "source": [
    "In this project, you'll work with text data from newsgroup postings on a variety of topics. You'll train classifiers to distinguish between the topics based on the text of the posts. Whereas with digit classification, the input is relatively dense: a 28x28 matrix of pixels, many of which are non-zero, here we'll represent each document with a \"bag-of-words\" model. As you'll see, this makes the feature representation quite sparse -- only a few words of the total vocabulary are active in any given document. The bag-of-words assumption here is that the label depends only on the words; their order is not important.\n",
    "\n",
    "The SK-learn documentation on feature extraction will prove useful:\n",
    "http://scikit-learn.org/stable/modules/feature_extraction.html\n",
    "\n",
    "Each problem can be addressed succinctly with the included packages -- please don't add any more. Grading will be based on writing clean, commented code, along with a few short answers.\n",
    "\n",
    "As always, you're welcome to work on the project in groups and discuss ideas on the course wall, but please prepare your own write-up and write your own code."
   ]
  },
  {
   "cell_type": "code",
   "execution_count": 2,
   "metadata": {},
   "outputs": [],
   "source": [
    "# This tells matplotlib not to try opening a new window for each plot.\n",
    "%matplotlib inline\n",
    "\n",
    "# General libraries.\n",
    "import re\n",
    "import numpy as np\n",
    "import matplotlib.pyplot as plt\n",
    "\n",
    "# SK-learn libraries for learning.\n",
    "from sklearn.pipeline import Pipeline\n",
    "from sklearn.neighbors import KNeighborsClassifier\n",
    "from sklearn.linear_model import LogisticRegression\n",
    "from sklearn.naive_bayes import BernoulliNB\n",
    "from sklearn.naive_bayes import MultinomialNB\n",
    "from sklearn.model_selection import GridSearchCV\n",
    "\n",
    "# SK-learn libraries for evaluation.\n",
    "from sklearn.metrics import confusion_matrix\n",
    "from sklearn import metrics\n",
    "from sklearn.metrics import classification_report\n",
    "\n",
    "# SK-learn library for importing the newsgroup data.\n",
    "from sklearn.datasets import fetch_20newsgroups\n",
    "\n",
    "# SK-learn libraries for feature extraction from text.\n",
    "from sklearn.feature_extraction.text import *"
   ]
  },
  {
   "cell_type": "markdown",
   "metadata": {},
   "source": [
    "Load the data, stripping out metadata so that we learn classifiers that only use textual features. By default, newsgroups data is split into train and test sets. We further split the test so we have a dev set. Note that we specify 4 categories to use for this project. If you remove the categories argument from the fetch function, you'll get all 20 categories."
   ]
  },
  {
   "cell_type": "markdown",
   "metadata": {},
   "source": [
    "# Scratch\n",
    "\n",
    "Please ignore this section"
   ]
  },
  {
   "cell_type": "code",
   "execution_count": 33,
   "metadata": {},
   "outputs": [
    {
     "data": {
      "text/plain": [
       "['alt.atheism', 'talk.religion.misc', 'comp.graphics', 'sci.space']"
      ]
     },
     "execution_count": 33,
     "metadata": {},
     "output_type": "execute_result"
    }
   ],
   "source": [
    "categories = ['alt.atheism', 'talk.religion.misc', 'comp.graphics', 'sci.space']\n",
    "categories"
   ]
  },
  {
   "cell_type": "code",
   "execution_count": 5,
   "metadata": {},
   "outputs": [
    {
     "name": "stderr",
     "output_type": "stream",
     "text": [
      "Downloading 20news dataset. This may take a few minutes.\n",
      "Downloading dataset from https://ndownloader.figshare.com/files/5975967 (14 MB)\n"
     ]
    }
   ],
   "source": [
    "newsgroups_train = fetch_20newsgroups(subset='train',\n",
    "                                      remove=('headers', 'footers', 'quotes'),\n",
    "                                      categories=categories)"
   ]
  },
  {
   "cell_type": "code",
   "execution_count": 34,
   "metadata": {},
   "outputs": [],
   "source": [
    "newsgroups_test = fetch_20newsgroups(subset='test',\n",
    "                                     remove=('headers', 'footers', 'quotes'),\n",
    "                                     categories=categories)"
   ]
  },
  {
   "cell_type": "markdown",
   "metadata": {},
   "source": [
    "## whats in train?"
   ]
  },
  {
   "cell_type": "code",
   "execution_count": 48,
   "metadata": {},
   "outputs": [
    {
     "name": "stdout",
     "output_type": "stream",
     "text": [
      "<class 'sklearn.utils.Bunch'>\n"
     ]
    }
   ],
   "source": [
    "print(type(newsgroups_train))"
   ]
  },
  {
   "cell_type": "code",
   "execution_count": 22,
   "metadata": {},
   "outputs": [
    {
     "data": {
      "text/plain": [
       "dict_keys(['data', 'filenames', 'target_names', 'target', 'DESCR'])"
      ]
     },
     "execution_count": 22,
     "metadata": {},
     "output_type": "execute_result"
    }
   ],
   "source": [
    "newsgroups_train.keys()"
   ]
  },
  {
   "cell_type": "code",
   "execution_count": 24,
   "metadata": {},
   "outputs": [
    {
     "data": {
      "text/plain": [
       "list"
      ]
     },
     "execution_count": 24,
     "metadata": {},
     "output_type": "execute_result"
    }
   ],
   "source": [
    "type(newsgroups_train.data)"
   ]
  },
  {
   "cell_type": "code",
   "execution_count": 25,
   "metadata": {},
   "outputs": [
    {
     "data": {
      "text/plain": [
       "numpy.ndarray"
      ]
     },
     "execution_count": 25,
     "metadata": {},
     "output_type": "execute_result"
    }
   ],
   "source": [
    "type(newsgroups_train.filenames)"
   ]
  },
  {
   "cell_type": "code",
   "execution_count": 26,
   "metadata": {},
   "outputs": [
    {
     "data": {
      "text/plain": [
       "list"
      ]
     },
     "execution_count": 26,
     "metadata": {},
     "output_type": "execute_result"
    }
   ],
   "source": [
    "type(newsgroups_train.target_names)"
   ]
  },
  {
   "cell_type": "code",
   "execution_count": 27,
   "metadata": {},
   "outputs": [
    {
     "data": {
      "text/plain": [
       "numpy.ndarray"
      ]
     },
     "execution_count": 27,
     "metadata": {},
     "output_type": "execute_result"
    }
   ],
   "source": [
    "type(newsgroups_train.target)"
   ]
  },
  {
   "cell_type": "code",
   "execution_count": 28,
   "metadata": {},
   "outputs": [
    {
     "data": {
      "text/plain": [
       "str"
      ]
     },
     "execution_count": 28,
     "metadata": {},
     "output_type": "execute_result"
    }
   ],
   "source": [
    "type(newsgroups_train.DESCR)"
   ]
  },
  {
   "cell_type": "code",
   "execution_count": 35,
   "metadata": {},
   "outputs": [
    {
     "data": {
      "text/plain": [
       "2034"
      ]
     },
     "execution_count": 35,
     "metadata": {},
     "output_type": "execute_result"
    }
   ],
   "source": [
    "len(newsgroups_train.data)"
   ]
  },
  {
   "cell_type": "code",
   "execution_count": 38,
   "metadata": {},
   "outputs": [
    {
     "data": {
      "text/plain": [
       "2034"
      ]
     },
     "execution_count": 38,
     "metadata": {},
     "output_type": "execute_result"
    }
   ],
   "source": [
    "len(newsgroups_train.filenames)"
   ]
  },
  {
   "cell_type": "code",
   "execution_count": 39,
   "metadata": {},
   "outputs": [
    {
     "data": {
      "text/plain": [
       "4"
      ]
     },
     "execution_count": 39,
     "metadata": {},
     "output_type": "execute_result"
    }
   ],
   "source": [
    "len(newsgroups_train.target_names)"
   ]
  },
  {
   "cell_type": "code",
   "execution_count": 40,
   "metadata": {},
   "outputs": [
    {
     "data": {
      "text/plain": [
       "2034"
      ]
     },
     "execution_count": 40,
     "metadata": {},
     "output_type": "execute_result"
    }
   ],
   "source": [
    "len(newsgroups_train.target)"
   ]
  },
  {
   "cell_type": "code",
   "execution_count": 30,
   "metadata": {},
   "outputs": [
    {
     "data": {
      "text/plain": [
       "\"Hi,\\n\\nI've noticed that if you only save a model (with all your mapping planes\\npositioned carefully) to a .3DS file that when you reload it after restarting\\n3DS, they are given a default position and orientation.  But if you save\\nto a .PRJ file their positions/orientation are preserved.  Does anyone\\nknow why this information is not stored in the .3DS file?  Nothing is\\nexplicitly said in the manual about saving texture rules in the .PRJ file. \\nI'd like to be able to read the texture rule information, does anyone have \\nthe format for the .PRJ file?\\n\\nIs the .CEL file format available from somewhere?\\n\\nRych\""
      ]
     },
     "execution_count": 30,
     "metadata": {},
     "output_type": "execute_result"
    }
   ],
   "source": [
    "newsgroups_train.data[0]"
   ]
  },
  {
   "cell_type": "code",
   "execution_count": 43,
   "metadata": {},
   "outputs": [
    {
     "data": {
      "text/plain": [
       "'C:\\\\Users\\\\yangyq\\\\scikit_learn_data\\\\20news_home\\\\20news-bydate-train\\\\comp.graphics\\\\38816'"
      ]
     },
     "execution_count": 43,
     "metadata": {},
     "output_type": "execute_result"
    }
   ],
   "source": [
    "newsgroups_train.filenames[0]"
   ]
  },
  {
   "cell_type": "code",
   "execution_count": 44,
   "metadata": {},
   "outputs": [
    {
     "data": {
      "text/plain": [
       "['alt.atheism', 'comp.graphics', 'sci.space', 'talk.religion.misc']"
      ]
     },
     "execution_count": 44,
     "metadata": {},
     "output_type": "execute_result"
    }
   ],
   "source": [
    "newsgroups_train.target_names"
   ]
  },
  {
   "cell_type": "code",
   "execution_count": 46,
   "metadata": {},
   "outputs": [
    {
     "data": {
      "text/plain": [
       "array([1, 3, 2, 0, 2, 0, 2, 1, 2, 1], dtype=int64)"
      ]
     },
     "execution_count": 46,
     "metadata": {},
     "output_type": "execute_result"
    }
   ],
   "source": [
    "newsgroups_train.target[0:10]"
   ]
  },
  {
   "cell_type": "markdown",
   "metadata": {},
   "source": [
    "## whats in test?"
   ]
  },
  {
   "cell_type": "code",
   "execution_count": 47,
   "metadata": {},
   "outputs": [
    {
     "name": "stdout",
     "output_type": "stream",
     "text": [
      "<class 'sklearn.utils.Bunch'>\n"
     ]
    }
   ],
   "source": [
    "print(type(newsgroups_test))"
   ]
  },
  {
   "cell_type": "code",
   "execution_count": 49,
   "metadata": {},
   "outputs": [
    {
     "data": {
      "text/plain": [
       "dict_keys(['data', 'filenames', 'target_names', 'target', 'DESCR'])"
      ]
     },
     "execution_count": 49,
     "metadata": {},
     "output_type": "execute_result"
    }
   ],
   "source": [
    "newsgroups_test.keys()"
   ]
  },
  {
   "cell_type": "code",
   "execution_count": 55,
   "metadata": {},
   "outputs": [
    {
     "data": {
      "text/plain": [
       "1353"
      ]
     },
     "execution_count": 55,
     "metadata": {},
     "output_type": "execute_result"
    }
   ],
   "source": [
    "len(newsgroups_test.data)"
   ]
  },
  {
   "cell_type": "code",
   "execution_count": 52,
   "metadata": {},
   "outputs": [
    {
     "data": {
      "text/plain": [
       "1353"
      ]
     },
     "execution_count": 52,
     "metadata": {},
     "output_type": "execute_result"
    }
   ],
   "source": [
    "len(newsgroups_test.filenames)"
   ]
  },
  {
   "cell_type": "code",
   "execution_count": 53,
   "metadata": {},
   "outputs": [
    {
     "data": {
      "text/plain": [
       "4"
      ]
     },
     "execution_count": 53,
     "metadata": {},
     "output_type": "execute_result"
    }
   ],
   "source": [
    "len(newsgroups_test.target_names)"
   ]
  },
  {
   "cell_type": "code",
   "execution_count": 54,
   "metadata": {},
   "outputs": [
    {
     "data": {
      "text/plain": [
       "1353"
      ]
     },
     "execution_count": 54,
     "metadata": {},
     "output_type": "execute_result"
    }
   ],
   "source": [
    "len(newsgroups_test.target)"
   ]
  },
  {
   "cell_type": "code",
   "execution_count": 58,
   "metadata": {},
   "outputs": [
    {
     "data": {
      "text/plain": [
       "'TRry the SKywatch project in  Arizona.'"
      ]
     },
     "execution_count": 58,
     "metadata": {},
     "output_type": "execute_result"
    }
   ],
   "source": [
    "newsgroups_test.data[0]"
   ]
  },
  {
   "cell_type": "code",
   "execution_count": 59,
   "metadata": {},
   "outputs": [
    {
     "data": {
      "text/plain": [
       "['alt.atheism', 'comp.graphics', 'sci.space', 'talk.religion.misc']"
      ]
     },
     "execution_count": 59,
     "metadata": {},
     "output_type": "execute_result"
    }
   ],
   "source": [
    "newsgroups_test.target_names"
   ]
  },
  {
   "cell_type": "code",
   "execution_count": 61,
   "metadata": {},
   "outputs": [
    {
     "data": {
      "text/plain": [
       "array([2, 1, 1, 1, 1, 1, 2, 2, 0, 2], dtype=int64)"
      ]
     },
     "execution_count": 61,
     "metadata": {},
     "output_type": "execute_result"
    }
   ],
   "source": [
    "newsgroups_test.target[0:10]"
   ]
  },
  {
   "cell_type": "markdown",
   "metadata": {},
   "source": [
    "## count vectorizer tutorial\n",
    "\n",
    "https://scikit-learn.org/stable/modules/generated/sklearn.feature_extraction.text.CountVectorizer.html"
   ]
  },
  {
   "cell_type": "code",
   "execution_count": 471,
   "metadata": {
    "scrolled": true
   },
   "outputs": [
    {
     "name": "stdout",
     "output_type": "stream",
     "text": [
      "============================\n",
      "features\n",
      "<class 'list'>\n",
      "['and', 'document', 'first', 'is', 'one', 'second', 'the', 'third', 'this']\n",
      "============================\n",
      "shape of feature vector\n",
      "... 4 documents and 9 features\n",
      "(4, 9)\n",
      "============================\n",
      "number of non-zero document-feature pairs\n",
      "21\n",
      "============================\n",
      "feature vector as a sparse matrix\n",
      "<class 'scipy.sparse.csr.csr_matrix'>\n",
      "  (0, 1)\t1\n",
      "  (0, 2)\t1\n",
      "  (0, 6)\t1\n",
      "  (0, 3)\t1\n",
      "  (0, 8)\t1\n",
      "  (1, 5)\t1\n",
      "  (1, 1)\t2\n",
      "  (1, 6)\t1\n",
      "  (1, 3)\t1\n",
      "  (1, 8)\t1\n",
      "  (2, 4)\t1\n",
      "  (2, 7)\t1\n",
      "  (2, 0)\t1\n",
      "  (2, 6)\t1\n",
      "  (2, 3)\t1\n",
      "  (2, 8)\t1\n",
      "  (3, 1)\t1\n",
      "  (3, 2)\t1\n",
      "  (3, 6)\t1\n",
      "  (3, 3)\t1\n",
      "  (3, 8)\t1\n",
      "============================\n",
      "feature vector as a matrix\n",
      "<class 'numpy.ndarray'>\n",
      "[[0 1 1 1 0 0 1 0 1]\n",
      " [0 2 0 1 0 1 1 0 1]\n",
      " [1 0 0 1 1 0 1 1 1]\n",
      " [0 1 1 1 0 0 1 0 1]]\n",
      "============================\n",
      "----------------\n",
      "This is the first document.\n",
      "this\n",
      "8\n",
      "is\n",
      "3\n",
      "the\n",
      "6\n",
      "first\n",
      "2\n",
      "document\n",
      "1\n",
      "----------------\n",
      "This document is the second document.\n",
      "this\n",
      "8\n",
      "document\n",
      "1\n",
      "is\n",
      "3\n",
      "the\n",
      "6\n",
      "second\n",
      "5\n",
      "document\n",
      "1\n",
      "----------------\n",
      "And this is the third one.\n",
      "and\n",
      "0\n",
      "this\n",
      "8\n",
      "is\n",
      "3\n",
      "the\n",
      "6\n",
      "third\n",
      "7\n",
      "one\n",
      "4\n",
      "----------------\n",
      "Is this the first document?\n",
      "is\n",
      "3\n",
      "this\n",
      "8\n",
      "the\n",
      "6\n",
      "first\n",
      "2\n",
      "document\n",
      "1\n",
      "============================\n",
      "{'this': 8, 'is': 3, 'the': 6, 'first': 2, 'document': 1, 'second': 5, 'and': 0, 'third': 7, 'one': 4}\n"
     ]
    }
   ],
   "source": [
    "def cv_tut():\n",
    "    corpus = [\n",
    "     'This is the first document.',\n",
    "     'This document is the second document.',\n",
    "     'And this is the third one.',\n",
    "     'Is this the first document?',\n",
    "    ]\n",
    "    \n",
    "    cv = CountVectorizer()\n",
    "    fv = cv.fit_transform(corpus)\n",
    "    fv_arr = fv.toarray()\n",
    "    fts = cv.get_feature_names()\n",
    "    print(\"============================\")\n",
    "    print(\"features\")\n",
    "    print(type(fts))\n",
    "    print(fts)\n",
    "    print(\"============================\")\n",
    "    print(\"shape of feature vector\")\n",
    "    print(\"... 4 documents and 9 features\")\n",
    "    print(fv.shape)\n",
    "    print(\"============================\")\n",
    "    print(\"number of non-zero document-feature pairs\")\n",
    "    print(fv.nnz)\n",
    "    print(\"============================\")\n",
    "    print(\"feature vector as a sparse matrix\")\n",
    "    print(type(fv))\n",
    "    print(fv)\n",
    "    print(\"============================\")\n",
    "    print(\"feature vector as a matrix\")\n",
    "    print(type(fv_arr))\n",
    "    print(fv_arr)\n",
    "    \n",
    "    \n",
    "    def prnt_d(d):\n",
    "        print(\"----------------\")\n",
    "        print(d)\n",
    "        for w in d.strip(\".\").strip(\"?\").split():\n",
    "            print(w.lower())\n",
    "            print(cv.vocabulary_.get(w.lower()))\n",
    "        \n",
    "    print(\"============================\")\n",
    "    for d in corpus:\n",
    "        prnt_d(d)\n",
    "        \n",
    "    print(\"============================\")\n",
    "    print(cv.vocabulary_)\n",
    "\n",
    "cv_tut()"
   ]
  },
  {
   "cell_type": "code",
   "execution_count": 529,
   "metadata": {},
   "outputs": [
    {
     "name": "stdout",
     "output_type": "stream",
     "text": [
      "============================\n",
      "vocab feature names\n",
      "['bad', 'good', 'groovy', 'she', 'we']\n",
      "============================\n",
      "vocab dictionary\n",
      "{'good': 1, 'she': 3, 'we': 4, 'bad': 0, 'groovy': 2}\n",
      "============================\n",
      "vocab stop words\n",
      "None\n",
      "============================\n",
      "number of non-zero document-feature pairs\n",
      "13\n",
      "============================\n",
      "feature vector as a matrix\n",
      "[[0 1 0 0 0]\n",
      " [0 1 0 1 0]\n",
      " [0 1 0 0 1]\n",
      " [1 0 0 0 1]\n",
      " [1 0 0 0 0]\n",
      " [1 0 0 1 0]\n",
      " [0 0 1 0 0]\n",
      " [0 0 1 0 1]]\n",
      "============================\n",
      "learned coefficients\n",
      "[[-0.69310581  0.69318856  0.          0.          0.        ]\n",
      " [ 0.69321413 -0.69308023  0.          0.          0.        ]\n",
      " [-0.44016483 -0.44016483  0.25298236  0.          0.        ]]\n",
      "learned coefficients shape\n",
      "(3, 5)\n",
      "[1.15468656 1.15461565 0.06400007 0.         0.        ]\n",
      "============================\n",
      "smaller vocab\n",
      "['bad', 'good', 'groovy']\n",
      "============================\n",
      "coef dict\n",
      "{'bad': array([-0.69310581,  0.69318856,  0.        ,  0.        ,  0.        ]), 'good': array([ 0.69321413, -0.69308023,  0.        ,  0.        ,  0.        ]), 'groovy': array([-0.44016483, -0.44016483,  0.25298236,  0.        ,  0.        ])}\n"
     ]
    },
    {
     "name": "stderr",
     "output_type": "stream",
     "text": [
      "C:\\Users\\yangyq\\Anaconda3\\lib\\site-packages\\sklearn\\linear_model\\logistic.py:433: FutureWarning: Default solver will be changed to 'lbfgs' in 0.22. Specify a solver to silence this warning.\n",
      "  FutureWarning)\n",
      "C:\\Users\\yangyq\\Anaconda3\\lib\\site-packages\\sklearn\\linear_model\\logistic.py:460: FutureWarning: Default multi_class will be changed to 'auto' in 0.22. Specify the multi_class option to silence this warning.\n",
      "  \"this warning.\", FutureWarning)\n"
     ]
    }
   ],
   "source": [
    "def cv_tutb():\n",
    "    corpus = [\n",
    "        'I good'\n",
    "        ,'She good'\n",
    "        ,'We good'\n",
    "        ,'We bad'\n",
    "        ,'I bad'\n",
    "        ,'She bad'\n",
    "        ,'I groovy'\n",
    "        ,'We groovy'\n",
    "    ]\n",
    "    \n",
    "    labels = [0,0,0,1,1,1,2,2]\n",
    "    \n",
    "    cv = CountVectorizer()\n",
    "    fv = cv.fit_transform(corpus)\n",
    "    clsfr = LogisticRegression(penalty=\"l1\")\n",
    "    fit = clsfr.fit(fv, labels)\n",
    "    \n",
    "    print(\"============================\")\n",
    "    print(\"vocab feature names\")\n",
    "    print(cv.get_feature_names())\n",
    "    print(\"============================\")\n",
    "    print(\"vocab dictionary\")\n",
    "    print(cv.vocabulary_)\n",
    "    print(\"============================\")\n",
    "    print(\"vocab stop words\")\n",
    "    print(cv.get_stop_words())\n",
    "    print(\"============================\")\n",
    "    print(\"number of non-zero document-feature pairs\")\n",
    "    print(fv.nnz)\n",
    "    print(\"============================\")\n",
    "    print(\"feature vector as a matrix\")\n",
    "    print(fv.toarray())\n",
    "    print(\"============================\")\n",
    "    print(\"learned coefficients\")\n",
    "    print(clsfr.coef_)\n",
    "    print(\"learned coefficients shape\")\n",
    "    print(clsfr.coef_.shape)\n",
    "    \n",
    "    def lookup_vocab_word(vocab_dict, fet):\n",
    "        for key, val in vocab_dict.items():\n",
    "            if val == fet:\n",
    "                return key\n",
    "    \n",
    "    def build_small_vocab(cv, clsfr):\n",
    "        all_class_coef = np.sum(np.square(clsfr.coef_), axis = 0)\n",
    "        print(all_class_coef)\n",
    "        non_zero_features = np.where(all_class_coef != 0)[0]\n",
    "        non_zero_vocab = [lookup_vocab_word(cv.vocabulary_, ft) for ft in non_zero_features]\n",
    "        return non_zero_vocab\n",
    "    \n",
    "    coef_dict = {}\n",
    "    for coef, feat in zip(clsfr.coef_ , cv.get_feature_names()):\n",
    "        coef_dict[feat] = coef\n",
    "    \n",
    "    \n",
    "    small_vocab = build_small_vocab(cv, clsfr)\n",
    "    print(\"============================\")\n",
    "    print(\"smaller vocab\")\n",
    "    print(small_vocab)\n",
    "    \n",
    "    print(\"============================\")\n",
    "    print(\"coef dict\")\n",
    "    print(coef_dict)\n",
    "\n",
    "cv_tutb()"
   ]
  },
  {
   "cell_type": "markdown",
   "metadata": {},
   "source": [
    "# Load Data"
   ]
  },
  {
   "cell_type": "code",
   "execution_count": 3,
   "metadata": {},
   "outputs": [
    {
     "name": "stdout",
     "output_type": "stream",
     "text": [
      "training label shape: (2034,)\n",
      "test label shape: (677,)\n",
      "dev label shape: (676,)\n",
      "labels names: ['alt.atheism', 'comp.graphics', 'sci.space', 'talk.religion.misc']\n"
     ]
    }
   ],
   "source": [
    "categories = ['alt.atheism', 'talk.religion.misc', 'comp.graphics', 'sci.space']\n",
    "newsgroups_train = fetch_20newsgroups(subset='train',\n",
    "                                      remove=('headers', 'footers', 'quotes'),\n",
    "                                      categories=categories)\n",
    "newsgroups_test = fetch_20newsgroups(subset='test',\n",
    "                                     remove=('headers', 'footers', 'quotes'),\n",
    "                                     categories=categories)\n",
    "\n",
    "num_test = len(newsgroups_test.target)\n",
    "test_data, test_labels = newsgroups_test.data[int(num_test/2):], newsgroups_test.target[int(num_test/2):]\n",
    "dev_data, dev_labels = newsgroups_test.data[:int(num_test/2)], newsgroups_test.target[:int(num_test/2)]\n",
    "train_data, train_labels = newsgroups_train.data, newsgroups_train.target\n",
    "\n",
    "print('training label shape:', train_labels.shape)\n",
    "print('test label shape:', test_labels.shape)\n",
    "print('dev label shape:', dev_labels.shape)\n",
    "print('labels names:', newsgroups_train.target_names)"
   ]
  },
  {
   "cell_type": "markdown",
   "metadata": {},
   "source": [
    "# 1\n",
    "\n",
    "For each of the first 5 training examples, print the text of the message along with the label."
   ]
  },
  {
   "cell_type": "code",
   "execution_count": 91,
   "metadata": {},
   "outputs": [
    {
     "name": "stdout",
     "output_type": "stream",
     "text": [
      "============================\n",
      "alt.atheism\n",
      "------------------\n",
      "I have a request for those who would like to see Charley Wingate\n",
      "respond to the \"Charley Challenges\" (and judging from my e-mail, there\n",
      "appear to be quite a few of you.)  \n",
      "\n",
      "It is clear that Mr. Wingate intends to continue to post tangential or\n",
      "unrelated articles while ingoring the Challenges themselves.  Between\n",
      "the last two re-postings of the Challenges, I noted perhaps a dozen or\n",
      "more posts by Mr. Wingate, none of which answered a single Challenge.  \n",
      "\n",
      "It seems unmistakable to me that Mr. Wingate hopes that the questions\n",
      "will just go away, and he is doing his level best to change the\n",
      "subject.  Given that this seems a rather common net.theist tactic, I\n",
      "would like to suggest that we impress upon him our desire for answers,\n",
      "in the following manner:\n",
      "\n",
      "1. Ignore any future articles by Mr. Wingate that do not address the\n",
      "Challenges, until he answers them or explictly announces that he\n",
      "refuses to do so.\n",
      "\n",
      "--or--\n",
      "\n",
      "2. If you must respond to one of his articles, include within it\n",
      "something similar to the following:\n",
      "\n",
      "    \"Please answer the questions posed to you in the Charley Challenges.\"\n",
      "\n",
      "Really, I'm not looking to humiliate anyone here, I just want some\n",
      "honest answers.  You wouldn't think that honesty would be too much to\n",
      "ask from a devout Christian, would you?  \n",
      "\n",
      "Nevermind, that was a rhetorical question.\n",
      "------------------\n",
      "\n",
      "There are definitely quite a few horrible deaths as the result of both\n",
      "atheists AND theists.  I'm sure Bobby can list quite a few for the atheist\n",
      "side but fails to recognize that the theists are equally proficient at\n",
      "genocide.  Perhaps, since I'm a bit weak on history, somone here would like\n",
      "to give a list of wars caused/led by theists?  I can think of a few (Hitler\n",
      "claimed to be a Christian for example) but a more complete list would\n",
      "probably be more effective in showing Bobby just how absurd his statement\n",
      "is.\n",
      "\n",
      "\n",
      "On a side note, I notice you always sign your posts \"Peace\".  Perhaps you\n",
      "should take your own advice and leave the atheists in peace with their\n",
      "beliefs?\n",
      "\n",
      "\n",
      "Nanci\n",
      "------------------\n",
      "\n",
      "Size of armies, duration, numbers of casualties both absolute and as a\n",
      "percentage of those involved, geographical area and numbers of countries\n",
      "too, are all measures of size.  In this case I'd say the relevant\n",
      "statistic would be the number of combatants (total troops) compared to\n",
      "total casualties from among the total civilian population in the\n",
      "affected geographical area.\n",
      "\n",
      "\n",
      "Vietnam and Korea might make good comparisons.\n",
      "\n",
      "\n",
      "Western news in general, but in particular the American \"mass media\":\n",
      "CBS, NBC, ABC, etc.  The general tone of the news during the whole\n",
      "war was one of \"those poor, poor Iraqis\" along with \"look how precisely\n",
      "this cruise missile blew this building to bits\".\n",
      "\n",
      "\n",
      "I agree.\n",
      "\n",
      "\n",
      "Perhaps so.  And maybe the atomic bomb was a mistake too.  But that's easy\n",
      "to say from our \"enlightened\" viewpoint here in the 90's, right?  Back\n",
      "then, it was *all-out* war, and Germany and Japan had to be squashed.\n",
      "After all, a million or more British had already died, hundreds of \n",
      "thousands of French, a couple hundread thousand or so Americans, and \n",
      "millions of Russians, not to mention a few million Jews, Poles, and \n",
      "other people of slavic descent in German concentration camps.  All \n",
      "things considered, the fire-bombings and the atomic bomb were\n",
      "essential (and therefore justified) in bringing the war to a quick\n",
      "end to avoid even greater allied losses.\n",
      "\n",
      "I, for one, don't regret it.\n",
      "\n",
      "\n",
      "Sure.  And it's the people who suffer because of them.  All the more\n",
      "reason to depose these \"entrenched political rulers operating in their\n",
      "own selfish interests\"!  Or do you mean that this applies to the allies\n",
      "as well??\n",
      "\n",
      "\n",
      "I make no claim or effort to justify the misguided foreign policy of the\n",
      "West before the war.  It is evident that the West, especially America,\n",
      "misjudged Hussein drastically.  But once Hussein invaded Kuwait and \n",
      "threatened to militarily corner a significant portion of the world's\n",
      "oil supply, he had to be stopped.  Sure the war could have been\n",
      "prevented by judicious and concerted effort on the part of the West\n",
      "before Hussein invaded Kuwait, but it is still *Hussein* who is\n",
      "responsible for his decision to invade.  And once he did so, a\n",
      "strong response from the West was required.\n",
      "\n",
      "\n",
      "Well, it's not very \"loving\" to allow a Hussein or a Hitler to gobble up\n",
      "nearby countries and keep them.  Or to allow them to continue with mass\n",
      "slaughter of certain peoples under their dominion.  So, I'd have to\n",
      "say yes, stopping Hussein was the most \"loving\" thing to do for the\n",
      "most people involved once he set his mind on military conquest.\n",
      "\n",
      "I mentioned it.\n",
      "\n",
      "If we hadn't intervened, allowing Hussein to keep Kuwait, then it would\n",
      "have been appeasement.  It is precisely the lessons the world learned\n",
      "in WW2 that motivated the Western alliance to war.  Letting Hitler take\n",
      "Austria and Czechoslavkia did not stop WW2 from happening, and letting\n",
      "Hussein keep Kuwait would not have stopped an eventual Gulf War to\n",
      "protect Saudi Arabia.\n",
      "\n",
      "\n",
      "Sure.  What was truly unfortunate was that they followed Hitler in\n",
      "his grandiose quest for a \"Thousand Year Reich\".  The consequences\n",
      "stemmed from that.\n",
      "\n",
      "What should I say about them?  Anything in particular?\n",
      "\n",
      "\n",
      "\n",
      "So?  It was the *policemen* on trial not Rodney King!!  And under American\n",
      "law they deserved a jury of *their* peers!  If there had been black\n",
      "officers involved, I'm sure their would have been black jurors too.\n",
      "This point (of allegedly racial motivations) is really shallow.\n",
      "\n",
      "\n",
      "So?  It's \"hard to imagine\"?  So when has Argument from Incredulity\n",
      "gained acceptance from the revered author of \"Constructing a Logical\n",
      "Argument\"?  Can we expect another revision soon??  :)  (Just kidding.)\n",
      "\n",
      "\n",
      "I have to admit that I wonder this too.  But *neither* the prosecution\n",
      "nor the defense is talking.  So one cannot conclude either way due to\n",
      "the silence of the principals.  \n",
      "\n",
      "\n",
      "OK.  It certainly seemed to me that there was excessive force involved.\n",
      "And frankly, the original \"not guilty\" verdict baffled me too.  But then\n",
      "I learned that the prosecution in the first case did not try to convict\n",
      "on a charge of excessive force or simple assault which they probably\n",
      "would have won, they tried to get a conviction on a charge of aggravated\n",
      "assault with intent to inflict serious bodily harm.  A charge, which\n",
      "news commentators said, was akin to attempted murder under California\n",
      "law.  Based on what the prosecution was asking for, it's evident that \n",
      "the first jury decided that the officers were \"not guilty\".  Note, \n",
      "not \"not guilty\" of doing wrong, but \"not guilty\" of aggravated assault \n",
      "with the *intent* of inflicting serious bodily harm.  The seeds of the \n",
      "prosecutions defeat were in their own overconfidence in obtaining a \n",
      "verdict such that they went for the most extreme charge they could.\n",
      "\n",
      "If the facts as the news commentators presented them are true, then\n",
      "I feel the \"not guilty\" verdict was a reasonable one.\n",
      "\n",
      "\n",
      "Thanks mathew, I like the quote.  Pretty funny actually.  (I'm a \n",
      "Monty Python fan, you know.  Kind of seems in that vein.)\n",
      "\n",
      "Of course, oversimplifying any moral argument can make it seem\n",
      "contradictory.  But then, you know that already.  \n",
      "\n",
      "Regards,\n",
      "------------------\n",
      "\n",
      "  Actually, my atheism is based on ignorance.  Ignorance of the\n",
      "  existence of any god.  Don't fall into the \"atheists don't believe\n",
      "  because of their pride\" mistake.\n",
      "\n",
      "\n",
      "/\\/\\/\\/\\/\\/\\/\\/\\/\\/\\/\\/\\/\\/\\/\\/\\/\\/\\/\\/\\/\\/\\/\\/\\/\\/\\/\\/\\/\\/\\/\\/\\/\\/\\ \n",
      "\n",
      "Bob Beauchaine bobbe@vice.ICO.TEK.COM \n",
      "\n",
      "They said that Queens could stay, they blew the Bronx away,\n",
      "and sank Manhattan out at sea.\n",
      "------------------\n",
      "\n",
      "If you force me to do something, am I morally responsible for it?\n",
      "\n",
      "\n",
      "Well, make up your mind.    Is it to be \"instinctive not to murder\"\n",
      "or not?\n",
      "\n",
      "\n",
      "It's not even correct.    Animals of the same species do kill\n",
      "one another.\n",
      "\n",
      "\n",
      "Sigh.   I wonder how many times we have been round this loop.\n",
      "\n",
      "I think that instinctive bahaviour has no moral significance.\n",
      "I am quite prepared to believe that higher animals, such as\n",
      "primates, have the beginnings of a moral sense, since they seem\n",
      "to exhibit self-awareness.\n",
      "\n",
      "\n",
      "So what?     Are you trying to say that some killing in animals\n",
      "has a moral significance and some does not?   Is this your\n",
      "natural morality>\n",
      "\n",
      "\n",
      "\n",
      "Are you blind?   What do you think that this sentence means?\n",
      "\n",
      "\t\"There must be the possibility that the organism - it's not \n",
      "\tjust people we are talking about - can consider alternatives.\"\n",
      "\n",
      "What would that imply?\n",
      "\n",
      "\n",
      "I find the fact that they do to be significant. \n",
      "============================\n",
      "comp.graphics\n",
      "------------------\n",
      "Hi,\n",
      "\n",
      "I've noticed that if you only save a model (with all your mapping planes\n",
      "positioned carefully) to a .3DS file that when you reload it after restarting\n",
      "3DS, they are given a default position and orientation.  But if you save\n",
      "to a .PRJ file their positions/orientation are preserved.  Does anyone\n",
      "know why this information is not stored in the .3DS file?  Nothing is\n",
      "explicitly said in the manual about saving texture rules in the .PRJ file. \n",
      "I'd like to be able to read the texture rule information, does anyone have \n",
      "the format for the .PRJ file?\n",
      "\n",
      "Is the .CEL file format available from somewhere?\n",
      "\n",
      "Rych\n",
      "------------------\n",
      "\n",
      "Acorn Replay running on a 25MHz ARM 3 processor (the ARM 3 is about 20% slower\n",
      "than the ARM 6) does this in software (off a standard CD-ROM). 16 bit colour at\n",
      "about the same resolution (so what if the computer only has 8 bit colour\n",
      "support, real-time dithering too...). The 3D0/O is supposed to have a couple of\n",
      "DSPs - the ARM being used for housekeeping.\n",
      "\n",
      "\n",
      "A 25MHz ARM 6xx should clock around 20 ARM MIPS, say 18 flat out. Depends\n",
      "really on the surrounding system and whether you are talking ARM6x or ARM6xx\n",
      "(the latter has a cache, and so is essential to run at this kind of speed with\n",
      "slower memory).\n",
      "\n",
      "I'll stop saying things there 'cos I'll hopefully be working for ARM after\n",
      "graduation...\n",
      "\n",
      "Mike\n",
      "\n",
      "PS Don't pay heed to what reps from Philips say; if the 3D0/O doesn't beat the\n",
      "   pants off 3DI then I'll eat this postscript.\n",
      "------------------\n",
      "I'm interested in find out what is involved in processing pairs of \n",
      "stereo photographs.  I have black-and-white photos and would like \n",
      "to obtain surface contours.\n",
      "\n",
      "I'd prefer to do the processing on an SGI, but would be interested\n",
      "in hearing what software/hardware is used for this type of\n",
      "image processing.\n",
      "\n",
      "Please email and/or post to comp.sys.sgi.graphics your responses.\n",
      "\n",
      "Thanks,\n",
      "------------------\n",
      "I would like to program Tseng ET4000 to nonstandard 1024x768 mode by\n",
      "switching to standard 1024x768 mode using BIOS and than changing some\n",
      "timing details (0x3D4 registers 0x00-0x1F) but I don't know how to\n",
      "select 36 MHz pixel clock I need. The BIOS function selects 40 MHz.\n",
      "\n",
      "Is there anybody who knows where to obtain technical info about this.\n",
      "I am also interested in any other technical information about Tseng ET4000\n",
      "and Trident 8900 and 9000 chipsets.\n",
      "\n",
      "\t\t\tthanks very much\n",
      "------------------\n",
      "In-Reply-To: <20APR199312262902@rigel.tamu.edu> lmp8913@rigel.tamu.edu (PRESTON, LISA M)\n",
      "============================\n",
      "sci.space\n",
      "------------------\n",
      "\n",
      " >In article <1993Apr19.020359.26996@sq.sq.com>, msb@sq.sq.com (Mark Brader) \n",
      "\n",
      "MB>                                                             So the\n",
      "MB> 1970 figure seems unlikely to actually be anything but a perijove.\n",
      "\n",
      "JG>Sorry, _perijoves_...I'm not used to talking this language.\n",
      "\n",
      "Couldn't we just say periapsis or apoapsis?\n",
      "\n",
      " \n",
      "------------------\n",
      "AW&ST  had a brief blurb on a Manned Lunar Exploration confernce\n",
      "May 7th  at Crystal City Virginia, under the auspices of AIAA.\n",
      "\n",
      "Does anyone know more about this?  How much, to attend????\n",
      "\n",
      "Anyone want to go?\n",
      "------------------\n",
      "Mark Prado\n",
      "  \n",
      "  \n",
      "Old pioneer song from the 1850's or so goes as follows:\n",
      "  \n",
      "  \"In a cavern, in a canyon,\n",
      "   Excavating for a mine,\n",
      "   Dwelt a miner, forty-niner,\n",
      "   And his daughter, CLEMENTINE\"\n",
      "  \n",
      "Chorus:\n",
      "  \"Oh my darling, Oh my darling,\n",
      "   Oh my darling Clementine.\n",
      "   You are lost and gone forever,\n",
      "   Oh my darling Clementine.\"\n",
      "  \n",
      " I've also had it explained (but not confirmed from a reliable data\n",
      "source) that CLEMENTINE is an acronym.  Something like Combined\n",
      "Lunar Elemental Mapper Experiment on Extended Non Terrestrial\n",
      "Intercept Near Earth.  Personally, I think that acronym was made up\n",
      "to fit the name (if it really is an acronym).\n",
      " ------------------------------------------------------------------\n",
      " Wales Larrison                           Space Technology Investor\n",
      "------------------\n",
      "\n",
      "Their Hiten engineering-test mission spent a while in a highly eccentric\n",
      "Earth orbit doing lunar flybys, and then was inserted into lunar orbit\n",
      "using some very tricky gravity-assist-like maneuvering.  This meant that\n",
      "it would crash on the Moon eventually, since there is no such thing as\n",
      "a stable lunar orbit (as far as anyone knows), and I believe I recall\n",
      "hearing recently that it was about to happen.\n",
      "------------------\n",
      "a\n",
      "\n",
      "What about positional uncertainties in S-L 1993e?   I assume we know where\n",
      "and what Galileo is doing within a few meters.   But without the\n",
      "HGA,  don't we have to have some pretty good ideas, of where to look\n",
      "before imaging?  If the HGA was working,  they could slew around\n",
      "in near real time (Less speed of light delay).  But when they were\n",
      "imaging toutatis????  didn't someone have to get lucky on a guess to\n",
      "find the first images?   \n",
      "\n",
      "Also, I imagine S-L 1993e will be mostly a visual image.  so how will\n",
      "that affect the other imaging missions.  with the LGA,  there is a real\n",
      "tight allocation of bandwidth.   It may be premature to hope for answers,\n",
      "but I thought i'd throw it on the floor.\n",
      "============================\n",
      "talk.religion.misc\n",
      "------------------\n",
      "\n",
      "\n",
      "Seems to be, barring evidence to the contrary, that Koresh was simply\n",
      "another deranged fanatic who thought it neccessary to take a whole bunch of\n",
      "folks with him, children and all, to satisfy his delusional mania. Jim\n",
      "Jones, circa 1993.\n",
      "\n",
      "\n",
      "Nope - fruitcakes like Koresh have been demonstrating such evil corruption\n",
      "for centuries.\n",
      "------------------\n",
      "DM> Fact or rumor....?  Madalyn Murray O'Hare an atheist who eliminated the\n",
      "DM> use of the bible reading and prayer in public schools 15 years ago is now\n",
      "DM> going to appear before the FCC with a petition to stop the reading of the\n",
      "DM> Gospel on the airways of America.  And she is also campaigning to remove\n",
      "DM> Christmas programs, songs, etc from the public schools.  If it is true\n",
      "DM> then mail to Federal Communications Commission 1919 H Street Washington DC\n",
      "DM> 20054 expressing your opposition to her request.  Reference Petition number\n",
      "\n",
      "DM> 2493.\n",
      "\n",
      "False.  This story has been going around for years.  There's not a drop of\n",
      "truth.  Note that I don't care for O'Hare (O'Hair?) myself, but this\n",
      "is one thing she's not guilty of.\n",
      "\n",
      "------------------\n",
      "PSA 145:9  The LORD is good to all: and his  tender  mercies  are\n",
      "over all his works.\n",
      "------------------\n",
      "There has been a lot of discussion about Tyre.  In sum, Ezekiel prophesied\n",
      "that the place would be mashed and never rebuilt; as there are a lot of\n",
      "people living there, it would appear that Ezekiel was not literally correct.\n",
      "\n",
      "This doesn't bother me at all, because I understand the language Ezekiel used\n",
      "differently than do so-called Biblical literalists.  For example, it sometimes\n",
      "happens that someone says \"My grandson is the cutest baby!\" and then turns\n",
      "around and sees the granddaughter and says \"Oh!  Isn't she the cutest thing!?\"\n",
      "\n",
      "This person is not literally claiming to have lined up all the babies in the\n",
      "world according to cuteness and discovered his own grandchildren tied for\n",
      "first.  Rather, he is trying to express his emotions using words that are very\n",
      "object-oriented.  Because this example is one that is common to many people,\n",
      "nobody misunderstands the intent of the statements; the Bible, however, is\n",
      "often at the mercy of people who assume that everything within must be exactly\n",
      "literally true.  For those people, the existence of Tyre is a problem; for me,\n",
      "it is not.\n",
      "\n",
      "\n",
      "Turning to the latest person trying to defend Ezekiel, we read this from\n",
      "John E King:\n",
      "\n",
      "\n",
      "No, it implies nothing of the kind.  If you had nothing but the prophecy from\n",
      "Ezekiel, and you were told you interpret it literally, you would never say\n",
      "\"Oh, he means that there will be houses and businesses and plants and stuff\n",
      "like that.\"  You would read \"I will make you a bare rock\" and \"You will never\n",
      "be rebuilt\", and you'd conclude that Tyre would be a bare rock.  The only way\n",
      "to get from `fishing nets' to `houses and buildings and a medium-large\n",
      "population' is if you KNOW that all that latter stuff is there.\n",
      "\n",
      "In other words, your answer means that Ezekiel misled everybody who read the\n",
      "prophecy at the time it was written.  There is no way that, given a literal\n",
      "reading, they could read this passage and conclude \"medium-size city\".\n",
      "\n",
      "You seem to feel that \"Never be rebuilt\" means \"be rebuilt\" -- maybe so, but\n",
      "it is hardly a `clear implication'.\n",
      "\n",
      "\n",
      "\n",
      "\n",
      "Well, no.  That's only a bit less than the population of Annapolis, where I'm\n",
      "from.  You know, the Naval Acadamy, the state capital, George Washington\n",
      "resigned his commission in the statehouse?  Annapolis may not be New York, but\n",
      "it's at least a two-horse town.\n",
      "\n",
      "But supposing 22,000 people is a \"small town\" -- it's still 22,000 people\n",
      "MORE than Ezekiel predicted.\n",
      "\n",
      "\n",
      "And you've said nothing about the other problem.  In chapter 26, Ezekiel\n",
      "predicts that Nebuchadnezzar will will destroy Tyre and loot all their\n",
      "valuables.  However, Nebuchadnezzar did NOT destroy Tyre, and in chapter 29\n",
      "Ezekiel even quotes God as saying \"he and his army got no reward from the\n",
      "campaign he led against Tyre.\"\n",
      "\n",
      "Let's ignore Alexander for a moment, and just pay attention to chapter 26.\n",
      "Ezekiel says N. would destroy Tyre, and N. did NOT destroy Tyre.  Ezekiel says\n",
      "that N. would plunder their valuables, but N. did NOT plunder their valuables.\n",
      "\n",
      "Regardless of what you think about Tyre _now_, the fact is that N. died before\n",
      "the place was destroyed.  Ezekiel said N. was going to do it, and N. did not.\n",
      "\n",
      " *\n",
      "\n",
      "This post is, of course, pointless.  Inerrantists have an amazing ability\n",
      "to rewrite the Bible as needed to fit whatever they want it to say.\n",
      "\n",
      "For example, I expect Mr King to respond to the comments about Ezekiel 26\n",
      "by pulling some \"clear implications\" out of hat.\n",
      "\n",
      "When Ezekiel said that N. would \"demolish your towers\", that clearly implied\n",
      "that the walls would still be standing so people would know where the towers\n",
      "used to be.  And when Ezekiel said that N. would \"demolish your fine houses\n",
      "and throw your stones, timber and rubble into the sea\", that clearly implied\n",
      "that N. would never set foot on the island.  And when Ezekiel wrote that N.\n",
      "would \"build a ramp up to your walls\", that clearly implies that N. would\n",
      "spend 13 years stomping around on the mainland and never get close to the\n",
      "walls.\n",
      "\n",
      "See?  A few \"clear implications\" that are totally contrary to the text, and\n",
      "you can reconcile anything you want.\n",
      "\n",
      "------------------\n",
      "\n",
      "\tPlease do! And if you don't want to post it here, email to me\n",
      ":-) I don't know how this discussion is appreciated here. I hate\n",
      "'invading' newsgroups with themes of limited interest :-)\n"
     ]
    }
   ],
   "source": [
    "def P1(num_examples=5):\n",
    "    labels = np.unique(newsgroups_train.target)\n",
    "    \n",
    "    for lb in labels:\n",
    "        print(\"============================\")\n",
    "        idx = np.where(newsgroups_train.target == lb)[0]\n",
    "        idx = idx[0:num_examples]\n",
    "        print(newsgroups_train.target_names[lb])\n",
    "        for i in idx:\n",
    "            print(\"------------------\")\n",
    "#             print(newsgroups_train.filenames[i])\n",
    "#             print(newsgroups_train.data[i][0:60])\n",
    "            print(newsgroups_train.data[i])\n",
    "        \n",
    "\n",
    "P1()"
   ]
  },
  {
   "cell_type": "markdown",
   "metadata": {},
   "source": [
    "# 2 \n",
    "\n",
    "Use CountVectorizer to turn the raw training text into feature vectors. You should use the fit_transform function, which makes 2 passes through the data: first it computes the vocabulary (\"fit\"), second it converts the raw text into feature vectors using the vocabulary (\"transform\").\n",
    "\n",
    "The vectorizer has a lot of options. To get familiar with some of them, write code to answer these questions:\n",
    "\n",
    "a. The output of the transform (also of fit_transform) is a sparse matrix: http://docs.scipy.org/doc/scipy-0.14.0/reference/generated/scipy.sparse.csr_matrix.html. What is the size of the vocabulary? What is the average number of non-zero features per example? What fraction of the entries in the matrix are non-zero? Hint: use \"nnz\" and \"shape\" attributes.\n",
    "\n",
    "b. What are the 0th and last feature strings (in alphabetical order)? Hint: use the vectorizer's get_feature_names function.\n",
    "\n",
    "c. Specify your own vocabulary with 4 words: [\"atheism\", \"graphics\", \"space\", \"religion\"]. Confirm the training vectors are appropriately shaped. Now what's the average number of non-zero features per example?\n",
    "\n",
    "d. Instead of extracting unigram word features, use \"analyzer\" and \"ngram_range\" to extract bigram and trigram character features. What size vocabulary does this yield?\n",
    "\n",
    "e. Use the \"min_df\" argument to prune words that appear in fewer than 10 documents. What size vocabulary does this yield?\n",
    "\n",
    "f. Using the standard CountVectorizer, what fraction of the words in the dev data are missing from the vocabulary? Hint: build a vocabulary for both train and dev and look at the size of the difference."
   ]
  },
  {
   "cell_type": "code",
   "execution_count": 186,
   "metadata": {},
   "outputs": [
    {
     "name": "stdout",
     "output_type": "stream",
     "text": [
      "============================\n",
      "2.a.\n",
      "Confirm the training vectors are appropriately shaped\n",
      "(2034, 26879)\n",
      "What is the size of the vocabulary?\n",
      "26879\n",
      "What is the average number of non-zero features per example?\n",
      "13.214847590953786\n",
      "What fraction of the entries in the matrix are non-zero?\n",
      "0.0004916420845624386\n",
      "============================\n",
      "2.b.\n",
      "What are the 0th and last feature strings (in alphabetical order)?\n",
      "('00', 'zyxel')\n",
      "============================\n",
      "2.c.\n",
      "Confirm the training vectors are appropriately shaped\n",
      "(2034, 4)\n",
      "What's the average number of non-zero features per example?\n",
      "0.0019665683382497543\n",
      "============================\n",
      "2.d.\n",
      "What size vocabulary does this yield?\n",
      "510583\n",
      "============================\n",
      "2.e.\n",
      "What size vocabulary does this yield?\n",
      "3064\n",
      "============================\n",
      "2.f.\n",
      "what fraction of the words in the dev data are missing from the vocabulary?\n",
      "0.604412366531493\n"
     ]
    }
   ],
   "source": [
    "def P2():\n",
    "    \n",
    "    def calc_size_vocab(cv):\n",
    "        fts = cv.get_feature_names()\n",
    "        num_fts = len(fts)\n",
    "        return(num_fts)\n",
    "    \n",
    "    def calc_avg_non_zero_features_per_example(cv, train_data):\n",
    "        fts = cv.get_feature_names()\n",
    "        num_fts = len(fts)\n",
    "        num_examples = len(train_data)\n",
    "        avg_non_zero_features_per_example = num_fts / num_examples\n",
    "        return(avg_non_zero_features_per_example)\n",
    "    \n",
    "    def calc_fraction_matrix_non_zero(cv, fv):\n",
    "        fts = cv.get_feature_names()\n",
    "        num_fts = len(fts)\n",
    "        fv_arr = fv.toarray()\n",
    "        num_entries_in_matrix = fv_arr.shape[0] * fv_arr.shape[1]\n",
    "        fraction_of_entries_non_zero = num_fts / num_entries_in_matrix\n",
    "        return(fraction_of_entries_non_zero)\n",
    "    \n",
    "    def find_features_0_last(cv):\n",
    "        fts = cv.get_feature_names()\n",
    "        feature_0 = fts[0]\n",
    "        feature_last = fts[-1]\n",
    "        return(feature_0, feature_last)\n",
    "    \n",
    "    def calc_fraction_vocab(cv1, cv2):\n",
    "        fts1 = cv1.get_feature_names()\n",
    "        num_fts1 = len(fts1)\n",
    "        fts2 = cv2.get_feature_names()\n",
    "        num_fts2 = len(fts2)\n",
    "        frac = num_fts1 / num_fts2\n",
    "        return(frac)\n",
    "    \n",
    "    \n",
    "    # first vectorizer\n",
    "    cv = CountVectorizer()\n",
    "    fv = cv.fit_transform(train_data)\n",
    "    \n",
    "    print(\"============================\")\n",
    "    print(\"2.a.\")\n",
    "    # Confirm the training vectors are appropriately shaped\n",
    "    print(\"Confirm the training vectors are appropriately shaped\")\n",
    "    print(fv.shape)\n",
    "    \n",
    "    # What is the size of the vocabulary? i.e. non-zero features\n",
    "    print(\"What is the size of the vocabulary?\")\n",
    "    print(calc_size_vocab(cv))\n",
    "    \n",
    "    # What is the average number of non-zero features per example?\n",
    "    print(\"What is the average number of non-zero features per example?\")\n",
    "    print(calc_avg_non_zero_features_per_example(cv, train_data))\n",
    "    \n",
    "    # What fraction of the entries in the matrix are non-zero?\n",
    "    print(\"What fraction of the entries in the matrix are non-zero?\")\n",
    "    print(calc_fraction_matrix_non_zero(cv, fv))\n",
    "    \n",
    "    print(\"============================\")\n",
    "    print(\"2.b.\")\n",
    "    # What are the 0th and last feature strings (in alphabetical order)?\n",
    "    print(\"What are the 0th and last feature strings (in alphabetical order)?\")\n",
    "    print(find_features_0_last(cv))\n",
    "    \n",
    "    \n",
    "    \n",
    "    \n",
    "    print(\"============================\")\n",
    "    print(\"2.c.\")\n",
    "    # Specify your own vocabulary with 4 words: [\"atheism\", \"graphics\", \"space\", \"religion\"].\n",
    "    cv2 = CountVectorizer(vocabulary = [\"atheism\", \"graphics\", \"space\", \"religion\"])\n",
    "    fv2 = cv2.fit_transform(train_data)\n",
    "    \n",
    "    # Confirm the training vectors are appropriately shaped\n",
    "    print(\"Confirm the training vectors are appropriately shaped\")\n",
    "    print(fv2.shape)\n",
    "    \n",
    "#     print(\"What is the size of the vocabulary?\")\n",
    "#     print(calc_size_vocab(cv2))\n",
    "        \n",
    "#     print(\"What fraction of the entries in the matrix are non-zero?\")\n",
    "#     print(calc_fraction_matrix_non_zero(cv2, fv2))\n",
    "    \n",
    "#     print(\"What are the 0th and last feature strings (in alphabetical order)?\")\n",
    "#     print(find_features_0_last(cv2))\n",
    "    \n",
    "    # Now what's the average number of non-zero features per example?\n",
    "    print(\"What's the average number of non-zero features per example?\")\n",
    "    print(calc_avg_non_zero_features_per_example(cv2, train_data))\n",
    "    \n",
    "    \n",
    "    \n",
    "    \n",
    "    print(\"============================\")\n",
    "    print(\"2.d.\")\n",
    "    \n",
    "    # Instead of extracting unigram word features, use \"analyzer\" and \"ngram_range\" to extract bigram and trigram character features.\n",
    "    cv3 = CountVectorizer(analyzer = \"word\", ngram_range = (2,3))\n",
    "    fv3 = cv3.fit_transform(train_data)\n",
    "    \n",
    "    # What size vocabulary does this yield?\n",
    "    print(\"What size vocabulary does this yield?\")\n",
    "    print(calc_size_vocab(cv3))\n",
    "    \n",
    "    \n",
    "    \n",
    "    \n",
    "    print(\"============================\")\n",
    "    print(\"2.e.\")\n",
    "    # Use the \"min_df\" argument to prune words that appear in fewer than 10 documents\n",
    "    cv4 = CountVectorizer(min_df=10)\n",
    "    fv4 = cv4.fit_transform(train_data)\n",
    "    \n",
    "    # What size vocabulary does this yield?\n",
    "    print(\"What size vocabulary does this yield?\")\n",
    "    print(calc_size_vocab(cv4))\n",
    "    \n",
    "    \n",
    "    \n",
    "    \n",
    "    print(\"============================\")\n",
    "    print(\"2.f.\")\n",
    "    # Using the standard CountVectorizer, what fraction of the words in the dev data are missing from the vocabulary?\n",
    "    cv5 = CountVectorizer()\n",
    "    fv5 = cv5.fit_transform(train_data)\n",
    "    \n",
    "    cv6 = CountVectorizer()\n",
    "    fv6 = cv6.fit_transform(dev_data)\n",
    "    \n",
    "    print(\"what fraction of the words in the dev data are missing from the vocabulary?\")\n",
    "    print(calc_fraction_vocab(cv6, cv5))\n",
    "    \n",
    "    \n",
    "P2()"
   ]
  },
  {
   "cell_type": "markdown",
   "metadata": {},
   "source": [
    "# 3\n",
    "\n",
    "Use the default CountVectorizer options and report the f1 score (use metrics.f1_score) for a k nearest neighbors classifier; find the optimal value for k. Also fit a Multinomial Naive Bayes model and find the optimal value for alpha. Finally, fit a logistic regression model and find the optimal value for the regularization strength C using l2 regularization. A few questions:\n",
    "\n",
    "a. Why doesn't nearest neighbors work well for this problem?\n",
    "\n",
    "b. Any ideas why logistic regression doesn't work as well as Naive Bayes?\n",
    "\n",
    "c. Logistic regression estimates a weight vector for each class, which you can access with the coef\\_ attribute. Output the sum of the squared weight values for each class for each setting of the C parameter. Briefly explain the relationship between the sum and the value of C."
   ]
  },
  {
   "cell_type": "code",
   "execution_count": 29,
   "metadata": {},
   "outputs": [
    {
     "name": "stdout",
     "output_type": "stream",
     "text": [
      "============================\n",
      "------------------\n",
      "GridSearchCV best param and score is:\n",
      "{'n_neighbors': 19}\n",
      "0.41789577187807275\n",
      "------------------\n",
      "KNeighborsClassifier(algorithm='auto', leaf_size=30, metric='minkowski',\n",
      "           metric_params=None, n_jobs=None, n_neighbors=19, p=2,\n",
      "           weights='uniform')\n",
      "f1 scores for best k-NN classifier are:\n",
      "{'dev_f1': 0.4393491124260356, 'test_f1': 0.41949778434268836}\n",
      "------------------\n"
     ]
    },
    {
     "data": {
      "image/png": "[encoded data removed]",
      "text/plain": [
       "<Figure size 432x288 with 1 Axes>"
      ]
     },
     "metadata": {
      "needs_background": "light"
     },
     "output_type": "display_data"
    },
    {
     "name": "stdout",
     "output_type": "stream",
     "text": [
      "============================\n",
      "------------------\n",
      "GridSearchCV best param and score is:\n",
      "{'alpha': 0.020000000100000002}\n",
      "0.8289085545722714\n",
      "------------------\n",
      "MultinomialNB(alpha=0.020000000100000002, class_prior=None, fit_prior=True)\n",
      "f1 scores for best MNB classifier are:\n",
      "{'dev_f1': 0.7869822485207101, 'test_f1': 0.7799113737075333}\n",
      "------------------\n"
     ]
    },
    {
     "data": {
      "image/png": "[encoded data removed]",
      "text/plain": [
       "<Figure size 432x288 with 1 Axes>"
      ]
     },
     "metadata": {
      "needs_background": "light"
     },
     "output_type": "display_data"
    },
    {
     "name": "stdout",
     "output_type": "stream",
     "text": [
      "============================\n",
      "------------------\n",
      "GridSearchCV best param and score is:\n",
      "{'C': 0.20000000010000002}\n",
      "0.7763028515240905\n",
      "------------------\n",
      "LogisticRegression(C=0.20000000010000002, class_weight=None, dual=False,\n",
      "          fit_intercept=True, intercept_scaling=1, max_iter=1000,\n",
      "          multi_class='ovr', n_jobs=None, penalty='l2', random_state=None,\n",
      "          solver='liblinear', tol=0.0001, verbose=0, warm_start=False)\n",
      "f1 scores for best Logistic Regression with L2 regulariztion are:\n",
      "{'dev_f1': 0.7130177514792899, 'test_f1': 0.7488921713441654}\n",
      "------------------\n"
     ]
    },
    {
     "data": {
      "image/png": "[encoded data removed]",
      "text/plain": [
       "<Figure size 432x288 with 1 Axes>"
      ]
     },
     "metadata": {
      "needs_background": "light"
     },
     "output_type": "display_data"
    },
    {
     "name": "stdout",
     "output_type": "stream",
     "text": [
      "============================\n",
      "------------------\n",
      "1e-10\n",
      "[5.70674183e-13 8.45299474e-13 4.04006981e-13 6.35819484e-13]\n",
      "0.1000000001\n",
      "[27.1250283  24.66057313 27.45792701 23.02487585]\n",
      "0.20000000010000002\n",
      "[49.74057332 42.74270923 49.32777858 42.6648792 ]\n",
      "0.30000000010000005\n",
      "[69.28094753 57.87853223 67.9003255  59.75814281]\n",
      "0.40000000010000003\n",
      "[86.74157078 71.15353022 84.29247462 75.05818525]\n",
      "------------------\n"
     ]
    },
    {
     "data": {
      "image/png": "[encoded data removed]",
      "text/plain": [
       "<Figure size 432x288 with 1 Axes>"
      ]
     },
     "metadata": {
      "needs_background": "light"
     },
     "output_type": "display_data"
    }
   ],
   "source": [
    "def P3():\n",
    "    \n",
    "    def do_knn(cv, ks):\n",
    "        # only fits-and-transforms the train data\n",
    "        # dev and test data is just transformed\n",
    "        train_fv = cv.fit_transform(train_data)\n",
    "        dev_fv = cv.transform(dev_data)\n",
    "        test_fv = cv.transform(test_data)\n",
    "    \n",
    "        print(\"------------------\")\n",
    "        # uses grid search and cross validation to find best k\n",
    "        gscv = GridSearchCV(estimator = KNeighborsClassifier()\n",
    "                            ,param_grid = {\"n_neighbors\" : ks}\n",
    "                            ,cv = 3\n",
    "                            ,scoring = \"f1_micro\"\n",
    "                            ,iid = True\n",
    "                            ,return_train_score = True\n",
    "                           )\n",
    "        gscv.fit(train_fv, train_labels)\n",
    "\n",
    "        # prints best f1 score and k\n",
    "        print(\"GridSearchCV best param and score is:\")\n",
    "        print(gscv.best_params_)\n",
    "        print(gscv.best_score_)\n",
    "        \n",
    "        print(\"------------------\")\n",
    "        # best k-NN classifier\n",
    "        clsfr = gscv.best_estimator_\n",
    "        print(clsfr)\n",
    "        preds = clsfr.predict(dev_fv)\n",
    "        dev_f1 = metrics.f1_score(preds, dev_labels, average = \"micro\")\n",
    "        preds = clsfr.predict(test_fv)\n",
    "        test_f1 = metrics.f1_score(preds, test_labels, average = \"micro\")\n",
    "        print(\"f1 scores for best k-NN classifier are:\")\n",
    "        print({\"dev_f1\" : dev_f1, \"test_f1\" : test_f1})\n",
    "\n",
    "        print(\"------------------\")\n",
    "        # plots all the f1 scores and ks\n",
    "        scores = gscv.cv_results_[\"mean_test_score\"]\n",
    "        plt.plot(ks, scores, marker = \"o\")\n",
    "        plt.title(\"k-NN, train f1 scores vs number of neighbors\")\n",
    "        plt.xlabel(\"number of neighbors\")\n",
    "        plt.ylabel(\"f1 scores\")\n",
    "        plt.show()\n",
    "    \n",
    "    \n",
    "    def do_mnb(cv, alphas):\n",
    "        # only fits-and-transforms the train data\n",
    "        # dev and test data is just transformed\n",
    "        train_fv = cv.fit_transform(train_data)\n",
    "        dev_fv = cv.transform(dev_data)\n",
    "        test_fv = cv.transform(test_data)\n",
    "        \n",
    "        print(\"------------------\")\n",
    "        # uses grid search and cross validation to find best alpha\n",
    "        gscv = GridSearchCV(estimator = MultinomialNB()\n",
    "                            ,param_grid = {\"alpha\" : alphas}\n",
    "                            ,cv = 3\n",
    "                            ,scoring = \"f1_micro\"\n",
    "                            ,iid = True\n",
    "                            ,return_train_score = True\n",
    "                           )\n",
    "        gscv.fit(train_fv, train_labels)\n",
    "        \n",
    "        # prints best f1 score and alpha\n",
    "        print(\"GridSearchCV best param and score is:\")\n",
    "        print(gscv.best_params_)\n",
    "        print(gscv.best_score_)\n",
    "        \n",
    "        print(\"------------------\")\n",
    "        # best Multinomial Naive Bayes classifier\n",
    "        clsfr = gscv.best_estimator_\n",
    "        print(clsfr)\n",
    "        preds = clsfr.predict(dev_fv)\n",
    "        dev_f1 = metrics.f1_score(preds, dev_labels, average = \"micro\")\n",
    "        preds = clsfr.predict(test_fv)\n",
    "        test_f1 = metrics.f1_score(preds, test_labels, average = \"micro\")\n",
    "        print(\"f1 scores for best MNB classifier are:\")\n",
    "        print({\"dev_f1\" : dev_f1, \"test_f1\" : test_f1})\n",
    "\n",
    "        print(\"------------------\")\n",
    "        # plots all the f1 scores and alphas\n",
    "        scores = gscv.cv_results_[\"mean_test_score\"]\n",
    "        plt.plot(alphas, scores, marker = \"o\")\n",
    "        plt.title(\"Multinomial Naive Bayes, train f1 scores vs smoothing\")\n",
    "        plt.xlabel(\"alpha\")\n",
    "        plt.ylabel(\"f1 scores\")\n",
    "        plt.show()\n",
    "    \n",
    "    \n",
    "    def do_lr(cv, cs):\n",
    "        # only fits-and-transforms the train data\n",
    "        # dev and test data is just transformed\n",
    "        train_fv = cv.fit_transform(train_data)\n",
    "        dev_fv = cv.transform(dev_data)\n",
    "        test_fv = cv.transform(test_data)\n",
    "        \n",
    "        print(\"------------------\")\n",
    "        # uses grid search and cross validation to find best C\n",
    "        gscv = GridSearchCV(estimator = LogisticRegression(penalty = \"l2\", multi_class = \"ovr\", solver = \"liblinear\", max_iter = 1000)\n",
    "                            ,param_grid = {\"C\" : cs}\n",
    "                            ,cv = 3\n",
    "                            ,scoring = \"f1_micro\"\n",
    "                            ,iid = True\n",
    "                            ,return_train_score = True\n",
    "                           )\n",
    "        gscv.fit(train_fv, train_labels)\n",
    "        \n",
    "        # prints best f1 score and C\n",
    "        print(\"GridSearchCV best param and score is:\")\n",
    "        print(gscv.best_params_)\n",
    "        print(gscv.best_score_)\n",
    "        \n",
    "        print(\"------------------\")\n",
    "        # best Logistic Regression classifier\n",
    "        clsfr = gscv.best_estimator_\n",
    "        print(clsfr)\n",
    "        preds = clsfr.predict(dev_fv)\n",
    "        dev_f1 = metrics.f1_score(preds, dev_labels, average = \"micro\")\n",
    "        preds = clsfr.predict(test_fv)\n",
    "        test_f1 = metrics.f1_score(preds, test_labels, average = \"micro\")\n",
    "        print(\"f1 scores for best Logistic Regression with L2 regulariztion are:\")\n",
    "        print({\"dev_f1\" : dev_f1, \"test_f1\" : test_f1})\n",
    "        \n",
    "        print(\"------------------\")\n",
    "        # plots all the f1 scores and C\n",
    "        scores = gscv.cv_results_[\"mean_test_score\"]\n",
    "        plt.plot(cs, scores, marker = \"o\")\n",
    "        plt.title(\"Logistic Regression with L2 regularization, train f1 scores vs inverse regularization strength\")\n",
    "        plt.xlabel(\"C\")\n",
    "        plt.ylabel(\"f1 scores\")\n",
    "        plt.show()\n",
    "        \n",
    "        \n",
    "        \n",
    "    def do_lr_ec(cv, cs):\n",
    "        # only fits-and-transforms the train data\n",
    "        # dev and test data is just transformed\n",
    "        train_fv = cv.fit_transform(train_data)\n",
    "        dev_fv = cv.transform(dev_data)\n",
    "        test_fv = cv.transform(test_data)\n",
    "        \n",
    "        # Outputs sum of the squared weight values for each class for each setting of the C parameter\n",
    "        # we can't use grid search cv because it only allows us access to the best estimator, and not each estimator\n",
    "        classifiers = map(\n",
    "                            lambda c: LogisticRegression(penalty=\"l2\", multi_class = \"ovr\", solver = \"liblinear\", max_iter = 1000, C = c)\n",
    "                          , cs\n",
    "                        )\n",
    "        fits = map(lambda clsfr: clsfr.fit(train_fv, train_labels), classifiers)\n",
    "        fits =  list(fits)\n",
    "        coefs = map(lambda clsfr: clsfr.coef_, fits)\n",
    "        coefs = list(coefs)\n",
    "        sqwgts = map(lambda w: np.sum(np.square(w), axis = 1), coefs)\n",
    "        sqwgts = list(sqwgts)\n",
    "        \n",
    "        print(\"------------------\")\n",
    "        for idx, c in enumerate(cs):\n",
    "            print(c)\n",
    "            print(sqwgts[idx])\n",
    "        \n",
    "#         print(\"------------------\")\n",
    "#         for idx, c in enumerate(cs):\n",
    "#             x = np.arange(len(newsgroups_train.target_names))\n",
    "#             plt.bar(x, sqwgts[idx], tick_label = newsgroups_train.target_names)\n",
    "#             plt.title(\"C = \" + str(c))\n",
    "#             plt.xlabel(\"class\")\n",
    "#             plt.ylabel(\"square weights\")\n",
    "#             plt.show()\n",
    "            \n",
    "        print(\"------------------\")\n",
    "        # rearrange data for multi-line plot\n",
    "        # would be so much easier with pandas ...\n",
    "        by_c = []\n",
    "        for idx, _ in enumerate(sqwgts[0]):\n",
    "            res = []\n",
    "            for j, w in enumerate(sqwgts):\n",
    "                res.append(w[idx])\n",
    "            by_c.append(res)\n",
    "        \n",
    "        for idx, y in enumerate(by_c):\n",
    "            plt.plot(cs, y, marker = \"o\")\n",
    "        plt.title(\"Sum of Square Weights vs Inverse Regularization Strength, per class\")\n",
    "        plt.xlabel(\"C\")\n",
    "        plt.ylabel(\"sum of square weights\")\n",
    "        plt.legend(newsgroups_train.target_names)\n",
    "        plt.show()\n",
    "    \n",
    "    \n",
    "    \n",
    "    \n",
    "    # using defautl count vectorizer\n",
    "    # only fits-and-transforms the train data\n",
    "    # dev and test data is just transformed\n",
    "    cv = CountVectorizer()\n",
    "    \n",
    "    print(\"============================\")\n",
    "    do_knn(cv, ks = list(range(1,31,2)))\n",
    "    \n",
    "    print(\"============================\")\n",
    "    do_mnb(cv, alphas = np.arange(1.0e-10, 0.1, 0.01))\n",
    "    \n",
    "    print(\"============================\")\n",
    "    do_lr(cv, cs = np.arange(1.0e-10, 0.5, 0.1))\n",
    "    \n",
    "    print(\"============================\")\n",
    "    do_lr_ec(cv, cs = np.arange(1.0e-10, 0.5, 0.1))\n",
    "    \n",
    "P3()"
   ]
  },
  {
   "cell_type": "markdown",
   "metadata": {},
   "source": [
    "Answers:\n",
    "\n",
    "a. Why doesn't nearest neighbors work well for this problem?\n",
    "\n",
    "**Because each word is a feature, many of our records have lots of features, which makes every vector very far away from each other. Also, the features are 0 or 1, and is not modelled well by spherical distance. The high number of neighbors, 19-NN, and relatively low f1 score, suggests the k-nn classifier is overfitting, rather than capturing actual patterns.** \n",
    "\n",
    "b. Any ideas why logistic regression doesn't work as well as Naive Bayes?\n",
    "\n",
    "**Logistic regression is trying to calculate the weights for every feature in the vocabulary, for each class, when for the vast majority of documents, relatively few features (words) appear in the document. Multinomial Naive Bayes works better in this case because it does not assume that every word will matter for each class.**\n",
    "\n",
    "c. Output the sum of the squared weight values for each class for each setting of the C parameter. Briefly explain the relationship between the sum and the value of C.\n",
    "\n",
    "**C is the inverse of regularization strength. So as C increases, regularization gets weaker. Which means that as C increases, the sum of squared weights values for each class tend to increase, because we are penalizing larger weight coefficients less and less.**\n"
   ]
  },
  {
   "cell_type": "markdown",
   "metadata": {},
   "source": [
    "# 4\n",
    "\n",
    "Train a logistic regression model. Find the 5 features with the largest weights for each label -- 20 features in total. Create a table with 20 rows and 4 columns that shows the weight for each of these features for each of the labels. Create the table again with bigram features. Any surprising features in this table?"
   ]
  },
  {
   "cell_type": "code",
   "execution_count": 385,
   "metadata": {},
   "outputs": [
    {
     "name": "stdout",
     "output_type": "stream",
     "text": [
      "============================\n",
      "------------------\n",
      "alt.atheism\n",
      "top features by weight coefficients\n",
      "[ 4784  3866 20430  3870 13668]\n",
      "['bobby', 'atheism', 'religion', 'atheists', 'islam']\n",
      "top weight coefficients\n",
      "[0.6193409499731486, 0.6157699036617253, 0.6153596961024825, 0.6063107559389059, 0.5281650098184903]\n",
      "------------------\n",
      "comp.graphics\n",
      "top features by weight coefficients\n",
      "[11552 12769 10376  1145  6555]\n",
      "['graphics', 'image', 'file', '3d', 'computer']\n",
      "top weight coefficients\n",
      "[1.2555635214760446, 0.8336573564139619, 0.8089116965019939, 0.7103358141516686, 0.6794821245068315]\n",
      "------------------\n",
      "sci.space\n",
      "top features by weight coefficients\n",
      "[22567 17597 16697 14540 22570]\n",
      "['space', 'orbit', 'nasa', 'launch', 'spacecraft']\n",
      "top weight coefficients\n",
      "[1.5059004208846163, 0.7622789284638474, 0.6641854859764202, 0.6010921443713219, 0.5243712411600706]\n",
      "------------------\n",
      "talk.religion.misc\n",
      "top features by weight coefficients\n",
      "[ 5901  5904  4743 10234 17609]\n",
      "['christian', 'christians', 'blood', 'fbi', 'order']\n",
      "top weight coefficients\n",
      "[0.6963172059681438, 0.668052725852434, 0.597025841488948, 0.5580172163054408, 0.5540598223315434]\n",
      "============================\n",
      "------------------\n",
      "alt.atheism\n",
      "top features by weight coefficients\n",
      "[37174 38326 83190 88101 20596]\n",
      "['cheers kent', 'claim that', 'in this', 'is not', 'are you']\n",
      "top weight coefficients\n",
      "[0.4187047901364798, 0.40468949786773656, 0.36224250762411725, 0.35383852749024675, 0.349968616544057]\n",
      "------------------\n",
      "comp.graphics\n",
      "top features by weight coefficients\n",
      "[ 98723  81950 123709  88596  40451]\n",
      "['looking for', 'in advance', 'out there', 'is there', 'comp graphics']\n",
      "top weight coefficients\n",
      "[0.8482068749637817, 0.6533520918000226, 0.5850909934923931, 0.5533715404746264, 0.5367427553028596]\n",
      "------------------\n",
      "sci.space\n",
      "top features by weight coefficients\n",
      "[165984 167336 145068  16732  90070]\n",
      "['the moon', 'the space', 'sci space', 'and such', 'it was']\n",
      "top weight coefficients\n",
      "[0.6768260493080543, 0.6682581798090486, 0.4713299110026591, 0.4633742381641756, 0.4118684571544716]\n",
      "------------------\n",
      "talk.religion.misc\n",
      "top features by weight coefficients\n",
      "[ 37174 164806 190525  32640 168057]\n",
      "['cheers kent', 'the fbi', 'with you', 'but he', 'the word']\n",
      "top weight coefficients\n",
      "[0.42447055547921964, 0.41809607014746547, 0.3407468680994178, 0.34043992657255295, 0.32263348031430256]\n"
     ]
    }
   ],
   "source": [
    "def P4():\n",
    "    \n",
    "    def lookup_vocab_word(vocab_dict, fet):\n",
    "        for key, val in vocab_dict.items():\n",
    "            if val == fet:\n",
    "                return key\n",
    "    \n",
    "    def find_top_features_by_weights(cv, num_features):\n",
    "        # fits and transforms train data using the given vectorizer\n",
    "        train_fv = cv.fit_transform(train_data)\n",
    "        \n",
    "        # choosing parameters based on output from P3\n",
    "        clsfr = LogisticRegression(penalty=\"l2\", multi_class = \"ovr\", solver = \"liblinear\", max_iter = 1000, C = 0.2)\n",
    "        fit = clsfr.fit(train_fv, train_labels)\n",
    "\n",
    "        # for every label, gets top n features by weight\n",
    "        for idx, lbl in enumerate(newsgroups_train.target_names):\n",
    "            print(\"------------------\")\n",
    "            print(lbl)\n",
    "            print(\"top features by weight coefficients\")\n",
    "            top_features_by_weights = np.argsort(-clsfr.coef_[idx])[:num_features]\n",
    "            print(top_features_by_weights)\n",
    "            top_words_by_weights = [lookup_vocab_word(cv.vocabulary_, w) for w in top_features_by_weights]\n",
    "            print(top_words_by_weights)\n",
    "            print(\"top weight coefficients\")\n",
    "            top_weights = sorted(clsfr.coef_[idx], reverse = True)[:num_features]\n",
    "            print(top_weights)\n",
    "        \n",
    "    \n",
    "    # top n features we want to check\n",
    "    num_features = 5\n",
    "    \n",
    "    print(\"============================\")\n",
    "    # uses default count vectorizer\n",
    "    cv = CountVectorizer()\n",
    "    find_top_features_by_weights(cv, num_features)\n",
    "    \n",
    "    \n",
    "    print(\"============================\")\n",
    "    # uses bigram count vectorizer\n",
    "    cv2 = CountVectorizer(ngram_range = (2, 2))\n",
    "    find_top_features_by_weights(cv2, num_features)\n",
    "    \n",
    "P4()"
   ]
  },
  {
   "cell_type": "markdown",
   "metadata": {},
   "source": [
    "Answers:\n",
    "\n",
    "Any surprising features in this table?\n",
    "\n",
    "**Weights are generally lower in each class. And by looking at the meaning of the words, the highest weighted bigrams appear much less relevant than the highest weighted unigrams. Perhaps this reflects certain two-word phrases tend to be used more often in everyday speech.**"
   ]
  },
  {
   "cell_type": "markdown",
   "metadata": {},
   "source": [
    "# 5\n",
    "\n",
    "Try to improve the logistic regression classifier by passing a custom preprocessor to CountVectorizer. The preprocessing function runs on the raw text, before it is split into words by the tokenizer. Your preprocessor should try to normalize the input in various ways to improve generalization. For example, try lowercasing everything, replacing sequences of numbers with a single token, removing various other non-letter characters, and shortening long words. If you're not already familiar with regular expressions for manipulating strings, see https://docs.python.org/2/library/re.html, and re.sub() in particular. With your new preprocessor, how much did you reduce the size of the dictionary?\n",
    "\n",
    "For reference, I was able to improve dev F1 by 2 points."
   ]
  },
  {
   "cell_type": "code",
   "execution_count": 415,
   "metadata": {},
   "outputs": [
    {
     "name": "stdout",
     "output_type": "stream",
     "text": [
      "============================\n",
      "empty preprocessor\n",
      "{'vocab_size': 33291, 'dev_f1': 0.7085798816568046, 'test_f1': 0.7119645494830131}\n",
      "============================\n",
      "better preprocessor\n",
      "{'vocab_size': 10717, 'dev_f1': 0.7085798816568046, 'test_f1': 0.7355982274741507}\n"
     ]
    }
   ],
   "source": [
    "def P5():\n",
    "    \n",
    "    def empty_preprocessor(s):\n",
    "        return s\n",
    "    \n",
    "    def better_preprocessor(s):\n",
    "        s = s.lower()\n",
    "        \n",
    "        # replaces any contiguous digits with the digit \"8\"\n",
    "        s = re.sub(\"[0-9]*\",\"8\",s)\n",
    "\n",
    "        # truncates any words to less than a certain length\n",
    "        s1 = []\n",
    "        for word in s.split():\n",
    "            s1.append(word[:8])\n",
    "        s = \" \".join(s1)\n",
    "        \n",
    "        return s\n",
    "    \n",
    "    def calc_f1(cv):\n",
    "        \n",
    "        # fits and transforms train data using the given vectorizer\n",
    "        # transforms the dev and test data using the given vectorizer\n",
    "        train_fv = cv.fit_transform(train_data)\n",
    "        dev_fv = cv.transform(dev_data)\n",
    "        test_fv = cv.transform(test_data)\n",
    "        \n",
    "        # choosing parameters based on output from P3\n",
    "        clsfr = LogisticRegression(penalty=\"l2\", multi_class = \"ovr\", solver = \"liblinear\", max_iter = 1000, C = 0.2)\n",
    "        \n",
    "        # fits the classifier to train data\n",
    "        fit = clsfr.fit(train_fv, train_labels)\n",
    "        \n",
    "        # calculates vocab size\n",
    "        fts = cv.get_feature_names()\n",
    "        num_fts = len(fts)\n",
    "        \n",
    "        # predicts and calculates the f1 score against dev data\n",
    "        preds = clsfr.predict(dev_fv)\n",
    "        dev_f1 = metrics.f1_score(preds, dev_labels, average = \"micro\")\n",
    "        \n",
    "        # predicts and calculates the f1 score against test data\n",
    "        preds = clsfr.predict(test_fv)\n",
    "        test_f1 = metrics.f1_score(preds, test_labels, average = \"micro\")\n",
    "        \n",
    "        return({\"vocab_size\" : num_fts, \"dev_f1\" : dev_f1, \"test_f1\" : test_f1})\n",
    "    \n",
    "    \n",
    "    # uses the empty preprocessor\n",
    "    print(\"============================\")\n",
    "    print(\"empty preprocessor\")\n",
    "    cv = CountVectorizer(preprocessor = empty_preprocessor)\n",
    "    f1 = calc_f1(cv)\n",
    "    print(f1)\n",
    "    \n",
    "    # uses the better preprocessor\n",
    "    print(\"============================\")\n",
    "    print(\"better preprocessor\")\n",
    "    cv = CountVectorizer(preprocessor = better_preprocessor)\n",
    "    f1 = calc_f1(cv)\n",
    "    print(f1)\n",
    "    \n",
    "    \n",
    "P5()"
   ]
  },
  {
   "cell_type": "markdown",
   "metadata": {},
   "source": [
    "Answers:\n",
    "\n",
    "With your new preprocessor, how much did you reduce the size of the dictionary?\n",
    "\n",
    "**dictionary size was reduced by about 1/3, and test F1 score improved slightly by about 0.02**"
   ]
  },
  {
   "cell_type": "markdown",
   "metadata": {},
   "source": [
    "# 6\n",
    "\n",
    "The idea of regularization is to avoid learning very large weights (which are likely to fit the training data, but not generalize well) by adding a penalty to the total size of the learned weights. That is, logistic regression seeks the set of weights that minimizes errors in the training data AND has a small size. The default regularization, L2, computes this size as the sum of the squared weights (see P3, above). L1 regularization computes this size as the sum of the absolute values of the weights. The result is that whereas L2 regularization makes all the weights relatively small, L1 regularization drives lots of the weights to 0, effectively removing unimportant features.\n",
    "\n",
    "Train a logistic regression model using a \"l1\" penalty. Output the number of learned weights that are not equal to zero. How does this compare to the number of non-zero weights you get with \"l2\"? Now, reduce the size of the vocabulary by keeping only those features that have at least one non-zero weight and retrain a model using \"l2\".\n",
    "\n",
    "Make a plot showing accuracy of the re-trained model vs. the vocabulary size you get when pruning unused features by adjusting the C parameter.\n",
    "\n",
    "Note: The gradient descent code that trains the logistic regression model sometimes has trouble converging with extreme settings of the C parameter. Relax the convergence criteria by setting tol=.01 (the default is .0001)."
   ]
  },
  {
   "cell_type": "code",
   "execution_count": 39,
   "metadata": {},
   "outputs": [
    {
     "name": "stdout",
     "output_type": "stream",
     "text": [
      "============================\n",
      "------------------\n",
      "------------------\n",
      "------------------\n",
      "------------------\n",
      "------------------\n",
      "------------------\n",
      "------------------\n",
      "============================\n",
      "C regularization strengths\n",
      "[1.e-10 1.e-01 2.e-01 3.e-01 4.e-01 5.e-01 6.e-01]\n",
      "f1 scores\n",
      "(0.31462333825701627, 0.6883308714918759, 0.7119645494830131, 0.7208271787296898, 0.7296898079763663, 0.725258493353028, 0.7267355982274741)\n",
      "vocab sizes\n",
      "(0, 210, 362, 520, 625, 737, 800)\n"
     ]
    },
    {
     "data": {
      "image/png": "[encoded data removed]",
      "text/plain": [
       "<Figure size 432x288 with 1 Axes>"
      ]
     },
     "metadata": {
      "needs_background": "light"
     },
     "output_type": "display_data"
    },
    {
     "data": {
      "image/png": "[encoded data removed]",
      "text/plain": [
       "<Figure size 432x288 with 1 Axes>"
      ]
     },
     "metadata": {
      "needs_background": "light"
     },
     "output_type": "display_data"
    }
   ],
   "source": [
    "def P6():\n",
    "    \n",
    "    def lookup_vocab_word(vocab_dict, fet):\n",
    "        for key, val in vocab_dict.items():\n",
    "            if val == fet:\n",
    "                return key\n",
    "    \n",
    "    def build_small_vocab(cv, clsfr):\n",
    "        all_class_coef = np.sum(np.square(clsfr.coef_), axis = 0)\n",
    "        non_zero_features = np.where(all_class_coef != 0)[0]\n",
    "        non_zero_vocab = [lookup_vocab_word(cv.vocabulary_, ft) for ft in non_zero_features]\n",
    "        return non_zero_vocab\n",
    "    \n",
    "    def cv_l1(C = 0.2):\n",
    "        # using basic count vectorizer\n",
    "        cv = CountVectorizer()\n",
    "        train_fv = cv.fit_transform(train_data)\n",
    "    \n",
    "        # Train a logistic regression model using a \"l1\" penalty. Output the number of learned weights that are not equal to zero.\n",
    "        clsfr = LogisticRegression(penalty=\"l1\", multi_class = \"ovr\", solver = \"liblinear\", max_iter = 10000, C = C, tol=.01)\n",
    "        clsfr.fit(train_fv, train_labels)\n",
    "        small_vocab = build_small_vocab(cv, clsfr)\n",
    "        \n",
    "#         print(\"L1\")\n",
    "#         print(\"C\")\n",
    "#         print(C)\n",
    "#         print(\"number of learned weights that are not equal to zero\")\n",
    "#         print(np.count_nonzero(clsfr.coef_))\n",
    "        return small_vocab\n",
    "    \n",
    "    \n",
    "    def cv_l2(C = 0.2, vocab = None):\n",
    "        # checks vocabulary list\n",
    "        if not vocab:\n",
    "            vocab = None\n",
    "            \n",
    "        # using basic count vectorizer\n",
    "        cv = CountVectorizer(vocabulary = vocab)\n",
    "        train_fv = cv.fit_transform(train_data)\n",
    "        test_fv = cv.transform(test_data)\n",
    "    \n",
    "        # Train a logistic regression model using a \"l2\" penalty\n",
    "        clsfr = LogisticRegression(penalty=\"l2\", multi_class = \"ovr\", solver = \"liblinear\", max_iter = 10000, C = C, tol=.01)\n",
    "        clsfr.fit(train_fv, train_labels)\n",
    "        preds = clsfr.predict(test_fv)\n",
    "        f1 = metrics.f1_score(preds, test_labels, average = \"micro\")\n",
    "        \n",
    "#         print(\"L2\")\n",
    "#         print(\"C\")\n",
    "#         print(C)\n",
    "#         print(\"number of learned weights that are not equal to zero\")\n",
    "#         print(np.count_nonzero(clsfr.coef_))\n",
    "        return f1\n",
    "    \n",
    "    \n",
    "    def do_l1_then_l2(C = 0.2):\n",
    "        print(\"------------------\")\n",
    "        small_vocab = cv_l1(C)\n",
    "        vs = len(small_vocab)\n",
    "        f1 = cv_l2(C, small_vocab)\n",
    "        return (f1, vs)\n",
    "    \n",
    "    \n",
    "    print(\"============================\")\n",
    "    cs = np.arange(1.0e-10, 0.7, 0.1)\n",
    "    results = list(map(do_l1_then_l2, cs))\n",
    "    f1s, vss = zip(*results)\n",
    "    print(\"============================\")\n",
    "    print(\"C regularization strengths\")\n",
    "    print(cs)\n",
    "    print(\"f1 scores\")\n",
    "    print(f1s)\n",
    "    print(\"vocab sizes\")\n",
    "    print(vss)\n",
    "    \n",
    "    # Make a plot showing accuracy of the re-trained model vs. the vocabulary size you get when pruning unused features by adjusting the C parameter.\n",
    "    plt.plot(vss, f1s, marker = \"o\")\n",
    "    plt.title(\"Accuracy, f1, of re-trained model vs vocabulary size\")\n",
    "    plt.xlabel(\"vocabulary size\")\n",
    "    plt.ylabel(\"f1 scores\")\n",
    "    plt.show()\n",
    "    \n",
    "    plt.plot(cs, f1s, marker = \"o\")\n",
    "    plt.title(\"Accuracy, f1, of re-trained model vs inverse regularization strength\")\n",
    "    plt.xlabel(\"C\")\n",
    "    plt.ylabel(\"f1 scores\")\n",
    "    plt.show()\n",
    "    \n",
    "P6()"
   ]
  },
  {
   "cell_type": "markdown",
   "metadata": {},
   "source": [
    "# 7\n",
    "\n",
    "Use the TfidfVectorizer -- how is this different from the CountVectorizer? Train a logistic regression model with C=100.\n",
    "\n",
    "Make predictions on the dev data and show the top 3 documents where the ratio R is largest, where R is:\n",
    "\n",
    "maximum predicted probability / predicted probability of the correct label\n",
    "\n",
    "What kinds of mistakes is the model making? Suggest a way to address one particular issue that you see."
   ]
  },
  {
   "cell_type": "code",
   "execution_count": 89,
   "metadata": {},
   "outputs": [
    {
     "name": "stdout",
     "output_type": "stream",
     "text": [
      "docs with the worst guesses\n",
      "------------------\n",
      "I am pleased to announce that a *revised version* of _The Easy-to-Read Book\n",
      "of Mormon_ (former title: _Mormon's Book_) by Lynn Matthews Anderson is now\n",
      "available through anonymous ftp (see information below). In addition to the\n",
      "change in title, the revised ETR BOM has been shortened by several pages\n",
      "(eliminating many extraneous \"that's\" and \"of's\"), and many (minor) errors\n",
      "have been corrected. This release includes a simplified Joseph Smith Story,\n",
      "testimonies of the three and eight witnesses, and a \"Words-to-Know\"\n",
      "glossary.\n",
      "\n",
      "As with the previous announcement, readers are reminded that this is a\n",
      "not-for-profit endeavor. This is a copyrighted work, but people are welcome\n",
      "to make *verbatim* copies for personal use. People can recuperate the\n",
      "actual costs of printing (paper, copy center charges), but may not charge\n",
      "anything for their time in making copies, or in any way realize a profit\n",
      "from the use of this book. See the permissions notice in the book itself\n",
      "for the precise terms.\n",
      "\n",
      "Negotiations are currently underway with a Mormon publisher vis-a-vis the\n",
      "printing and distribution of bound books. (Sorry, I'm out of the wire-bound\n",
      "\"first editions.\") I will make another announcement about the availability\n",
      "of printed copies once everything has been worked out.\n",
      "\n",
      "FTP information: connect via anonymous ftp to carnot.itc.cmu.edu, then \"cd\n",
      "pub\" (you won't see anything at all until you do).\n",
      "\n",
      "\"The Easy-to-Read Book of Mormon\" is currently available in postscript and\n",
      "RTF (rich text format). (ASCII, LaTeX, and other versions can be made\n",
      "available; contact dba@andrew.cmu.edu for details.) You should be able to\n",
      "print the postscript file on any postscript printer (such as an Apple\n",
      "Laserwriter); let dba know if you have any difficulties. (The postscript in\n",
      "the last release had problems on some printers; this time it should work\n",
      "better.) RTF is a standard document interchange format that can be read in\n",
      "by a number of word processors, including Microsoft Word for both the\n",
      "Macintosh and Windows. If you don't have a postscript printer, you may be\n",
      "able to use the RTF file to print out a copy of the book.\n",
      "\n",
      "-r--r--r--  1 dba                   1984742 Apr 27 13:12 etrbom.ps\n",
      "-r--r--r--  1 dba                   1209071 Apr 27 13:13 etrbom.rtf\n",
      "\n",
      "For more information about how this project came about, please refer to my\n",
      "article in the current issue of _Sunstone_, entitled \"Delighting in\n",
      "Plainness: Issues Surrounding a Simple Modern English Book of Mormon.\"\n",
      "\n",
      "Send all inquiries and comments to:\n",
      "\n",
      "    Lynn Matthews Anderson\n",
      "    5806 Hampton Street\n",
      "    Pittsburgh, PA 15206\n",
      "------------------\n",
      "Can anyone provide me a ftp site where I can obtain a online version\n",
      "of the Book of Mormon. Please email the internet address if possible.\n",
      "------------------\n",
      "\n",
      "The 24 children were, of course, killed by a lone gunman in a second story\n",
      "window, who fired eight bullets in the space of two seconds...\n",
      "\n",
      "------------------\n",
      "predicted probabilities for each class for the wrong docs\n",
      "[[0.001967   0.99376274 0.00323736 0.0010329 ]\n",
      " [0.0029138  0.97936478 0.01478147 0.00293995]\n",
      " [0.00239828 0.01994096 0.28985685 0.6878039 ]]\n",
      "the correct labels the documents where supposed to have\n",
      "[3 3 0]\n",
      "['talk.religion.misc' 'talk.religion.misc' 'alt.atheism']\n",
      "the predicted labels\n",
      "[1 1 3]\n",
      "['comp.graphics' 'comp.graphics' 'talk.religion.misc']\n"
     ]
    }
   ],
   "source": [
    "def P7():\n",
    "    \n",
    "    def find_label_name(vc, lbl):\n",
    "        return vc.get_feature_names()[lbl]\n",
    "    \n",
    "    def calc_Rs(pred_proba, dev_labels):\n",
    "        max_proba = map(np.max, pred_proba)\n",
    "        max_proba = list(max_proba)\n",
    "        correct_proba = map(lambda x: x[0][x[1]], zip(pred_proba, dev_labels))\n",
    "        correct_proba = list(correct_proba)\n",
    "        Rs = np.divide(max_proba, correct_proba)\n",
    "        return Rs\n",
    "    \n",
    "    vc = TfidfVectorizer()\n",
    "    train_fv = vc.fit_transform(train_data)\n",
    "    dev_fv = vc.transform(dev_data)\n",
    "    test_fv = vc.transform(dev_data)\n",
    "    \n",
    "    clsfr = LogisticRegression(penalty = \"l2\", solver = \"lbfgs\", multi_class = \"ovr\", C = 100, max_iter = 1000, tol = 0.01)\n",
    "    clsfr.fit(train_fv, train_labels)\n",
    "    preds = clsfr.predict(dev_fv)\n",
    "    pred_proba = clsfr.predict_proba(dev_fv)\n",
    "    \n",
    "    \n",
    "    # larger ratio means model is more wrong\n",
    "    Rs = calc_Rs(pred_proba, dev_labels)\n",
    "    \n",
    "    # find the 3 most wrong predictions\n",
    "    top_n = 3\n",
    "    idx = np.argsort(-Rs)[0:top_n]\n",
    "    pred_lbls = np.array(preds)[idx]\n",
    "    pred_lbls_name = np.array(newsgroups_train.target_names)[pred_lbls]\n",
    "    actual_lbls = np.array(dev_labels)[idx]\n",
    "    actual_lbls_name = np.array(newsgroups_train.target_names)[actual_lbls]\n",
    "    wrong = np.array(dev_data)[idx]\n",
    "    \n",
    "    print(\"docs with the worst guesses\")\n",
    "    for d in wrong:\n",
    "        print(\"------------------\")\n",
    "        print(d)\n",
    "    print(\"------------------\")\n",
    "    print(\"predicted probabilities for each class for the wrong docs\")\n",
    "    print(pred_proba[idx])\n",
    "    print(\"the correct labels the documents where supposed to have\")\n",
    "    print(actual_lbls)\n",
    "    print(actual_lbls_name)\n",
    "    print(\"the predicted labels\")\n",
    "    print(pred_lbls)\n",
    "    print(pred_lbls_name)\n",
    "    \n",
    "    \n",
    "\n",
    "P7()"
   ]
  },
  {
   "cell_type": "markdown",
   "metadata": {},
   "source": [
    "Answers:\n",
    "\n",
    "How is TfidfVectorizer different from the CountVectorizer?\n",
    "\n",
    "**CountVectorizer is only counting term frequencies, whereas TfidfVectorizer modifies the counts by the inverse frequency of term in all the documents.**\n",
    "\n",
    "What kinds of mistakes is the model making?\n",
    "\n",
    "**Seems to be confusing those two relgion docs with comp sci docs, possibly because there is technical jargon in those docs (e.g. ftp, ascii).**\n",
    "\n",
    "**Not sure why it is confusing the atheism doc as a religion doc; the content of the doc seems to be about guns and violence, which seems to be neither about religon nor atheism. Possibly, there was more context in preceeding discussion threads, which has been lost since the corpus is just represented as an unordered set of docs. Or the aethism group might happen to have a lot of docs discussing weapons and violence; might be possible judging from the samples from P1.**\n",
    "\n",
    "Suggest a way to address one particular issue that you see.\n",
    "\n",
    "**Perhaps we need to extract some more features from the metadata around each doc, such as the author or length of doc.**\n",
    "\n",
    "**I've also read that techniques with neural networks might be able to glean semantic meaning from the words. For example, with word embeddings and some sort of attention mechansim, maybe we can coax our classifiers to be more sensitive to the overall context of the document, rather than get confused by single words like \"ascii\" in a relgion doc. Toolsets like Google's Word2Vec, BERT, or Transformer might help. I'm unsure how to actually use them correctly unfortunately.**"
   ]
  },
  {
   "cell_type": "markdown",
   "metadata": {},
   "source": [
    "# 8\n",
    "\n",
    "EXTRA CREDIT\n",
    "\n",
    "Try implementing one of your ideas based on your error analysis. Use logistic regression as your underlying model."
   ]
  },
  {
   "cell_type": "code",
   "execution_count": null,
   "metadata": {},
   "outputs": [],
   "source": []
  }
 ],
 "metadata": {
  "kernelspec": {
   "display_name": "Python 3",
   "language": "python",
   "name": "python3"
  },
  "language_info": {
   "codemirror_mode": {
    "name": "ipython",
    "version": 3
   },
   "file_extension": ".py",
   "mimetype": "text/x-python",
   "name": "python",
   "nbconvert_exporter": "python",
   "pygments_lexer": "ipython3",
   "version": "3.6.7"
  }
 },
 "nbformat": 4,
 "nbformat_minor": 2
}
