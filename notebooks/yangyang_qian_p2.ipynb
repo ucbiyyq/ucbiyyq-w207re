{
 "cells": [
  {
   "cell_type": "markdown",
   "metadata": {},
   "source": [
    "# Project 2: Topic Classification"
   ]
  },
  {
   "cell_type": "markdown",
   "metadata": {},
   "source": [
    "In this project, you'll work with text data from newsgroup postings on a variety of topics. You'll train classifiers to distinguish between the topics based on the text of the posts. Whereas with digit classification, the input is relatively dense: a 28x28 matrix of pixels, many of which are non-zero, here we'll represent each document with a \"bag-of-words\" model. As you'll see, this makes the feature representation quite sparse -- only a few words of the total vocabulary are active in any given document. The bag-of-words assumption here is that the label depends only on the words; their order is not important.\n",
    "\n",
    "The SK-learn documentation on feature extraction will prove useful:\n",
    "http://scikit-learn.org/stable/modules/feature_extraction.html\n",
    "\n",
    "Each problem can be addressed succinctly with the included packages -- please don't add any more. Grading will be based on writing clean, commented code, along with a few short answers.\n",
    "\n",
    "As always, you're welcome to work on the project in groups and discuss ideas on the course wall, but please prepare your own write-up and write your own code."
   ]
  },
  {
   "cell_type": "code",
   "execution_count": 1,
   "metadata": {},
   "outputs": [],
   "source": [
    "# This tells matplotlib not to try opening a new window for each plot.\n",
    "%matplotlib inline\n",
    "\n",
    "# General libraries.\n",
    "import re\n",
    "import numpy as np\n",
    "import matplotlib.pyplot as plt\n",
    "\n",
    "# SK-learn libraries for learning.\n",
    "from sklearn.pipeline import Pipeline\n",
    "from sklearn.neighbors import KNeighborsClassifier\n",
    "from sklearn.linear_model import LogisticRegression\n",
    "from sklearn.naive_bayes import BernoulliNB\n",
    "from sklearn.naive_bayes import MultinomialNB\n",
    "from sklearn.model_selection import GridSearchCV\n",
    "\n",
    "# SK-learn libraries for evaluation.\n",
    "from sklearn.metrics import confusion_matrix\n",
    "from sklearn import metrics\n",
    "from sklearn.metrics import classification_report\n",
    "\n",
    "# SK-learn library for importing the newsgroup data.\n",
    "from sklearn.datasets import fetch_20newsgroups\n",
    "\n",
    "# SK-learn libraries for feature extraction from text.\n",
    "from sklearn.feature_extraction.text import *"
   ]
  },
  {
   "cell_type": "markdown",
   "metadata": {},
   "source": [
    "Load the data, stripping out metadata so that we learn classifiers that only use textual features. By default, newsgroups data is split into train and test sets. We further split the test so we have a dev set. Note that we specify 4 categories to use for this project. If you remove the categories argument from the fetch function, you'll get all 20 categories."
   ]
  },
  {
   "cell_type": "markdown",
   "metadata": {},
   "source": [
    "# Scratch\n",
    "\n",
    "Please ignore this section"
   ]
  },
  {
   "cell_type": "code",
   "execution_count": 33,
   "metadata": {},
   "outputs": [
    {
     "data": {
      "text/plain": [
       "['alt.atheism', 'talk.religion.misc', 'comp.graphics', 'sci.space']"
      ]
     },
     "execution_count": 33,
     "metadata": {},
     "output_type": "execute_result"
    }
   ],
   "source": [
    "categories = ['alt.atheism', 'talk.religion.misc', 'comp.graphics', 'sci.space']\n",
    "categories"
   ]
  },
  {
   "cell_type": "code",
   "execution_count": 5,
   "metadata": {},
   "outputs": [
    {
     "name": "stderr",
     "output_type": "stream",
     "text": [
      "Downloading 20news dataset. This may take a few minutes.\n",
      "Downloading dataset from https://ndownloader.figshare.com/files/5975967 (14 MB)\n"
     ]
    }
   ],
   "source": [
    "newsgroups_train = fetch_20newsgroups(subset='train',\n",
    "                                      remove=('headers', 'footers', 'quotes'),\n",
    "                                      categories=categories)"
   ]
  },
  {
   "cell_type": "code",
   "execution_count": 34,
   "metadata": {},
   "outputs": [],
   "source": [
    "newsgroups_test = fetch_20newsgroups(subset='test',\n",
    "                                     remove=('headers', 'footers', 'quotes'),\n",
    "                                     categories=categories)"
   ]
  },
  {
   "cell_type": "markdown",
   "metadata": {},
   "source": [
    "## whats in train?"
   ]
  },
  {
   "cell_type": "code",
   "execution_count": 48,
   "metadata": {},
   "outputs": [
    {
     "name": "stdout",
     "output_type": "stream",
     "text": [
      "<class 'sklearn.utils.Bunch'>\n"
     ]
    }
   ],
   "source": [
    "print(type(newsgroups_train))"
   ]
  },
  {
   "cell_type": "code",
   "execution_count": 22,
   "metadata": {},
   "outputs": [
    {
     "data": {
      "text/plain": [
       "dict_keys(['data', 'filenames', 'target_names', 'target', 'DESCR'])"
      ]
     },
     "execution_count": 22,
     "metadata": {},
     "output_type": "execute_result"
    }
   ],
   "source": [
    "newsgroups_train.keys()"
   ]
  },
  {
   "cell_type": "code",
   "execution_count": 24,
   "metadata": {},
   "outputs": [
    {
     "data": {
      "text/plain": [
       "list"
      ]
     },
     "execution_count": 24,
     "metadata": {},
     "output_type": "execute_result"
    }
   ],
   "source": [
    "type(newsgroups_train.data)"
   ]
  },
  {
   "cell_type": "code",
   "execution_count": 25,
   "metadata": {},
   "outputs": [
    {
     "data": {
      "text/plain": [
       "numpy.ndarray"
      ]
     },
     "execution_count": 25,
     "metadata": {},
     "output_type": "execute_result"
    }
   ],
   "source": [
    "type(newsgroups_train.filenames)"
   ]
  },
  {
   "cell_type": "code",
   "execution_count": 26,
   "metadata": {},
   "outputs": [
    {
     "data": {
      "text/plain": [
       "list"
      ]
     },
     "execution_count": 26,
     "metadata": {},
     "output_type": "execute_result"
    }
   ],
   "source": [
    "type(newsgroups_train.target_names)"
   ]
  },
  {
   "cell_type": "code",
   "execution_count": 27,
   "metadata": {},
   "outputs": [
    {
     "data": {
      "text/plain": [
       "numpy.ndarray"
      ]
     },
     "execution_count": 27,
     "metadata": {},
     "output_type": "execute_result"
    }
   ],
   "source": [
    "type(newsgroups_train.target)"
   ]
  },
  {
   "cell_type": "code",
   "execution_count": 28,
   "metadata": {},
   "outputs": [
    {
     "data": {
      "text/plain": [
       "str"
      ]
     },
     "execution_count": 28,
     "metadata": {},
     "output_type": "execute_result"
    }
   ],
   "source": [
    "type(newsgroups_train.DESCR)"
   ]
  },
  {
   "cell_type": "code",
   "execution_count": 35,
   "metadata": {},
   "outputs": [
    {
     "data": {
      "text/plain": [
       "2034"
      ]
     },
     "execution_count": 35,
     "metadata": {},
     "output_type": "execute_result"
    }
   ],
   "source": [
    "len(newsgroups_train.data)"
   ]
  },
  {
   "cell_type": "code",
   "execution_count": 38,
   "metadata": {},
   "outputs": [
    {
     "data": {
      "text/plain": [
       "2034"
      ]
     },
     "execution_count": 38,
     "metadata": {},
     "output_type": "execute_result"
    }
   ],
   "source": [
    "len(newsgroups_train.filenames)"
   ]
  },
  {
   "cell_type": "code",
   "execution_count": 39,
   "metadata": {},
   "outputs": [
    {
     "data": {
      "text/plain": [
       "4"
      ]
     },
     "execution_count": 39,
     "metadata": {},
     "output_type": "execute_result"
    }
   ],
   "source": [
    "len(newsgroups_train.target_names)"
   ]
  },
  {
   "cell_type": "code",
   "execution_count": 40,
   "metadata": {},
   "outputs": [
    {
     "data": {
      "text/plain": [
       "2034"
      ]
     },
     "execution_count": 40,
     "metadata": {},
     "output_type": "execute_result"
    }
   ],
   "source": [
    "len(newsgroups_train.target)"
   ]
  },
  {
   "cell_type": "code",
   "execution_count": 30,
   "metadata": {},
   "outputs": [
    {
     "data": {
      "text/plain": [
       "\"Hi,\\n\\nI've noticed that if you only save a model (with all your mapping planes\\npositioned carefully) to a .3DS file that when you reload it after restarting\\n3DS, they are given a default position and orientation.  But if you save\\nto a .PRJ file their positions/orientation are preserved.  Does anyone\\nknow why this information is not stored in the .3DS file?  Nothing is\\nexplicitly said in the manual about saving texture rules in the .PRJ file. \\nI'd like to be able to read the texture rule information, does anyone have \\nthe format for the .PRJ file?\\n\\nIs the .CEL file format available from somewhere?\\n\\nRych\""
      ]
     },
     "execution_count": 30,
     "metadata": {},
     "output_type": "execute_result"
    }
   ],
   "source": [
    "newsgroups_train.data[0]"
   ]
  },
  {
   "cell_type": "code",
   "execution_count": 43,
   "metadata": {},
   "outputs": [
    {
     "data": {
      "text/plain": [
       "'C:\\\\Users\\\\yangyq\\\\scikit_learn_data\\\\20news_home\\\\20news-bydate-train\\\\comp.graphics\\\\38816'"
      ]
     },
     "execution_count": 43,
     "metadata": {},
     "output_type": "execute_result"
    }
   ],
   "source": [
    "newsgroups_train.filenames[0]"
   ]
  },
  {
   "cell_type": "code",
   "execution_count": 44,
   "metadata": {},
   "outputs": [
    {
     "data": {
      "text/plain": [
       "['alt.atheism', 'comp.graphics', 'sci.space', 'talk.religion.misc']"
      ]
     },
     "execution_count": 44,
     "metadata": {},
     "output_type": "execute_result"
    }
   ],
   "source": [
    "newsgroups_train.target_names"
   ]
  },
  {
   "cell_type": "code",
   "execution_count": 46,
   "metadata": {},
   "outputs": [
    {
     "data": {
      "text/plain": [
       "array([1, 3, 2, 0, 2, 0, 2, 1, 2, 1], dtype=int64)"
      ]
     },
     "execution_count": 46,
     "metadata": {},
     "output_type": "execute_result"
    }
   ],
   "source": [
    "newsgroups_train.target[0:10]"
   ]
  },
  {
   "cell_type": "markdown",
   "metadata": {},
   "source": [
    "## whats in test?"
   ]
  },
  {
   "cell_type": "code",
   "execution_count": 47,
   "metadata": {},
   "outputs": [
    {
     "name": "stdout",
     "output_type": "stream",
     "text": [
      "<class 'sklearn.utils.Bunch'>\n"
     ]
    }
   ],
   "source": [
    "print(type(newsgroups_test))"
   ]
  },
  {
   "cell_type": "code",
   "execution_count": 49,
   "metadata": {},
   "outputs": [
    {
     "data": {
      "text/plain": [
       "dict_keys(['data', 'filenames', 'target_names', 'target', 'DESCR'])"
      ]
     },
     "execution_count": 49,
     "metadata": {},
     "output_type": "execute_result"
    }
   ],
   "source": [
    "newsgroups_test.keys()"
   ]
  },
  {
   "cell_type": "code",
   "execution_count": 55,
   "metadata": {},
   "outputs": [
    {
     "data": {
      "text/plain": [
       "1353"
      ]
     },
     "execution_count": 55,
     "metadata": {},
     "output_type": "execute_result"
    }
   ],
   "source": [
    "len(newsgroups_test.data)"
   ]
  },
  {
   "cell_type": "code",
   "execution_count": 52,
   "metadata": {},
   "outputs": [
    {
     "data": {
      "text/plain": [
       "1353"
      ]
     },
     "execution_count": 52,
     "metadata": {},
     "output_type": "execute_result"
    }
   ],
   "source": [
    "len(newsgroups_test.filenames)"
   ]
  },
  {
   "cell_type": "code",
   "execution_count": 53,
   "metadata": {},
   "outputs": [
    {
     "data": {
      "text/plain": [
       "4"
      ]
     },
     "execution_count": 53,
     "metadata": {},
     "output_type": "execute_result"
    }
   ],
   "source": [
    "len(newsgroups_test.target_names)"
   ]
  },
  {
   "cell_type": "code",
   "execution_count": 54,
   "metadata": {},
   "outputs": [
    {
     "data": {
      "text/plain": [
       "1353"
      ]
     },
     "execution_count": 54,
     "metadata": {},
     "output_type": "execute_result"
    }
   ],
   "source": [
    "len(newsgroups_test.target)"
   ]
  },
  {
   "cell_type": "code",
   "execution_count": 58,
   "metadata": {},
   "outputs": [
    {
     "data": {
      "text/plain": [
       "'TRry the SKywatch project in  Arizona.'"
      ]
     },
     "execution_count": 58,
     "metadata": {},
     "output_type": "execute_result"
    }
   ],
   "source": [
    "newsgroups_test.data[0]"
   ]
  },
  {
   "cell_type": "code",
   "execution_count": 59,
   "metadata": {},
   "outputs": [
    {
     "data": {
      "text/plain": [
       "['alt.atheism', 'comp.graphics', 'sci.space', 'talk.religion.misc']"
      ]
     },
     "execution_count": 59,
     "metadata": {},
     "output_type": "execute_result"
    }
   ],
   "source": [
    "newsgroups_test.target_names"
   ]
  },
  {
   "cell_type": "code",
   "execution_count": 61,
   "metadata": {},
   "outputs": [
    {
     "data": {
      "text/plain": [
       "array([2, 1, 1, 1, 1, 1, 2, 2, 0, 2], dtype=int64)"
      ]
     },
     "execution_count": 61,
     "metadata": {},
     "output_type": "execute_result"
    }
   ],
   "source": [
    "newsgroups_test.target[0:10]"
   ]
  },
  {
   "cell_type": "markdown",
   "metadata": {},
   "source": [
    "## count vectorizer tutorial\n",
    "\n",
    "https://scikit-learn.org/stable/modules/generated/sklearn.feature_extraction.text.CountVectorizer.html"
   ]
  },
  {
   "cell_type": "code",
   "execution_count": 152,
   "metadata": {},
   "outputs": [
    {
     "name": "stdout",
     "output_type": "stream",
     "text": [
      "============================\n",
      "features\n",
      "<class 'list'>\n",
      "['and', 'document', 'first', 'is', 'one', 'second', 'the', 'third', 'this']\n",
      "============================\n",
      "shape of feature vector\n",
      "... 4 documents and 9 features\n",
      "(4, 9)\n",
      "============================\n",
      "number of non-zero document-feature pairs\n",
      "21\n",
      "============================\n",
      "feature vector as a sparse matrix\n",
      "<class 'scipy.sparse.csr.csr_matrix'>\n",
      "  (0, 1)\t1\n",
      "  (0, 2)\t1\n",
      "  (0, 6)\t1\n",
      "  (0, 3)\t1\n",
      "  (0, 8)\t1\n",
      "  (1, 5)\t1\n",
      "  (1, 1)\t2\n",
      "  (1, 6)\t1\n",
      "  (1, 3)\t1\n",
      "  (1, 8)\t1\n",
      "  (2, 4)\t1\n",
      "  (2, 7)\t1\n",
      "  (2, 0)\t1\n",
      "  (2, 6)\t1\n",
      "  (2, 3)\t1\n",
      "  (2, 8)\t1\n",
      "  (3, 1)\t1\n",
      "  (3, 2)\t1\n",
      "  (3, 6)\t1\n",
      "  (3, 3)\t1\n",
      "  (3, 8)\t1\n",
      "============================\n",
      "feature vector as a matrix\n",
      "<class 'numpy.ndarray'>\n",
      "[[0 1 1 1 0 0 1 0 1]\n",
      " [0 2 0 1 0 1 1 0 1]\n",
      " [1 0 0 1 1 0 1 1 1]\n",
      " [0 1 1 1 0 0 1 0 1]]\n",
      "============================\n",
      "----------------\n",
      "This is the first document.\n",
      "this\n",
      "8\n",
      "is\n",
      "3\n",
      "the\n",
      "6\n",
      "first\n",
      "2\n",
      "document\n",
      "1\n",
      "----------------\n",
      "This document is the second document.\n",
      "this\n",
      "8\n",
      "document\n",
      "1\n",
      "is\n",
      "3\n",
      "the\n",
      "6\n",
      "second\n",
      "5\n",
      "document\n",
      "1\n",
      "----------------\n",
      "And this is the third one.\n",
      "and\n",
      "0\n",
      "this\n",
      "8\n",
      "is\n",
      "3\n",
      "the\n",
      "6\n",
      "third\n",
      "7\n",
      "one\n",
      "4\n",
      "----------------\n",
      "Is this the first document?\n",
      "is\n",
      "3\n",
      "this\n",
      "8\n",
      "the\n",
      "6\n",
      "first\n",
      "2\n",
      "document\n",
      "1\n"
     ]
    }
   ],
   "source": [
    "def cv_tut():\n",
    "    corpus = [\n",
    "     'This is the first document.',\n",
    "     'This document is the second document.',\n",
    "     'And this is the third one.',\n",
    "     'Is this the first document?',\n",
    "    ]\n",
    "    \n",
    "    cv = CountVectorizer()\n",
    "    fv = cv.fit_transform(corpus)\n",
    "    fv_arr = fv.toarray()\n",
    "    fts = cv.get_feature_names()\n",
    "    print(\"============================\")\n",
    "    print(\"features\")\n",
    "    print(type(fts))\n",
    "    print(fts)\n",
    "    print(\"============================\")\n",
    "    print(\"shape of feature vector\")\n",
    "    print(\"... 4 documents and 9 features\")\n",
    "    print(fv.shape)\n",
    "    print(\"============================\")\n",
    "    print(\"number of non-zero document-feature pairs\")\n",
    "    print(fv.nnz)\n",
    "    print(\"============================\")\n",
    "    print(\"feature vector as a sparse matrix\")\n",
    "    print(type(fv))\n",
    "    print(fv)\n",
    "    print(\"============================\")\n",
    "    print(\"feature vector as a matrix\")\n",
    "    print(type(fv_arr))\n",
    "    print(fv_arr)\n",
    "    \n",
    "    \n",
    "    def prnt_d(d):\n",
    "        print(\"----------------\")\n",
    "        print(d)\n",
    "        for w in d.strip(\".\").strip(\"?\").split():\n",
    "            print(w.lower())\n",
    "            print(cv.vocabulary_.get(w.lower()))\n",
    "        \n",
    "    print(\"============================\")\n",
    "    for d in corpus:\n",
    "        prnt_d(d)\n",
    "\n",
    "cv_tut()"
   ]
  },
  {
   "cell_type": "markdown",
   "metadata": {},
   "source": [
    "# Load Data"
   ]
  },
  {
   "cell_type": "code",
   "execution_count": 62,
   "metadata": {},
   "outputs": [
    {
     "name": "stdout",
     "output_type": "stream",
     "text": [
      "training label shape: (2034,)\n",
      "test label shape: (677,)\n",
      "dev label shape: (676,)\n",
      "labels names: ['alt.atheism', 'comp.graphics', 'sci.space', 'talk.religion.misc']\n"
     ]
    }
   ],
   "source": [
    "categories = ['alt.atheism', 'talk.religion.misc', 'comp.graphics', 'sci.space']\n",
    "newsgroups_train = fetch_20newsgroups(subset='train',\n",
    "                                      remove=('headers', 'footers', 'quotes'),\n",
    "                                      categories=categories)\n",
    "newsgroups_test = fetch_20newsgroups(subset='test',\n",
    "                                     remove=('headers', 'footers', 'quotes'),\n",
    "                                     categories=categories)\n",
    "\n",
    "num_test = len(newsgroups_test.target)\n",
    "test_data, test_labels = newsgroups_test.data[int(num_test/2):], newsgroups_test.target[int(num_test/2):]\n",
    "dev_data, dev_labels = newsgroups_test.data[:int(num_test/2)], newsgroups_test.target[:int(num_test/2)]\n",
    "train_data, train_labels = newsgroups_train.data, newsgroups_train.target\n",
    "\n",
    "print('training label shape:', train_labels.shape)\n",
    "print('test label shape:', test_labels.shape)\n",
    "print('dev label shape:', dev_labels.shape)\n",
    "print('labels names:', newsgroups_train.target_names)"
   ]
  },
  {
   "cell_type": "markdown",
   "metadata": {},
   "source": [
    "# 1\n",
    "\n",
    "For each of the first 5 training examples, print the text of the message along with the label."
   ]
  },
  {
   "cell_type": "code",
   "execution_count": 147,
   "metadata": {},
   "outputs": [
    {
     "name": "stdout",
     "output_type": "stream",
     "text": [
      "============================\n",
      "alt.atheism\n",
      "------------------\n",
      "I have a request for those who would like to see Charley Win\n",
      "------------------\n",
      "\n",
      "There are definitely quite a few horrible deaths as the res\n",
      "------------------\n",
      "\n",
      "Size of armies, duration, numbers of casualties both absolu\n",
      "------------------\n",
      "\n",
      "  Actually, my atheism is based on ignorance.  Ignorance of\n",
      "------------------\n",
      "\n",
      "If you force me to do something, am I morally responsible f\n",
      "============================\n",
      "comp.graphics\n",
      "------------------\n",
      "Hi,\n",
      "\n",
      "I've noticed that if you only save a model (with all yo\n",
      "------------------\n",
      "\n",
      "Acorn Replay running on a 25MHz ARM 3 processor (the ARM 3 \n",
      "------------------\n",
      "I'm interested in find out what is involved in processing pa\n",
      "------------------\n",
      "I would like to program Tseng ET4000 to nonstandard 1024x768\n",
      "------------------\n",
      "In-Reply-To: <20APR199312262902@rigel.tamu.edu> lmp8913@rige\n",
      "============================\n",
      "sci.space\n",
      "------------------\n",
      "\n",
      " >In article <1993Apr19.020359.26996@sq.sq.com>, msb@sq.sq.\n",
      "------------------\n",
      "AW&ST  had a brief blurb on a Manned Lunar Exploration confe\n",
      "------------------\n",
      "Mark Prado\n",
      "  \n",
      "  \n",
      "Old pioneer song from the 1850's or so goes\n",
      "------------------\n",
      "\n",
      "Their Hiten engineering-test mission spent a while in a hig\n",
      "------------------\n",
      "a\n",
      "\n",
      "What about positional uncertainties in S-L 1993e?   I ass\n",
      "============================\n",
      "talk.religion.misc\n",
      "------------------\n",
      "\n",
      "\n",
      "Seems to be, barring evidence to the contrary, that Koresh\n",
      "------------------\n",
      "DM> Fact or rumor....?  Madalyn Murray O'Hare an atheist who\n",
      "------------------\n",
      "PSA 145:9  The LORD is good to all: and his  tender  mercies\n",
      "------------------\n",
      "There has been a lot of discussion about Tyre.  In sum, Ezek\n",
      "------------------\n",
      "\n",
      "\tPlease do! And if you don't want to post it here, email to\n"
     ]
    }
   ],
   "source": [
    "def P1(num_examples=5):\n",
    "    labels = np.unique(newsgroups_train.target)\n",
    "    \n",
    "    for lb in labels:\n",
    "        print(\"============================\")\n",
    "        idx = np.where(newsgroups_train.target == lb)[0]\n",
    "        idx = idx[0:num_examples]\n",
    "        print(newsgroups_train.target_names[lb])\n",
    "        for i in idx:\n",
    "            print(\"------------------\")\n",
    "#             print(newsgroups_train.filenames[i])\n",
    "            print(newsgroups_train.data[i][0:60])\n",
    "        \n",
    "\n",
    "P1()"
   ]
  },
  {
   "cell_type": "markdown",
   "metadata": {},
   "source": [
    "# 2 \n",
    "\n",
    "Use CountVectorizer to turn the raw training text into feature vectors. You should use the fit_transform function, which makes 2 passes through the data: first it computes the vocabulary (\"fit\"), second it converts the raw text into feature vectors using the vocabulary (\"transform\").\n",
    "\n",
    "The vectorizer has a lot of options. To get familiar with some of them, write code to answer these questions:\n",
    "\n",
    "a. The output of the transform (also of fit_transform) is a sparse matrix: http://docs.scipy.org/doc/scipy-0.14.0/reference/generated/scipy.sparse.csr_matrix.html. What is the size of the vocabulary? What is the average number of non-zero features per example? What fraction of the entries in the matrix are non-zero? Hint: use \"nnz\" and \"shape\" attributes.\n",
    "\n",
    "b. What are the 0th and last feature strings (in alphabetical order)? Hint: use the vectorizer's get_feature_names function.\n",
    "\n",
    "c. Specify your own vocabulary with 4 words: [\"atheism\", \"graphics\", \"space\", \"religion\"]. Confirm the training vectors are appropriately shaped. Now what's the average number of non-zero features per example?\n",
    "\n",
    "d. Instead of extracting unigram word features, use \"analyzer\" and \"ngram_range\" to extract bigram and trigram character features. What size vocabulary does this yield?\n",
    "\n",
    "e. Use the \"min_df\" argument to prune words that appear in fewer than 10 documents. What size vocabulary does this yield?\n",
    "\n",
    "f. Using the standard CountVectorizer, what fraction of the words in the dev data are missing from the vocabulary? Hint: build a vocabulary for both train and dev and look at the size of the difference."
   ]
  },
  {
   "cell_type": "code",
   "execution_count": 186,
   "metadata": {},
   "outputs": [
    {
     "name": "stdout",
     "output_type": "stream",
     "text": [
      "============================\n",
      "2.a.\n",
      "Confirm the training vectors are appropriately shaped\n",
      "(2034, 26879)\n",
      "What is the size of the vocabulary?\n",
      "26879\n",
      "What is the average number of non-zero features per example?\n",
      "13.214847590953786\n",
      "What fraction of the entries in the matrix are non-zero?\n",
      "0.0004916420845624386\n",
      "============================\n",
      "2.b.\n",
      "What are the 0th and last feature strings (in alphabetical order)?\n",
      "('00', 'zyxel')\n",
      "============================\n",
      "2.c.\n",
      "Confirm the training vectors are appropriately shaped\n",
      "(2034, 4)\n",
      "What's the average number of non-zero features per example?\n",
      "0.0019665683382497543\n",
      "============================\n",
      "2.d.\n",
      "What size vocabulary does this yield?\n",
      "510583\n",
      "============================\n",
      "2.e.\n",
      "What size vocabulary does this yield?\n",
      "3064\n",
      "============================\n",
      "2.f.\n",
      "what fraction of the words in the dev data are missing from the vocabulary?\n",
      "0.604412366531493\n"
     ]
    }
   ],
   "source": [
    "def P2():\n",
    "    \n",
    "    def calc_size_vocab(cv):\n",
    "        fts = cv.get_feature_names()\n",
    "        num_fts = len(fts)\n",
    "        return(num_fts)\n",
    "    \n",
    "    def calc_avg_non_zero_features_per_example(cv, train_data):\n",
    "        fts = cv.get_feature_names()\n",
    "        num_fts = len(fts)\n",
    "        num_examples = len(train_data)\n",
    "        avg_non_zero_features_per_example = num_fts / num_examples\n",
    "        return(avg_non_zero_features_per_example)\n",
    "    \n",
    "    def calc_fraction_matrix_non_zero(cv, fv):\n",
    "        fts = cv.get_feature_names()\n",
    "        num_fts = len(fts)\n",
    "        fv_arr = fv.toarray()\n",
    "        num_entries_in_matrix = fv_arr.shape[0] * fv_arr.shape[1]\n",
    "        fraction_of_entries_non_zero = num_fts / num_entries_in_matrix\n",
    "        return(fraction_of_entries_non_zero)\n",
    "    \n",
    "    def find_features_0_last(cv):\n",
    "        fts = cv.get_feature_names()\n",
    "        feature_0 = fts[0]\n",
    "        feature_last = fts[-1]\n",
    "        return(feature_0, feature_last)\n",
    "    \n",
    "    def calc_fraction_vocab(cv1, cv2):\n",
    "        fts1 = cv1.get_feature_names()\n",
    "        num_fts1 = len(fts1)\n",
    "        fts2 = cv2.get_feature_names()\n",
    "        num_fts2 = len(fts2)\n",
    "        frac = num_fts1 / num_fts2\n",
    "        return(frac)\n",
    "    \n",
    "    \n",
    "    # first vectorizer\n",
    "    cv = CountVectorizer()\n",
    "    fv = cv.fit_transform(train_data)\n",
    "    \n",
    "    print(\"============================\")\n",
    "    print(\"2.a.\")\n",
    "    # Confirm the training vectors are appropriately shaped\n",
    "    print(\"Confirm the training vectors are appropriately shaped\")\n",
    "    print(fv.shape)\n",
    "    \n",
    "    # What is the size of the vocabulary? i.e. non-zero features\n",
    "    print(\"What is the size of the vocabulary?\")\n",
    "    print(calc_size_vocab(cv))\n",
    "    \n",
    "    # What is the average number of non-zero features per example?\n",
    "    print(\"What is the average number of non-zero features per example?\")\n",
    "    print(calc_avg_non_zero_features_per_example(cv, train_data))\n",
    "    \n",
    "    # What fraction of the entries in the matrix are non-zero?\n",
    "    print(\"What fraction of the entries in the matrix are non-zero?\")\n",
    "    print(calc_fraction_matrix_non_zero(cv, fv))\n",
    "    \n",
    "    print(\"============================\")\n",
    "    print(\"2.b.\")\n",
    "    # What are the 0th and last feature strings (in alphabetical order)?\n",
    "    print(\"What are the 0th and last feature strings (in alphabetical order)?\")\n",
    "    print(find_features_0_last(cv))\n",
    "    \n",
    "    \n",
    "    \n",
    "    \n",
    "    print(\"============================\")\n",
    "    print(\"2.c.\")\n",
    "    # Specify your own vocabulary with 4 words: [\"atheism\", \"graphics\", \"space\", \"religion\"].\n",
    "    cv2 = CountVectorizer(vocabulary = [\"atheism\", \"graphics\", \"space\", \"religion\"])\n",
    "    fv2 = cv2.fit_transform(train_data)\n",
    "    \n",
    "    # Confirm the training vectors are appropriately shaped\n",
    "    print(\"Confirm the training vectors are appropriately shaped\")\n",
    "    print(fv2.shape)\n",
    "    \n",
    "#     print(\"What is the size of the vocabulary?\")\n",
    "#     print(calc_size_vocab(cv2))\n",
    "        \n",
    "#     print(\"What fraction of the entries in the matrix are non-zero?\")\n",
    "#     print(calc_fraction_matrix_non_zero(cv2, fv2))\n",
    "    \n",
    "#     print(\"What are the 0th and last feature strings (in alphabetical order)?\")\n",
    "#     print(find_features_0_last(cv2))\n",
    "    \n",
    "    # Now what's the average number of non-zero features per example?\n",
    "    print(\"What's the average number of non-zero features per example?\")\n",
    "    print(calc_avg_non_zero_features_per_example(cv2, train_data))\n",
    "    \n",
    "    \n",
    "    \n",
    "    \n",
    "    print(\"============================\")\n",
    "    print(\"2.d.\")\n",
    "    \n",
    "    # Instead of extracting unigram word features, use \"analyzer\" and \"ngram_range\" to extract bigram and trigram character features.\n",
    "    cv3 = CountVectorizer(analyzer = \"word\", ngram_range = (2,3))\n",
    "    fv3 = cv3.fit_transform(train_data)\n",
    "    \n",
    "    # What size vocabulary does this yield?\n",
    "    print(\"What size vocabulary does this yield?\")\n",
    "    print(calc_size_vocab(cv3))\n",
    "    \n",
    "    \n",
    "    \n",
    "    \n",
    "    print(\"============================\")\n",
    "    print(\"2.e.\")\n",
    "    # Use the \"min_df\" argument to prune words that appear in fewer than 10 documents\n",
    "    cv4 = CountVectorizer(min_df=10)\n",
    "    fv4 = cv4.fit_transform(train_data)\n",
    "    \n",
    "    # What size vocabulary does this yield?\n",
    "    print(\"What size vocabulary does this yield?\")\n",
    "    print(calc_size_vocab(cv4))\n",
    "    \n",
    "    \n",
    "    \n",
    "    \n",
    "    print(\"============================\")\n",
    "    print(\"2.f.\")\n",
    "    # Using the standard CountVectorizer, what fraction of the words in the dev data are missing from the vocabulary?\n",
    "    cv5 = CountVectorizer()\n",
    "    fv5 = cv5.fit_transform(train_data)\n",
    "    \n",
    "    cv6 = CountVectorizer()\n",
    "    fv6 = cv6.fit_transform(dev_data)\n",
    "    \n",
    "    print(\"what fraction of the words in the dev data are missing from the vocabulary?\")\n",
    "    print(calc_fraction_vocab(cv6, cv5))\n",
    "    \n",
    "    \n",
    "P2()"
   ]
  },
  {
   "cell_type": "markdown",
   "metadata": {},
   "source": [
    "# 3\n",
    "\n",
    "Use the default CountVectorizer options and report the f1 score (use metrics.f1_score) for a k nearest neighbors classifier; find the optimal value for k. Also fit a Multinomial Naive Bayes model and find the optimal value for alpha. Finally, fit a logistic regression model and find the optimal value for the regularization strength C using l2 regularization. A few questions:\n",
    "\n",
    "a. Why doesn't nearest neighbors work well for this problem?\n",
    "\n",
    "b. Any ideas why logistic regression doesn't work as well as Naive Bayes?\n",
    "\n",
    "c. Logistic regression estimates a weight vector for each class, which you can access with the coef\\_ attribute. Output the sum of the squared weight values for each class for each setting of the C parameter. Briefly explain the relationship between the sum and the value of C."
   ]
  },
  {
   "cell_type": "code",
   "execution_count": 356,
   "metadata": {},
   "outputs": [
    {
     "name": "stdout",
     "output_type": "stream",
     "text": [
      "shape of train feature vector\n",
      "(2034, 26879)\n",
      "shape of dev feature vector\n",
      "(676, 26879)\n",
      "============================\n",
      "f1 score for 5-NN is:\n",
      "0.4230769230769231\n",
      "------------------\n",
      "Best param and f1 score is:\n",
      "{'n_neighbors': 19}\n",
      "0.41789577187807275\n",
      "------------------\n"
     ]
    },
    {
     "data": {
      "image/png": "[encoded data removed]",
      "text/plain": [
       "<Figure size 432x288 with 1 Axes>"
      ]
     },
     "metadata": {
      "needs_background": "light"
     },
     "output_type": "display_data"
    },
    {
     "name": "stdout",
     "output_type": "stream",
     "text": [
      "============================\n",
      "f1 score for MNB with smoothing 1.0 is:\n",
      "0.7810650887573964\n",
      "------------------\n",
      "Best param and f1 score is:\n",
      "{'alpha': 0.020000000100000002}\n",
      "0.8289085545722714\n",
      "------------------\n"
     ]
    },
    {
     "data": {
      "image/png": "[encoded data removed]",
      "text/plain": [
       "<Figure size 432x288 with 1 Axes>"
      ]
     },
     "metadata": {
      "needs_background": "light"
     },
     "output_type": "display_data"
    },
    {
     "name": "stdout",
     "output_type": "stream",
     "text": [
      "============================\n",
      "f1 score for Logistic Regression with L2 regulariztion strength 1.0 is:\n",
      "0.6997041420118343\n",
      "------------------\n",
      "Best param and f1 score is:\n",
      "{'C': 0.20000000010000002}\n",
      "0.7763028515240905\n",
      "------------------\n"
     ]
    },
    {
     "data": {
      "image/png": "[encoded data removed]",
      "text/plain": [
       "<Figure size 432x288 with 1 Axes>"
      ]
     },
     "metadata": {
      "needs_background": "light"
     },
     "output_type": "display_data"
    },
    {
     "name": "stdout",
     "output_type": "stream",
     "text": [
      "============================\n",
      "------------------\n",
      "1e-10\n",
      "[5.70674183e-13 8.45299474e-13 4.04006981e-13 6.35819484e-13]\n",
      "0.1000000001\n",
      "[27.1250283  24.66057313 27.45792701 23.02487585]\n",
      "0.20000000010000002\n",
      "[49.74057332 42.74270923 49.32777858 42.6648792 ]\n",
      "0.30000000010000005\n",
      "[69.28094753 57.87853223 67.9003255  59.75814281]\n",
      "0.40000000010000003\n",
      "[86.74157078 71.15353022 84.29247462 75.05818525]\n",
      "------------------\n"
     ]
    },
    {
     "data": {
      "image/png": "[encoded data removed]",
      "text/plain": [
       "<Figure size 432x288 with 1 Axes>"
      ]
     },
     "metadata": {
      "needs_background": "light"
     },
     "output_type": "display_data"
    }
   ],
   "source": [
    "def P3():\n",
    "    \n",
    "    def do_knn(train_fv, dev_fv, ks):\n",
    "        # 5-NN classifier\n",
    "        clsfr = KNeighborsClassifier(n_neighbors = 5)\n",
    "        fit = clsfr.fit(train_fv, train_labels)\n",
    "        preds = clsfr.predict(dev_fv)\n",
    "        print(\"f1 score for 5-NN is:\")\n",
    "        print(metrics.f1_score(preds, dev_labels, average = \"micro\"))\n",
    "\n",
    "        print(\"------------------\")\n",
    "        # uses grid search to find best k\n",
    "        gscv = GridSearchCV(estimator = KNeighborsClassifier()\n",
    "                            ,param_grid = {\"n_neighbors\" : ks}\n",
    "                            ,cv = 3\n",
    "                            ,scoring = \"f1_micro\"\n",
    "                            ,iid = True\n",
    "                            ,return_train_score = True\n",
    "                           )\n",
    "        gscv.fit(train_fv, train_labels)\n",
    "\n",
    "        # prints best f1 score and k\n",
    "        print(\"Best param and f1 score is:\")\n",
    "        print(gscv.best_params_)\n",
    "        print(gscv.best_score_)\n",
    "\n",
    "        print(\"------------------\")\n",
    "        # plots all the f1 scores and ks\n",
    "        scores = gscv.cv_results_[\"mean_test_score\"]\n",
    "        plt.plot(ks, scores, marker = \"o\")\n",
    "        plt.title(\"k-NN, f1 scores vs k\")\n",
    "        plt.xlabel(\"number of neighbors\")\n",
    "        plt.ylabel(\"f1 scores\")\n",
    "        plt.show()\n",
    "    \n",
    "    \n",
    "    def do_mnb(train_fv, dev_fv, alphas):\n",
    "        # fit a Multinomial Naive Bayes classifier\n",
    "        clsfr = MultinomialNB(alpha = 1.0)\n",
    "        fit = clsfr.fit(train_fv, train_labels)\n",
    "        preds = clsfr.predict(dev_fv)\n",
    "        print(\"f1 score for MNB with smoothing 1.0 is:\")\n",
    "        print(metrics.f1_score(preds, dev_labels, average = \"micro\"))\n",
    "\n",
    "        print(\"------------------\")\n",
    "        # uses grid search to find best alpha\n",
    "        gscv = GridSearchCV(estimator = MultinomialNB()\n",
    "                            ,param_grid = {\"alpha\" : alphas}\n",
    "                            ,cv = 3\n",
    "                            ,scoring = \"f1_micro\"\n",
    "                            ,iid = True\n",
    "                            ,return_train_score = True\n",
    "                           )\n",
    "        gscv.fit(train_fv, train_labels)\n",
    "\n",
    "        # prints best f1 score and alpha\n",
    "        print(\"Best param and f1 score is:\")\n",
    "        print(gscv.best_params_)\n",
    "        print(gscv.best_score_)\n",
    "\n",
    "        print(\"------------------\")\n",
    "        # plots all the f1 scores and alphas\n",
    "        scores = gscv.cv_results_[\"mean_test_score\"]\n",
    "        plt.plot(alphas, scores, marker = \"o\")\n",
    "        plt.title(\"Multinomial Naive Bayes, f1 scores vs smoothing\")\n",
    "        plt.xlabel(\"alpha\")\n",
    "        plt.ylabel(\"f1 scores\")\n",
    "        plt.show()\n",
    "    \n",
    "    \n",
    "    def do_lr(train_fv, dev_fv, cs):\n",
    "        # fit a Logistic Regression classifier\n",
    "        clsfr = LogisticRegression(penalty=\"l2\"\n",
    "                                   ,multi_class = \"ovr\"\n",
    "                                   ,solver = \"liblinear\"\n",
    "                                   ,max_iter = 1000\n",
    "                                   ,C = 1.0)\n",
    "        fit = clsfr.fit(train_fv, train_labels)\n",
    "        preds = clsfr.predict(dev_fv)\n",
    "        print(\"f1 score for Logistic Regression with L2 regulariztion strength 1.0 is:\")\n",
    "        print(metrics.f1_score(preds, dev_labels, average = \"micro\"))\n",
    "#         print(\"weight vector for each class at C = 1.0\")\n",
    "#         print(clsfr.coef_.shape)\n",
    "#         print(clsfr.coef_)\n",
    "        \n",
    "        print(\"------------------\")\n",
    "        # uses grid search to find best C\n",
    "        gscv = GridSearchCV(estimator = LogisticRegression(penalty=\"l2\"\n",
    "                                                           ,multi_class = \"ovr\"\n",
    "                                                           ,solver = \"liblinear\"\n",
    "                                                           ,max_iter = 1000)\n",
    "                            ,param_grid = {\"C\" : cs}\n",
    "                            ,cv = 3\n",
    "                            ,scoring = \"f1_micro\"\n",
    "                            ,iid = True\n",
    "                            ,return_train_score = True\n",
    "                           )\n",
    "        gscv.fit(train_fv, train_labels)\n",
    "        \n",
    "        # prints best f1 score and C\n",
    "        print(\"Best param and f1 score is:\")\n",
    "        print(gscv.best_params_)\n",
    "        print(gscv.best_score_)\n",
    "        \n",
    "        print(\"------------------\")\n",
    "        # plots all the f1 scores and C\n",
    "        scores = gscv.cv_results_[\"mean_test_score\"]\n",
    "        plt.plot(cs, scores, marker = \"o\")\n",
    "        plt.title(\"Logistic Regression with L2 regularization, f1 scores vs inverse regularization strength\")\n",
    "        plt.xlabel(\"C\")\n",
    "        plt.ylabel(\"f1 scores\")\n",
    "        plt.show()\n",
    "        \n",
    "        \n",
    "        \n",
    "    def do_lr_ec(train_fv, dev_fv, cs):\n",
    "        # Outputs sum of the squared weight values for each class for each setting of the C parameter\n",
    "        # we can't use grid search cv because it only allows us access to the best estimator, and not each estimator\n",
    "        classifiers = map(lambda c: LogisticRegression(penalty=\"l2\"\n",
    "                                                      ,multi_class = \"ovr\"\n",
    "                                                      ,solver = \"liblinear\"\n",
    "                                                      ,max_iter = 1000\n",
    "                                                      ,C = c)\n",
    "                          , cs)\n",
    "        fits = map(lambda clsfr: clsfr.fit(train_fv, train_labels), classifiers)\n",
    "        fits =  list(fits)\n",
    "        coefs = map(lambda clsfr: clsfr.coef_, fits)\n",
    "        coefs = list(coefs)\n",
    "        sqwgts = map(lambda w: np.sum(np.square(w), axis = 1), coefs)\n",
    "        sqwgts = list(sqwgts)\n",
    "        \n",
    "        print(\"------------------\")\n",
    "        for idx, c in enumerate(cs):\n",
    "            print(c)\n",
    "            print(sqwgts[idx])\n",
    "        \n",
    "#         print(\"------------------\")\n",
    "#         for idx, c in enumerate(cs):\n",
    "#             x = np.arange(len(newsgroups_train.target_names))\n",
    "#             plt.bar(x, sqwgts[idx], tick_label = newsgroups_train.target_names)\n",
    "#             plt.title(\"C = \" + str(c))\n",
    "#             plt.xlabel(\"class\")\n",
    "#             plt.ylabel(\"square weights\")\n",
    "#             plt.show()\n",
    "            \n",
    "        print(\"------------------\")\n",
    "        # rearrange data for multi-line plot\n",
    "        # would be so much easier with pandas ...\n",
    "        by_c = []\n",
    "        for idx, _ in enumerate(sqwgts[0]):\n",
    "            res = []\n",
    "            for j, w in enumerate(sqwgts):\n",
    "                res.append(w[idx])\n",
    "            by_c.append(res)\n",
    "        \n",
    "        for idx, y in enumerate(by_c):\n",
    "            plt.plot(cs, y, marker = \"o\")\n",
    "        plt.title(\"Sum of Square Weights vs Inverse Regularization Strength, per class\")\n",
    "        plt.xlabel(\"C\")\n",
    "        plt.ylabel(\"sum of square weights\")\n",
    "        plt.legend(newsgroups_train.target_names)\n",
    "        plt.show()\n",
    "    \n",
    "    \n",
    "    \n",
    "    \n",
    "    # using defautl count vectorizer\n",
    "    # only fits-and-transforms the train data\n",
    "    # dev and test data is just transformed\n",
    "    cv = CountVectorizer()\n",
    "    train_fv = cv.fit_transform(train_data)\n",
    "    dev_fv = cv.transform(dev_data)\n",
    "    print(\"shape of train feature vector\")\n",
    "    print(train_fv.shape)\n",
    "    print(\"shape of dev feature vector\")\n",
    "    print(dev_fv.shape)\n",
    "    \n",
    "    print(\"============================\")\n",
    "    do_knn(train_fv, dev_fv, ks = list(range(1,31,2)))\n",
    "    \n",
    "    print(\"============================\")\n",
    "    do_mnb(train_fv, dev_fv, alphas = np.arange(1.0e-10, 0.1, 0.01))\n",
    "    \n",
    "    print(\"============================\")\n",
    "    do_lr(train_fv, dev_fv, cs = np.arange(1.0e-10, 0.5, 0.1))\n",
    "    \n",
    "    print(\"============================\")\n",
    "    do_lr_ec(train_fv, dev_fv, cs = np.arange(1.0e-10, 0.5, 0.1))\n",
    "    \n",
    "P3()"
   ]
  },
  {
   "cell_type": "markdown",
   "metadata": {},
   "source": [
    "Answers:\n",
    "\n",
    "a. Why doesn't nearest neighbors work well for this problem?\n",
    "\n",
    "**Because each word is a feature, many of our records have lots of features, which makes every vector very far away from each other. Also, the features are 0 or 1, and is not modelled well by spherical distance. The high number of neighbors, 19-NN, and relatively low f1 score, suggests the k-nn classifier is overfitting, rather than capturing actual patterns.** \n",
    "\n",
    "b. Any ideas why logistic regression doesn't work as well as Naive Bayes?\n",
    "\n",
    "**Logistic regression is trying to calculate the weights for every feature in the vocabulary, for each class, when for the vast majority of documents, relatively few features (words) appear in the document. Multinomial Naive Bayes works better in this case because it does not assume that every word will matter for each class.**\n",
    "\n",
    "c. Output the sum of the squared weight values for each class for each setting of the C parameter. Briefly explain the relationship between the sum and the value of C.\n",
    "\n",
    "**C is the inverse of regularization strength. So as C increases, regularization gets weaker. Which means that as C increases, the sum of squared weights values for each class tend to increase, because we are penalizing larger weight coefficients less and less.**\n"
   ]
  },
  {
   "cell_type": "markdown",
   "metadata": {},
   "source": [
    "# 4\n",
    "\n",
    "Train a logistic regression model. Find the 5 features with the largest weights for each label -- 20 features in total. Create a table with 20 rows and 4 columns that shows the weight for each of these features for each of the labels. Create the table again with bigram features. Any surprising features in this table?"
   ]
  },
  {
   "cell_type": "code",
   "execution_count": 385,
   "metadata": {},
   "outputs": [
    {
     "name": "stdout",
     "output_type": "stream",
     "text": [
      "============================\n",
      "------------------\n",
      "alt.atheism\n",
      "top features by weight coefficients\n",
      "[ 4784  3866 20430  3870 13668]\n",
      "['bobby', 'atheism', 'religion', 'atheists', 'islam']\n",
      "top weight coefficients\n",
      "[0.6193409499731486, 0.6157699036617253, 0.6153596961024825, 0.6063107559389059, 0.5281650098184903]\n",
      "------------------\n",
      "comp.graphics\n",
      "top features by weight coefficients\n",
      "[11552 12769 10376  1145  6555]\n",
      "['graphics', 'image', 'file', '3d', 'computer']\n",
      "top weight coefficients\n",
      "[1.2555635214760446, 0.8336573564139619, 0.8089116965019939, 0.7103358141516686, 0.6794821245068315]\n",
      "------------------\n",
      "sci.space\n",
      "top features by weight coefficients\n",
      "[22567 17597 16697 14540 22570]\n",
      "['space', 'orbit', 'nasa', 'launch', 'spacecraft']\n",
      "top weight coefficients\n",
      "[1.5059004208846163, 0.7622789284638474, 0.6641854859764202, 0.6010921443713219, 0.5243712411600706]\n",
      "------------------\n",
      "talk.religion.misc\n",
      "top features by weight coefficients\n",
      "[ 5901  5904  4743 10234 17609]\n",
      "['christian', 'christians', 'blood', 'fbi', 'order']\n",
      "top weight coefficients\n",
      "[0.6963172059681438, 0.668052725852434, 0.597025841488948, 0.5580172163054408, 0.5540598223315434]\n",
      "============================\n",
      "------------------\n",
      "alt.atheism\n",
      "top features by weight coefficients\n",
      "[37174 38326 83190 88101 20596]\n",
      "['cheers kent', 'claim that', 'in this', 'is not', 'are you']\n",
      "top weight coefficients\n",
      "[0.4187047901364798, 0.40468949786773656, 0.36224250762411725, 0.35383852749024675, 0.349968616544057]\n",
      "------------------\n",
      "comp.graphics\n",
      "top features by weight coefficients\n",
      "[ 98723  81950 123709  88596  40451]\n",
      "['looking for', 'in advance', 'out there', 'is there', 'comp graphics']\n",
      "top weight coefficients\n",
      "[0.8482068749637817, 0.6533520918000226, 0.5850909934923931, 0.5533715404746264, 0.5367427553028596]\n",
      "------------------\n",
      "sci.space\n",
      "top features by weight coefficients\n",
      "[165984 167336 145068  16732  90070]\n",
      "['the moon', 'the space', 'sci space', 'and such', 'it was']\n",
      "top weight coefficients\n",
      "[0.6768260493080543, 0.6682581798090486, 0.4713299110026591, 0.4633742381641756, 0.4118684571544716]\n",
      "------------------\n",
      "talk.religion.misc\n",
      "top features by weight coefficients\n",
      "[ 37174 164806 190525  32640 168057]\n",
      "['cheers kent', 'the fbi', 'with you', 'but he', 'the word']\n",
      "top weight coefficients\n",
      "[0.42447055547921964, 0.41809607014746547, 0.3407468680994178, 0.34043992657255295, 0.32263348031430256]\n"
     ]
    }
   ],
   "source": [
    "def P4():\n",
    "    \n",
    "    def lookup_vocab_word(vocab_dict, fet):\n",
    "        for key, val in vocab_dict.items():\n",
    "            if val == fet:\n",
    "                return key\n",
    "    \n",
    "    def find_top_features_by_weights(cv, num_features):\n",
    "        # fits and transforms train data using the given vectorizer\n",
    "        train_fv = cv.fit_transform(train_data)\n",
    "        \n",
    "        # choosing parameters based on output from P3\n",
    "        clsfr = LogisticRegression(penalty=\"l2\"\n",
    "                                  ,multi_class = \"ovr\"\n",
    "                                  ,solver = \"liblinear\"\n",
    "                                  ,max_iter = 1000\n",
    "                                  ,C = 0.2)\n",
    "        fit = clsfr.fit(train_fv, train_labels)\n",
    "\n",
    "        # for every label, gets top n features by weight\n",
    "        for idx, lbl in enumerate(newsgroups_train.target_names):\n",
    "            print(\"------------------\")\n",
    "            print(lbl)\n",
    "            print(\"top features by weight coefficients\")\n",
    "            top_features_by_weights = np.argsort(-clsfr.coef_[idx])[:num_features]\n",
    "            print(top_features_by_weights)\n",
    "            top_words_by_weights = [lookup_vocab_word(cv.vocabulary_, w) for w in top_features_by_weights]\n",
    "            print(top_words_by_weights)\n",
    "            print(\"top weight coefficients\")\n",
    "            top_weights = sorted(clsfr.coef_[idx], reverse = True)[:num_features]\n",
    "            print(top_weights)\n",
    "        \n",
    "    \n",
    "    # top n features we want to check\n",
    "    num_features = 5\n",
    "    \n",
    "    print(\"============================\")\n",
    "    # uses default count vectorizer\n",
    "    cv = CountVectorizer()\n",
    "    find_top_features_by_weights(cv, num_features)\n",
    "    \n",
    "    \n",
    "    print(\"============================\")\n",
    "    # uses bigram count vectorizer\n",
    "    cv2 = CountVectorizer(ngram_range = (2, 2))\n",
    "    find_top_features_by_weights(cv2, num_features)\n",
    "    \n",
    "P4()"
   ]
  },
  {
   "cell_type": "markdown",
   "metadata": {},
   "source": [
    "Answers:\n",
    "\n",
    "Any surprising features in this table?\n",
    "\n",
    "**Weights are generally lower in each class. And by looking at the meaning of the words, the highest weighted bigrams appear much less relevant than the highest weighted unigrams. Perhaps this reflects certain two-word phrases tend to be used more often in everyday speech.**"
   ]
  },
  {
   "cell_type": "markdown",
   "metadata": {},
   "source": [
    "# 5\n",
    "\n",
    "Try to improve the logistic regression classifier by passing a custom preprocessor to CountVectorizer. The preprocessing function runs on the raw text, before it is split into words by the tokenizer. Your preprocessor should try to normalize the input in various ways to improve generalization. For example, try lowercasing everything, replacing sequences of numbers with a single token, removing various other non-letter characters, and shortening long words. If you're not already familiar with regular expressions for manipulating strings, see https://docs.python.org/2/library/re.html, and re.sub() in particular. With your new preprocessor, how much did you reduce the size of the dictionary?\n",
    "\n",
    "For reference, I was able to improve dev F1 by 2 points."
   ]
  },
  {
   "cell_type": "code",
   "execution_count": 401,
   "metadata": {},
   "outputs": [
    {
     "name": "stdout",
     "output_type": "stream",
     "text": [
      "============================\n",
      "empty preprocessor\n",
      "{'vocab_size': 33291, 'dev_f1': 0.7085798816568046, 'test_f1': 0.7119645494830131}\n",
      "============================\n",
      "better preprocessor\n",
      "{'vocab_size': 10717, 'dev_f1': 0.7085798816568046, 'test_f1': 0.7355982274741507}\n"
     ]
    }
   ],
   "source": [
    "def P5b():\n",
    "    \n",
    "    def empty_preprocessor(s):\n",
    "        return s\n",
    "    \n",
    "    def better_preprocessor(s):\n",
    "        s = s.lower()\n",
    "        \n",
    "        # replaces any contiguous digits with the digit \"8\"\n",
    "        s = re.sub(\"[0-9]*\",\"8\",s)\n",
    "\n",
    "        # truncates any words to less than a certain length\n",
    "        s1 = []\n",
    "        for word in s.split():\n",
    "            s1.append(word[:8])\n",
    "        s = \" \".join(s1)\n",
    "        \n",
    "        return s\n",
    "    \n",
    "    def calc_f1(cv):\n",
    "        \n",
    "        # fits and transforms train data using the given vectorizer\n",
    "        # transforms the dev and test data using the given vectorizer\n",
    "        train_fv = cv.fit_transform(train_data)\n",
    "        dev_fv = cv.transform(dev_data)\n",
    "        test_fv = cv.transform(test_data)\n",
    "        \n",
    "        # choosing parameters based on output from P3\n",
    "        clsfr = LogisticRegression(penalty=\"l2\"\n",
    "                                  ,multi_class = \"ovr\"\n",
    "                                  ,solver = \"liblinear\"\n",
    "                                  ,max_iter = 1000\n",
    "                                  ,C = 0.2)\n",
    "        \n",
    "        # fits the classifier to train data\n",
    "        fit = clsfr.fit(train_fv, train_labels)\n",
    "        \n",
    "        # calculates vocab size\n",
    "        fts = cv.get_feature_names()\n",
    "        num_fts = len(fts)\n",
    "        \n",
    "        # predicts and calculates the f1 score against dev data\n",
    "        preds = clsfr.predict(dev_fv)\n",
    "        dev_f1 = metrics.f1_score(preds, dev_labels, average = \"micro\")\n",
    "        \n",
    "        # predicts and calculates the f1 score against test data\n",
    "        preds = clsfr.predict(test_fv)\n",
    "        test_f1 = metrics.f1_score(preds, test_labels, average = \"micro\")\n",
    "        \n",
    "        return({\"vocab_size\" : num_fts, \"dev_f1\" : dev_f1, \"test_f1\" : test_f1})\n",
    "    \n",
    "    \n",
    "    # uses the empty preprocessor\n",
    "    print(\"============================\")\n",
    "    print(\"empty preprocessor\")\n",
    "    cv = CountVectorizer(preprocessor = empty_preprocessor)\n",
    "    f1 = calc_f1(cv)\n",
    "    print(f1)\n",
    "    \n",
    "    # uses the better preprocessor\n",
    "    print(\"============================\")\n",
    "    print(\"better preprocessor\")\n",
    "    cv = CountVectorizer(preprocessor = better_preprocessor)\n",
    "    f1 = calc_f1(cv)\n",
    "    print(f1)\n",
    "    \n",
    "    \n",
    "P5b()"
   ]
  },
  {
   "cell_type": "markdown",
   "metadata": {},
   "source": [
    "Answers:\n",
    "\n",
    "With your new preprocessor, how much did you reduce the size of the dictionary?\n",
    "\n",
    "**dictionary size was reduced by about 1/3, and test F1 score improved slightly by about 0.02**"
   ]
  },
  {
   "cell_type": "markdown",
   "metadata": {},
   "source": [
    "# 6\n",
    "\n",
    "The idea of regularization is to avoid learning very large weights (which are likely to fit the training data, but not generalize well) by adding a penalty to the total size of the learned weights. That is, logistic regression seeks the set of weights that minimizes errors in the training data AND has a small size. The default regularization, L2, computes this size as the sum of the squared weights (see P3, above). L1 regularization computes this size as the sum of the absolute values of the weights. The result is that whereas L2 regularization makes all the weights relatively small, L1 regularization drives lots of the weights to 0, effectively removing unimportant features.\n",
    "\n",
    "Train a logistic regression model using a \"l1\" penalty. Output the number of learned weights that are not equal to zero. How does this compare to the number of non-zero weights you get with \"l2\"? Now, reduce the size of the vocabulary by keeping only those features that have at least one non-zero weight and retrain a model using \"l2\".\n",
    "\n",
    "Make a plot showing accuracy of the re-trained model vs. the vocabulary size you get when pruning unused features by adjusting the C parameter.\n",
    "\n",
    "Note: The gradient descent code that trains the logistic regression model sometimes has trouble converging with extreme settings of the C parameter. Relax the convergence criteria by setting tol=.01 (the default is .0001)."
   ]
  },
  {
   "cell_type": "code",
   "execution_count": 70,
   "metadata": {},
   "outputs": [
    {
     "name": "stdout",
     "output_type": "stream",
     "text": [
      "+++++++++++++++++++++++\n",
      "training a logistic classifier using L1, and C =  0.0001\n"
     ]
    },
    {
     "name": "stderr",
     "output_type": "stream",
     "text": [
      "C:\\Users\\yangyq\\Anaconda3\\lib\\site-packages\\sklearn\\linear_model\\logistic.py:433: FutureWarning: Default solver will be changed to 'lbfgs' in 0.22. Specify a solver to silence this warning.\n",
      "  FutureWarning)\n",
      "C:\\Users\\yangyq\\Anaconda3\\lib\\site-packages\\sklearn\\linear_model\\logistic.py:460: FutureWarning: Default multi_class will be changed to 'auto' in 0.22. Specify the multi_class option to silence this warning.\n",
      "  \"this warning.\", FutureWarning)\n"
     ]
    },
    {
     "name": "stdout",
     "output_type": "stream",
     "text": [
      "size of L1 non zero vocab:  0\n",
      "training a logistic classifier using L2, with reduced vocabulary, and C =  0.0001\n",
      "size of L2 non zero vocab:  26879\n",
      "accuracy:  0.5562130177514792\n",
      "+++++++++++++++++++++++\n",
      "training a logistic classifier using L1, and C =  0.001\n",
      "size of L1 non zero vocab:  2\n",
      "training a logistic classifier using L2, with reduced vocabulary, and C =  0.001\n",
      "size of L2 non zero vocab:  26879\n",
      "accuracy:  0.6375739644970414\n",
      "+++++++++++++++++++++++\n",
      "training a logistic classifier using L1, and C =  0.01\n",
      "size of L1 non zero vocab:  16\n",
      "training a logistic classifier using L2, with reduced vocabulary, and C =  0.01\n",
      "size of L2 non zero vocab:  26879\n",
      "accuracy:  0.6789940828402367\n",
      "+++++++++++++++++++++++\n",
      "training a logistic classifier using L1, and C =  0.1\n",
      "size of L1 non zero vocab:  206\n",
      "training a logistic classifier using L2, with reduced vocabulary, and C =  0.1\n",
      "size of L2 non zero vocab:  26879\n",
      "accuracy:  0.7041420118343196\n",
      "+++++++++++++++++++++++\n",
      "training a logistic classifier using L1, and C =  0.5\n"
     ]
    },
    {
     "name": "stderr",
     "output_type": "stream",
     "text": [
      "C:\\Users\\yangyq\\Anaconda3\\lib\\site-packages\\sklearn\\svm\\base.py:931: ConvergenceWarning: Liblinear failed to converge, increase the number of iterations.\n",
      "  \"the number of iterations.\", ConvergenceWarning)\n"
     ]
    },
    {
     "name": "stdout",
     "output_type": "stream",
     "text": [
      "size of L1 non zero vocab:  707\n",
      "training a logistic classifier using L2, with reduced vocabulary, and C =  0.5\n",
      "size of L2 non zero vocab:  26879\n",
      "accuracy:  0.7144970414201184\n",
      "+++++++++++++++++++++++\n",
      "training a logistic classifier using L1, and C =  1.0\n",
      "size of L1 non zero vocab:  960\n",
      "training a logistic classifier using L2, with reduced vocabulary, and C =  1.0\n",
      "size of L2 non zero vocab:  26879\n",
      "accuracy:  0.6997041420118343\n",
      "+++++++++++++++++++++++\n",
      "training a logistic classifier using L1, and C =  2.0\n",
      "size of L1 non zero vocab:  1318\n",
      "training a logistic classifier using L2, with reduced vocabulary, and C =  2.0\n",
      "size of L2 non zero vocab:  26879\n",
      "accuracy:  0.6967455621301775\n",
      "+++++++++++++++++++++++\n",
      "training a logistic classifier using L1, and C =  10.0\n",
      "size of L1 non zero vocab:  2289\n",
      "training a logistic classifier using L2, with reduced vocabulary, and C =  10.0\n",
      "size of L2 non zero vocab:  26879\n",
      "accuracy:  0.6893491124260355\n",
      "[0.5562130177514792, 0.6375739644970414, 0.6789940828402367, 0.7041420118343196, 0.7144970414201184, 0.6997041420118343, 0.6967455621301775, 0.6893491124260355]\n",
      "[0, 2, 16, 206, 707, 960, 1318, 2289]\n"
     ]
    },
    {
     "data": {
      "image/png": "[encoded data removed]",
      "text/plain": [
       "<Figure size 432x288 with 1 Axes>"
      ]
     },
     "metadata": {
      "needs_background": "light"
     },
     "output_type": "display_data"
    }
   ],
   "source": [
    "def P6():\n",
    "\n",
    "    # Keep this random seed here to make comparison easier.\n",
    "    np.random.seed(0)\n",
    "\n",
    "    ### STUDENT START ###\n",
    "    def helper_function(c):\n",
    "        '''for a given c, fits a L1 model, and uses that to generate a reduce vocab. Then uses the reduce vocab to fit an L2 model.'''\n",
    "        results = {\"vocab_size\" : 0, \"accuracy\" : 0}\n",
    "        print(\"+++++++++++++++++++++++\")\n",
    "        print(\"training a logistic classifier using L1, and C = \", c)\n",
    "        vec = CountVectorizer()\n",
    "        train_data_features = vec.fit_transform(train_data)\n",
    "        dev_data_features = vec.transform(dev_data)\n",
    "        clf = LogisticRegression(penalty=\"l1\", C=c)\n",
    "        clf.fit(train_data_features, train_labels)\n",
    "\n",
    "        # for each label, prints the number of non-zero weights\n",
    "        vocab = vec.get_feature_names()\n",
    "        non_zero_features = []\n",
    "        for x in range(0, np.unique(train_labels).size):\n",
    "            non_zero_features_per_label = np.where(clf.coef_[x] != 0)[0]\n",
    "            non_zero_features += non_zero_features_per_label.tolist()\n",
    "        non_zero_features = np.unique(non_zero_features)\n",
    "        print(\"size of L1 non zero vocab: \", len(non_zero_features))\n",
    "        results[\"vocab_size\"] = len(non_zero_features)\n",
    "\n",
    "\n",
    "        print(\"training a logistic classifier using L2, with reduced vocabulary, and C = \", c)\n",
    "        # uses the non-zero weights to build a new vocab\n",
    "        non_zero_vocab = []\n",
    "        for x in non_zero_features:\n",
    "            non_zero_vocab.append(vocab[x])\n",
    "\n",
    "        # uses new vocab to create a L2 classifier\n",
    "        vec = CountVectorizer()\n",
    "        train_data_features = vec.fit_transform(train_data)\n",
    "        dev_data_features = vec.transform(dev_data)\n",
    "        clf = LogisticRegression(penalty=\"l2\", C=c)\n",
    "        clf.fit(train_data_features, train_labels)\n",
    "        accuracy = clf.score(dev_data_features, dev_labels)\n",
    "        \n",
    "        # for each label, prints the number of non-zero weights\n",
    "        vocab = vec.get_feature_names()\n",
    "        non_zero_features = []\n",
    "        for x in range(0, np.unique(train_labels).size):\n",
    "            non_zero_features_per_label = np.where(clf.coef_[x] != 0)[0]\n",
    "            non_zero_features += non_zero_features_per_label.tolist()\n",
    "        non_zero_features = np.unique(non_zero_features)\n",
    "        print(\"size of L2 non zero vocab: \", len(non_zero_features))\n",
    "        print(\"accuracy: \", accuracy)\n",
    "        results[\"accuracy\"] = accuracy\n",
    "        \n",
    "        return results\n",
    "\n",
    "    \n",
    "    accuracy = []\n",
    "    vocab_size = []\n",
    "    cs = [0.0001, 0.001, 0.01, 0.1, 0.5, 1.0, 2.0, 10.0]\n",
    "    for c in cs:\n",
    "        results = helper_function(c)\n",
    "        accuracy.append(results[\"accuracy\"])\n",
    "        vocab_size.append(results[\"vocab_size\"])\n",
    "    \n",
    "    # plots the vocab size vs accuracy\n",
    "    print(accuracy)\n",
    "    print(vocab_size)\n",
    "    p = plt.plot(vocab_size, accuracy)\n",
    "    plt.xlabel(\"vocab size\")\n",
    "    plt.ylabel(\"accuracy\")\n",
    "    plt.show()\n",
    "        \n",
    "    ### STUDENT END ###\n",
    "    \n",
    "P6()"
   ]
  },
  {
   "cell_type": "markdown",
   "metadata": {},
   "source": [
    "# 7\n",
    "\n",
    "Use the TfidfVectorizer -- how is this different from the CountVectorizer? Train a logistic regression model with C=100.\n",
    "\n",
    "Make predictions on the dev data and show the top 3 documents where the ratio R is largest, where R is:\n",
    "\n",
    "maximum predicted probability / predicted probability of the correct label\n",
    "\n",
    "What kinds of mistakes is the model making? Suggest a way to address one particular issue that you see."
   ]
  },
  {
   "cell_type": "code",
   "execution_count": 71,
   "metadata": {},
   "outputs": [
    {
     "name": "stdout",
     "output_type": "stream",
     "text": [
      "======================\n",
      "7a trains a logistic classifier using L2, and C 100\n",
      "======================\n"
     ]
    },
    {
     "name": "stderr",
     "output_type": "stream",
     "text": [
      "C:\\Users\\yangyq\\Anaconda3\\lib\\site-packages\\sklearn\\linear_model\\logistic.py:433: FutureWarning: Default solver will be changed to 'lbfgs' in 0.22. Specify a solver to silence this warning.\n",
      "  FutureWarning)\n",
      "C:\\Users\\yangyq\\Anaconda3\\lib\\site-packages\\sklearn\\linear_model\\logistic.py:460: FutureWarning: Default multi_class will be changed to 'auto' in 0.22. Specify the multi_class option to silence this warning.\n",
      "  \"this warning.\", FutureWarning)\n"
     ]
    },
    {
     "name": "stdout",
     "output_type": "stream",
     "text": [
      "              precision    recall  f1-score   support\n",
      "\n",
      "           0       0.62      0.69      0.65       148\n",
      "           1       0.91      0.80      0.85       209\n",
      "           2       0.83      0.83      0.83       199\n",
      "           3       0.64      0.68      0.66       120\n",
      "\n",
      "   micro avg       0.76      0.76      0.76       676\n",
      "   macro avg       0.75      0.75      0.75       676\n",
      "weighted avg       0.77      0.76      0.77       676\n",
      "\n",
      "======================\n",
      "7b shows top 3 documents by ratio of R\n",
      "======================\n",
      "class:  0\n",
      "highest probability for this class:  [0.99624006]\n",
      "class:  1\n",
      "highest probability for this class:  [0.99997872]\n",
      "class:  2\n",
      "highest probability for this class:  [0.99977406]\n",
      "class:  3\n",
      "highest probability for this class:  [0.98799884]\n",
      "----------------------\n",
      "post: \n",
      "\n",
      "\n",
      "ra>   Robert, you keep making references to \"orthodox\" belief, and saying\n",
      "ra> things like \"it is held that...\" (cf. \"K\n",
      "-------------------\n",
      "post: \n",
      "I replied to this query via e-mail, but I think there are some\n",
      "issues that are worth discussing in public.\n",
      "\n",
      "\n",
      "I would rec\n",
      "-------------------\n",
      "post: \n",
      "Archive-name: graphics/faq\n",
      "\n",
      "This message is automatically posted once a week or so in an effort to\n",
      "cut down on the repet\n",
      "-------------------\n"
     ]
    }
   ],
   "source": [
    "def P7():\n",
    "    ### STUDENT START ###\n",
    "    print(\"======================\")\n",
    "    print(\"7a trains a logistic classifier using L2, and C 100\")\n",
    "    print(\"======================\")\n",
    "    vec = TfidfVectorizer()\n",
    "    train_data_features = vec.fit_transform(train_data)\n",
    "    dev_data_features = vec.transform(dev_data)\n",
    "    clf = LogisticRegression(penalty=\"l2\", C=100)\n",
    "    clf.fit(train_data_features, train_labels)\n",
    "    vocab = vec.get_feature_names()\n",
    "    \n",
    "    # prints the F1 scores\n",
    "    my_predictions = clf.predict(dev_data_features)\n",
    "    print(classification_report(my_predictions, dev_labels))\n",
    "    \n",
    "    print(\"======================\")\n",
    "    print(\"7b shows top 3 documents by ratio of R\")\n",
    "    print(\"======================\")\n",
    "    \n",
    "    # note, R = maximum predicted probability / predicted probability of the correct label\n",
    "    # for each class, gets the max predicted probability\n",
    "    my_predictions_proba = clf.predict_proba(dev_data_features)\n",
    "    max_probs = []\n",
    "    for x in clf.classes_:\n",
    "        print(\"class: \", x)\n",
    "        highest_prediction_doc_for_this_class = np.argsort(my_predictions_proba[:,x])[::-1][:1]\n",
    "        print(\"highest probability for this class: \", my_predictions_proba[highest_prediction_doc_for_this_class,x])\n",
    "        max_probs.append(my_predictions_proba[highest_prediction_doc_for_this_class,x][0])\n",
    "        #print(\"document's predictions: \", my_predictions_proba[highest_prediction_doc_for_this_class])\n",
    "\n",
    "    #print(clf.classes_)\n",
    "    #print(max_probs)\n",
    "        \n",
    "    # for each document prediction, calculates the R ratio\n",
    "    print(\"----------------------\")\n",
    "    rs = []\n",
    "    for x in range(0, len(my_predictions_proba)):\n",
    "        #print(x, my_predictions_proba[x], dev_labels[x])\n",
    "        label = dev_labels[x]\n",
    "        prob = my_predictions_proba[x, label]\n",
    "        r = prob / max_probs[label]\n",
    "        rs.append(r)\n",
    "    \n",
    "    #print(rs[:10])\n",
    "\n",
    "    # finds the top 3 documents with the highest Rs\n",
    "    top_3_rs = np.argsort(rs)[::-1][:3]\n",
    "    for x in top_3_rs:\n",
    "        print(\"post: \")\n",
    "        print(dev_data[x][:120])\n",
    "        print(\"-------------------\")\n",
    "    \n",
    "    ## STUDENT END ###\n",
    "\n",
    "P7()"
   ]
  },
  {
   "cell_type": "markdown",
   "metadata": {},
   "source": [
    "ANSWER:\n",
    "\n",
    "Unlike the CountVectorizer, the term-frequency-inverse-document-frequency vectorizer normalizes the results to 1. This accounts for features that are quite common in the corpus, and as a result might throw off any term-fequency analysis that a vanilla classifier might perform. One of the mistakes the TFIDF Logistic classifier might be making is that the model doesn't capture the position of the words, or the context and meaning of the phrases."
   ]
  },
  {
   "cell_type": "markdown",
   "metadata": {},
   "source": [
    "# 8\n",
    "\n",
    "EXTRA CREDIT\n",
    "\n",
    "Try implementing one of your ideas based on your error analysis. Use logistic regression as your underlying model."
   ]
  },
  {
   "cell_type": "code",
   "execution_count": null,
   "metadata": {},
   "outputs": [],
   "source": []
  }
 ],
 "metadata": {
  "kernelspec": {
   "display_name": "Python 3",
   "language": "python",
   "name": "python3"
  },
  "language_info": {
   "codemirror_mode": {
    "name": "ipython",
    "version": 3
   },
   "file_extension": ".py",
   "mimetype": "text/x-python",
   "name": "python",
   "nbconvert_exporter": "python",
   "pygments_lexer": "ipython3",
   "version": "3.7.0"
  }
 },
 "nbformat": 4,
 "nbformat_minor": 1
}
