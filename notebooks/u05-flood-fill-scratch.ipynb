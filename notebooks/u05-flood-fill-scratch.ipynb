{
 "cells": [
  {
   "cell_type": "markdown",
   "metadata": {},
   "source": [
    "see\n",
    "* https://youtu.be/kYqMC3dXC0Q\n",
    "* https://www.hackerearth.com/practice/algorithms/graphs/flood-fill-algorithm/tutorial/\n",
    "* http://inventwithpython.com/blog/2011/08/11/recursion-explained-with-the-flood-fill-algorithm-and-zombies-and-cats/\n",
    "* https://github.com/pydata/pydata-cookbook/blob/master/papers/joshua_warner/00_scikitimage.rst\n",
    "* https://stackoverflow.com/questions/39173947/floodfill-segmented-image-in-numpy-python"
   ]
  },
  {
   "cell_type": "code",
   "execution_count": null,
   "metadata": {},
   "outputs": [],
   "source": []
  }
 ],
 "metadata": {
  "kernelspec": {
   "display_name": "Python 3",
   "language": "python",
   "name": "python3"
  },
  "language_info": {
   "codemirror_mode": {
    "name": "ipython",
    "version": 3
   },
   "file_extension": ".py",
   "mimetype": "text/x-python",
   "name": "python",
   "nbconvert_exporter": "python",
   "pygments_lexer": "ipython3",
   "version": "3.7.0"
  }
 },
 "nbformat": 4,
 "nbformat_minor": 2
}
