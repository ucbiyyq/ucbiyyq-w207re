{
 "cells": [
  {
   "cell_type": "markdown",
   "metadata": {},
   "source": [
    "### An Application: crime data\n",
    "\n",
    "Here's a simple application using one of the UCI data sets: communities and crime.\n",
    "\n",
    "Let's first load the data and do some basic investigations."
   ]
  },
  {
   "cell_type": "code",
   "execution_count": 1,
   "metadata": {
    "scrolled": true
   },
   "outputs": [],
   "source": [
    "# This tells matplotlib not to try opening a new window for each plot.\n",
    "%matplotlib inline\n",
    "\n",
    "import matplotlib as mp\n",
    "import matplotlib.pyplot as plt\n",
    "import numpy as np\n",
    "import scipy as sp\n",
    "import pandas as pd\n",
    "\n",
    "from sklearn.linear_model import LinearRegression\n",
    "from sklearn.model_selection import train_test_split\n",
    "\n",
    "# regularization methos\n",
    "from sklearn.linear_model import Ridge\n",
    "from sklearn.linear_model import Lasso"
   ]
  },
  {
   "cell_type": "code",
   "execution_count": 2,
   "metadata": {
    "scrolled": true
   },
   "outputs": [
    {
     "name": "stdout",
     "output_type": "stream",
     "text": [
      "     5     6     7     8     9     10    11    12    13    14   ...    118  \\\n",
      "0   0.19  0.33  0.02  0.90  0.12  0.17  0.34  0.47  0.29  0.32  ...   0.12   \n",
      "16  0.15  0.31  0.40  0.63  0.14  0.06  0.58  0.72  0.65  0.47  ...   0.06   \n",
      "20  0.25  0.54  0.05  0.71  0.48  0.30  0.42  0.48  0.28  0.32  ...   0.09   \n",
      "21  1.00  0.42  0.47  0.59  0.12  0.05  0.41  0.53  0.34  0.33  ...   1.00   \n",
      "23  0.11  0.43  0.04  0.89  0.09  0.06  0.45  0.48  0.31  0.46  ...   0.16   \n",
      "\n",
      "     119   120   121   122   123  124   125   126   127  \n",
      "0   0.26  0.20  0.06  0.04  0.90  0.5  0.32  0.14  0.20  \n",
      "16  0.39  0.84  0.06  0.06  0.91  0.5  0.88  0.26  0.49  \n",
      "20  0.46  0.05  0.09  0.05  0.88  0.5  0.76  0.13  0.34  \n",
      "21  0.07  0.15  1.00  0.35  0.73  0.0  0.31  0.21  0.69  \n",
      "23  0.12  0.07  0.04  0.01  0.81  1.0  0.56  0.09  0.63  \n",
      "\n",
      "[5 rows x 123 columns]\n"
     ]
    }
   ],
   "source": [
    "# from: https://github.com/justmarkham/DAT5/blob/master/code/18_regularization.py\n",
    "\n",
    "########## Prepare data ##########\n",
    "# read in data, remove categorical features, remove rows with missing values\n",
    "\n",
    "crime = pd.read_csv('http://archive.ics.uci.edu/ml/machine-learning-databases/communities/communities.data', \n",
    "                    header=None, na_values=['?'])\n",
    "crime = crime.iloc[:, 5:] # get rid of columns that are the names of towns\n",
    "crime.dropna(inplace=True) # drop missing values\n",
    "print(crime.head())\n",
    "\n",
    "# the names of the columns\n",
    "crime_names = np.genfromtxt('../data/external/comm_names.txt',dtype='str')[5:, :]\n",
    "## Meaning of names: https://archive.ics.uci.edu/ml/datasets/Communities%2Band%2BCrime\n",
    "\n",
    "# define X and y; \n",
    "# y from the last column which is the:\n",
    "# ViolentCrimesPerPop: total number of violent crimes per 100K popuation (numeric - decimal) \n",
    "# GOAL attribute (to be predicted)\n",
    "# (from: https://archive.ics.uci.edu/ml/machine-learning-databases/communities/communities.names)\n",
    "X = crime.iloc[:, :-1]\n",
    "y = crime.iloc[:, -1]\n",
    "\n",
    "# split into train/test\n",
    "X_train, X_test, y_train, y_test = train_test_split(X, y, random_state=1)"
   ]
  },
  {
   "cell_type": "code",
   "execution_count": 3,
   "metadata": {
    "scrolled": true
   },
   "outputs": [
    {
     "name": "stdout",
     "output_type": "stream",
     "text": [
      "Linear model test MSE:      0.054668835316047035\n",
      "Ridge regression test MSE:  0.026540407891395713\n",
      "Lasso regression test MSE:  0.03926945656919291\n"
     ]
    }
   ],
   "source": [
    "# now, fit a few models, let's try linear regresion, ridge regression, and the lasso\n",
    "\n",
    "# linear regression, ridge, lasso\n",
    "\n",
    "lm = LinearRegression()\n",
    "lm.fit(X_train, y_train)\n",
    "\n",
    "lm_test_mse = ((lm.predict(X_test) - y_test) ** 2).mean()\n",
    "\n",
    "# ridge regression\n",
    "rm = Ridge(alpha=1, normalize=False)\n",
    "rm.fit(X_train, y_train)\n",
    "\n",
    "rm_test_mse = ((rm.predict(X_test) - y_test) ** 2).mean()\n",
    "\n",
    "# lasso regression\n",
    "las = Lasso(alpha=0.01, normalize=True, max_iter=100)\n",
    "las.fit(X_train, y_train)\n",
    "\n",
    "las_test_mse = ((las.predict(X_test) - y_test) ** 2).mean()\n",
    "\n",
    "print(\"Linear model test MSE:     \", lm_test_mse)\n",
    "print(\"Ridge regression test MSE: \", rm_test_mse)\n",
    "print(\"Lasso regression test MSE: \", las_test_mse)"
   ]
  },
  {
   "cell_type": "code",
   "execution_count": 4,
   "metadata": {
    "scrolled": false
   },
   "outputs": [
    {
     "name": "stdout",
     "output_type": "stream",
     "text": [
      "Non-zero lasso coefficients: \n",
      " [[['@attribute' 'racePctWhite' 'numeric']\n",
      "  ['@attribute' 'PctKids2Par' 'numeric']]]\n"
     ]
    },
    {
     "data": {
      "text/plain": [
       "Text(0,0.5,'LASSO coefficient')"
      ]
     },
     "execution_count": 4,
     "metadata": {},
     "output_type": "execute_result"
    },
    {
     "data": {
      "image/png": "[encoded data removed]",
      "text/plain": [
       "<Figure size 432x288 with 1 Axes>"
      ]
     },
     "metadata": {
      "needs_background": "light"
     },
     "output_type": "display_data"
    },
    {
     "data": {
      "image/png": "[encoded data removed]",
      "text/plain": [
       "<Figure size 432x288 with 1 Axes>"
      ]
     },
     "metadata": {
      "needs_background": "light"
     },
     "output_type": "display_data"
    }
   ],
   "source": [
    "# what about the coefficients; what does lasso drop?\n",
    "\n",
    "# extract coefficients\n",
    "lm_coef = lm.coef_\n",
    "rm_coef = rm.coef_\n",
    "las_coef = las.coef_\n",
    "\n",
    "print(\"Non-zero lasso coefficients: \\n\", crime_names[np.where(las_coef!=0), :])\n",
    "\n",
    "# plotting\n",
    "fig = plt.figure()\n",
    "plt.scatter(lm_coef, rm_coef)\n",
    "fig.suptitle('Coefficients: lm vs ridge', fontsize=20)\n",
    "plt.xlabel('LM coefficient')\n",
    "plt.ylabel('Ridge coefficient')\n",
    "\n",
    "fig = plt.figure()\n",
    "plt.scatter(lm_coef, las_coef)\n",
    "fig.suptitle('Coefficients: lm vs lasso', fontsize=20)\n",
    "plt.xlabel('LM coefficient')\n",
    "plt.ylabel('LASSO coefficient')"
   ]
  },
  {
   "cell_type": "code",
   "execution_count": 5,
   "metadata": {
    "scrolled": true
   },
   "outputs": [
    {
     "name": "stdout",
     "output_type": "stream",
     "text": [
      "Big lm coefficients: \n",
      "\n",
      "(array([ 97, 103], dtype=int64),) \n",
      "\n",
      "[-36.79412053  36.71529568]\n",
      "[[['@attribute' 'LemasSwFTPerPop' 'numeric']\n",
      "  ['@attribute' 'PolicPerPop' 'numeric']]]\n",
      "correlation between the big coefficients features: \n",
      "\n",
      "[[1.         0.99999224]\n",
      " [0.99999224 1.        ]]\n"
     ]
    }
   ],
   "source": [
    "# looking at the above plot we see that there are a couple of really big coefficients\n",
    "# what are these?\n",
    "print(\"Big lm coefficients: \\n\")\n",
    "big_coefs = np.where(abs(lm_coef) > 5)\n",
    "print(big_coefs, '\\n')\n",
    "\n",
    "print(lm_coef[big_coefs])\n",
    "print(crime_names[big_coefs, :])\n",
    "print('correlation between the big coefficients features: \\n')\n",
    "print(np.corrcoef(np.array(X_train)[:, big_coefs[0][0]],\n",
    "                 np.array(X_train)[:, big_coefs[0][1]]))"
   ]
  },
  {
   "cell_type": "markdown",
   "metadata": {},
   "source": [
    "How can we choose the best alpha? We'll use cross validation here."
   ]
  },
  {
   "cell_type": "code",
   "execution_count": 6,
   "metadata": {
    "scrolled": true
   },
   "outputs": [
    {
     "name": "stdout",
     "output_type": "stream",
     "text": [
      "(array([ 97, 103], dtype=int64),)\n",
      "\n"
     ]
    },
    {
     "name": "stderr",
     "output_type": "stream",
     "text": [
      "C:\\Users\\yangyq\\Anaconda3\\lib\\site-packages\\sklearn\\linear_model\\coordinate_descent.py:492: ConvergenceWarning: Objective did not converge. You might want to increase the number of iterations. Fitting data with very small alpha may cause precision problems.\n",
      "  ConvergenceWarning)\n",
      "C:\\Users\\yangyq\\Anaconda3\\lib\\site-packages\\sklearn\\linear_model\\coordinate_descent.py:492: ConvergenceWarning: Objective did not converge. You might want to increase the number of iterations. Fitting data with very small alpha may cause precision problems.\n",
      "  ConvergenceWarning)\n",
      "C:\\Users\\yangyq\\Anaconda3\\lib\\site-packages\\sklearn\\linear_model\\coordinate_descent.py:492: ConvergenceWarning: Objective did not converge. You might want to increase the number of iterations. Fitting data with very small alpha may cause precision problems.\n",
      "  ConvergenceWarning)\n",
      "C:\\Users\\yangyq\\Anaconda3\\lib\\site-packages\\sklearn\\linear_model\\coordinate_descent.py:492: ConvergenceWarning: Objective did not converge. You might want to increase the number of iterations. Fitting data with very small alpha may cause precision problems.\n",
      "  ConvergenceWarning)\n",
      "C:\\Users\\yangyq\\Anaconda3\\lib\\site-packages\\sklearn\\linear_model\\coordinate_descent.py:492: ConvergenceWarning: Objective did not converge. You might want to increase the number of iterations. Fitting data with very small alpha may cause precision problems.\n",
      "  ConvergenceWarning)\n",
      "C:\\Users\\yangyq\\Anaconda3\\lib\\site-packages\\sklearn\\linear_model\\coordinate_descent.py:492: ConvergenceWarning: Objective did not converge. You might want to increase the number of iterations. Fitting data with very small alpha may cause precision problems.\n",
      "  ConvergenceWarning)\n",
      "C:\\Users\\yangyq\\Anaconda3\\lib\\site-packages\\sklearn\\linear_model\\coordinate_descent.py:492: ConvergenceWarning: Objective did not converge. You might want to increase the number of iterations. Fitting data with very small alpha may cause precision problems.\n",
      "  ConvergenceWarning)\n"
     ]
    },
    {
     "name": "stdout",
     "output_type": "stream",
     "text": [
      "Ridge: coefficients 103 for alphas:\n",
      " [[3.67061746e+01]\n",
      " [3.66242884e+01]\n",
      " [3.58251028e+01]\n",
      " [2.94093355e+01]\n",
      " [1.05613716e+01]\n",
      " [1.50865584e+00]\n",
      " [2.25233600e-01]\n",
      " [3.86622301e-02]\n",
      " [3.87553978e-03]\n",
      " [1.42423735e-03]\n",
      " [5.50020324e-03]\n",
      " [1.54050014e-03]]\n",
      "Lasso: coefficients 103 for alphas:\n",
      " [[-0.26340707]\n",
      " [-0.26316196]\n",
      " [-0.26071086]\n",
      " [-0.23612749]\n",
      " [-0.01014706]\n",
      " [-0.        ]\n",
      " [ 0.        ]\n",
      " [ 0.        ]\n",
      " [ 0.        ]\n",
      " [ 0.        ]\n",
      " [ 0.        ]\n",
      " [ 0.        ]]\n"
     ]
    },
    {
     "data": {
      "image/png": "[encoded data removed]",
      "text/plain": [
       "<Figure size 432x288 with 1 Axes>"
      ]
     },
     "metadata": {
      "needs_background": "light"
     },
     "output_type": "display_data"
    }
   ],
   "source": [
    "# investigate those two highly correlated features; what do lasso, ridge do to them?\n",
    "\n",
    "print(big_coefs)\n",
    "print()\n",
    "\n",
    "alpha_vec = [0.000000001, 0.00000001, 0.0000001, 0.000001, 0.00001, 0.0001, 0.001, 0.01, .1, 1, 10, 100]\n",
    "coef_idx = 103\n",
    "rm_coef_values = np.zeros(len(alpha_vec))\n",
    "las_coef_values = np.zeros(len(alpha_vec))\n",
    "lm_coef_line = np.zeros(len(alpha_vec))\n",
    "\n",
    "for aa_idx, aa in enumerate(alpha_vec):\n",
    "    lm = LinearRegression()\n",
    "    lm.fit(X_train, y_train)\n",
    "\n",
    "    rm = Ridge(alpha=aa, normalize=True)\n",
    "    rm.fit(X_train, y_train)\n",
    "    \n",
    "    las = Lasso(alpha=aa, normalize=True, max_iter=100)\n",
    "    las.fit(X_train, y_train)\n",
    "    \n",
    "    rm_coef = rm.coef_[coef_idx]\n",
    "    las_coef = las.coef_[coef_idx]\n",
    "    lm_coef = lm.coef_[coef_idx]\n",
    " \n",
    "    rm_coef_values[aa_idx] = rm_coef\n",
    "    las_coef_values[aa_idx] = las_coef\n",
    "    lm_coef_line[aa_idx] = lm_coef\n",
    "\n",
    "print('Ridge: coefficients', coef_idx, 'for alphas:\\n', rm_coef_values.reshape((-1,1)))\n",
    "print('Lasso: coefficients', coef_idx, 'for alphas:\\n', las_coef_values.reshape((-1,1)) )\n",
    "\n",
    "#plt.plot(np.log(alpha_vec), lm_coef_line * 0)\n",
    "plt.plot(np.log(alpha_vec), rm_coef_values, label='Ridge')\n",
    "plt.plot(np.log(alpha_vec), las_coef_values, label = 'Lasso')\n",
    "plt.plot(np.log(alpha_vec), lm_coef_line, label='No reg')\n",
    "plt.legend()\n",
    "plt.title('Lasso; Ridge (g, b) regularization path\\n for coefficient ' + str(coef_idx) + \n",
    "          '; lm value (red straight line): ' + str(lm_coef))\n",
    "plt.ylabel('Coefficient Values') \n",
    "plt.xlabel('log(Alpha)') \n",
    "plt.show()"
   ]
  },
  {
   "cell_type": "code",
   "execution_count": 7,
   "metadata": {
    "scrolled": false
   },
   "outputs": [
    {
     "name": "stdout",
     "output_type": "stream",
     "text": [
      "Best rm alpha: 1.0\n",
      "Best las alpha: 0.001\n"
     ]
    },
    {
     "name": "stderr",
     "output_type": "stream",
     "text": [
      "C:\\Users\\yangyq\\Anaconda3\\lib\\site-packages\\sklearn\\linear_model\\coordinate_descent.py:492: ConvergenceWarning: Objective did not converge. You might want to increase the number of iterations. Fitting data with very small alpha may cause precision problems.\n",
      "  ConvergenceWarning)\n",
      "C:\\Users\\yangyq\\Anaconda3\\lib\\site-packages\\sklearn\\linear_model\\coordinate_descent.py:492: ConvergenceWarning: Objective did not converge. You might want to increase the number of iterations. Fitting data with very small alpha may cause precision problems.\n",
      "  ConvergenceWarning)\n",
      "C:\\Users\\yangyq\\Anaconda3\\lib\\site-packages\\sklearn\\linear_model\\coordinate_descent.py:492: ConvergenceWarning: Objective did not converge. You might want to increase the number of iterations. Fitting data with very small alpha may cause precision problems.\n",
      "  ConvergenceWarning)\n",
      "C:\\Users\\yangyq\\Anaconda3\\lib\\site-packages\\sklearn\\linear_model\\coordinate_descent.py:492: ConvergenceWarning: Objective did not converge. You might want to increase the number of iterations. Fitting data with very small alpha may cause precision problems.\n",
      "  ConvergenceWarning)\n",
      "C:\\Users\\yangyq\\Anaconda3\\lib\\site-packages\\sklearn\\linear_model\\coordinate_descent.py:492: ConvergenceWarning: Objective did not converge. You might want to increase the number of iterations. Fitting data with very small alpha may cause precision problems.\n",
      "  ConvergenceWarning)\n",
      "C:\\Users\\yangyq\\Anaconda3\\lib\\site-packages\\sklearn\\linear_model\\coordinate_descent.py:492: ConvergenceWarning: Objective did not converge. You might want to increase the number of iterations. Fitting data with very small alpha may cause precision problems.\n",
      "  ConvergenceWarning)\n"
     ]
    }
   ],
   "source": [
    "# cross validation to select the best alpha parameters\n",
    "\n",
    "from sklearn.model_selection import GridSearchCV\n",
    "from sklearn.metrics import mean_squared_error, make_scorer\n",
    "\n",
    "## IMPLEMENT: how can we use cross validation to choose the best parameters?\n",
    "\n",
    "rm = Ridge(normalize=True)\n",
    "rm_params = {'alpha':[0.0001, 0.001, 0.01, 0.1, 1.0, 10., 100.]}\n",
    "rm_grid = GridSearchCV(rm, rm_params, iid = True, cv=3)\n",
    "\n",
    "rm_grid.fit(X_train, y_train)\n",
    "\n",
    "best_rm_alpha = rm_grid.best_params_['alpha']\n",
    "print('Best rm alpha:', best_rm_alpha)\n",
    "\n",
    "\n",
    "las = Lasso(normalize=True, max_iter = 100)\n",
    "las_params = {'alpha':[0.0001, 0.001, 0.01, 0.1, 1.0, 10., 100.]}\n",
    "las_grid = GridSearchCV(las, las_params, iid = True, cv=3)\n",
    "\n",
    "las_grid.fit(X_train, y_train)\n",
    "\n",
    "best_las_alpha = las_grid.best_params_['alpha']\n",
    "print('Best las alpha:', best_las_alpha)"
   ]
  },
  {
   "cell_type": "code",
   "execution_count": 8,
   "metadata": {
    "scrolled": false
   },
   "outputs": [
    {
     "name": "stdout",
     "output_type": "stream",
     "text": [
      "Linear model test MSE:      0.054668835316047035\n",
      "Ridge regression test MSE @ best CV alpha:  0.026540407891395713\n",
      "Lasso regression test MSE @ best CV alpha:  0.025593789512546327\n",
      "Non-zero lasso coefficients: \n",
      "\n",
      "['@attribute' 'racepctblack' 'numeric']  :  0.006471554089572373  :  0.09062255291826302\n",
      "['@attribute' 'racePctWhite' 'numeric']  :  -0.278250416581722  :  -0.08164106702625047\n",
      "['@attribute' 'pctWInvInc' 'numeric']  :  -0.20209120218521245  :  -0.2216789731326838\n",
      "['@attribute' 'PctPopUnderPov' 'numeric']  :  0.042779658104999764  :  0.037138109014365976\n",
      "['@attribute' 'PctUnemployed' 'numeric']  :  0.030782306748341936  :  0.11014538835810109\n",
      "['@attribute' 'PctEmplManu' 'numeric']  :  -0.06733133997827868  :  -0.13620038709725593\n",
      "['@attribute' 'MalePctDivorce' 'numeric']  :  0.1090235702747169  :  0.04337351996686237\n",
      "['@attribute' 'TotalPctDiv' 'numeric']  :  0.0003599878463885886  :  0.013420974234108367\n",
      "['@attribute' 'PctFam2Par' 'numeric']  :  -0.19543626129756225  :  -0.11184848833668569\n",
      "['@attribute' 'PctKids2Par' 'numeric']  :  -0.25460122016422715  :  -0.12334731547770049\n",
      "['@attribute' 'PctHousLess3BR' 'numeric']  :  0.049627320255367674  :  0.16434519308609\n",
      "['@attribute' 'NumStreet' 'numeric']  :  0.13874235963258527  :  0.15423540515437725\n",
      "['@attribute' 'PolicReqPerOffic' 'numeric']  :  0.033293075878398734  :  0.08759409356683273\n",
      "['@attribute' 'RacialMatchCommPol' 'numeric']  :  -0.010918220768701794  :  -0.11265323685158808\n",
      "['@attribute' 'PctPolicAsian' 'numeric']  :  0.0003045000289584349  :  0.08305060927221304\n",
      "['@attribute' 'PolicCars' 'numeric']  :  0.04272442569369833  :  0.12480039233090878\n",
      "['@attribute' 'LemasGangUnitDeploy' 'numeric']  :  0.0072121182579610406  :  0.039399896578999026\n",
      "['@attribute' 'LemasPctOfficDrugUn' 'numeric']  :  -0.00024443498458646886  :  -0.08290306845943536\n"
     ]
    },
    {
     "name": "stderr",
     "output_type": "stream",
     "text": [
      "C:\\Users\\yangyq\\Anaconda3\\lib\\site-packages\\sklearn\\linear_model\\coordinate_descent.py:492: ConvergenceWarning: Objective did not converge. You might want to increase the number of iterations. Fitting data with very small alpha may cause precision problems.\n",
      "  ConvergenceWarning)\n"
     ]
    }
   ],
   "source": [
    "# finally, re run all the models using the best alpha values as found \n",
    "# by cross validation and plot the results\n",
    "\n",
    "lm = LinearRegression()\n",
    "lm.fit(X_train, y_train)\n",
    "\n",
    "lm_test_mse = ((lm.predict(X_test) - y_test) ** 2).mean()\n",
    "\n",
    "rm_best = Ridge(normalize=False, alpha = best_rm_alpha)\n",
    "rm_best.fit(X_train, y_train)\n",
    "rm_test_mse = ((rm_best.predict(X_test) - y_test) ** 2).mean()\n",
    "\n",
    "las_best = Lasso(normalize=True, max_iter=100, alpha = best_las_alpha)\n",
    "las_best.fit(X_train, y_train)\n",
    "las_test_mse = ((las_best.predict(X_test) - y_test) ** 2).mean()\n",
    "\n",
    "print(\"Linear model test MSE:     \", lm_test_mse)\n",
    "print(\"Ridge regression test MSE @ best CV alpha: \", rm_test_mse)\n",
    "print(\"Lasso regression test MSE @ best CV alpha: \", las_test_mse)\n",
    "\n",
    "print(\"Non-zero lasso coefficients: \\n\")\n",
    "\n",
    "for i in range(len(crime_names[np.where(las_best.coef_!=0), :][0])):\n",
    "    print(crime_names[np.where(las_best.coef_!=0), :][0][i], \" : \", las_best.coef_[np.where(las_best.coef_!=0)[0][i]], \" : \", rm_best.coef_[np.where(las_best.coef_!=0)[0][i]])\n",
    "\n"
   ]
  },
  {
   "cell_type": "code",
   "execution_count": 9,
   "metadata": {
    "scrolled": false
   },
   "outputs": [
    {
     "name": "stdout",
     "output_type": "stream",
     "text": [
      "\n",
      "\n",
      "Dropped (zero) lasso coefficients: \n",
      "\n",
      "['@attribute' 'population' 'numeric']  :  0.0  :  -0.0009902008505939326\n",
      "['@attribute' 'householdsize' 'numeric']  :  0.0  :  0.016910294237326033\n",
      "['@attribute' 'racePctAsian' 'numeric']  :  0.0  :  -0.01490715487798094\n",
      "['@attribute' 'racePctHisp' 'numeric']  :  0.0  :  0.05315611551465019\n",
      "['@attribute' 'agePct12t21' 'numeric']  :  0.0  :  0.00018366401453762801\n",
      "['@attribute' 'agePct12t29' 'numeric']  :  -0.0  :  -0.00995053591272309\n",
      "['@attribute' 'agePct16t24' 'numeric']  :  -0.0  :  -0.011710552997767711\n",
      "['@attribute' 'agePct65up' 'numeric']  :  0.0  :  0.029439828028912186\n",
      "['@attribute' 'numbUrban' 'numeric']  :  0.0  :  0.005799004749239047\n",
      "['@attribute' 'pctUrban' 'numeric']  :  0.0  :  -0.020179385826507204\n",
      "['@attribute' 'medIncome' 'numeric']  :  -0.0  :  0.024442404822258453\n",
      "['@attribute' 'pctWWage' 'numeric']  :  -0.0  :  -0.07590948282097863\n",
      "['@attribute' 'pctWFarmSelf' 'numeric']  :  -0.0  :  -0.06969636984553185\n",
      "['@attribute' 'pctWSocSec' 'numeric']  :  0.0  :  0.000820138475575073\n",
      "['@attribute' 'pctWPubAsst' 'numeric']  :  0.0  :  0.10457697133733876\n",
      "['@attribute' 'pctWRetire' 'numeric']  :  -0.0  :  -0.0749762983694501\n",
      "['@attribute' 'medFamInc' 'numeric']  :  -0.0  :  0.047119429873196624\n",
      "['@attribute' 'perCapInc' 'numeric']  :  -0.0  :  -0.013638258385524689\n",
      "['@attribute' 'whitePerCap' 'numeric']  :  -0.0  :  -0.0009642022267513445\n",
      "['@attribute' 'blackPerCap' 'numeric']  :  -0.0  :  -0.061130020571915\n",
      "['@attribute' 'indianPerCap' 'numeric']  :  -0.0  :  -0.04798524153217149\n",
      "['@attribute' 'AsianPerCap' 'numeric']  :  -0.0  :  0.001560883232925705\n",
      "['@attribute' 'OtherPerCap' 'numeric']  :  0.0  :  0.1270714361611981\n",
      "['@attribute' 'HispPerCap' 'numeric']  :  0.0  :  0.03415312234904751\n",
      "['@attribute' 'NumUnderPov' 'numeric']  :  0.0  :  -0.1428090415229499\n",
      "['@attribute' 'PctLess9thGrade' 'numeric']  :  -0.0  :  -0.1140925729761524\n",
      "['@attribute' 'PctNotHSGrad' 'numeric']  :  0.0  :  -0.084611530380105\n",
      "['@attribute' 'PctBSorMore' 'numeric']  :  -0.0  :  -0.017168448786540936\n",
      "['@attribute' 'PctEmploy' 'numeric']  :  -0.0  :  -0.02518538472945107\n",
      "['@attribute' 'PctEmplProfServ' 'numeric']  :  0.0  :  0.06347262406073835\n",
      "['@attribute' 'PctOccupManu' 'numeric']  :  0.0  :  0.0642762626442539\n",
      "['@attribute' 'PctOccupMgmtProf' 'numeric']  :  -0.0  :  -0.0026427588399485576\n",
      "['@attribute' 'MalePctNevMarr' 'numeric']  :  0.0  :  0.0505493020030991\n",
      "['@attribute' 'FemalePctDiv' 'numeric']  :  0.0  :  -0.01402881986873735\n",
      "['@attribute' 'PersPerFam' 'numeric']  :  0.0  :  0.06068333543884202\n",
      "['@attribute' 'PctYoungKids2Par' 'numeric']  :  -0.0  :  -0.05694636612065505\n",
      "['@attribute' 'PctTeen2Par' 'numeric']  :  -0.0  :  -0.074561380545487\n",
      "['@attribute' 'PctWorkMomYoungKids' 'numeric']  :  -0.0  :  -0.016393084134467436\n",
      "['@attribute' 'PctWorkMom' 'numeric']  :  -0.0  :  0.0405071012914486\n",
      "['@attribute' 'NumIlleg' 'numeric']  :  0.0  :  -0.0695374127450113\n",
      "['@attribute' 'PctIlleg' 'numeric']  :  0.0  :  0.17647380567331586\n",
      "['@attribute' 'NumImmig' 'numeric']  :  0.0  :  -0.05555809053802963\n",
      "['@attribute' 'PctImmigRecent' 'numeric']  :  0.0  :  0.0025712593331274837\n",
      "['@attribute' 'PctImmigRec5' 'numeric']  :  -0.0  :  -0.09278894127540364\n",
      "['@attribute' 'PctImmigRec8' 'numeric']  :  0.0  :  0.03790779838368235\n",
      "['@attribute' 'PctImmigRec10' 'numeric']  :  0.0  :  0.029145707588772097\n",
      "['@attribute' 'PctRecentImmig' 'numeric']  :  0.0  :  -0.015964465088368116\n",
      "['@attribute' 'PctRecImmig5' 'numeric']  :  0.0  :  -0.007583897154784745\n",
      "['@attribute' 'PctRecImmig8' 'numeric']  :  0.0  :  0.03529456323996744\n",
      "['@attribute' 'PctRecImmig10' 'numeric']  :  0.0  :  -0.002908682828358874\n",
      "['@attribute' 'PctSpeakEnglOnly' 'numeric']  :  -0.0  :  -0.01646242169860962\n",
      "['@attribute' 'PctNotSpeakEnglWell' 'numeric']  :  0.0  :  0.04115140426524278\n",
      "['@attribute' 'PctLargHouseFam' 'numeric']  :  0.0  :  0.006116659411990912\n",
      "['@attribute' 'PctLargHouseOccup' 'numeric']  :  0.0  :  -0.012808258749659207\n",
      "['@attribute' 'PersPerOccupHous' 'numeric']  :  -0.0  :  -0.013527474518741436\n",
      "['@attribute' 'PersPerOwnOccHous' 'numeric']  :  0.0  :  0.060121066604428126\n",
      "['@attribute' 'PersPerRentOccHous' 'numeric']  :  -0.0  :  -0.11221365787594187\n",
      "['@attribute' 'PctPersOwnOccup' 'numeric']  :  -0.0  :  0.021638278075812888\n",
      "['@attribute' 'PctPersDenseHous' 'numeric']  :  0.0  :  0.03118106693643416\n",
      "['@attribute' 'MedNumBR' 'numeric']  :  -0.0  :  0.027063909627673195\n",
      "['@attribute' 'HousVacant' 'numeric']  :  0.0  :  0.06764297977769922\n",
      "['@attribute' 'PctHousOccup' 'numeric']  :  -0.0  :  0.022465926660631425\n",
      "['@attribute' 'PctHousOwnOcc' 'numeric']  :  -0.0  :  0.015354974423913972\n",
      "['@attribute' 'PctVacantBoarded' 'numeric']  :  0.0  :  -0.02018813600571478\n",
      "['@attribute' 'PctVacMore6Mos' 'numeric']  :  0.0  :  0.013194548085673878\n",
      "['@attribute' 'MedYrHousBuilt' 'numeric']  :  0.0  :  -0.004020834727430381\n",
      "['@attribute' 'PctHousNoPhone' 'numeric']  :  0.0  :  0.007861068489809983\n",
      "['@attribute' 'PctWOFullPlumb' 'numeric']  :  0.0  :  -0.024169994901477296\n",
      "['@attribute' 'OwnOccLowQuart' 'numeric']  :  -0.0  :  -0.017450424636154302\n",
      "['@attribute' 'OwnOccMedVal' 'numeric']  :  -0.0  :  -0.023561221549400102\n",
      "['@attribute' 'OwnOccHiQuart' 'numeric']  :  -0.0  :  -0.02354345896059768\n",
      "['@attribute' 'RentLowQ' 'numeric']  :  -0.0  :  -0.1388658124165094\n",
      "['@attribute' 'RentMedian' 'numeric']  :  -0.0  :  0.034836207875808\n",
      "['@attribute' 'RentHighQ' 'numeric']  :  -0.0  :  0.018191092844588162\n",
      "['@attribute' 'MedRent' 'numeric']  :  -0.0  :  0.09054013266981295\n",
      "['@attribute' 'MedRentPctHousInc' 'numeric']  :  0.0  :  -0.05948642408464806\n",
      "['@attribute' 'MedOwnCostPctInc' 'numeric']  :  -0.0  :  -0.06547142710055923\n",
      "['@attribute' 'MedOwnCostPctIncNoMtg' 'numeric']  :  -0.0  :  -0.07337905735842792\n",
      "['@attribute' 'NumInShelters' 'numeric']  :  0.0  :  0.07090178773432922\n",
      "['@attribute' 'PctForeignBorn' 'numeric']  :  0.0  :  0.0810502614890956\n",
      "['@attribute' 'PctBornSameState' 'numeric']  :  -0.0  :  -0.058533396829180746\n",
      "['@attribute' 'PctSameHouse85' 'numeric']  :  -0.0  :  0.033038963146155446\n",
      "['@attribute' 'PctSameCity85' 'numeric']  :  0.0  :  0.00010730038577034738\n",
      "['@attribute' 'PctSameState85' 'numeric']  :  -0.0  :  0.051325542989245986\n",
      "['@attribute' 'LemasSwornFT' 'numeric']  :  0.0  :  -0.02922684992455404\n",
      "['@attribute' 'LemasSwFTPerPop' 'numeric']  :  0.0  :  0.00642156321168355\n",
      "['@attribute' 'LemasSwFTFieldOps' 'numeric']  :  -0.0  :  0.023608414199836954\n",
      "['@attribute' 'LemasSwFTFieldPerPop' 'numeric']  :  0.0  :  -0.012780995233630753\n",
      "['@attribute' 'LemasTotalReq' 'numeric']  :  0.0  :  -0.0071462887760360945\n",
      "['@attribute' 'LemasTotReqPerPop' 'numeric']  :  0.0  :  0.04265826747009703\n",
      "['@attribute' 'PolicPerPop' 'numeric']  :  0.0  :  0.008368108303431812\n",
      "['@attribute' 'PctPolicWhite' 'numeric']  :  -0.0  :  -0.022886927173503675\n",
      "['@attribute' 'PctPolicBlack' 'numeric']  :  0.0  :  -0.003811677730584298\n",
      "['@attribute' 'PctPolicHisp' 'numeric']  :  0.0  :  0.03877910017600034\n",
      "['@attribute' 'PctPolicMinor' 'numeric']  :  0.0  :  -0.051553589307915496\n",
      "['@attribute' 'OfficAssgnDrugUnits' 'numeric']  :  0.0  :  -5.7026596088824996e-06\n",
      "['@attribute' 'NumKindsDrugsSeiz' 'numeric']  :  0.0  :  0.022235753783297812\n",
      "['@attribute' 'PolicAveOTWorked' 'numeric']  :  -0.0  :  -0.01801949338199968\n",
      "['@attribute' 'LandArea' 'numeric']  :  0.0  :  0.027766091092499345\n",
      "['@attribute' 'PopDens' 'numeric']  :  -0.0  :  -0.051983045486163115\n",
      "['@attribute' 'PctUsePubTrans' 'numeric']  :  -0.0  :  -0.0639578551778038\n",
      "['@attribute' 'PolicOperBudg' 'numeric']  :  0.0  :  0.03328087735143066\n",
      "['@attribute' 'LemasPctPolicOnPatr' 'numeric']  :  -0.0  :  -0.03187190692675009\n",
      "['@attribute' 'PolicBudgPerPop' 'numeric']  :  0.0  :  -0.04420205372678621\n"
     ]
    }
   ],
   "source": [
    "print(\"\\n\\nDropped (zero) lasso coefficients: \\n\")\n",
    "\n",
    "for i in range(len(crime_names[np.where(las_best.coef_==0), :][0])):\n",
    "    print(crime_names[np.where(las_best.coef_==0), :][0][i], \" : \", las_best.coef_[np.where(las_best.coef_==0)[0][i]], \" : \", rm_best.coef_[np.where(las_best.coef_==0)[0][i]])\n"
   ]
  },
  {
   "cell_type": "code",
   "execution_count": null,
   "metadata": {
    "scrolled": true
   },
   "outputs": [],
   "source": []
  },
  {
   "cell_type": "code",
   "execution_count": null,
   "metadata": {
    "scrolled": true
   },
   "outputs": [],
   "source": []
  }
 ],
 "metadata": {
  "anaconda-cloud": {},
  "kernelspec": {
   "display_name": "Python 3",
   "language": "python",
   "name": "python3"
  },
  "language_info": {
   "codemirror_mode": {
    "name": "ipython",
    "version": 3
   },
   "file_extension": ".py",
   "mimetype": "text/x-python",
   "name": "python",
   "nbconvert_exporter": "python",
   "pygments_lexer": "ipython3",
   "version": "3.7.0"
  }
 },
 "nbformat": 4,
 "nbformat_minor": 1
}
