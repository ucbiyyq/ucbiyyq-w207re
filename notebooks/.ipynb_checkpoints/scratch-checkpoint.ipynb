{
 "cells": [
  {
   "cell_type": "code",
   "execution_count": 5,
   "metadata": {},
   "outputs": [],
   "source": [
    "import numpy as np\n",
    "from scipy import spatial"
   ]
  },
  {
   "cell_type": "code",
   "execution_count": 6,
   "metadata": {},
   "outputs": [
    {
     "data": {
      "text/plain": [
       "\u001b[1;31mType:\u001b[0m        module\n",
       "\u001b[1;31mString form:\u001b[0m <module 'scipy.spatial.distance' from 'C:\\\\Users\\\\yangyq\\\\Anaconda3\\\\lib\\\\site-packages\\\\scipy\\\\spatial\\\\distance.py'>\n",
       "\u001b[1;31mFile:\u001b[0m        c:\\users\\yangyq\\anaconda3\\lib\\site-packages\\scipy\\spatial\\distance.py\n",
       "\u001b[1;31mDocstring:\u001b[0m  \n",
       "=====================================================\n",
       "Distance computations (:mod:`scipy.spatial.distance`)\n",
       "=====================================================\n",
       "\n",
       ".. sectionauthor:: Damian Eads\n",
       "\n",
       "Function Reference\n",
       "------------------\n",
       "\n",
       "Distance matrix computation from a collection of raw observation vectors\n",
       "stored in a rectangular array.\n",
       "\n",
       ".. autosummary::\n",
       "   :toctree: generated/\n",
       "\n",
       "   pdist   -- pairwise distances between observation vectors.\n",
       "   cdist   -- distances between two collections of observation vectors\n",
       "   squareform -- convert distance matrix to a condensed one and vice versa\n",
       "   directed_hausdorff -- directed Hausdorff distance between arrays\n",
       "\n",
       "Predicates for checking the validity of distance matrices, both\n",
       "condensed and redundant. Also contained in this module are functions\n",
       "for computing the number of observations in a distance matrix.\n",
       "\n",
       ".. autosummary::\n",
       "   :toctree: generated/\n",
       "\n",
       "   is_valid_dm -- checks for a valid distance matrix\n",
       "   is_valid_y  -- checks for a valid condensed distance matrix\n",
       "   num_obs_dm  -- # of observations in a distance matrix\n",
       "   num_obs_y   -- # of observations in a condensed distance matrix\n",
       "\n",
       "Distance functions between two numeric vectors ``u`` and ``v``. Computing\n",
       "distances over a large collection of vectors is inefficient for these\n",
       "functions. Use ``pdist`` for this purpose.\n",
       "\n",
       ".. autosummary::\n",
       "   :toctree: generated/\n",
       "\n",
       "   braycurtis       -- the Bray-Curtis distance.\n",
       "   canberra         -- the Canberra distance.\n",
       "   chebyshev        -- the Chebyshev distance.\n",
       "   cityblock        -- the Manhattan distance.\n",
       "   correlation      -- the Correlation distance.\n",
       "   cosine           -- the Cosine distance.\n",
       "   euclidean        -- the Euclidean distance.\n",
       "   mahalanobis      -- the Mahalanobis distance.\n",
       "   minkowski        -- the Minkowski distance.\n",
       "   seuclidean       -- the normalized Euclidean distance.\n",
       "   sqeuclidean      -- the squared Euclidean distance.\n",
       "   wminkowski       -- (deprecated) alias of `minkowski`.\n",
       "\n",
       "Distance functions between two boolean vectors (representing sets) ``u`` and\n",
       "``v``.  As in the case of numerical vectors, ``pdist`` is more efficient for\n",
       "computing the distances between all pairs.\n",
       "\n",
       ".. autosummary::\n",
       "   :toctree: generated/\n",
       "\n",
       "   dice             -- the Dice dissimilarity.\n",
       "   hamming          -- the Hamming distance.\n",
       "   jaccard          -- the Jaccard distance.\n",
       "   kulsinski        -- the Kulsinski distance.\n",
       "   rogerstanimoto   -- the Rogers-Tanimoto dissimilarity.\n",
       "   russellrao       -- the Russell-Rao dissimilarity.\n",
       "   sokalmichener    -- the Sokal-Michener dissimilarity.\n",
       "   sokalsneath      -- the Sokal-Sneath dissimilarity.\n",
       "   yule             -- the Yule dissimilarity.\n",
       "\n",
       ":func:`hamming` also operates over discrete numerical vectors.\n"
      ]
     },
     "metadata": {},
     "output_type": "display_data"
    }
   ],
   "source": [
    "?spatial.distance"
   ]
  },
  {
   "cell_type": "code",
   "execution_count": 7,
   "metadata": {},
   "outputs": [
    {
     "data": {
      "text/plain": [
       "\u001b[1;31mSignature:\u001b[0m \u001b[0mnp\u001b[0m\u001b[1;33m.\u001b[0m\u001b[0mrepeat\u001b[0m\u001b[1;33m(\u001b[0m\u001b[0ma\u001b[0m\u001b[1;33m,\u001b[0m \u001b[0mrepeats\u001b[0m\u001b[1;33m,\u001b[0m \u001b[0maxis\u001b[0m\u001b[1;33m=\u001b[0m\u001b[1;32mNone\u001b[0m\u001b[1;33m)\u001b[0m\u001b[1;33m\u001b[0m\u001b[0m\n",
       "\u001b[1;31mDocstring:\u001b[0m\n",
       "Repeat elements of an array.\n",
       "\n",
       "Parameters\n",
       "----------\n",
       "a : array_like\n",
       "    Input array.\n",
       "repeats : int or array of ints\n",
       "    The number of repetitions for each element.  `repeats` is broadcasted\n",
       "    to fit the shape of the given axis.\n",
       "axis : int, optional\n",
       "    The axis along which to repeat values.  By default, use the\n",
       "    flattened input array, and return a flat output array.\n",
       "\n",
       "Returns\n",
       "-------\n",
       "repeated_array : ndarray\n",
       "    Output array which has the same shape as `a`, except along\n",
       "    the given axis.\n",
       "\n",
       "See Also\n",
       "--------\n",
       "tile : Tile an array.\n",
       "\n",
       "Examples\n",
       "--------\n",
       ">>> np.repeat(3, 4)\n",
       "array([3, 3, 3, 3])\n",
       ">>> x = np.array([[1,2],[3,4]])\n",
       ">>> np.repeat(x, 2)\n",
       "array([1, 1, 2, 2, 3, 3, 4, 4])\n",
       ">>> np.repeat(x, 3, axis=1)\n",
       "array([[1, 1, 1, 2, 2, 2],\n",
       "       [3, 3, 3, 4, 4, 4]])\n",
       ">>> np.repeat(x, [1, 2], axis=0)\n",
       "array([[1, 2],\n",
       "       [3, 4],\n",
       "       [3, 4]])\n",
       "\u001b[1;31mFile:\u001b[0m      c:\\users\\yangyq\\anaconda3\\lib\\site-packages\\numpy\\core\\fromnumeric.py\n",
       "\u001b[1;31mType:\u001b[0m      function\n"
      ]
     },
     "metadata": {},
     "output_type": "display_data"
    }
   ],
   "source": [
    "?np.repeat"
   ]
  }
 ],
 "metadata": {
  "kernelspec": {
   "display_name": "Python 3",
   "language": "python",
   "name": "python3"
  },
  "language_info": {
   "codemirror_mode": {
    "name": "ipython",
    "version": 3
   },
   "file_extension": ".py",
   "mimetype": "text/x-python",
   "name": "python",
   "nbconvert_exporter": "python",
   "pygments_lexer": "ipython3",
   "version": "3.7.0"
  }
 },
 "nbformat": 4,
 "nbformat_minor": 2
}
