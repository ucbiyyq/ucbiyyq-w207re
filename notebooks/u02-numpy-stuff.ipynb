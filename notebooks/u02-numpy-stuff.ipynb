{
 "cells": [
  {
   "cell_type": "code",
   "execution_count": 5,
   "metadata": {},
   "outputs": [],
   "source": [
    "# This tells matplotlib not to try opening a new window for each plot.\n",
    "%matplotlib inline\n",
    "\n",
    "from matplotlib.colors import ListedColormap\n",
    "\n",
    "import matplotlib.pyplot as plt\n",
    "import numpy as np\n",
    "from sklearn.datasets import load_iris"
   ]
  },
  {
   "cell_type": "code",
   "execution_count": 6,
   "metadata": {},
   "outputs": [],
   "source": [
    "# Load the data, which is included in sklearn.\n",
    "iris = load_iris()\n",
    "\n",
    "# assigns to X and Y for easier referencing\n",
    "X, Y = iris.data, iris.target\n",
    "\n",
    "# Shuffle the data, but make sure that the features and accompanying labels stay in sync.\n",
    "np.random.seed(0)\n",
    "shuffle = np.random.permutation(np.arange(X.shape[0]))\n",
    "X, Y = X[shuffle], Y[shuffle]\n",
    "\n",
    "# Split into train and test.\n",
    "train_data, train_labels = X[:100], Y[:100]\n",
    "test_data, test_labels = X[100:], Y[100:]"
   ]
  },
  {
   "cell_type": "code",
   "execution_count": 14,
   "metadata": {},
   "outputs": [
    {
     "name": "stdout",
     "output_type": "stream",
     "text": [
      "[5.8 2.8 5.1 2.4]\n",
      "[6.  2.2 4.  1. ]\n"
     ]
    }
   ],
   "source": [
    "# assign for easier referencing\n",
    "v1 = train_data[0]\n",
    "v2 = train_data[1]\n",
    "\n",
    "print(v1)\n",
    "print(v2)"
   ]
  },
  {
   "cell_type": "code",
   "execution_count": 15,
   "metadata": {},
   "outputs": [
    {
     "name": "stdout",
     "output_type": "stream",
     "text": [
      "[[5.8 6. ]\n",
      " [2.8 6. ]\n",
      " [5.1 6. ]\n",
      " [2.4 6. ]\n",
      " [5.8 2.2]\n",
      " [2.8 2.2]\n",
      " [5.1 2.2]\n",
      " [2.4 2.2]\n",
      " [5.8 4. ]\n",
      " [2.8 4. ]\n",
      " [5.1 4. ]\n",
      " [2.4 4. ]\n",
      " [5.8 1. ]\n",
      " [2.8 1. ]\n",
      " [5.1 1. ]\n",
      " [2.4 1. ]]\n"
     ]
    }
   ],
   "source": [
    "# how to cartesian product in numpy, without pandas\n",
    "# https://stackoverflow.com/questions/11144513/numpy-cartesian-product-of-x-and-y-array-points-into-single-array-of-2d-points\n",
    "# note, you actually don't to do this for distance calcuations\n",
    "\n",
    "cx = np.transpose([np.tile(v1, len(v2)), np.repeat(v2, len(v1))])\n",
    "print(cx)"
   ]
  },
  {
   "cell_type": "code",
   "execution_count": 23,
   "metadata": {},
   "outputs": [
    {
     "data": {
      "text/plain": [
       "array([[5.8, 6. ],\n",
       "       [2.8, 2.2],\n",
       "       [5.1, 4. ],\n",
       "       [2.4, 1. ]])"
      ]
     },
     "execution_count": 23,
     "metadata": {},
     "output_type": "execute_result"
    }
   ],
   "source": [
    "# in eucildean distance, you are calculating element wise\n",
    "\n",
    "ew = np.vstack((v1, v2)).transpose()\n",
    "ew"
   ]
  },
  {
   "cell_type": "code",
   "execution_count": 24,
   "metadata": {},
   "outputs": [
    {
     "data": {
      "text/plain": [
       "[0.04000000000000007,\n",
       " 0.3599999999999996,\n",
       " 1.2099999999999993,\n",
       " 1.9599999999999997]"
      ]
     },
     "execution_count": 24,
     "metadata": {},
     "output_type": "execute_result"
    }
   ],
   "source": [
    "# how to map in numpy\n",
    "# note to assign the list of the map to a var, or you lose it\n",
    "sqd = list(map(lambda x: (x[0] - x[1]) ** 2, ew))\n",
    "sqd"
   ]
  },
  {
   "cell_type": "code",
   "execution_count": 25,
   "metadata": {},
   "outputs": [
    {
     "data": {
      "text/plain": [
       "3.5699999999999985"
      ]
     },
     "execution_count": 25,
     "metadata": {},
     "output_type": "execute_result"
    }
   ],
   "source": [
    "ssqd = sum(sqd)\n",
    "ssqd"
   ]
  },
  {
   "cell_type": "code",
   "execution_count": 26,
   "metadata": {},
   "outputs": [
    {
     "data": {
      "text/plain": [
       "1.889444362769118"
      ]
     },
     "execution_count": 26,
     "metadata": {},
     "output_type": "execute_result"
    }
   ],
   "source": [
    "ssqd ** 0.5"
   ]
  }
 ],
 "metadata": {
  "kernelspec": {
   "display_name": "Python 3",
   "language": "python",
   "name": "python3"
  },
  "language_info": {
   "codemirror_mode": {
    "name": "ipython",
    "version": 3
   },
   "file_extension": ".py",
   "mimetype": "text/x-python",
   "name": "python",
   "nbconvert_exporter": "python",
   "pygments_lexer": "ipython3",
   "version": "3.7.0"
  }
 },
 "nbformat": 4,
 "nbformat_minor": 2
}
