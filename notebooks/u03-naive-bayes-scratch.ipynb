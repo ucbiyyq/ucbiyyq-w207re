{
 "cells": [
  {
   "cell_type": "markdown",
   "metadata": {},
   "source": [
    "prior: P(spam) = 0.4\n",
    "\n",
    "normalizer: P(“viagra”) = 0.05\n",
    "\n",
    "likelihood: P(“viagra” | spam) = 0.06 \n",
    "\n",
    "posterior: P(spam|“viagra”) = ?"
   ]
  },
  {
   "cell_type": "markdown",
   "metadata": {},
   "source": [
    "P(spam|“viagra”) = P(spam, “viagra”) / P(“viagra”) , apply the definition\n",
    "\n",
    "P(spam|“viagra”) = P(“viagra”, spam) / P(“viagra”) , reorder the variables\n",
    "\n",
    "P(spam|“viagra”) = P(spam) P(“viagra”|spam) / P(“viagra”) , apply the definition"
   ]
  },
  {
   "cell_type": "code",
   "execution_count": 2,
   "metadata": {},
   "outputs": [
    {
     "data": {
      "text/plain": [
       "0.48"
      ]
     },
     "execution_count": 2,
     "metadata": {},
     "output_type": "execute_result"
    }
   ],
   "source": [
    "p_spam = 0.4\n",
    "p_viagra = 0.05\n",
    "p_viagra_spam = 0.06\n",
    "\n",
    "p_spam_viagra = p_spam * p_viagra_spam / p_viagra\n",
    "p_spam_viagra"
   ]
  },
  {
   "cell_type": "markdown",
   "metadata": {},
   "source": [
    "# Naive Bayes Single Feature\n",
    "\n",
    "P(Y|X) ~ P(Y|F) , reduring email to single feature\n",
    "\n",
    "P(Y|F) = P(Y,F)/P(F) , definition of P(Y|F)\n",
    "\n",
    "P(Y|F) = P(Y)P(F|Y)/P(F) , Baye's rule\n",
    "\n",
    "P(Y|F) = P(Y)P(F|Y)/sum over y of P(Y)P(F|Y) , marginalize"
   ]
  },
  {
   "cell_type": "markdown",
   "metadata": {},
   "source": [
    "# Naive Bayes General\n",
    "\n",
    "P(Y|X) ~ P(Y|F1, F2, ... , Fn)\n",
    "\n",
    "P(Y|X) = P(Y, F1, F2, ... , Fn) / P(F1, F2, ... , Fn)\n",
    "\n",
    "P(Y|X) = P(Y) P(F1, F2, ... , Fn | Y) / P(F1, F2, ... , Fn)\n",
    "\n",
    "assume independence of features given Y\n",
    "\n",
    "P(Y|X) ~ P(Y) P(F1|Y) P(F2|Y) ... P(Fn|Y) / P(F1, F2, ... , Fn)\n",
    "\n",
    "P(Y|X) = P(Y) product over i of P(Fi|Y) / sum over y of P(Y) product over i of P(Fi|Y)\n",
    "\n"
   ]
  },
  {
   "cell_type": "markdown",
   "metadata": {},
   "source": [
    "# Naive Bayes for Spam\n",
    "\n",
    "Model:\n",
    "\n",
    "* Wi is the word at position i in the input\n",
    "\n",
    "P(Y|X) ~ P(Y) P(W1|Y) P(W2|Y) ... P(Wn|Y)\n",
    "\n",
    "Bag of Words assumption (BOW)\n",
    "\n",
    "* usually each feature has its own distribution P(Fi|Y)\n",
    "* make assumption that each position has the same distribution P(W|Y)\n"
   ]
  },
  {
   "cell_type": "markdown",
   "metadata": {},
   "source": [
    "# Laplace smoothing\n",
    "\n",
    "Pretend we saw every outcome k more times than we actually did\n",
    "\n",
    "LAPk:\n",
    "\n",
    "P(x|y) = [count(x,y) + k] / [count(y) + k |X|]\n",
    "\n",
    "What is the Laplace (with k=1) smoothed estimate for P(sun) given this data: \n",
    "\n",
    "domain: {sun,rain,wind}\n",
    "\n",
    "observations: [sun, rain, rain, wind, sun, sun]\n",
    "\n",
    "LAP1: P(sun) = [sun, sun, sun, +sun] / [sun, , sun, sun, + sun, rain, rain, +rain, wind, +wind]\n",
    "\n",
    "LAP1: P(sun) = 4 / 9"
   ]
  },
  {
   "cell_type": "code",
   "execution_count": 3,
   "metadata": {},
   "outputs": [
    {
     "data": {
      "text/plain": [
       "0.4444444444444444"
      ]
     },
     "execution_count": 3,
     "metadata": {},
     "output_type": "execute_result"
    }
   ],
   "source": [
    "4 / 9"
   ]
  }
 ],
 "metadata": {
  "kernelspec": {
   "display_name": "Python 3",
   "language": "python",
   "name": "python3"
  },
  "language_info": {
   "codemirror_mode": {
    "name": "ipython",
    "version": 3
   },
   "file_extension": ".py",
   "mimetype": "text/x-python",
   "name": "python",
   "nbconvert_exporter": "python",
   "pygments_lexer": "ipython3",
   "version": "3.7.0"
  }
 },
 "nbformat": 4,
 "nbformat_minor": 2
}
